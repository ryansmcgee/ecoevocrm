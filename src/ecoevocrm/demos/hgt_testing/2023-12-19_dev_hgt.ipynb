{
 "cells": [
  {
   "cell_type": "code",
   "execution_count": 1,
   "metadata": {
    "ExecuteTime": {
     "end_time": "2023-12-31T22:17:02.141579Z",
     "start_time": "2023-12-31T22:17:01.552254Z"
    }
   },
   "outputs": [],
   "source": [
    "import numpy as np\n",
    "import pandas as pd\n",
    "import scipy"
   ]
  },
  {
   "cell_type": "code",
   "execution_count": 2,
   "metadata": {
    "ExecuteTime": {
     "end_time": "2023-12-31T22:17:03.403117Z",
     "start_time": "2023-12-31T22:17:02.101548Z"
    }
   },
   "outputs": [],
   "source": [
    "from ecoevocrm.consumer_resource_system import *\n",
    "from ecoevocrm.landscapes import *\n",
    "import ecoevocrm.utils as utils\n",
    "import ecoevocrm.viz as viz\n",
    "import ecoevocrm.coarse_graining as cg\n",
    "import ecoevocrm.strain_pool"
   ]
  },
  {
   "cell_type": "code",
   "execution_count": 3,
   "metadata": {
    "ExecuteTime": {
     "end_time": "2023-12-31T22:17:03.555788Z",
     "start_time": "2023-12-31T22:17:03.398972Z"
    }
   },
   "outputs": [],
   "source": [
    "import matplotlib\n",
    "import matplotlib.pyplot as plt\n",
    "# import seaborn as sns"
   ]
  },
  {
   "cell_type": "markdown",
   "metadata": {},
   "source": [
    "----\n",
    "\n",
    "## Model parameters"
   ]
  },
  {
   "cell_type": "markdown",
   "source": [
    "### Traits"
   ],
   "metadata": {
    "collapsed": false
   }
  },
  {
   "cell_type": "code",
   "execution_count": 4,
   "outputs": [
    {
     "data": {
      "text/plain": "<Figure size 640x480 with 1 Axes>",
      "image/png": "[encoded data removed]"
     },
     "metadata": {},
     "output_type": "display_data"
    }
   ],
   "source": [
    "                       # h  h  h  h  h   t   m  m  m\n",
    "traits_init = np.array([[0, 1, 1, 0, 0,  0,  0, 0, 0],   # pf|A\n",
    "                        [0, 1, 1, 0, 0,  1,  0, 0, 1],   # pc|A\n",
    "                        [0, 0, 1, 1, 0,  1,  0, 0, 1],   # pc|B\n",
    "                        [0, 0, 1, 1, 0,  0,  0, 0, 0]])  # pf|B\n",
    "viz.matrix_plot(traits_init, vmin=0, cbar=False, linecolor='lightgray', linewidths=1)"
   ],
   "metadata": {
    "collapsed": false,
    "ExecuteTime": {
     "end_time": "2023-12-31T22:17:03.772275Z",
     "start_time": "2023-12-31T22:17:03.413402Z"
    }
   }
  },
  {
   "cell_type": "code",
   "execution_count": 5,
   "outputs": [
    {
     "data": {
      "text/plain": "<Figure size 640x480 with 1 Axes>",
      "image/png": "[encoded data removed]"
     },
     "metadata": {},
     "output_type": "display_data"
    }
   ],
   "source": [
    "h = 1\n",
    "consumption_rates = np.array([h, h, h, h, h, 0, 0, 0, 0])  # for all types\n",
    "viz.matrix_plot(consumption_rates, vmin=0, cbar=False, linecolor='lightgray', linewidths=1)"
   ],
   "metadata": {
    "collapsed": false,
    "ExecuteTime": {
     "end_time": "2023-12-31T22:17:04.084982Z",
     "start_time": "2023-12-31T22:17:03.805373Z"
    }
   }
  },
  {
   "cell_type": "code",
   "execution_count": 6,
   "outputs": [
    {
     "data": {
      "text/plain": "<Figure size 640x480 with 1 Axes>",
      "image/png": "[encoded data removed]"
     },
     "metadata": {},
     "output_type": "display_data"
    }
   ],
   "source": [
    "m = 1e-9\n",
    "mutation_rates = np.array([[0, 0, 0, 0, 0, 0, 0, 0, 0],   # pf|A \n",
    "                           [0, 0, 0, 0, 0, 0, m, m, m],   # pc|A\n",
    "                           [0, 0, 0, 0, 0, 0, m, m, m],   # pc|B\n",
    "                           [0, 0, 0, 0, 0, 0, 0, 0, 0]])  # pf|B\n",
    "viz.matrix_plot(mutation_rates, vmin=0, cbar=False, linecolor='lightgray', linewidths=1)"
   ],
   "metadata": {
    "collapsed": false,
    "ExecuteTime": {
     "end_time": "2023-12-31T22:17:04.392176Z",
     "start_time": "2023-12-31T22:17:04.060910Z"
    }
   }
  },
  {
   "cell_type": "code",
   "execution_count": 7,
   "outputs": [
    {
     "data": {
      "text/plain": "<Figure size 640x480 with 1 Axes>",
      "image/png": "[encoded data removed]"
     },
     "metadata": {},
     "output_type": "display_data"
    }
   ],
   "source": [
    "l = 1e-9\n",
    "segregation_rates = np.array([0, 0, 0, 0, 0, l, 0, 0, 0])  # for all types\n",
    "viz.matrix_plot(segregation_rates, vmin=0, cbar=False, linecolor='lightgray', linewidths=1)"
   ],
   "metadata": {
    "collapsed": false,
    "ExecuteTime": {
     "end_time": "2023-12-31T22:17:04.772655Z",
     "start_time": "2023-12-31T22:17:04.498557Z"
    }
   }
  },
  {
   "cell_type": "code",
   "execution_count": 8,
   "outputs": [
    {
     "data": {
      "text/plain": "<Figure size 640x480 with 1 Axes>",
      "image/png": "[encoded data removed]"
     },
     "metadata": {},
     "output_type": "display_data"
    }
   ],
   "source": [
    "b = 1e-12\n",
    "a = 1\n",
    "transfer_donor_rates = np.array([0, 0, 0, 0, 0, b, 0, 0, 0])  # for all types\n",
    "transfer_recip_rates = np.array([0, 0, 0, 0, 0, a, 0, 0, 0])  # for all types\n",
    "viz.matrix_plot(transfer_donor_rates, vmin=0, cbar=False, linecolor='lightgray', linewidths=1)\n",
    "viz.matrix_plot(transfer_recip_rates, vmin=0, cbar=False, linecolor='lightgray', linewidths=1)"
   ],
   "metadata": {
    "collapsed": false,
    "ExecuteTime": {
     "end_time": "2023-12-31T22:17:05.090435Z",
     "start_time": "2023-12-31T22:17:04.775634Z"
    }
   }
  },
  {
   "cell_type": "code",
   "execution_count": 9,
   "outputs": [],
   "source": [
    "linkage = {5: [6, 7, 8]}"
   ],
   "metadata": {
    "collapsed": false,
    "ExecuteTime": {
     "end_time": "2023-12-31T22:17:05.099903Z",
     "start_time": "2023-12-31T22:17:05.091465Z"
    }
   }
  },
  {
   "cell_type": "code",
   "execution_count": 10,
   "metadata": {
    "ExecuteTime": {
     "end_time": "2023-12-31T22:17:05.183649Z",
     "start_time": "2023-12-31T22:17:05.105236Z"
    }
   },
   "outputs": [
    {
     "data": {
      "text/plain": "array([1., 1., 1., 1.])"
     },
     "execution_count": 10,
     "metadata": {},
     "output_type": "execute_result"
    }
   ],
   "source": [
    "N_init = np.ones(traits_init.shape[0])\n",
    "N_init"
   ]
  },
  {
   "cell_type": "markdown",
   "metadata": {},
   "source": [
    "### Costs"
   ]
  },
  {
   "cell_type": "code",
   "execution_count": 11,
   "metadata": {
    "ExecuteTime": {
     "end_time": "2023-12-31T22:17:05.187265Z",
     "start_time": "2023-12-31T22:17:05.116201Z"
    }
   },
   "outputs": [],
   "source": [
    "cost_baseline = 0.1"
   ]
  },
  {
   "cell_type": "code",
   "execution_count": 12,
   "outputs": [],
   "source": [
    "N = 3\n",
    "K = 0"
   ],
   "metadata": {
    "collapsed": false,
    "ExecuteTime": {
     "end_time": "2023-12-31T22:17:05.210165Z",
     "start_time": "2023-12-31T22:17:05.124301Z"
    }
   }
  },
  {
   "cell_type": "code",
   "execution_count": 13,
   "outputs": [
    {
     "data": {
      "text/plain": "{'000': 0.6865741075307201,\n '001': 0.43225692807333055,\n '010': 0.7760595339862766,\n '011': 0.521742354528887,\n '100': 0.5050252348051697,\n '101': 0.25070805534778007,\n '110': 0.5945106612607262,\n '111': 0.34019348180333653}"
     },
     "execution_count": 13,
     "metadata": {},
     "output_type": "execute_result"
    }
   ],
   "source": [
    "landscape_hostA = NKLandscape(N=N, K=K, seed=1)\n",
    "landscape_hostA.genotype_fitnesses"
   ],
   "metadata": {
    "collapsed": false,
    "ExecuteTime": {
     "end_time": "2023-12-31T22:17:05.233060Z",
     "start_time": "2023-12-31T22:17:05.136546Z"
    }
   }
  },
  {
   "cell_type": "code",
   "execution_count": 14,
   "outputs": [
    {
     "data": {
      "text/plain": "{'000': 0.7880068580442484,\n '001': 0.7332693048201989,\n '010': 0.5235722118980658,\n '011': 0.46883465867401636,\n '100': 0.7104474665596117,\n '101': 0.6557099133355622,\n '110': 0.446012820413429,\n '111': 0.39127526718937955}"
     },
     "execution_count": 14,
     "metadata": {},
     "output_type": "execute_result"
    }
   ],
   "source": [
    "landscape_hostB = NKLandscape(N=N, K=K, seed=2)\n",
    "landscape_hostB.genotype_fitnesses"
   ],
   "metadata": {
    "collapsed": false,
    "ExecuteTime": {
     "end_time": "2023-12-31T22:17:05.236887Z",
     "start_time": "2023-12-31T22:17:05.151828Z"
    }
   }
  },
  {
   "cell_type": "code",
   "execution_count": 15,
   "outputs": [],
   "source": [
    "landscape = merge_landscapes(landscape_hostA.genotype_fitnesses, landscape_hostB.genotype_fitnesses, prefix_A='011001', prefix_B='001101')  # prefixes = traits for pc|A and pc|B"
   ],
   "metadata": {
    "collapsed": false,
    "ExecuteTime": {
     "end_time": "2023-12-31T22:17:05.379494Z",
     "start_time": "2023-12-31T22:17:05.165457Z"
    }
   }
  },
  {
   "cell_type": "code",
   "execution_count": 16,
   "outputs": [],
   "source": [
    "landscape.update({'011000000': max(landscape_hostA.genotype_fitnesses.values()),   # pf|A\n",
    "                  '001100000': max(landscape_hostB.genotype_fitnesses.values())})  # pf|B"
   ],
   "metadata": {
    "collapsed": false,
    "ExecuteTime": {
     "end_time": "2023-12-31T22:17:05.382643Z",
     "start_time": "2023-12-31T22:17:05.177669Z"
    }
   }
  },
  {
   "cell_type": "code",
   "execution_count": 17,
   "outputs": [
    {
     "data": {
      "text/plain": "{'011001000': 0.6865741075307201,\n '011001001': 0.43225692807333055,\n '011001010': 0.7760595339862766,\n '011001011': 0.521742354528887,\n '011001100': 0.5050252348051697,\n '011001101': 0.25070805534778007,\n '011001110': 0.5945106612607262,\n '011001111': 0.34019348180333653,\n '001101000': 0.7880068580442484,\n '001101001': 0.7332693048201989,\n '001101010': 0.5235722118980658,\n '001101011': 0.46883465867401636,\n '001101100': 0.7104474665596117,\n '001101101': 0.6557099133355622,\n '001101110': 0.446012820413429,\n '001101111': 0.39127526718937955,\n '011000000': 0.7760595339862766,\n '001100000': 0.7880068580442484}"
     },
     "execution_count": 17,
     "metadata": {},
     "output_type": "execute_result"
    }
   ],
   "source": [
    "landscape"
   ],
   "metadata": {
    "collapsed": false,
    "ExecuteTime": {
     "end_time": "2023-12-31T22:17:05.430389Z",
     "start_time": "2023-12-31T22:17:05.185647Z"
    }
   }
  },
  {
   "cell_type": "markdown",
   "metadata": {},
   "source": [
    "### Environment"
   ]
  },
  {
   "cell_type": "code",
   "execution_count": 18,
   "metadata": {
    "ExecuteTime": {
     "end_time": "2023-12-31T22:17:05.592594Z",
     "start_time": "2023-12-31T22:17:05.238499Z"
    }
   },
   "outputs": [
    {
     "data": {
      "text/plain": "<Figure size 640x480 with 1 Axes>",
      "image/png": "[encoded data removed]"
     },
     "metadata": {},
     "output_type": "display_data"
    }
   ],
   "source": [
    "R_init = np.zeros(traits_init.shape[1])\n",
    "R_init[consumption_rates > 0] = 1\n",
    "viz.matrix_plot(R_init, vmin=0, vmax=1, cbar=False, linecolor='lightgray', linewidths=1)"
   ]
  },
  {
   "cell_type": "code",
   "execution_count": 19,
   "metadata": {
    "ExecuteTime": {
     "end_time": "2023-12-31T22:17:05.749639Z",
     "start_time": "2023-12-31T22:17:05.498250Z"
    }
   },
   "outputs": [
    {
     "data": {
      "text/plain": "<Figure size 640x480 with 1 Axes>",
      "image/png": "[encoded data removed]"
     },
     "metadata": {},
     "output_type": "display_data"
    }
   ],
   "source": [
    "influx_rates = np.zeros(traits_init.shape[1])\n",
    "influx_rates[consumption_rates > 0] = 1\n",
    "viz.matrix_plot(influx_rates, vmin=0, cbar=False, linecolor='lightgray', linewidths=1)"
   ]
  },
  {
   "cell_type": "code",
   "execution_count": 20,
   "metadata": {
    "ExecuteTime": {
     "end_time": "2023-12-31T22:17:05.775651Z",
     "start_time": "2023-12-31T22:17:05.749576Z"
    }
   },
   "outputs": [],
   "source": [
    "decay_rates = 1"
   ]
  },
  {
   "cell_type": "code",
   "execution_count": 21,
   "outputs": [],
   "source": [
    "carrying_capacity = 1e9"
   ],
   "metadata": {
    "collapsed": false,
    "ExecuteTime": {
     "end_time": "2023-12-31T22:17:05.780251Z",
     "start_time": "2023-12-31T22:17:05.756185Z"
    }
   }
  },
  {
   "cell_type": "markdown",
   "metadata": {},
   "source": [
    "## Simulate model"
   ]
  },
  {
   "cell_type": "code",
   "execution_count": 22,
   "metadata": {
    "ExecuteTime": {
     "end_time": "2023-12-31T22:17:05.907301Z",
     "start_time": "2023-12-31T22:17:05.771958Z"
    }
   },
   "outputs": [],
   "source": [
    "system = ConsumerResourceSystem(traits=traits_init, \n",
    "                                consumption_rate=consumption_rates, carrying_capacity=carrying_capacity, \n",
    "                                cost_landscape=landscape, cost_baseline=cost_baseline, \n",
    "                                mutation_rate=mutation_rates, segregation_rate=segregation_rates,\n",
    "                                segregation_linkage=linkage, transfer_linkage=linkage,\n",
    "                                influx_rate=influx_rates, decay_rate=decay_rates,\n",
    "                                N_init=N_init, R_init=R_init, seed=2)"
   ]
  },
  {
   "cell_type": "code",
   "execution_count": 23,
   "outputs": [
    {
     "data": {
      "text/plain": "array([0.87605953, 0.53225693, 0.8332693 , 0.88800686])"
     },
     "execution_count": 23,
     "metadata": {},
     "output_type": "execute_result"
    }
   ],
   "source": [
    "system.type_set.energy_costs"
   ],
   "metadata": {
    "collapsed": false,
    "ExecuteTime": {
     "end_time": "2023-12-31T22:17:05.931610Z",
     "start_time": "2023-12-31T22:17:05.780833Z"
    }
   }
  },
  {
   "cell_type": "code",
   "execution_count": 24,
   "metadata": {
    "ExecuteTime": {
     "end_time": "2023-12-31T22:17:05.949442Z",
     "start_time": "2023-12-31T22:17:05.793114Z"
    }
   },
   "outputs": [],
   "source": [
    "T_total = 1e6"
   ]
  },
  {
   "cell_type": "code",
   "execution_count": 25,
   "metadata": {
    "scrolled": true,
    "tags": [],
    "ExecuteTime": {
     "end_time": "2023-12-31T22:17:06.373584Z",
     "start_time": "2023-12-31T22:17:05.798726Z"
    }
   },
   "outputs": [
    {
     "name": "stdout",
     "output_type": "stream",
     "text": [
      "[ Mutation event occurred at  t=20.6010 4/4*(6)]\t\n",
      "[ Mutation event occurred at  t=27.6905 5/5*(9)]\t\n",
      "[ Mutation event occurred at  t=32.3183 6/6*(12)]\t\n",
      "[ Mutation event occurred at  t=34.2324 7/7*(15)]\t\n",
      "[ Mutation event occurred at  t=37.5614 8/8*(18)]\t\n",
      "[ Mutation event occurred at  t=46.3141 9/9*(21)]\t\n",
      "[ Mutation event occurred at  t=47.5864 10/10*(24)]\t\n",
      "[ Mutation event occurred at  t=49.3557 11/11*(27)]\t\n",
      "[ Mutation event occurred at  t=67.6418 12/12*(30)]\t\n",
      "[ Mutation event occurred at  t=438.7189 12/13*(33)]\t\n",
      "[ Mutation event occurred at  t=466.9373 10/14*(36)]\t\n",
      "[ Mutation event occurred at  t=490.2358 11/15*(39)]\t\n",
      "[ Mutation event occurred at  t=496.0999 12/16*(42)]\t\n",
      "[ Mutation event occurred at  t=507.4758 13/17*(45)]\t\n",
      "[ Mutation event occurred at  t=518.8152 14/18*(48)]\t\n",
      "[ Mutation event occurred at  t=548.2234 15/19*(51)]\t\n",
      "[ Mutation event occurred at  t=596.9480 16/20*(54)]\t\n",
      "[ Mutation event occurred at  t=631.7087 17/21*(57)]\t\n"
     ]
    }
   ],
   "source": [
    "system.run(T=T_total)"
   ]
  },
  {
   "cell_type": "code",
   "execution_count": 26,
   "metadata": {
    "ExecuteTime": {
     "end_time": "2023-12-31T22:17:07.036244Z",
     "start_time": "2023-12-31T22:17:06.368247Z"
    }
   },
   "outputs": [
    {
     "data": {
      "text/plain": "<AxesSubplot: >"
     },
     "execution_count": 26,
     "metadata": {},
     "output_type": "execute_result"
    },
    {
     "data": {
      "text/plain": "<Figure size 2000x800 with 1 Axes>",
      "image/png": "[encoded data removed]"
     },
     "metadata": {},
     "output_type": "display_data"
    }
   ],
   "source": [
    "fig, ax = plt.subplots(1, 1, figsize=(20, 8))\n",
    "viz.stacked_abundance_plot(system, ax=ax, relative_abundance=False, apply_palette_depth=0, log_x_axis=True, color_seed=1)"
   ]
  },
  {
   "cell_type": "code",
   "execution_count": 27,
   "metadata": {
    "ExecuteTime": {
     "end_time": "2023-12-31T22:17:07.650199Z",
     "start_time": "2023-12-31T22:17:07.047874Z"
    }
   },
   "outputs": [
    {
     "data": {
      "text/plain": "<AxesSubplot: >"
     },
     "execution_count": 27,
     "metadata": {},
     "output_type": "execute_result"
    },
    {
     "data": {
      "text/plain": "<Figure size 2000x800 with 1 Axes>",
      "image/png": "[encoded data removed]"
     },
     "metadata": {},
     "output_type": "display_data"
    }
   ],
   "source": [
    "fig, ax = plt.subplots(1, 1, figsize=(20, 8))\n",
    "viz.resource_plot(system, ax=ax, stacked=False, relative=False, log_x_axis=True, log_y_axis=False)"
   ]
  },
  {
   "cell_type": "code",
   "execution_count": 28,
   "metadata": {
    "ExecuteTime": {
     "end_time": "2023-12-31T22:17:07.958324Z",
     "start_time": "2023-12-31T22:17:07.641694Z"
    }
   },
   "outputs": [
    {
     "data": {
      "text/plain": "<Figure size 640x480 with 1 Axes>",
      "image/png": "[encoded data removed]"
     },
     "metadata": {},
     "output_type": "display_data"
    }
   ],
   "source": [
    "viz.matrix_plot(system.extant_type_set.traits)"
   ]
  },
  {
   "cell_type": "code",
   "execution_count": 29,
   "outputs": [
    {
     "data": {
      "text/plain": "<Figure size 640x480 with 1 Axes>",
      "image/png": "[encoded data removed]"
     },
     "metadata": {},
     "output_type": "display_data"
    }
   ],
   "source": [
    "viz.matrix_plot(system.type_set.traits)"
   ],
   "metadata": {
    "collapsed": false,
    "ExecuteTime": {
     "end_time": "2023-12-31T22:17:08.345987Z",
     "start_time": "2023-12-31T22:17:07.972292Z"
    }
   }
  },
  {
   "cell_type": "code",
   "execution_count": 29,
   "outputs": [],
   "source": [],
   "metadata": {
    "collapsed": false,
    "ExecuteTime": {
     "end_time": "2023-12-31T22:17:08.366292Z",
     "start_time": "2023-12-31T22:17:08.345123Z"
    }
   }
  },
  {
   "cell_type": "code",
   "execution_count": 29,
   "outputs": [],
   "source": [],
   "metadata": {
    "collapsed": false,
    "ExecuteTime": {
     "end_time": "2023-12-31T22:17:08.382976Z",
     "start_time": "2023-12-31T22:17:08.352722Z"
    }
   }
  },
  {
   "cell_type": "code",
   "execution_count": 29,
   "outputs": [],
   "source": [],
   "metadata": {
    "collapsed": false,
    "ExecuteTime": {
     "end_time": "2023-12-31T22:17:08.419564Z",
     "start_time": "2023-12-31T22:17:08.359146Z"
    }
   }
  },
  {
   "cell_type": "code",
   "execution_count": 29,
   "outputs": [],
   "source": [],
   "metadata": {
    "collapsed": false,
    "ExecuteTime": {
     "end_time": "2023-12-31T22:17:08.458339Z",
     "start_time": "2023-12-31T22:17:08.365653Z"
    }
   }
  },
  {
   "cell_type": "code",
   "execution_count": 29,
   "outputs": [],
   "source": [],
   "metadata": {
    "collapsed": false,
    "ExecuteTime": {
     "end_time": "2023-12-31T22:17:08.475445Z",
     "start_time": "2023-12-31T22:17:08.374509Z"
    }
   }
  },
  {
   "cell_type": "code",
   "execution_count": 29,
   "outputs": [],
   "source": [],
   "metadata": {
    "collapsed": false,
    "ExecuteTime": {
     "end_time": "2023-12-31T22:17:08.500178Z",
     "start_time": "2023-12-31T22:17:08.380192Z"
    }
   }
  },
  {
   "cell_type": "code",
   "execution_count": 30,
   "outputs": [],
   "source": [
    "class SystemParameter():\n",
    "\n",
    "    def __init__(self, values, num_types, num_traits, force_type_dim=False, force_trait_dim=False):\n",
    "        \n",
    "        self.num_types  = num_types\n",
    "        self.num_traits = num_traits\n",
    "        \n",
    "        self.force_type_dim  = force_type_dim\n",
    "        self.force_trait_dim = force_trait_dim\n",
    "        \n",
    "        if(not isinstance(values, (list, np.ndarray))):  # scalar\n",
    "            if(force_type_dim and force_trait_dim):\n",
    "                self._values = utils.ExpandableArray( np.full(shape=(num_types, num_traits), fill_value=values) )\n",
    "                self.has_type_dim  = True\n",
    "                self.has_trait_dim = True\n",
    "            elif(force_type_dim):\n",
    "                self._values = np.full(shape=(num_types,), fill_value=values)\n",
    "                self.has_type_dim  = True\n",
    "                self.has_trait_dim = False\n",
    "            elif(force_trait_dim):\n",
    "                self._values = np.full(shape=(num_traits,), fill_value=values)\n",
    "                self.has_type_dim  = False\n",
    "                self.has_trait_dim = True\n",
    "            else:\n",
    "                self._values = np.array([2])[0] # makes this a np.int/float which has shape and ndim attributes\n",
    "                self.has_type_dim  = False\n",
    "                self.has_trait_dim = False\n",
    "        else:  # list/array\n",
    "            arr = np.array(values)\n",
    "            if(arr.ndim == 1):\n",
    "                if(len(arr) == num_types):\n",
    "                    if(force_trait_dim):\n",
    "                        if(np.all(arr == arr[0]) and not force_type_dim):  # all elements equal\n",
    "                            self._values = np.full(shape=(num_traits,), fill_value=arr[0])\n",
    "                            self.has_type_dim  = False\n",
    "                            self.has_trait_dim = True\n",
    "                        else:\n",
    "                            self._values = utils.ExpandableArray( np.tile(arr.reshape(self.num_types, 1), (1, self.num_traits)) )\n",
    "        \n",
    "                            self.has_type_dim  = True\n",
    "                            self.has_trait_dim = True\n",
    "                    else:\n",
    "                        if(np.all(arr == arr[0]) and not force_type_dim):  # all elements equal\n",
    "                            self._values = arr[0] \n",
    "                            self.has_type_dim  = False\n",
    "                            self.has_trait_dim = False\n",
    "                        else:\n",
    "                            self._values = arr\n",
    "                            self.has_type_dim  = True\n",
    "                            self.has_trait_dim = False\n",
    "                elif(len(arr) == num_traits):\n",
    "                    if(force_type_dim):\n",
    "                        if(np.all(arr == arr[0]) and not force_trait_dim):  # all elements equal\n",
    "                            self._values = np.full(shape=(num_types,), fill_value=arr[0])\n",
    "                            self.has_type_dim  = True\n",
    "                            self.has_trait_dim = False\n",
    "                        else:\n",
    "                            self._values = utils.ExpandableArray( np.tile(arr.reshape(1, self.num_traits), (self.num_types, 1)) )\n",
    "        \n",
    "                            self.has_type_dim  = True\n",
    "                            self.has_trait_dim = True\n",
    "                    else:\n",
    "                        if(np.all(arr == arr[0]) and not force_trait_dim):  # all elements equal\n",
    "                            self._values = arr[0] \n",
    "                            self.has_type_dim  = False\n",
    "                            self.has_trait_dim = False\n",
    "                        else:\n",
    "                            self._values = arr\n",
    "                            self.has_type_dim  = False\n",
    "                            self.has_trait_dim = True\n",
    "                else:\n",
    "                    utils.error(f\"Error in SystemParameter.__init__(): input with shape {arr.shape} does not correspond to the number of types ({num_types}) or traits ({num_traits}).\")\n",
    "            elif(arr.ndim == 2):\n",
    "                if(arr.shape[0] == num_types and arr.shape[1] == num_traits):\n",
    "                    self._values = utils.ExpandableArray( arr )  # as is\n",
    "\n",
    "                    self.has_type_dim  = True\n",
    "                    self.has_trait_dim = True\n",
    "                else:\n",
    "                    utils.error(f\"Error in SystemParameter.__init__(): input with shape {arr.shape} does not correspond to the number of types ({num_types}) and traits ({num_traits}).\")\n",
    "                    \n",
    "    #~~~~~~~~~~~~~~~~~~~~~~~~~~~~~~~~~~\n",
    "    \n",
    "    @property\n",
    "    def shape(self):\n",
    "        return self._values.shape\n",
    "    \n",
    "    @property\n",
    "    def ndim(self):\n",
    "        return self._values.ndim\n",
    "        \n",
    "    #~~~~~~~~~~~~~~~~~~~~~~~~~~~~~~~~~~\n",
    "    \n",
    "    def values(self, force_type_dim=False, force_trait_dim=False):\n",
    "        if(self.ndim == 0):  # scalar\n",
    "            if(force_type_dim and force_trait_dim):\n",
    "                return np.full(shape=(self.num_types, self.num_traits), fill_value=self._values)\n",
    "            elif(force_type_dim):\n",
    "                return np.full(shape=(self.num_types,), fill_value=self._values)\n",
    "            elif(force_trait_dim):\n",
    "                return np.full(shape=(self.num_traits,), fill_value=self._values)\n",
    "            else:\n",
    "                return self._values  # as is\n",
    "        elif(self.ndim == 1):  # 1d array\n",
    "            if(len(self._values) == self.num_types and force_trait_dim):\n",
    "                return np.tile(self._values.reshape(self.num_types, 1), (1, self.num_traits))\n",
    "            elif(len(self._values) == self.num_traits and force_type_dim):\n",
    "                return np.tile(self._values.reshape(1, self.num_traits), (self.num_types, 1))\n",
    "            else:\n",
    "                return self._values  # as is\n",
    "        else:  # 2d array\n",
    "            return self._values.values  # as is\n",
    "    \n",
    "    #~~~~~~~~~~~~~~~~~~~~~~~~~~~~~~~~~~\n",
    "    \n",
    "    def get_type(self, type):\n",
    "        type_idx  = utils.treat_as_list(type)\n",
    "        # - - - -\n",
    "        if(self.has_type_dim):\n",
    "            return SystemParameter(values=self.values()[type_idx], num_types=len(type_idx), num_traits=self.num_traits, force_type_dim=self.force_type_dim, force_trait_dim=self.force_trait_dim)\n",
    "        else:\n",
    "            return SystemParameter(values=self.values(), num_types=len(type_idx), num_traits=self.num_traits, force_type_dim=self.force_type_dim, force_trait_dim=self.force_trait_dim)\n",
    "        \n",
    "    @staticmethod\n",
    "    def combine(params_A, params_B, force_type_dim=False, force_trait_dim=False):\n",
    "        if(params_A.num_traits != params_B.num_traits):\n",
    "            utils.error(f\"Error in SystemParameter.add(): The params_B have a different num_traits ({params_B.num_traits}) than the base params ({params_A.num_traits})\")\n",
    "        # - - - - \n",
    "        valsA = params_A.values() \n",
    "        valsB = params_B.values() \n",
    "        comb_num_types       = params_A.num_types+params_B.num_types\n",
    "        comb_num_traits      = params_A.num_traits\n",
    "        comb_force_type_dim  = (force_type_dim | params_A.force_type_dim | params_B.force_type_dim)\n",
    "        comb_force_trait_dim = (force_trait_dim | params_A.force_trait_dim | params_B.force_trait_dim)\n",
    "        # - - - -\n",
    "        # If all elements of both param sets are equal:\n",
    "        if((valsA.ndim == 0 and np.all(valsB == valsA)) or (valsA.ndim > 0 and np.all(valsA == valsA[0]) and np.all(valsB == valsA[0]))):\n",
    "            return SystemParameter(values=valsA[0], num_types=comb_num_types, num_traits=comb_num_traits, force_type_dim=comb_force_type_dim, force_trait_dim=comb_force_trait_dim)\n",
    "        # - - - -\n",
    "        # Otherwise, we need to make sure both param sets have type dimensions - and matching has_trait_dim - so we can concatenate them:\n",
    "        if(not params_A.has_type_dim):\n",
    "            valsA = valsA.reshape(1, params_A.num_traits) if params_A.has_trait_dim else valsA.reshape(1, 1) \n",
    "            valsA = np.tile(valsA, (params_A.num_types, 1))\n",
    "            valsA = valsA.ravel() if not params_A.has_trait_dim else valsA\n",
    "        if(not params_B.has_type_dim):\n",
    "            valsB = valsB.reshape(1, params_B.num_traits) if params_B.has_trait_dim else valsB.reshape(1, 1) \n",
    "            valsB = np.tile(valsB, (params_B.num_types, 1))\n",
    "            valsB = valsB.ravel() if not params_B.has_trait_dim else valsB\n",
    "        if(params_A.has_trait_dim and not params_B.has_trait_dim):\n",
    "            valsB = np.tile(valsB.reshape(params_B.num_types, 1), (1, params_B.num_traits))\n",
    "        if(params_B.has_trait_dim and not params_A.has_trait_dim):\n",
    "            valsA = np.tile(valsA.reshape(params_A.num_types, 1), (1, params_A.num_traits))\n",
    "        return SystemParameter(values=np.concatenate([valsA, valsB]), num_types=comb_num_types, num_traits=comb_num_traits, force_type_dim=comb_force_type_dim, force_trait_dim=comb_force_trait_dim)\n",
    "        \n",
    "        \n",
    "                \n",
    "            "
   ],
   "metadata": {
    "collapsed": false,
    "ExecuteTime": {
     "end_time": "2023-12-31T22:17:08.521899Z",
     "start_time": "2023-12-31T22:17:08.423550Z"
    }
   }
  },
  {
   "cell_type": "code",
   "execution_count": 31,
   "outputs": [
    {
     "name": "stdout",
     "output_type": "stream",
     "text": [
      "2\n",
      "() 0\n"
     ]
    }
   ],
   "source": [
    "param = SystemParameter([2, 2, 2, 2], num_types=4, num_traits=9, force_type_dim=False, force_trait_dim=False)\n",
    "print(param._values)\n",
    "print(param._values.shape, param._values.ndim)"
   ],
   "metadata": {
    "collapsed": false,
    "ExecuteTime": {
     "end_time": "2023-12-31T22:17:08.538134Z",
     "start_time": "2023-12-31T22:17:08.429152Z"
    }
   }
  },
  {
   "cell_type": "code",
   "execution_count": 32,
   "outputs": [
    {
     "name": "stdout",
     "output_type": "stream",
     "text": [
      "[[2 2 2 2 2 2 2 2 2]\n",
      " [2 2 2 2 2 2 2 2 2]\n",
      " [2 2 2 2 2 2 2 2 2]\n",
      " [2 2 2 2 2 2 2 2 2]]\n",
      "(4, 9) 2\n"
     ]
    }
   ],
   "source": [
    "values = param.values(force_type_dim=True, force_trait_dim=True)\n",
    "print(values)\n",
    "print(values.shape, values.ndim)"
   ],
   "metadata": {
    "collapsed": false,
    "ExecuteTime": {
     "end_time": "2023-12-31T22:17:08.585484Z",
     "start_time": "2023-12-31T22:17:08.442227Z"
    }
   }
  },
  {
   "cell_type": "code",
   "execution_count": 33,
   "outputs": [
    {
     "name": "stdout",
     "output_type": "stream",
     "text": [
      "[1 2 1 1]\n"
     ]
    }
   ],
   "source": [
    "pA = SystemParameter([1, 2, 1, 1], num_types=4, num_traits=5, force_type_dim=False, force_trait_dim=False)\n",
    "print(pA.values())"
   ],
   "metadata": {
    "collapsed": false,
    "ExecuteTime": {
     "end_time": "2023-12-31T22:17:08.608769Z",
     "start_time": "2023-12-31T22:17:08.453138Z"
    }
   }
  },
  {
   "cell_type": "code",
   "execution_count": 34,
   "outputs": [
    {
     "name": "stdout",
     "output_type": "stream",
     "text": [
      "[5 5 5 5 5]\n"
     ]
    }
   ],
   "source": [
    "pB = SystemParameter([5, 5, 5, 5, 5], num_types=4, num_traits=5, force_type_dim=False, force_trait_dim=True)\n",
    "print(pB.values())"
   ],
   "metadata": {
    "collapsed": false,
    "ExecuteTime": {
     "end_time": "2023-12-31T22:17:08.627990Z",
     "start_time": "2023-12-31T22:17:08.467185Z"
    }
   }
  },
  {
   "cell_type": "code",
   "execution_count": 35,
   "outputs": [
    {
     "name": "stdout",
     "output_type": "stream",
     "text": [
      "[[1. 1. 1. 1. 1.]\n",
      " [2. 2. 2. 2. 2.]\n",
      " [1. 1. 1. 1. 1.]\n",
      " [1. 1. 1. 1. 1.]\n",
      " [5. 5. 5. 5. 5.]\n",
      " [5. 5. 5. 5. 5.]\n",
      " [5. 5. 5. 5. 5.]\n",
      " [5. 5. 5. 5. 5.]]\n"
     ]
    }
   ],
   "source": [
    "pC = SystemParameter.combine(pA, pB)\n",
    "print(pC.values())"
   ],
   "metadata": {
    "collapsed": false,
    "ExecuteTime": {
     "end_time": "2023-12-31T22:17:08.634469Z",
     "start_time": "2023-12-31T22:17:08.474400Z"
    }
   }
  },
  {
   "cell_type": "code",
   "execution_count": 36,
   "outputs": [
    {
     "name": "stdout",
     "output_type": "stream",
     "text": [
      "8 5\n"
     ]
    }
   ],
   "source": [
    "print(pC.num_types, pC.num_traits)"
   ],
   "metadata": {
    "collapsed": false,
    "ExecuteTime": {
     "end_time": "2023-12-31T22:17:08.637416Z",
     "start_time": "2023-12-31T22:17:08.486572Z"
    }
   }
  },
  {
   "cell_type": "code",
   "execution_count": 37,
   "outputs": [],
   "source": [
    "pS = pC.get_type(2)"
   ],
   "metadata": {
    "collapsed": false,
    "ExecuteTime": {
     "end_time": "2023-12-31T22:17:08.652611Z",
     "start_time": "2023-12-31T22:17:08.495208Z"
    }
   }
  },
  {
   "cell_type": "code",
   "execution_count": 38,
   "outputs": [
    {
     "data": {
      "text/plain": "<__main__.SystemParameter at 0x1295918e0>"
     },
     "execution_count": 38,
     "metadata": {},
     "output_type": "execute_result"
    }
   ],
   "source": [
    "pS"
   ],
   "metadata": {
    "collapsed": false,
    "ExecuteTime": {
     "end_time": "2023-12-31T22:17:08.656533Z",
     "start_time": "2023-12-31T22:17:08.506067Z"
    }
   }
  },
  {
   "cell_type": "code",
   "execution_count": 38,
   "outputs": [],
   "source": [],
   "metadata": {
    "collapsed": false,
    "ExecuteTime": {
     "end_time": "2023-12-31T22:17:08.659538Z",
     "start_time": "2023-12-31T22:17:08.515985Z"
    }
   }
  },
  {
   "cell_type": "code",
   "execution_count": 39,
   "outputs": [],
   "source": [
    "a = np.array([1, 1, 1, 1, 1])\n",
    "b = np.array([6, 7, 8, 9])\n",
    "m = np.array([[1, 1, 1], [1, 1, 1], [1, 1, 1]])"
   ],
   "metadata": {
    "collapsed": false,
    "ExecuteTime": {
     "end_time": "2023-12-31T22:17:08.740653Z",
     "start_time": "2023-12-31T22:17:08.525503Z"
    }
   }
  },
  {
   "cell_type": "code",
   "execution_count": 40,
   "outputs": [],
   "source": [
    "c = np.array([np.array([1])[0]])\n",
    "d = np.array([np.array([2])[0]])"
   ],
   "metadata": {
    "collapsed": false,
    "ExecuteTime": {
     "end_time": "2023-12-31T22:17:08.756554Z",
     "start_time": "2023-12-31T22:17:08.535947Z"
    }
   }
  },
  {
   "cell_type": "code",
   "execution_count": 41,
   "outputs": [
    {
     "data": {
      "text/plain": "False"
     },
     "execution_count": 41,
     "metadata": {},
     "output_type": "execute_result"
    }
   ],
   "source": [
    "np.all(m == d)"
   ],
   "metadata": {
    "collapsed": false,
    "ExecuteTime": {
     "end_time": "2023-12-31T22:17:08.760076Z",
     "start_time": "2023-12-31T22:17:08.544388Z"
    }
   }
  },
  {
   "cell_type": "code",
   "execution_count": 42,
   "outputs": [
    {
     "data": {
      "text/plain": "True"
     },
     "execution_count": 42,
     "metadata": {},
     "output_type": "execute_result"
    }
   ],
   "source": [
    "boo = True | False | True\n",
    "boo"
   ],
   "metadata": {
    "collapsed": false,
    "ExecuteTime": {
     "end_time": "2023-12-31T22:17:08.772928Z",
     "start_time": "2023-12-31T22:17:08.555643Z"
    }
   }
  },
  {
   "cell_type": "code",
   "execution_count": 43,
   "outputs": [
    {
     "data": {
      "text/plain": "True"
     },
     "execution_count": 43,
     "metadata": {},
     "output_type": "execute_result"
    }
   ],
   "source": [
    "ref = a\n",
    "chk = m\n",
    "(ref.ndim > 0 and np.all(ref == ref[0]) and np.all(chk == ref[0]))"
   ],
   "metadata": {
    "collapsed": false,
    "ExecuteTime": {
     "end_time": "2023-12-31T22:17:08.860461Z",
     "start_time": "2023-12-31T22:17:08.567442Z"
    }
   }
  },
  {
   "cell_type": "code",
   "execution_count": 44,
   "outputs": [
    {
     "data": {
      "text/plain": "1"
     },
     "execution_count": 44,
     "metadata": {},
     "output_type": "execute_result"
    }
   ],
   "source": [
    "ref.ndim"
   ],
   "metadata": {
    "collapsed": false,
    "ExecuteTime": {
     "end_time": "2023-12-31T22:17:08.883535Z",
     "start_time": "2023-12-31T22:17:08.576493Z"
    }
   }
  },
  {
   "cell_type": "code",
   "execution_count": 45,
   "outputs": [
    {
     "data": {
      "text/plain": "(1,)"
     },
     "execution_count": 45,
     "metadata": {},
     "output_type": "execute_result"
    }
   ],
   "source": [
    "c.shape"
   ],
   "metadata": {
    "collapsed": false,
    "ExecuteTime": {
     "end_time": "2023-12-31T22:17:08.916235Z",
     "start_time": "2023-12-31T22:17:08.587687Z"
    }
   }
  },
  {
   "cell_type": "code",
   "execution_count": 46,
   "outputs": [
    {
     "data": {
      "text/plain": "1"
     },
     "execution_count": 46,
     "metadata": {},
     "output_type": "execute_result"
    }
   ],
   "source": [
    "c.ndim"
   ],
   "metadata": {
    "collapsed": false,
    "ExecuteTime": {
     "end_time": "2023-12-31T22:17:08.919572Z",
     "start_time": "2023-12-31T22:17:08.599736Z"
    }
   }
  },
  {
   "cell_type": "code",
   "execution_count": 46,
   "outputs": [],
   "source": [],
   "metadata": {
    "collapsed": false,
    "ExecuteTime": {
     "end_time": "2023-12-31T22:17:08.925135Z",
     "start_time": "2023-12-31T22:17:08.606791Z"
    }
   }
  }
 ],
 "metadata": {
  "kernelspec": {
   "display_name": "Python 3 (ipykernel)",
   "language": "python",
   "name": "python3"
  },
  "language_info": {
   "codemirror_mode": {
    "name": "ipython",
    "version": 3
   },
   "file_extension": ".py",
   "mimetype": "text/x-python",
   "name": "python",
   "nbconvert_exporter": "python",
   "pygments_lexer": "ipython3",
   "version": "3.9.10"
  }
 },
 "nbformat": 4,
 "nbformat_minor": 4
}
