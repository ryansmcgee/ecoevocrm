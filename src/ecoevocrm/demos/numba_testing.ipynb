{
 "cells": [
  {
   "cell_type": "code",
   "execution_count": 1,
   "metadata": {},
   "outputs": [],
   "source": [
    "from ecoevocrm.consumer_resource_system import *\n",
    "import ecoevocrm.utils as utils\n",
    "import ecoevocrm.viz as viz\n",
    "import ecoevocrm.coarse_graining as cg"
   ]
  },
  {
   "cell_type": "code",
   "execution_count": 2,
   "metadata": {},
   "outputs": [],
   "source": [
    "import matplotlib.pyplot as plt"
   ]
  },
  {
   "cell_type": "code",
   "execution_count": 3,
   "metadata": {},
   "outputs": [],
   "source": [
    "import cProfile\n",
    "import pstats\n",
    "%load_ext line_profiler"
   ]
  },
  {
   "cell_type": "markdown",
   "metadata": {},
   "source": [
    "--------"
   ]
  },
  {
   "cell_type": "markdown",
   "metadata": {},
   "source": [
    "### Set the number of resources"
   ]
  },
  {
   "cell_type": "code",
   "execution_count": 4,
   "metadata": {},
   "outputs": [],
   "source": [
    "L = 40"
   ]
  },
  {
   "cell_type": "markdown",
   "metadata": {
    "tags": []
   },
   "source": [
    "### Define the ancestral phenotype (traits vector)"
   ]
  },
  {
   "cell_type": "code",
   "execution_count": 5,
   "metadata": {},
   "outputs": [],
   "source": [
    "anc_phenotype = utils.random_matrix(shape=(1, L), mode='binomial')"
   ]
  },
  {
   "cell_type": "code",
   "execution_count": 6,
   "metadata": {},
   "outputs": [
    {
     "data": {
      "image/png": "[encoded data removed]",
      "text/plain": [
       "<Figure size 432x288 with 1 Axes>"
      ]
     },
     "metadata": {},
     "output_type": "display_data"
    }
   ],
   "source": [
    "viz.matrix_plot(anc_phenotype)"
   ]
  },
  {
   "cell_type": "markdown",
   "metadata": {
    "tags": []
   },
   "source": [
    "### Define the system biochemistry (trait/resource interactions)"
   ]
  },
  {
   "cell_type": "code",
   "execution_count": 7,
   "metadata": {},
   "outputs": [],
   "source": [
    "J = utils.random_matrix((L, L), 'tikhonov_sigmoid')"
   ]
  },
  {
   "cell_type": "code",
   "execution_count": 8,
   "metadata": {},
   "outputs": [
    {
     "data": {
      "image/png": "[encoded data removed]",
      "text/plain": [
       "<Figure size 432x288 with 2 Axes>"
      ]
     },
     "metadata": {},
     "output_type": "display_data"
    }
   ],
   "source": [
    "viz.matrix_plot(J)"
   ]
  },
  {
   "cell_type": "code",
   "execution_count": 9,
   "metadata": {},
   "outputs": [
    {
     "data": {
      "text/plain": [
       "1.505359526752857"
      ]
     },
     "execution_count": 9,
     "metadata": {},
     "output_type": "execute_result"
    }
   ],
   "source": [
    "np.sum(J)"
   ]
  },
  {
   "cell_type": "markdown",
   "metadata": {
    "tags": []
   },
   "source": [
    "### Parameterize and instantiate the Consumer-Resource System"
   ]
  },
  {
   "cell_type": "code",
   "execution_count": 10,
   "metadata": {},
   "outputs": [],
   "source": [
    "anc_system = ConsumerResourceSystem(sigma=anc_phenotype, \n",
    "                                    b=1, \n",
    "                                    k=1e10,\n",
    "                                    c=0.1, chi=0.5, J=J, \n",
    "                                    mu=1e-10,\n",
    "                                    resource_consumption_mode='fast_resource_eq',\n",
    "                                    resource_inflow_mode='none',\n",
    "                                    threshold_min_rel_abundance=1e-6,\n",
    "                                    N_init=1, R_init=1)"
   ]
  },
  {
   "cell_type": "code",
   "execution_count": 11,
   "metadata": {},
   "outputs": [
    {
     "name": "stdout",
     "output_type": "stream",
     "text": [
      "(1, 40)\n"
     ]
    }
   ],
   "source": [
    "print(anc_system.type_set._sigma.alloc)"
   ]
  },
  {
   "cell_type": "code",
   "execution_count": 12,
   "metadata": {},
   "outputs": [
    {
     "name": "stdout",
     "output_type": "stream",
     "text": [
      "(40, 40)\n"
     ]
    }
   ],
   "source": [
    "print(anc_system.mutant_set._sigma.alloc)"
   ]
  },
  {
   "cell_type": "code",
   "execution_count": 13,
   "metadata": {},
   "outputs": [
    {
     "name": "stdout",
     "output_type": "stream",
     "text": [
      "[9.67221633]\n"
     ]
    }
   ],
   "source": [
    "print(anc_system.type_set.energy_costs)"
   ]
  },
  {
   "cell_type": "code",
   "execution_count": 14,
   "metadata": {},
   "outputs": [
    {
     "name": "stdout",
     "output_type": "stream",
     "text": [
      "[3130132704803494601]\n"
     ]
    }
   ],
   "source": [
    "print(anc_system.type_set.type_ids)"
   ]
  },
  {
   "cell_type": "code",
   "execution_count": 15,
   "metadata": {},
   "outputs": [
    {
     "name": "stdout",
     "output_type": "stream",
     "text": [
      "[None]\n"
     ]
    }
   ],
   "source": [
    "print(anc_system.type_set.parent_indices)"
   ]
  },
  {
   "cell_type": "code",
   "execution_count": 16,
   "metadata": {},
   "outputs": [
    {
     "name": "stdout",
     "output_type": "stream",
     "text": [
      "['1']\n"
     ]
    }
   ],
   "source": [
    "print(anc_system.type_set.lineage_ids)"
   ]
  },
  {
   "cell_type": "code",
   "execution_count": 17,
   "metadata": {},
   "outputs": [
    {
     "name": "stdout",
     "output_type": "stream",
     "text": [
      "{'1': {}}\n"
     ]
    }
   ],
   "source": [
    "print(anc_system.type_set.phylogeny)"
   ]
  },
  {
   "cell_type": "code",
   "execution_count": 18,
   "metadata": {},
   "outputs": [],
   "source": [
    "# stop"
   ]
  },
  {
   "cell_type": "markdown",
   "metadata": {
    "tags": []
   },
   "source": [
    "### Simulate dynamics"
   ]
  },
  {
   "cell_type": "code",
   "execution_count": 19,
   "metadata": {},
   "outputs": [],
   "source": [
    "# just to pre-compile the dynamics njit function\n",
    "# anc_system.dynamics(*((0,) + (np.zeros(L+L+1),) + anc_system.get_params()))"
   ]
  },
  {
   "cell_type": "code",
   "execution_count": 20,
   "metadata": {},
   "outputs": [],
   "source": [
    "# anc_system.run(T=1000)"
   ]
  },
  {
   "cell_type": "code",
   "execution_count": null,
   "metadata": {},
   "outputs": [],
   "source": []
  },
  {
   "cell_type": "code",
   "execution_count": 21,
   "metadata": {},
   "outputs": [],
   "source": [
    "# %lprun -f anc_system.dynamics anc_system.run(T=1000)\n",
    "# %lprun -f anc_system.handle_mutation_event anc_system.run(T=1000)"
   ]
  },
  {
   "cell_type": "code",
   "execution_count": 22,
   "metadata": {
    "scrolled": true,
    "tags": []
   },
   "outputs": [
    {
     "name": "stdout",
     "output_type": "stream",
     "text": [
      "[ Mutation event occurred at  t=100119.9529 248*(225440)/5636]\t\r"
     ]
    },
    {
     "data": {
      "text/plain": [
       "Timer unit: 1e-06 s\n",
       "\n",
       "Total time: 331.205 s\n",
       "File: /Users/ryan/Dropbox/Projects/ResearchProjects/eco-evo-crm/ecoevocrm/src/ecoevocrm/consumer_resource_system.py\n",
       "Function: run at line 227\n",
       "\n",
       "Line #      Hits         Time  Per Hit   % Time  Line Contents\n",
       "==============================================================\n",
       "   227                                               def run(self, T=1e5, dt=None, integration_method='default'):\n",
       "   228                                           \n",
       "   229         1         30.0     30.0      0.0          t_start   = self.t\n",
       "   230         1          2.0      2.0      0.0          t_elapsed = 0\n",
       "   231                                           \n",
       "   232                                                   # print(self.N_series, self.N_series.shape)\n",
       "   233                                           \n",
       "   234                                                   # print( np.zeros(shape=(self.N_series.shape[0], int(T/dt if dt is not None else T/0.1))) )\n",
       "   235                                           \n",
       "   236                                                   # self.t_series = np.hstack([self.t_series[:,:self.t_idx+1], np.zeros(shape=(self.t_series.shape[0], int(T/dt if dt is not None else T/0.1)))]) \n",
       "   237                                                   # self.N_series = np.hstack([self.N_series[:,:self.t_idx+1], np.zeros(shape=(self.N_series.shape[0], int(T/dt if dt is not None else T/0.1)))]) \n",
       "   238                                                   # self.R_series = np.hstack([self.R_series[:,:self.t_idx+1], np.zeros(shape=(self.R_series.shape[0], int(T/dt if dt is not None else T/0.1)))])\n",
       "   239                                           \n",
       "   240         1         48.0     48.0      0.0          self._t_series.expand_alloc((self._t_series.alloc[0], self._t_series.alloc[1]+int(T/dt if dt is not None else T/0.1)))\n",
       "   241         1         48.0     48.0      0.0          self._N_series.expand_alloc((self._N_series.alloc[0], self._N_series.alloc[1]+int(T/dt if dt is not None else T/0.1)))\n",
       "   242         1        303.0    303.0      0.0          self._R_series.expand_alloc((self._R_series.alloc[0], self._R_series.alloc[1]+int(T/dt if dt is not None else T/0.1)))\n",
       "   243                                           \n",
       "   244                                                   # self._t_series = utils.ExpandableArray(self._t_series, alloc_shape=(1, int(T/dt if dt is not None else T/0.1)))\n",
       "   245                                                   # self._N_series = utils.ExpandableArray(self._N_series, alloc_shape=(self.resource_set.num_resources*25, int(T/dt if dt is not None else T/0.1)))\n",
       "   246                                                   # self._R_series = utils.ExpandableArray(self._R_series, alloc_shape=(self.resource_set.num_resources, int(T/dt if dt is not None else T/0.1)))\n",
       "   247                                           \n",
       "   248                                                   # print(\"shape:\", self.t_series.shape, \"alloc:\", self.t_series.alloc)\n",
       "   249                                                   # print(self.t_series.values)\n",
       "   250                                                   # print(\"shape:\", self.N_series.shape, \"alloc:\", self.N_series.alloc)\n",
       "   251                                                   # print(self.N_series.values)\n",
       "   252                                                   # print(\"shape:\", self.R_series.shape, \"alloc:\", self.R_series.alloc)\n",
       "   253                                                   # print(self.R_series.values)\n",
       "   254                                                   # exit()\n",
       "   255                                           \n",
       "   256                                                   # return\n",
       "   257                                           \n",
       "   258         1          2.0      2.0      0.0          numiter = 0\n",
       "   259                                           \n",
       "   260     11842      39875.0      3.4      0.0          while(t_elapsed < T):\n",
       "   261                                           \n",
       "   262                                                       #------------------------------\n",
       "   263                                                       # Set initial conditions and integration variables:\n",
       "   264                                                       #------------------------------\n",
       "   265                                                      \n",
       "   266                                                       # Set the time interval for this integration epoch:\n",
       "   267     11841     229842.0     19.4      0.1              t_span = (self.t, self.t+T)\n",
       "   268                                           \n",
       "   269                                                       # Set the time ticks at which to save trajectory values:\n",
       "   270     11841      22081.0      1.9      0.0              t_eval = np.arange(start=t_span[0], stop=t_span[1]+dt, step=dt) if dt is not None else None,\n",
       "   271                                           \n",
       "   272                                                       # Get the indices and count of extant types (abundance > 0):\n",
       "   273     11841     757700.0     64.0      0.2              self.extant_type_indices     = self.get_extant_types()\n",
       "   274     11841      35132.0      3.0      0.0              num_extant_types = len(self.extant_type_indices)\n",
       "   275                                                       # print(\"\\n\\n$$$$$$$$$$$$$$$$$$$$$$$$$$\")\n",
       "   276                                                       # print(\"\\n\\nsigma (master)\\n\", self.type_set.sigma)\n",
       "   277                                                       # print(\"self.extant_type_indices\", self.extant_type_indices, num_extant_types)\n",
       "   278                                                       # print(\"sigma (extant)\\n\", self.type_set.sigma[self.extant_type_indices])\n",
       "   279                                                       \n",
       "   280                                           \n",
       "   281                                           \n",
       "   282                                                       # Set the initial conditions for this integration epoch:\n",
       "   283     11841     125965.0     10.6      0.0              N_init = self.N[self.extant_type_indices] # self.N_series[self.extant_type_indices, -1] # only run dynamics for extant types\n",
       "   284     11841      88623.0      7.5      0.0              R_init = self.R # self.R_series[:,-1]\n",
       "   285     11841      62443.0      5.3      0.0              cumPropMut_init = np.array([0])\n",
       "   286     11841     139979.0     11.8      0.0              init_cond = np.concatenate([N_init, R_init, cumPropMut_init])\n",
       "   287                                           \n",
       "   288                                                       # Get the params for the dynamics:\n",
       "   289     11841   70363258.0   5942.3     21.2              params = self.get_dynamics_params(self.extant_type_indices)\n",
       "   290                                           \n",
       "   291                                                       # Draw a random propensity threshold for triggering the next Gillespie mutation event:\n",
       "   292     11841     384383.0     32.5      0.1              self.threshold_mutation_propensity = np.random.exponential(1)\n",
       "   293                                           \n",
       "   294                                                       # Reset helper variables for storing latest attributes of mutants (as calc'ed in dynamics):\n",
       "   295                                                       # self.mutant_fitnesses      = np.zeros(self.mutant_set.num_types)\n",
       "   296                                                       # self.mutation_propensities = np.zeros(self.mutant_set.num_types)\n",
       "   297                                                       \n",
       "   298                                                       # Set the integration method:\n",
       "   299     11841      26420.0      2.2      0.0              if(integration_method == 'default'):\n",
       "   300     11841      27908.0      2.4      0.0                  if(num_extant_types <= self.threshold_precise_integrator):\n",
       "   301       872       1349.0      1.5      0.0                      _integration_method = 'LSODA' # accurate stiff integrator\n",
       "   302                                                           else:\n",
       "   303     10969      16572.0      1.5      0.0                      _integration_method = 'LSODA' # adaptive stiff/non-stiff integrator\n",
       "   304                                                       else:\n",
       "   305                                                           _integration_method = integration_method\n",
       "   306                                           \n",
       "   307                                                       #------------------------------\n",
       "   308                                                       # Integrate the system dynamics:\n",
       "   309                                                       #------------------------------\n",
       "   310     23682  209001105.0   8825.3     63.1              sol = scipy.integrate.solve_ivp(self.dynamics, \n",
       "   311     11841      16925.0      1.4      0.0                                               y0     = init_cond,\n",
       "   312     11841      15807.0      1.3      0.0                                               args   = params,\n",
       "   313     11841     325730.0     27.5      0.1                                               t_span = (self.t, self.t+T),\n",
       "   314     11841      22301.0      1.9      0.0                                               t_eval = np.arange(start=self.t, stop=self.t+T+dt, step=dt) if dt is not None else None,\n",
       "   315     11841      25061.0      2.1      0.0                                               events = [self.event_mutation],#, self.event_low_abundance],\n",
       "   316     11841      16384.0      1.4      0.0                                               method = _integration_method )\n",
       "   317                                           \n",
       "   318                                                       #------------------------------\n",
       "   319                                                       # Update the system's trajectories with latest dynamics epoch:\n",
       "   320                                                       #------------------------------\n",
       "   321                                           \n",
       "   322                                                       # print(f\"{self.t_idx} ({self.t_series[self.t_idx]}) -> {self.t_idx+len(sol.t)}\")\n",
       "   323                                           \n",
       "   324     11841     413730.0     34.9      0.1              N_epoch = np.zeros(shape=(self._N_series.shape[0], len(sol.t)))\n",
       "   325     11841     315623.0     26.7      0.1              N_epoch[self.extant_type_indices] = sol.y[:num_extant_types]\n",
       "   326                                           \n",
       "   327                                                       # print(\"N_epoch\", N_epoch, N_epoch.shape)\n",
       "   328                                                       \n",
       "   329     11841     115480.0      9.8      0.0              R_epoch = sol.y[-1-self.resource_set.num_resources:-1]\n",
       "   330                                           \n",
       "   331                                                       # print(\"R_epoch\", R_epoch, R_epoch.shape)\n",
       "   332                                                       \n",
       "   333     11841     265138.0     22.4      0.1              self._t_series.add(sol.t, axis=1)\n",
       "   334     11841    4054064.0    342.4      1.2              self._N_series.add(N_epoch, axis=1)\n",
       "   335     11841     236927.0     20.0      0.1              self._R_series.add(R_epoch, axis=1)\n",
       "   336                                           \n",
       "   337                                                       # return\n",
       "   338                                           \n",
       "   339                                           \n",
       "   340                                           \n",
       "   341                                                       # # Expand the data structures if necessary:\n",
       "   342                                                       # if(len(sol.t) > len(self.t_series) - self.t_idx):\n",
       "   343                                                       #     self.t_series = np.hstack([self.t_series[:self.t_idx+1],   np.zeros(shape=(int(T/dt if dt is not None else T/0.1)))]) \n",
       "   344                                                       #     self.N_series = np.hstack([self.N_series[:,:self.t_idx+1], np.zeros(shape=(self.N_series.shape[0], int(T/dt if dt is not None else T/0.1)))]) \n",
       "   345                                                       #     self.R_series = np.hstack([self.R_series[:,:self.t_idx+1], np.zeros(shape=(self.R_series.shape[0], int(T/dt if dt is not None else T/0.1)))])\n",
       "   346                                           \n",
       "   347                                                       # # Update the system data series:\n",
       "   348                                                       \n",
       "   349                                                       # # N_epoch = np.zeros(shape=(self.type_set.num_types, len(sol.t)))\n",
       "   350                                                       # # N_epoch[self.extant_type_indices] = sol.y[:num_extant_types]\n",
       "   351                                                       # # self.N_series = np.hstack([self.N_series[:,:-1], N_epoch]) if self.N_series is not None else N_epoch\n",
       "   352                                                       # self.N_series[self.extant_type_indices, self.t_idx+1:self.t_idx+1+len(sol.t)] = sol.y[:num_extant_types]\n",
       "   353                                           \n",
       "   354                                                       # # R_epoch = sol.y[-1-self.resource_set.num_resources:-1]\n",
       "   355                                                       # # self.R_series = np.hstack([self.R_series[:,:-1], R_epoch]) if self.R_series is not None else R_epoch\n",
       "   356                                                       # self.R_series[:, self.t_idx+1:self.t_idx+1+len(sol.t)] = sol.y[-1-self.resource_set.num_resources:-1]\n",
       "   357                                                       \n",
       "   358                                                       # # self.N_series = np.hstack([self.N_series[:,:-1], sol.y[:self.type_set.num_types]]) if self.N_series is not None else sol.y[:self.type_set.num_types]\n",
       "   359                                                       # # self.R_series = np.hstack([self.R_series[:,:-1], sol.y[-1-self.resource_set.num_resources:-1]]) if self.R_series is not None else sol.y[-1-self.resource_set.num_resources:-1]\n",
       "   360                                           \n",
       "   361                                                       # Update the system time series:\n",
       "   362                                                       \n",
       "   363                                                       # # self.t_series = np.concatenate([self.t_series[:-1], sol.t]) if self.t_series is not None else sol.t\n",
       "   364                                                       # self.t_series[self.t_idx+1:self.t_idx+1+len(sol.t)] = sol.t\n",
       "   365                                                       \n",
       "   366                                           \n",
       "   367                                                       # self.t_idx = self.t_idx + len(sol.t)\n",
       "   368                                                       \n",
       "   369                                                       # self.t = self.t_series[self.t_idx] + (dt if dt is not None else 0)\n",
       "   370                                                       \n",
       "   371     11841     173677.0     14.7      0.1              t_elapsed = self.t - t_start\n",
       "   372                                           \n",
       "   373                                           \n",
       "   374                                           \n",
       "   375                                           \n",
       "   376                                           \n",
       "   377                                           \n",
       "   378                                                       # extant_type_mutants = self.type_set.get_mutant_indices(self.extant_type_indices)\n",
       "   379                                           \n",
       "   380                                                       # mutant_fitnesses_fullset = np.zeros(self.mutant_set.num_types)\n",
       "   381                                                       # mutant_fitnesses_fullset[extant_type_mutants] = self.mutant_fitnesses\n",
       "   382                                                       # self.mutant_fitnesses    = mutant_fitnesses_fullset\n",
       "   383                                           \n",
       "   384                                                       # mutation_propensities_fullset = np.zeros(self.mutant_set.num_types)\n",
       "   385                                                       # mutation_propensities_fullset[extant_type_mutants] = self.mutation_propensities\n",
       "   386                                                       # self.mutation_propensities    = mutation_propensities_fullset\n",
       "   387                                           \n",
       "   388     11841     222281.0     18.8      0.1              typeCountStr = f\"{num_extant_types}*({self.mutant_set.num_types})/{self.type_set.num_types}\"\n",
       "   389                                           \n",
       "   390                                                       #------------------------------\n",
       "   391                                                       # Handle events and update the system's states accordingly:\n",
       "   392                                                       #------------------------------\n",
       "   393     11841      61901.0      5.2      0.0              if(sol.status == 1): # An event occurred\n",
       "   394     11841      52555.0      4.4      0.0                  if(len(sol.t_events[0]) > 0):\n",
       "   395     11841    2241256.0    189.3      0.7                      print(f\"[ Mutation event occurred at  t={self.t:.4f} {typeCountStr}]\\t\\r\", end=\"\")\n",
       "   396                                                               # print(f\"[ Mutation event occurred at  t={self.t:.4f} {typeCountStr}]\\t\")\n",
       "   397     11841   23190004.0   1958.4      7.0                      self.handle_mutation_event()\n",
       "   398     11841   18117174.0   1530.0      5.5                      self.handle_type_loss()\n",
       "   399                                                               # exit()\n",
       "   400                                                           # if(len(sol.t_events[1]) > 0):\n",
       "   401                                                           #     print(f\"[ Type loss event occurred at t={self.t:.4f} ]\\t\\r\", end=\"\")\n",
       "   402                                                           #     # pass\n",
       "   403                                                           #     self.handle_type_loss()\n",
       "   404                                                           #     # exit()\n",
       "   405                                                       elif(sol.status == 0): # Reached end T successfully\n",
       "   406                                                           self.handle_type_loss()\n",
       "   407                                                       else: # Error occurred in integration\n",
       "   408                                                           utils.error(\"Error in ConsumerResourceSystem run(): Integration of dynamics using scipy.solve_ivp returned with error status.\")\n",
       "   409                                                       \n",
       "   410                                                       # print(\"sol.t\", sol.t)\n",
       "   411                                                       # print(\"sol.y_N\", sol.y[:num_extant_types])\n",
       "   412                                                       # print(\"sol.y_R\", sol.y[-1-self.resource_set.num_resources:-1])\n",
       "   413                                           \n",
       "   414                                                       # print(\"t_series:\", self.t_series, self.t_series.shape)\n",
       "   415                                                       # print(\"N_series:\", self.N_series, self.N_series.shape)\n",
       "   416                                                       # print(\"R_series:\", self.R_series, self.R_series.shape)\n",
       "   417                                           \n",
       "   418                                                       # print(\"t:\", self.t)\n",
       "   419                                                       # print(\"N():\", self.N())\n",
       "   420                                                       # print(\"R():\", self.R())\n",
       "   421                                           \n",
       "   422                                                       # exit()\n",
       "   423                                           \n",
       "   424                                                       # print(self.N())\n",
       "   425                                                       # print(self.N(0))\n",
       "   426                                                       # print(self.N() - self.N(0))\n",
       "   427                                                       # total_epoch_abundance_change = np.sum( self.N() - self.N(0) )\n",
       "   428                                                       # if(total_epoch_abundance_change < self.threshold_eq_abundance_change):\n",
       "   429                                                       #     print(\"[ total_epoch_abundance_change < self.threshold_eq_abundance_change ]\")\n",
       "   430                                                       #     break\n",
       "   431                                           \n",
       "   432                                                       # numiter += 1\n",
       "   433                                                       # if(numiter >= 1):\n",
       "   434                                                       #     break\n",
       "   435                                           \n",
       "   436                                                   # self.t_series = self.t_series[:self.t_idx+1]\n",
       "   437                                                   # self.N_series = self.N_series[:, :self.t_idx+1]\n",
       "   438                                                   # self.R_series = self.R_series[:, :self.t_idx+1]\n",
       "   439                                           \n",
       "   440         1          9.0      9.0      0.0          self._t_series.trim()\n",
       "   441         1          5.0      5.0      0.0          self._N_series.trim()\n",
       "   442         1          5.0      5.0      0.0          self._R_series.trim()"
      ]
     },
     "metadata": {},
     "output_type": "display_data"
    }
   ],
   "source": [
    "profiler = cProfile.Profile()\n",
    "# %lprun -f anc_system.dynamics profiler.runcall(anc_system.run)\n",
    "# %lprun -f ConsumerResourceSystem.growth_rate profile.runcall(anc_system.run)\n",
    "# %lprun -f anc_system.event_low_abundance profiler.runcall(anc_system.run)\n",
    "# %lprun -f TypeSet.add_type profiler.runcall(anc_system.run)\n",
    "# %lprun -f TypeSet.generate_mutant_set profiler.runcall(anc_system.run)\n",
    "\n",
    "%lprun -f anc_system.run profiler.runcall(anc_system.run)"
   ]
  },
  {
   "cell_type": "code",
   "execution_count": 23,
   "metadata": {
    "scrolled": true,
    "tags": []
   },
   "outputs": [
    {
     "name": "stdout",
     "output_type": "stream",
     "text": [
      "         16926957 function calls (16926944 primitive calls) in 332.027 seconds\n",
      "\n",
      "   Ordered by: cumulative time\n",
      "\n",
      "   ncalls  tottime  percall  cumtime  percall filename:lineno(function)\n",
      "        1    4.672    4.672  332.027  332.027 /Users/ryan/Dropbox/Projects/ResearchProjects/eco-evo-crm/ecoevocrm/src/ecoevocrm/consumer_resource_system.py:227(run)\n",
      "    11841    4.569    0.000  208.759    0.018 /usr/local/lib/python3.8/site-packages/scipy/integrate/_ivp/ivp.py:156(solve_ivp)\n",
      "    76218    0.598    0.000  183.646    0.002 /usr/local/lib/python3.8/site-packages/scipy/integrate/_ivp/base.py:159(step)\n",
      "    76218    1.057    0.000  183.048    0.002 /usr/local/lib/python3.8/site-packages/scipy/integrate/_ivp/lsoda.py:140(_step_impl)\n",
      "    76218    3.808    0.000  181.852    0.002 /usr/local/lib/python3.8/site-packages/scipy/integrate/_ode.py:1338(run)\n",
      "   203812    0.489    0.000  177.914    0.001 /usr/local/lib/python3.8/site-packages/scipy/integrate/_ivp/base.py:136(fun)\n",
      "   203812    0.421    0.000  177.425    0.001 /usr/local/lib/python3.8/site-packages/scipy/integrate/_ivp/base.py:19(fun_wrapped)\n",
      "   203812    1.163    0.000  176.865    0.001 /usr/local/lib/python3.8/site-packages/scipy/integrate/_ivp/ivp.py:514(<lambda>)\n",
      "   203812   13.403    0.000  175.702    0.001 /Users/ryan/Dropbox/Projects/ResearchProjects/eco-evo-crm/ecoevocrm/src/ecoevocrm/consumer_resource_system.py:495(dynamics)\n",
      "   215653   13.240    0.000  156.843    0.001 /Users/ryan/Dropbox/Projects/ResearchProjects/eco-evo-crm/ecoevocrm/src/ecoevocrm/consumer_resource_system.py:459(growth_rate)\n",
      "   431306    2.147    0.000  142.911    0.000 /usr/local/lib/python3.8/site-packages/numpy/core/einsumfunc.py:997(einsum)\n",
      "   431306  140.764    0.000  140.764    0.000 {built-in method numpy.core._multiarray_umath.c_einsum}\n",
      "   215653    0.692    0.000   75.284    0.000 /Users/ryan/Dropbox/Projects/ResearchProjects/eco-evo-crm/ecoevocrm/src/ecoevocrm/consumer_resource_system.py:447(resource_demand)\n",
      "    11841   48.109    0.004   68.851    0.006 /Users/ryan/Dropbox/Projects/ResearchProjects/eco-evo-crm/ecoevocrm/src/ecoevocrm/consumer_resource_system.py:886(get_dynamics_params)\n",
      "    11841    3.100    0.000   22.998    0.002 /Users/ryan/Dropbox/Projects/ResearchProjects/eco-evo-crm/ecoevocrm/src/ecoevocrm/consumer_resource_system.py:609(handle_mutation_event)\n",
      "    11841    3.153    0.000   18.025    0.002 /Users/ryan/Dropbox/Projects/ResearchProjects/eco-evo-crm/ecoevocrm/src/ecoevocrm/consumer_resource_system.py:763(handle_type_loss)\n",
      "   251176   12.128    0.000   12.128    0.000 {built-in method numpy.concatenate}\n",
      "   344871    0.789    0.000   10.707    0.000 /usr/local/lib/python3.8/site-packages/numpy/core/fromnumeric.py:51(_wrapfunc)\n",
      "   209448    0.459    0.000   10.527    0.000 /usr/local/lib/python3.8/site-packages/numpy/core/fromnumeric.py:436(repeat)\n",
      "   209448    9.446    0.000    9.446    0.000 {method 'repeat' of 'numpy.ndarray' objects}\n",
      "    23682    8.359    0.000    9.269    0.000 /Users/ryan/Dropbox/Projects/ResearchProjects/eco-evo-crm/ecoevocrm/src/ecoevocrm/type_set.py:507(get_dynamics_params)\n",
      "   273722    2.999    0.000    9.249    0.000 /usr/local/lib/python3.8/site-packages/numpy/core/fromnumeric.py:69(_wrapreduction)\n",
      "   250040    1.185    0.000    8.883    0.000 /usr/local/lib/python3.8/site-packages/numpy/core/fromnumeric.py:2160(sum)\n",
      "     5636    0.140    0.000    7.746    0.001 /Users/ryan/Dropbox/Projects/ResearchProjects/eco-evo-crm/ecoevocrm/src/ecoevocrm/consumer_resource_system.py:801(add_type)\n",
      "    69339    5.840    0.000    7.727    0.000 /Users/ryan/Dropbox/Projects/ResearchProjects/eco-evo-crm/ecoevocrm/src/ecoevocrm/utils.py:45(add)\n",
      "    11841    1.387    0.000    6.282    0.001 /usr/local/lib/python3.8/site-packages/scipy/integrate/_ivp/ivp.py:81(handle_events)\n",
      "    11841    0.346    0.000    5.854    0.000 /usr/local/lib/python3.8/site-packages/scipy/integrate/_ivp/lsoda.py:105(__init__)\n",
      "   273722    4.778    0.000    4.778    0.000 {method 'reduce' of 'numpy.ufunc' objects}\n",
      "    11841    1.199    0.000    4.518    0.000 /usr/local/lib/python3.8/site-packages/scipy/integrate/_ivp/ivp.py:108(<listcomp>)\n",
      "    11841    3.563    0.000    3.825    0.000 {method 'choice' of 'numpy.random.mtrand.RandomState' objects}\n",
      "    11841    0.139    0.000    3.319    0.000 /usr/local/lib/python3.8/site-packages/scipy/integrate/_ivp/ivp.py:53(solve_event_equation)\n",
      "    76218    2.544    0.000    3.228    0.000 /usr/local/lib/python3.8/site-packages/scipy/integrate/_ivp/ivp.py:130(find_active_events)\n",
      "    11272    0.330    0.000    3.069    0.000 /Users/ryan/Dropbox/Projects/ResearchProjects/eco-evo-crm/ecoevocrm/src/ecoevocrm/type_set.py:298(add_type)\n",
      "   153851    2.494    0.000    2.748    0.000 /usr/local/lib/python3.8/site-packages/scipy/integrate/_ivp/ivp.py:565(<lambda>)\n",
      "   228339    2.639    0.000    2.639    0.000 {built-in method numpy.array}\n",
      "    11841    0.282    0.000    2.553    0.000 /Users/ryan/Dropbox/Projects/ResearchProjects/eco-evo-crm/ecoevocrm/src/ecoevocrm/type_set.py:448(get_type)\n",
      "    11841    0.086    0.000    2.462    0.000 /usr/local/lib/python3.8/site-packages/scipy/optimize/zeros.py:650(brentq)\n",
      "    17477    0.546    0.000    2.462    0.000 /Users/ryan/Dropbox/Projects/ResearchProjects/eco-evo-crm/ecoevocrm/src/ecoevocrm/type_set.py:10(__init__)\n",
      "   478101    2.360    0.000    2.360    0.000 {built-in method numpy.zeros}\n",
      "    11841    0.108    0.000    2.350    0.000 {built-in method scipy.optimize._zeros._brentq}\n",
      "    65792    0.127    0.000    2.242    0.000 /usr/local/lib/python3.8/site-packages/scipy/integrate/_ivp/ivp.py:77(<lambda>)\n",
      "    11841    0.076    0.000    2.051    0.000 {built-in method builtins.print}\n",
      "    23682    0.205    0.000    1.974    0.000 /usr/local/lib/python3.8/site-packages/ipykernel/iostream.py:386(write)\n",
      "    23682    0.100    0.000    1.801    0.000 /usr/local/lib/python3.8/site-packages/numpy/core/fromnumeric.py:2305(any)\n",
      "    46795    0.613    0.000    1.797    0.000 /Users/ryan/Dropbox/Projects/ResearchProjects/eco-evo-crm/ecoevocrm/src/ecoevocrm/type_set.py:163(energy_costs)\n",
      "    11841    0.170    0.000    1.761    0.000 /usr/local/lib/python3.8/site-packages/scipy/integrate/_ivp/common.py:43(validate_tol)\n",
      "    25380    0.156    0.000    1.669    0.000 /usr/local/lib/python3.8/site-packages/ipykernel/iostream.py:197(schedule)\n",
      "    11841    0.135    0.000    1.616    0.000 /usr/local/lib/python3.8/site-packages/scipy/integrate/_ode.py:374(set_integrator)\n",
      "  1110112    0.859    0.000    1.544    0.000 /Users/ryan/Dropbox/Projects/ResearchProjects/eco-evo-crm/ecoevocrm/src/ecoevocrm/type_set.py:111(get_array)\n",
      "       71    1.524    0.021    1.525    0.021 /Users/ryan/Dropbox/Projects/ResearchProjects/eco-evo-crm/ecoevocrm/src/ecoevocrm/utils.py:36(expand_alloc)\n",
      "    23682    1.231    0.000    1.473    0.000 /Users/ryan/Dropbox/Projects/ResearchProjects/eco-evo-crm/ecoevocrm/src/ecoevocrm/type_set.py:492(get_mutant_indices)\n",
      "    23682    0.515    0.000    1.376    0.000 /usr/local/lib/python3.8/site-packages/scipy/integrate/_ode.py:1288(reset)\n",
      "     5636    0.110    0.000    1.369    0.000 /Users/ryan/Dropbox/Projects/ResearchProjects/eco-evo-crm/ecoevocrm/src/ecoevocrm/type_set.py:277(generate_mutant_set)\n",
      "    89474    0.207    0.000    1.358    0.000 /usr/local/lib/python3.8/site-packages/scipy/integrate/_ivp/base.py:235(__call__)\n",
      "    11841    0.019    0.000    1.307    0.000 /usr/local/lib/python3.8/site-packages/scipy/integrate/_ivp/ivp.py:567(<listcomp>)\n",
      "    25380    1.251    0.000    1.251    0.000 /usr/local/lib/python3.8/site-packages/zmq/sugar/socket.py:342(send)\n",
      "    11841    0.443    0.000    1.084    0.000 /usr/local/lib/python3.8/site-packages/scipy/integrate/_ivp/base.py:115(__init__)\n",
      "    89474    0.792    0.000    1.077    0.000 /usr/local/lib/python3.8/site-packages/scipy/integrate/_ivp/lsoda.py:182(_call_impl)\n",
      "    11841    0.083    0.000    0.986    0.000 /usr/local/lib/python3.8/site-packages/scipy/integrate/_ode.py:362(set_initial_value)\n",
      "    11841    0.896    0.000    0.896    0.000 /usr/local/lib/python3.8/site-packages/scipy/integrate/_ivp/ivp.py:565(<listcomp>)\n",
      "   139816    0.561    0.000    0.871    0.000 /Users/ryan/Dropbox/Projects/ResearchProjects/eco-evo-crm/ecoevocrm/src/ecoevocrm/type_set.py:213(preprocess_params)\n",
      "   213089    0.212    0.000    0.850    0.000 /Users/ryan/Dropbox/Projects/ResearchProjects/eco-evo-crm/ecoevocrm/src/ecoevocrm/type_set.py:123(sigma)\n",
      "   109931    0.738    0.000    0.843    0.000 /usr/local/lib/python3.8/site-packages/numpy/core/shape_base.py:81(atleast_2d)\n",
      "   466664    0.812    0.000    0.812    0.000 /Users/ryan/Dropbox/Projects/ResearchProjects/eco-evo-crm/ecoevocrm/src/ecoevocrm/utils.py:32(values)\n",
      "    11841    0.037    0.000    0.803    0.000 /usr/local/lib/python3.8/site-packages/scipy/integrate/_ivp/base.py:192(dense_output)\n",
      "    11841    0.323    0.000    0.767    0.000 /usr/local/lib/python3.8/site-packages/scipy/integrate/_ivp/lsoda.py:163(_dense_output_impl)\n",
      "    17477    0.732    0.000    0.747    0.000 <frozen importlib._bootstrap>:1017(_handle_fromlist)\n",
      "   273722    0.736    0.000    0.736    0.000 /usr/local/lib/python3.8/site-packages/numpy/core/fromnumeric.py:70(<dictcomp>)\n",
      "    11841    0.575    0.000    0.700    0.000 /Users/ryan/Dropbox/Projects/ResearchProjects/eco-evo-crm/ecoevocrm/src/ecoevocrm/consumer_resource_system.py:854(get_extant_types)\n",
      "    11841    0.205    0.000    0.696    0.000 /usr/local/lib/python3.8/site-packages/scipy/integrate/_ode.py:753(find_integrator)\n",
      "    11841    0.125    0.000    0.641    0.000 /usr/local/lib/python3.8/site-packages/scipy/integrate/_ivp/base.py:4(check_arguments)\n",
      "    71047    0.135    0.000    0.638    0.000 /Users/ryan/Dropbox/Projects/ResearchProjects/eco-evo-crm/ecoevocrm/src/ecoevocrm/consumer_resource_system.py:220(t)\n",
      "   273723    0.637    0.000    0.637    0.000 {method 'items' of 'dict' objects}\n",
      "   183027    0.265    0.000    0.635    0.000 /Users/ryan/Dropbox/Projects/ResearchProjects/eco-evo-crm/ecoevocrm/src/ecoevocrm/consumer_resource_system.py:185(get_array)\n",
      "    23682    0.117    0.000    0.630    0.000 /usr/local/lib/python3.8/site-packages/numpy/core/numerictypes.py:356(issubdtype)\n",
      "  2154435    0.574    0.000    0.620    0.000 {built-in method builtins.isinstance}\n",
      "    11841    0.541    0.000    0.617    0.000 /usr/local/lib/python3.8/site-packages/scipy/integrate/_ivp/ivp.py:28(prepare_events)\n",
      "    34954    0.210    0.000    0.538    0.000 /Users/ryan/Dropbox/Projects/ResearchProjects/eco-evo-crm/ecoevocrm/src/ecoevocrm/utils.py:125(reshape)\n",
      "   516768    0.536    0.000    0.536    0.000 {built-in method numpy.asarray}\n",
      "    11841    0.073    0.000    0.516    0.000 /usr/local/lib/python3.8/site-packages/numpy/core/shape_base.py:222(vstack)\n",
      "    47364    0.458    0.000    0.507    0.000 /usr/local/lib/python3.8/site-packages/numpy/core/numerictypes.py:282(issubclass_)\n",
      "    88059    0.128    0.000    0.505    0.000 /usr/local/lib/python3.8/site-packages/numpy/core/fromnumeric.py:1866(nonzero)\n",
      "    71047    0.146    0.000    0.503    0.000 /Users/ryan/Dropbox/Projects/ResearchProjects/eco-evo-crm/ecoevocrm/src/ecoevocrm/consumer_resource_system.py:216(t_series)\n",
      "    97521    0.115    0.000    0.494    0.000 /Users/ryan/Dropbox/Projects/ResearchProjects/eco-evo-crm/ecoevocrm/src/ecoevocrm/type_set.py:115(num_types)\n",
      "    59205    0.087    0.000    0.491    0.000 /usr/local/Cellar/python@3.8/3.8.4/Frameworks/Python.framework/Versions/3.8/lib/python3.8/re.py:188(match)\n",
      "    28751    0.253    0.000    0.489    0.000 /Users/ryan/Dropbox/Projects/ResearchProjects/eco-evo-crm/ecoevocrm/src/ecoevocrm/utils.py:9(__init__)\n",
      "    76218    0.147    0.000    0.483    0.000 /usr/local/lib/python3.8/site-packages/scipy/integrate/_ivp/ivp.py:595(<listcomp>)\n",
      "     5636    0.162    0.000    0.475    0.000 /Users/ryan/Dropbox/Projects/ResearchProjects/eco-evo-crm/ecoevocrm/src/ecoevocrm/type_set.py:266(generate_mutant_phenotypes)\n",
      "    29093    0.207    0.000    0.424    0.000 /Users/ryan/Dropbox/Projects/ResearchProjects/eco-evo-crm/ecoevocrm/src/ecoevocrm/consumer_resource_system.py:832(set_type_abundance)\n",
      "   100747    0.419    0.000    0.419    0.000 {built-in method numpy.dot}\n",
      "    18046    0.285    0.000    0.405    0.000 /Users/ryan/Dropbox/Projects/ResearchProjects/eco-evo-crm/ecoevocrm/src/ecoevocrm/consumer_resource_system.py:844(get_type_abundance)\n",
      "    47364    0.377    0.000    0.377    0.000 {built-in method builtins.max}\n",
      "    88298    0.095    0.000    0.361    0.000 /Users/ryan/Dropbox/Projects/ResearchProjects/eco-evo-crm/ecoevocrm/src/ecoevocrm/consumer_resource_system.py:189(N_series)\n",
      "     5636    0.259    0.000    0.346    0.000 /Users/ryan/Dropbox/Projects/ResearchProjects/eco-evo-crm/ecoevocrm/src/ecoevocrm/type_set.py:384(add_type_to_phylogeny)\n",
      "    59205    0.189    0.000    0.331    0.000 /usr/local/Cellar/python@3.8/3.8.4/Frameworks/Python.framework/Versions/3.8/lib/python3.8/re.py:289(_compile)\n",
      "    11841    0.288    0.000    0.288    0.000 {method 'exponential' of 'numpy.random.mtrand.RandomState' objects}\n",
      "    11841    0.144    0.000    0.284    0.000 /usr/local/lib/python3.8/site-packages/scipy/integrate/_ivp/lsoda.py:176(__init__)\n",
      "    17477    0.142    0.000    0.276    0.000 /usr/local/lib/python3.8/site-packages/numpy/lib/shape_base.py:1171(tile)\n",
      "   153851    0.254    0.000    0.254    0.000 /Users/ryan/Dropbox/Projects/ResearchProjects/eco-evo-crm/ecoevocrm/src/ecoevocrm/consumer_resource_system.py:599(event_mutation)\n",
      "   105550    0.174    0.000    0.241    0.000 /Users/ryan/Dropbox/Projects/ResearchProjects/eco-evo-crm/ecoevocrm/src/ecoevocrm/utils.py:152(treat_as_list)\n",
      "    11841    0.067    0.000    0.222    0.000 {method 'any' of 'numpy.generic' objects}\n",
      "    17477    0.071    0.000    0.205    0.000 /Users/ryan/Dropbox/Projects/ResearchProjects/eco-evo-crm/ecoevocrm/src/ecoevocrm/type_set.py:483(get_type_id)\n",
      "    94159    0.093    0.000    0.197    0.000 /Users/ryan/Dropbox/Projects/ResearchProjects/eco-evo-crm/ecoevocrm/src/ecoevocrm/type_set.py:127(b)\n",
      "    25380    0.091    0.000    0.196    0.000 /usr/local/Cellar/python@3.8/3.8.4/Frameworks/Python.framework/Versions/3.8/lib/python3.8/threading.py:1071(is_alive)\n",
      "   356712    0.195    0.000    0.195    0.000 {built-in method builtins.getattr}\n",
      "    35523    0.055    0.000    0.194    0.000 /Users/ryan/Dropbox/Projects/ResearchProjects/eco-evo-crm/ecoevocrm/src/ecoevocrm/consumer_resource_system.py:193(N)\n",
      "    23682    0.049    0.000    0.179    0.000 /usr/local/lib/python3.8/site-packages/numpy/core/fromnumeric.py:198(reshape)\n",
      "   104864    0.085    0.000    0.169    0.000 /Users/ryan/Dropbox/Projects/ResearchProjects/eco-evo-crm/ecoevocrm/src/ecoevocrm/type_set.py:147(c)\n",
      "   104864    0.082    0.000    0.164    0.000 /Users/ryan/Dropbox/Projects/ResearchProjects/eco-evo-crm/ecoevocrm/src/ecoevocrm/type_set.py:151(chi)\n",
      "    94159    0.078    0.000    0.157    0.000 /Users/ryan/Dropbox/Projects/ResearchProjects/eco-evo-crm/ecoevocrm/src/ecoevocrm/type_set.py:143(g)\n",
      "    11841    0.023    0.000    0.155    0.000 /usr/local/lib/python3.8/site-packages/numpy/core/_methods.py:54(_any)\n",
      "     5636    0.041    0.000    0.154    0.000 /usr/local/lib/python3.8/site-packages/numpy/core/numeric.py:2131(identity)\n",
      "    94159    0.078    0.000    0.152    0.000 /Users/ryan/Dropbox/Projects/ResearchProjects/eco-evo-crm/ecoevocrm/src/ecoevocrm/type_set.py:131(k)\n",
      "    88059    0.152    0.000    0.152    0.000 {method 'nonzero' of 'numpy.ndarray' objects}\n",
      "    94159    0.077    0.000    0.149    0.000 /Users/ryan/Dropbox/Projects/ResearchProjects/eco-evo-crm/ecoevocrm/src/ecoevocrm/type_set.py:135(eta)\n",
      "    94159    0.072    0.000    0.143    0.000 /Users/ryan/Dropbox/Projects/ResearchProjects/eco-evo-crm/ecoevocrm/src/ecoevocrm/type_set.py:139(l)\n",
      "    23682    0.053    0.000    0.143    0.000 /Users/ryan/Dropbox/Projects/ResearchProjects/eco-evo-crm/ecoevocrm/src/ecoevocrm/type_set.py:174(type_ids)\n",
      "    11841    0.061    0.000    0.140    0.000 /usr/local/lib/python3.8/site-packages/numpy/core/numeric.py:1859(isscalar)\n",
      "    76218    0.138    0.000    0.138    0.000 /usr/local/lib/python3.8/site-packages/scipy/integrate/_ode.py:442(successful)\n",
      "    23682    0.052    0.000    0.133    0.000 /Users/ryan/Dropbox/Projects/ResearchProjects/eco-evo-crm/ecoevocrm/src/ecoevocrm/type_set.py:187(mutant_indices)\n",
      "    59205    0.100    0.000    0.133    0.000 /usr/local/Cellar/python@3.8/3.8.4/Frameworks/Python.framework/Versions/3.8/lib/python3.8/types.py:171(__get__)\n",
      "    11841    0.058    0.000    0.132    0.000 /usr/local/lib/python3.8/site-packages/numpy/core/fromnumeric.py:1127(argmax)\n",
      "    82318    0.067    0.000    0.131    0.000 /Users/ryan/Dropbox/Projects/ResearchProjects/eco-evo-crm/ecoevocrm/src/ecoevocrm/type_set.py:155(mu)\n",
      "    29887    0.129    0.000    0.129    0.000 {built-in method numpy.where}\n",
      "    52504    0.128    0.000    0.128    0.000 {built-in method numpy.empty}\n",
      "    23682    0.032    0.000    0.121    0.000 /Users/ryan/Dropbox/Projects/ResearchProjects/eco-evo-crm/ecoevocrm/src/ecoevocrm/consumer_resource_system.py:206(R)\n",
      "    23682    0.107    0.000    0.120    0.000 /usr/local/lib/python3.8/site-packages/numpy/core/getlimits.py:457(__new__)\n",
      "   165206    0.113    0.000    0.113    0.000 {method 'ravel' of 'numpy.ndarray' objects}\n",
      "549676/549675    0.113    0.000    0.113    0.000 {built-in method builtins.len}\n",
      "    63705    0.059    0.000    0.112    0.000 /Users/ryan/Dropbox/Projects/ResearchProjects/eco-evo-crm/ecoevocrm/src/ecoevocrm/type_set.py:159(J)\n",
      "    11841    0.108    0.000    0.108    0.000 /usr/local/lib/python3.8/site-packages/scipy/integrate/_ode.py:1255(__init__)\n",
      "    64377    0.092    0.000    0.092    0.000 /usr/local/lib/python3.8/site-packages/scipy/integrate/_ode.py:792(check_handle)\n",
      "    23682    0.025    0.000    0.089    0.000 /Users/ryan/Dropbox/Projects/ResearchProjects/eco-evo-crm/ecoevocrm/src/ecoevocrm/consumer_resource_system.py:202(R_series)\n",
      "    25380    0.054    0.000    0.088    0.000 /usr/local/Cellar/python@3.8/3.8.4/Frameworks/Python.framework/Versions/3.8/lib/python3.8/threading.py:1017(_wait_for_tstate_lock)\n",
      "    17478    0.087    0.000    0.087    0.000 {built-in method numpy.arange}\n",
      "    11841    0.028    0.000    0.086    0.000 /usr/local/lib/python3.8/site-packages/numpy/core/fromnumeric.py:1012(argsort)\n",
      "    23682    0.039    0.000    0.084    0.000 /usr/local/lib/python3.8/site-packages/ipykernel/iostream.py:323(_schedule_flush)\n",
      "     5636    0.063    0.000    0.084    0.000 /usr/local/lib/python3.8/site-packages/numpy/lib/twodim_base.py:161(eye)\n",
      "   379202    0.083    0.000    0.083    0.000 {method 'append' of 'list' objects}\n",
      "    71046    0.076    0.000    0.076    0.000 /usr/local/lib/python3.8/site-packages/scipy/optimize/optimize.py:120(__getattr__)\n",
      "    11841    0.049    0.000    0.074    0.000 /usr/local/lib/python3.8/site-packages/scipy/integrate/_ivp/base.py:229(__init__)\n",
      "    59205    0.073    0.000    0.073    0.000 {method 'match' of 're.Pattern' objects}\n",
      "    17477    0.036    0.000    0.073    0.000 {built-in method builtins.all}\n",
      "    11841    0.072    0.000    0.072    0.000 {method 'copy' of 'numpy.ndarray' objects}\n",
      "    23683    0.069    0.000    0.069    0.000 {method 'reshape' of 'numpy.ndarray' objects}\n",
      "     5636    0.010    0.000    0.063    0.000 /Users/ryan/Dropbox/Projects/ResearchProjects/eco-evo-crm/ecoevocrm/src/ecoevocrm/type_set.py:178(<listcomp>)\n",
      "    25380    0.059    0.000    0.059    0.000 /usr/local/lib/python3.8/site-packages/ipykernel/iostream.py:93(_event_pipe)\n",
      "    23682    0.044    0.000    0.056    0.000 /usr/local/lib/python3.8/site-packages/ipykernel/iostream.py:310(_is_master_process)\n",
      "    17477    0.056    0.000    0.056    0.000 /Users/ryan/Dropbox/Projects/ResearchProjects/eco-evo-crm/ecoevocrm/src/ecoevocrm/type_set.py:75(<listcomp>)\n",
      "    71046    0.054    0.000    0.054    0.000 {built-in method builtins.issubclass}\n",
      "    17477    0.047    0.000    0.047    0.000 {method 'tolist' of 'numpy.ndarray' objects}\n",
      "    11841    0.046    0.000    0.046    0.000 /Users/ryan/Dropbox/Projects/ResearchProjects/eco-evo-crm/ecoevocrm/src/ecoevocrm/resource_set.py:56(get_dynamics_params)\n",
      "    11841    0.014    0.000    0.046    0.000 /usr/local/lib/python3.8/site-packages/scipy/integrate/_ivp/ivp.py:644(<listcomp>)\n",
      "    11841    0.016    0.000    0.045    0.000 /usr/local/Cellar/python@3.8/3.8.4/Frameworks/Python.framework/Versions/3.8/lib/python3.8/abc.py:96(__instancecheck__)\n",
      "   186149    0.043    0.000    0.043    0.000 {built-in method numpy.asanyarray}\n",
      "    11841    0.043    0.000    0.043    0.000 /usr/local/lib/python3.8/site-packages/scipy/integrate/_ode.py:350(__init__)\n",
      "    11841    0.040    0.000    0.040    0.000 {method 'argmax' of 'numpy.ndarray' objects}\n",
      "    11841    0.039    0.000    0.039    0.000 /usr/local/lib/python3.8/site-packages/scipy/integrate/_ode.py:785(acquire_new_handle)\n",
      "    52431    0.038    0.000    0.038    0.000 /usr/local/lib/python3.8/site-packages/numpy/lib/shape_base.py:1243(<genexpr>)\n",
      "    92146    0.037    0.000    0.037    0.000 {method 'join' of 'str' objects}\n",
      "    11841    0.020    0.000    0.036    0.000 /usr/local/lib/python3.8/site-packages/scipy/integrate/_ivp/ivp.py:643(<listcomp>)\n",
      "    25380    0.034    0.000    0.034    0.000 {method 'acquire' of '_thread.lock' objects}\n",
      "    59205    0.033    0.000    0.033    0.000 /usr/local/Cellar/python@3.8/3.8.4/Frameworks/Python.framework/Versions/3.8/lib/python3.8/enum.py:664(value)\n",
      "    11841    0.029    0.000    0.029    0.000 {built-in method _abc._abc_instancecheck}\n",
      "    11841    0.021    0.000    0.027    0.000 /usr/local/lib/python3.8/site-packages/numpy/core/shape_base.py:207(_arrays_for_stack_dispatcher)\n",
      "    17477    0.025    0.000    0.025    0.000 {built-in method builtins.hash}\n",
      "    11841    0.025    0.000    0.025    0.000 {method 'argsort' of 'numpy.ndarray' objects}\n",
      "     5636    0.024    0.000    0.024    0.000 {method 'astype' of 'numpy.generic' objects}\n",
      "    47364    0.022    0.000    0.022    0.000 {method 'get' of 'dict' objects}\n",
      "    11841    0.019    0.000    0.019    0.000 /usr/local/lib/python3.8/site-packages/scipy/integrate/_ivp/common.py:26(warn_extraneous)\n",
      "    11841    0.019    0.000    0.019    0.000 /usr/local/lib/python3.8/site-packages/scipy/optimize/zeros.py:70(results_c)\n",
      "    11841    0.019    0.000    0.019    0.000 {method 'astype' of 'numpy.ndarray' objects}\n",
      "    11844    0.018    0.000    0.018    0.000 {built-in method builtins.min}\n",
      "    29318    0.017    0.000    0.017    0.000 {built-in method builtins.hasattr}\n",
      "    25380    0.017    0.000    0.017    0.000 /usr/local/Cellar/python@3.8/3.8.4/Frameworks/Python.framework/Versions/3.8/lib/python3.8/threading.py:513(is_set)\n",
      "    23682    0.016    0.000    0.016    0.000 {method 'values' of 'dict' objects}\n",
      "    11841    0.013    0.000    0.013    0.000 /Users/ryan/Dropbox/Projects/ResearchProjects/eco-evo-crm/ecoevocrm/src/ecoevocrm/utils.py:24(shape)\n",
      "    11841    0.012    0.000    0.012    0.000 /usr/local/lib/python3.8/site-packages/scipy/integrate/_ivp/ivp.py:568(<listcomp>)\n",
      "    23682    0.012    0.000    0.012    0.000 {built-in method posix.getpid}\n",
      "     5600    0.011    0.000    0.011    0.000 {method 'split' of 'str' objects}\n",
      "    11841    0.009    0.000    0.009    0.000 /usr/local/lib/python3.8/site-packages/scipy/integrate/_ivp/ivp.py:569(<listcomp>)\n",
      "    23682    0.009    0.000    0.009    0.000 {built-in method builtins.callable}\n",
      "    25380    0.007    0.000    0.007    0.000 {method 'append' of 'collections.deque' objects}\n",
      "     5636    0.006    0.000    0.006    0.000 /Users/ryan/Dropbox/Projects/ResearchProjects/eco-evo-crm/ecoevocrm/src/ecoevocrm/type_set.py:193(lineage_ids)\n",
      "    11841    0.006    0.000    0.006    0.000 {built-in method _operator.index}\n",
      "     5636    0.003    0.000    0.003    0.000 /Users/ryan/Dropbox/Projects/ResearchProjects/eco-evo-crm/ecoevocrm/src/ecoevocrm/type_set.py:182(parent_indices)\n",
      "     5636    0.002    0.000    0.002    0.000 {method 'keys' of 'dict' objects}\n",
      "     5636    0.002    0.000    0.002    0.000 {method 'extend' of 'list' objects}\n",
      "        1    0.000    0.000    0.001    0.001 /usr/local/Cellar/python@3.8/3.8.4/Frameworks/Python.framework/Versions/3.8/lib/python3.8/sre_compile.py:759(compile)\n",
      "        1    0.000    0.000    0.000    0.000 /usr/local/Cellar/python@3.8/3.8.4/Frameworks/Python.framework/Versions/3.8/lib/python3.8/sre_parse.py:937(parse)\n",
      "        1    0.000    0.000    0.000    0.000 /usr/local/Cellar/python@3.8/3.8.4/Frameworks/Python.framework/Versions/3.8/lib/python3.8/sre_parse.py:435(_parse_sub)\n",
      "        1    0.000    0.000    0.000    0.000 /usr/local/Cellar/python@3.8/3.8.4/Frameworks/Python.framework/Versions/3.8/lib/python3.8/sre_parse.py:493(_parse)\n",
      "        1    0.000    0.000    0.000    0.000 /usr/local/Cellar/python@3.8/3.8.4/Frameworks/Python.framework/Versions/3.8/lib/python3.8/sre_compile.py:598(_code)\n",
      "        1    0.000    0.000    0.000    0.000 /usr/local/Cellar/python@3.8/3.8.4/Frameworks/Python.framework/Versions/3.8/lib/python3.8/sre_compile.py:71(_compile)\n",
      "        1    0.000    0.000    0.000    0.000 /usr/local/Cellar/python@3.8/3.8.4/Frameworks/Python.framework/Versions/3.8/lib/python3.8/sre_compile.py:536(_compile_info)\n",
      "        1    0.000    0.000    0.000    0.000 /usr/local/Cellar/python@3.8/3.8.4/Frameworks/Python.framework/Versions/3.8/lib/python3.8/sre_parse.py:174(getwidth)\n",
      "      7/1    0.000    0.000    0.000    0.000 /usr/local/Cellar/python@3.8/3.8.4/Frameworks/Python.framework/Versions/3.8/lib/python3.8/abc.py:100(__subclasscheck__)\n",
      "      7/1    0.000    0.000    0.000    0.000 {built-in method _abc._abc_subclasscheck}\n",
      "        5    0.000    0.000    0.000    0.000 /usr/local/Cellar/python@3.8/3.8.4/Frameworks/Python.framework/Versions/3.8/lib/python3.8/sre_parse.py:254(get)\n",
      "        6    0.000    0.000    0.000    0.000 /usr/local/Cellar/python@3.8/3.8.4/Frameworks/Python.framework/Versions/3.8/lib/python3.8/sre_parse.py:233(__next)\n",
      "        1    0.000    0.000    0.000    0.000 /usr/local/Cellar/python@3.8/3.8.4/Frameworks/Python.framework/Versions/3.8/lib/python3.8/enum.py:833(__and__)\n",
      "        2    0.000    0.000    0.000    0.000 /usr/local/Cellar/python@3.8/3.8.4/Frameworks/Python.framework/Versions/3.8/lib/python3.8/sre_parse.py:81(groups)\n",
      "        2    0.000    0.000    0.000    0.000 /usr/local/Cellar/python@3.8/3.8.4/Frameworks/Python.framework/Versions/3.8/lib/python3.8/enum.py:283(__call__)\n",
      "        1    0.000    0.000    0.000    0.000 /usr/local/Cellar/python@3.8/3.8.4/Frameworks/Python.framework/Versions/3.8/lib/python3.8/sre_parse.py:160(__len__)\n",
      "        1    0.000    0.000    0.000    0.000 /usr/local/Cellar/python@3.8/3.8.4/Frameworks/Python.framework/Versions/3.8/lib/python3.8/sre_compile.py:461(_get_literal_prefix)\n",
      "        5    0.000    0.000    0.000    0.000 /usr/local/Cellar/python@3.8/3.8.4/Frameworks/Python.framework/Versions/3.8/lib/python3.8/sre_parse.py:164(__getitem__)\n",
      "        2    0.000    0.000    0.000    0.000 /usr/local/Cellar/python@3.8/3.8.4/Frameworks/Python.framework/Versions/3.8/lib/python3.8/enum.py:562(__new__)\n",
      "        1    0.000    0.000    0.000    0.000 /usr/local/Cellar/python@3.8/3.8.4/Frameworks/Python.framework/Versions/3.8/lib/python3.8/sre_parse.py:224(__init__)\n",
      "        5    0.000    0.000    0.000    0.000 /usr/local/Cellar/python@3.8/3.8.4/Frameworks/Python.framework/Versions/3.8/lib/python3.8/sre_parse.py:172(append)\n",
      "        3    0.000    0.000    0.000    0.000 /Users/ryan/Dropbox/Projects/ResearchProjects/eco-evo-crm/ecoevocrm/src/ecoevocrm/utils.py:65(trim)\n",
      "        1    0.000    0.000    0.000    0.000 /usr/local/Cellar/python@3.8/3.8.4/Frameworks/Python.framework/Versions/3.8/lib/python3.8/sre_compile.py:492(_get_charset_prefix)\n",
      "        1    0.000    0.000    0.000    0.000 /usr/local/Cellar/python@3.8/3.8.4/Frameworks/Python.framework/Versions/3.8/lib/python3.8/sre_parse.py:921(fix_flags)\n",
      "        2    0.000    0.000    0.000    0.000 /usr/local/Cellar/python@3.8/3.8.4/Frameworks/Python.framework/Versions/3.8/lib/python3.8/sre_compile.py:453(_get_iscased)\n",
      "        6    0.000    0.000    0.000    0.000 /Users/ryan/Dropbox/Projects/ResearchProjects/eco-evo-crm/ecoevocrm/src/ecoevocrm/utils.py:28(alloc)\n",
      "        1    0.000    0.000    0.000    0.000 /usr/local/Cellar/python@3.8/3.8.4/Frameworks/Python.framework/Versions/3.8/lib/python3.8/sre_parse.py:111(__init__)\n",
      "        1    0.000    0.000    0.000    0.000 /usr/local/Cellar/python@3.8/3.8.4/Frameworks/Python.framework/Versions/3.8/lib/python3.8/sre_parse.py:76(__init__)\n",
      "        2    0.000    0.000    0.000    0.000 /usr/local/Cellar/python@3.8/3.8.4/Frameworks/Python.framework/Versions/3.8/lib/python3.8/sre_compile.py:595(isstring)\n",
      "        7    0.000    0.000    0.000    0.000 {built-in method _sre.unicode_iscased}\n",
      "        1    0.000    0.000    0.000    0.000 {built-in method _sre.compile}\n",
      "        1    0.000    0.000    0.000    0.000 /usr/local/Cellar/python@3.8/3.8.4/Frameworks/Python.framework/Versions/3.8/lib/python3.8/sre_parse.py:286(tell)\n",
      "        1    0.000    0.000    0.000    0.000 /usr/local/Cellar/python@3.8/3.8.4/Frameworks/Python.framework/Versions/3.8/lib/python3.8/sre_parse.py:249(match)\n",
      "        5    0.000    0.000    0.000    0.000 {built-in method builtins.ord}\n",
      "        5    0.000    0.000    0.000    0.000 {built-in method _sre.unicode_tolower}\n",
      "        1    0.000    0.000    0.000    0.000 {method 'disable' of '_lsprof.Profiler' objects}\n",
      "\n",
      "\n"
     ]
    },
    {
     "data": {
      "text/plain": [
       "<pstats.Stats at 0x126ae5430>"
      ]
     },
     "execution_count": 23,
     "metadata": {},
     "output_type": "execute_result"
    }
   ],
   "source": [
    "ps = pstats.Stats(profiler)\n",
    "ps.sort_stats('cumtime')\n",
    "ps.print_stats()"
   ]
  },
  {
   "cell_type": "markdown",
   "metadata": {
    "tags": []
   },
   "source": [
    "### Visualize results"
   ]
  },
  {
   "cell_type": "code",
   "execution_count": 24,
   "metadata": {},
   "outputs": [],
   "source": [
    "anc_system.reorder_types()"
   ]
  },
  {
   "cell_type": "code",
   "execution_count": 25,
   "metadata": {},
   "outputs": [],
   "source": [
    "type_colors = viz.color_types_by_phylogeny(anc_system.type_set, apply_palette_depth=1)"
   ]
  },
  {
   "cell_type": "code",
   "execution_count": null,
   "metadata": {},
   "outputs": [],
   "source": [
    "fig, ax = plt.subplots(1, 1, figsize=(20, 8))\n",
    "viz.stacked_abundance_plot(anc_system, ax=ax, type_colors=type_colors)"
   ]
  },
  {
   "cell_type": "code",
   "execution_count": null,
   "metadata": {},
   "outputs": [],
   "source": [
    "fig, ax = plt.subplots(1, 1, figsize=(3, 12))\n",
    "viz.matrix_plot(anc_phenotype, ax=ax)"
   ]
  },
  {
   "cell_type": "code",
   "execution_count": null,
   "metadata": {},
   "outputs": [],
   "source": [
    "# fig, ax = plt.subplots(1, 1, figsize=(3, 12))\n",
    "# viz.matrix_plot(anc_system.type_set.sigma, ax=ax)"
   ]
  },
  {
   "cell_type": "code",
   "execution_count": null,
   "metadata": {},
   "outputs": [],
   "source": [
    "# anc_system.extant_type_indices"
   ]
  },
  {
   "cell_type": "code",
   "execution_count": null,
   "metadata": {},
   "outputs": [],
   "source": [
    "fig, ax = plt.subplots(1, 1, figsize=(3, 12))\n",
    "viz.matrix_plot(anc_system.get_extant_type_set().sigma, ax=ax)"
   ]
  },
  {
   "cell_type": "code",
   "execution_count": null,
   "metadata": {},
   "outputs": [],
   "source": [
    "# fig, ax = plt.subplots(1, 1, figsize=(3, 12))\n",
    "# viz.matrix_plot(anc_system.extant_mutant_set.sigma, ax=ax)"
   ]
  },
  {
   "cell_type": "code",
   "execution_count": null,
   "metadata": {},
   "outputs": [],
   "source": [
    "viz.Lstar_types_plot(anc_system)"
   ]
  },
  {
   "cell_type": "code",
   "execution_count": null,
   "metadata": {},
   "outputs": [],
   "source": [
    "N_end = anc_system.N_series[:,-1]\n",
    "np.count_nonzero((N_end > 0) & (N_end < 1e4))"
   ]
  },
  {
   "cell_type": "code",
   "execution_count": null,
   "metadata": {},
   "outputs": [],
   "source": [
    "a = (anc_system.N_series > 0).argmax(axis=1)\n",
    "n = []\n",
    "for t_idx in range(anc_system.t_series.shape[0]):\n",
    "    n.append(np.count_nonzero(a <= t_idx)) \n",
    "plt.plot(anc_system.t_series, n)\n",
    "plt.plot(anc_system.t_series, (anc_system.N_series > 0).sum(axis=0))"
   ]
  },
  {
   "cell_type": "code",
   "execution_count": null,
   "metadata": {},
   "outputs": [],
   "source": [
    "plt.hist(anc_system.N_series[(anc_system.N_series[:,-1]>0)&(anc_system.N_series[:,-1]<1e4),-1], bins=100)\n",
    "# plt.xlim((0,100))\n",
    "plt.show()"
   ]
  },
  {
   "cell_type": "code",
   "execution_count": null,
   "metadata": {},
   "outputs": [],
   "source": [
    "r = ConsumerResourceSystem.growth_rate(anc_system.N()[:, np.newaxis], anc_system.R(), anc_system.type_set.sigma, anc_system.type_set.b, anc_system.type_set.k, anc_system.type_set.eta, anc_system.type_set.l, anc_system.type_set.g, anc_system.type_set.energy_costs, anc_system.resource_set.omega, anc_system.resource_consumption_mode)\n",
    "\n",
    "plt.hist(r[anc_system.N() > 0] , bins=100)\n",
    "plt.show()"
   ]
  },
  {
   "cell_type": "code",
   "execution_count": null,
   "metadata": {},
   "outputs": [],
   "source": [
    "s = r - np.mean(r[anc_system.N() > 0])\n",
    "\n",
    "plt.hist(s[anc_system.N() > 0] , bins=100)\n",
    "plt.show()"
   ]
  },
  {
   "cell_type": "code",
   "execution_count": null,
   "metadata": {},
   "outputs": [],
   "source": [
    "r_lowabd = r[(anc_system.N() > 0) & (anc_system.N() < 1e4)]\n",
    "\n",
    "plt.hist(r_lowabd, bins=100)\n",
    "plt.axvline(0, color='k', alpha=0.3, ls='--')\n",
    "plt.show()"
   ]
  },
  {
   "cell_type": "code",
   "execution_count": null,
   "metadata": {},
   "outputs": [],
   "source": [
    "s_lowabd = r[(anc_system.N() > 0) & (anc_system.N() < 1e4)] - np.mean(r[r > 0])\n",
    "\n",
    "plt.hist(s_lowabd, bins=100)\n",
    "plt.axvline(0, color='k', alpha=0.3, ls='--')\n",
    "plt.show()"
   ]
  },
  {
   "cell_type": "code",
   "execution_count": null,
   "metadata": {},
   "outputs": [],
   "source": [
    "plt.scatter(anc_system.N()[anc_system.N() > 0], r[anc_system.N() > 0])\n",
    "plt.axhline(0, color='k', alpha=0.3, ls='--')\n",
    "plt.xscale('log')\n",
    "plt.show()"
   ]
  },
  {
   "cell_type": "code",
   "execution_count": null,
   "metadata": {},
   "outputs": [],
   "source": [
    "plt.scatter(anc_system.N()[anc_system.N() > 0], s[anc_system.N() > 0])\n",
    "plt.axhline(0, color='k', alpha=0.3, ls='--')\n",
    "plt.xscale('log')\n",
    "plt.show()"
   ]
  },
  {
   "cell_type": "code",
   "execution_count": null,
   "metadata": {},
   "outputs": [],
   "source": [
    "anc_system.type_set.sigma.shape"
   ]
  },
  {
   "cell_type": "code",
   "execution_count": null,
   "metadata": {},
   "outputs": [],
   "source": [
    "a = np.where(anc_system.N_series > 0)"
   ]
  },
  {
   "cell_type": "code",
   "execution_count": null,
   "metadata": {},
   "outputs": [],
   "source": []
  },
  {
   "cell_type": "code",
   "execution_count": null,
   "metadata": {},
   "outputs": [],
   "source": [
    "anc_system.N()/np.sum(anc_system.N())"
   ]
  },
  {
   "cell_type": "code",
   "execution_count": null,
   "metadata": {},
   "outputs": [],
   "source": [
    "anc_system.get_extant_types()\n"
   ]
  },
  {
   "cell_type": "code",
   "execution_count": null,
   "metadata": {},
   "outputs": [],
   "source": [
    "1e3/1e10"
   ]
  },
  {
   "cell_type": "code",
   "execution_count": null,
   "metadata": {},
   "outputs": [],
   "source": [
    "anc_system.type_set.mu.shape"
   ]
  },
  {
   "cell_type": "code",
   "execution_count": null,
   "metadata": {},
   "outputs": [],
   "source": [
    "anc_system.t_series.shape"
   ]
  },
  {
   "cell_type": "code",
   "execution_count": null,
   "metadata": {},
   "outputs": [],
   "source": [
    "anc_system.N_series.shape"
   ]
  },
  {
   "cell_type": "code",
   "execution_count": null,
   "metadata": {},
   "outputs": [],
   "source": [
    "viz.matrix_plot(anc_system.type_set.sigma)"
   ]
  },
  {
   "cell_type": "code",
   "execution_count": null,
   "metadata": {},
   "outputs": [],
   "source": [
    "viz.matrix_plot(anc_system.extant_mutant_set.sigma)"
   ]
  },
  {
   "cell_type": "code",
   "execution_count": null,
   "metadata": {},
   "outputs": [],
   "source": [
    "anc_system._t_series.alloc"
   ]
  },
  {
   "cell_type": "code",
   "execution_count": null,
   "metadata": {},
   "outputs": [],
   "source": [
    "anc_system.t_series"
   ]
  },
  {
   "cell_type": "code",
   "execution_count": null,
   "metadata": {},
   "outputs": [],
   "source": [
    "anc_system.t"
   ]
  },
  {
   "cell_type": "code",
   "execution_count": null,
   "metadata": {},
   "outputs": [],
   "source": [
    "anc_system._N_series.alloc"
   ]
  },
  {
   "cell_type": "code",
   "execution_count": null,
   "metadata": {},
   "outputs": [],
   "source": [
    "anc_system.N_series"
   ]
  },
  {
   "cell_type": "code",
   "execution_count": null,
   "metadata": {},
   "outputs": [],
   "source": [
    "anc_system.N"
   ]
  },
  {
   "cell_type": "code",
   "execution_count": null,
   "metadata": {},
   "outputs": [],
   "source": [
    "anc_system.N_series.shape"
   ]
  },
  {
   "cell_type": "code",
   "execution_count": null,
   "metadata": {},
   "outputs": [],
   "source": [
    "anc_system._N_series._arr"
   ]
  },
  {
   "cell_type": "code",
   "execution_count": null,
   "metadata": {},
   "outputs": [],
   "source": [
    "anc_system._N_series._arr[0]"
   ]
  },
  {
   "cell_type": "code",
   "execution_count": null,
   "metadata": {},
   "outputs": [],
   "source": [
    "anc_system.type_set._sigma.shape"
   ]
  },
  {
   "cell_type": "code",
   "execution_count": null,
   "metadata": {},
   "outputs": [],
   "source": [
    "anc_system.type_set.sigma.shape"
   ]
  },
  {
   "cell_type": "code",
   "execution_count": null,
   "metadata": {},
   "outputs": [],
   "source": [
    "anc_system.mutant_set.sigma.shape"
   ]
  }
 ],
 "metadata": {
  "kernelspec": {
   "display_name": "Python 3",
   "language": "python",
   "name": "python3"
  },
  "language_info": {
   "codemirror_mode": {
    "name": "ipython",
    "version": 3
   },
   "file_extension": ".py",
   "mimetype": "text/x-python",
   "name": "python",
   "nbconvert_exporter": "python",
   "pygments_lexer": "ipython3",
   "version": "3.8.4"
  }
 },
 "nbformat": 4,
 "nbformat_minor": 4
}
