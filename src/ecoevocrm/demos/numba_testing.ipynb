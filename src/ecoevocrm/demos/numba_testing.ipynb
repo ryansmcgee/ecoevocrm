{
 "cells": [
  {
   "cell_type": "code",
   "execution_count": 1,
   "metadata": {},
   "outputs": [],
   "source": [
    "from ecoevocrm.consumer_resource_system import *\n",
    "import ecoevocrm.utils as utils\n",
    "import ecoevocrm.viz as viz\n",
    "import ecoevocrm.coarse_graining as cg"
   ]
  },
  {
   "cell_type": "code",
   "execution_count": 2,
   "metadata": {},
   "outputs": [],
   "source": [
    "import matplotlib.pyplot as plt"
   ]
  },
  {
   "cell_type": "code",
   "execution_count": 3,
   "metadata": {},
   "outputs": [],
   "source": [
    "import cProfile\n",
    "import pstats\n",
    "%load_ext line_profiler"
   ]
  },
  {
   "cell_type": "markdown",
   "metadata": {},
   "source": [
    "--------"
   ]
  },
  {
   "cell_type": "markdown",
   "metadata": {},
   "source": [
    "### Set the number of resources"
   ]
  },
  {
   "cell_type": "code",
   "execution_count": 4,
   "metadata": {},
   "outputs": [],
   "source": [
    "L = 40"
   ]
  },
  {
   "cell_type": "markdown",
   "metadata": {
    "tags": []
   },
   "source": [
    "### Define the ancestral phenotype (traits vector)"
   ]
  },
  {
   "cell_type": "code",
   "execution_count": 5,
   "metadata": {},
   "outputs": [],
   "source": [
    "anc_phenotype = utils.random_matrix(shape=(1, L), mode='binomial')"
   ]
  },
  {
   "cell_type": "code",
   "execution_count": 6,
   "metadata": {},
   "outputs": [
    {
     "data": {
      "image/png": "[encoded data removed]",
      "text/plain": [
       "<Figure size 432x288 with 1 Axes>"
      ]
     },
     "metadata": {},
     "output_type": "display_data"
    }
   ],
   "source": [
    "viz.matrix_plot(anc_phenotype)"
   ]
  },
  {
   "cell_type": "markdown",
   "metadata": {
    "tags": []
   },
   "source": [
    "### Define the system biochemistry (trait/resource interactions)"
   ]
  },
  {
   "cell_type": "code",
   "execution_count": 7,
   "metadata": {},
   "outputs": [],
   "source": [
    "J = utils.random_matrix((L, L), 'tikhonov_sigmoid')"
   ]
  },
  {
   "cell_type": "code",
   "execution_count": 8,
   "metadata": {},
   "outputs": [
    {
     "data": {
      "image/png": "[encoded data removed]",
      "text/plain": [
       "<Figure size 432x288 with 2 Axes>"
      ]
     },
     "metadata": {},
     "output_type": "display_data"
    }
   ],
   "source": [
    "viz.matrix_plot(J)"
   ]
  },
  {
   "cell_type": "markdown",
   "metadata": {
    "tags": []
   },
   "source": [
    "### Parameterize and instantiate the Consumer-Resource System"
   ]
  },
  {
   "cell_type": "code",
   "execution_count": 9,
   "metadata": {},
   "outputs": [],
   "source": [
    "anc_system = ConsumerResourceSystem(sigma=anc_phenotype, \n",
    "                                    b=1, \n",
    "                                    k=1e10,\n",
    "                                    c=0.1, chi=0.5, J=J, \n",
    "                                    mu=1e-10,\n",
    "                                    resource_consumption_mode='fast_resource_eq',\n",
    "                                    resource_inflow_mode='none',\n",
    "                                    threshold_min_rel_abundance=1e-6,\n",
    "                                    N_init=1, R_init=1)"
   ]
  },
  {
   "cell_type": "code",
   "execution_count": null,
   "metadata": {},
   "outputs": [],
   "source": []
  },
  {
   "cell_type": "code",
   "execution_count": null,
   "metadata": {},
   "outputs": [],
   "source": []
  },
  {
   "cell_type": "markdown",
   "metadata": {
    "tags": []
   },
   "source": [
    "### Simulate dynamics"
   ]
  },
  {
   "cell_type": "code",
   "execution_count": 10,
   "metadata": {},
   "outputs": [],
   "source": [
    "# just to pre-compile the dynamics njit function\n",
    "# anc_system.dynamics(*((0,) + (np.zeros(L+L+1),) + anc_system.get_params()))"
   ]
  },
  {
   "cell_type": "code",
   "execution_count": 11,
   "metadata": {},
   "outputs": [],
   "source": [
    "# anc_system.run(T=1000)"
   ]
  },
  {
   "cell_type": "code",
   "execution_count": null,
   "metadata": {},
   "outputs": [],
   "source": []
  },
  {
   "cell_type": "code",
   "execution_count": 12,
   "metadata": {},
   "outputs": [],
   "source": [
    "# %lprun -f anc_system.dynamics anc_system.run(T=1000)\n",
    "# %lprun -f anc_system.handle_mutation_event anc_system.run(T=1000)"
   ]
  },
  {
   "cell_type": "code",
   "execution_count": 13,
   "metadata": {
    "scrolled": true,
    "tags": []
   },
   "outputs": [
    {
     "name": "stdout",
     "output_type": "stream",
     "text": [
      "[ Mutation event occurred at  t=22.5393 1*(40)/1]\t\r"
     ]
    },
    {
     "data": {
      "text/plain": [
       "Timer unit: 1e-06 s\n",
       "\n",
       "Total time: 0.071358 s\n",
       "File: /Users/ryan/Dropbox/Projects/ResearchProjects/eco-evo-crm/ecoevocrm/src/ecoevocrm/consumer_resource_system.py\n",
       "Function: run at line 185\n",
       "\n",
       "Line #      Hits         Time  Per Hit   % Time  Line Contents\n",
       "==============================================================\n",
       "   185                                               def run(self, T=10000, dt=None, integration_method='default'):\n",
       "   186                                           \n",
       "   187         1          8.0      8.0      0.0          t_start   = self.t\n",
       "   188         1          2.0      2.0      0.0          t_elapsed = 0\n",
       "   189                                           \n",
       "   190                                                   # print(self.N_series, self.N_series.shape)\n",
       "   191                                           \n",
       "   192                                                   # print( np.zeros(shape=(self.N_series.shape[0], int(T/dt if dt is not None else T/0.1))) )\n",
       "   193                                           \n",
       "   194                                                   # self.t_series = np.hstack([self.t_series[:,:self.t_idx+1], np.zeros(shape=(self.t_series.shape[0], int(T/dt if dt is not None else T/0.1)))]) \n",
       "   195                                                   # self.N_series = np.hstack([self.N_series[:,:self.t_idx+1], np.zeros(shape=(self.N_series.shape[0], int(T/dt if dt is not None else T/0.1)))]) \n",
       "   196                                                   # self.R_series = np.hstack([self.R_series[:,:self.t_idx+1], np.zeros(shape=(self.R_series.shape[0], int(T/dt if dt is not None else T/0.1)))])\n",
       "   197                                           \n",
       "   198         1          2.0      2.0      0.0          numiter = 0\n",
       "   199                                           \n",
       "   200         1          2.0      2.0      0.0          while(t_elapsed < T):\n",
       "   201                                           \n",
       "   202                                                       #------------------------------\n",
       "   203                                                       # Set initial conditions and integration variables:\n",
       "   204                                                       #------------------------------\n",
       "   205                                                      \n",
       "   206                                                       # Set the time interval for this integration epoch:\n",
       "   207         1          2.0      2.0      0.0              t_span = (self.t, self.t+T)\n",
       "   208                                           \n",
       "   209                                                       # Set the time ticks at which to save trajectory values:\n",
       "   210         1          1.0      1.0      0.0              t_eval = np.arange(start=t_span[0], stop=t_span[1]+dt, step=dt) if dt is not None else None,\n",
       "   211                                           \n",
       "   212                                                       # Get the indices and count of extant types (abundance > 0):\n",
       "   213         1         70.0     70.0      0.1              self.extant_type_indices     = self.get_extant_types()\n",
       "   214         1          7.0      7.0      0.0              num_extant_types = len(self.extant_type_indices)\n",
       "   215                                                       # print(\"\\n\\n$$$$$$$$$$$$$$$$$$$$$$$$$$\")\n",
       "   216                                                       # print(\"\\n\\nsigma (master)\\n\", self.type_set.sigma)\n",
       "   217                                                       # print(\"self.extant_type_indices\", self.extant_type_indices, num_extant_types)\n",
       "   218                                                       # print(\"sigma (extant)\\n\", self.type_set.sigma[self.extant_type_indices])\n",
       "   219                                                       \n",
       "   220                                           \n",
       "   221                                           \n",
       "   222                                                       # Set the initial conditions for this integration epoch:\n",
       "   223         1         31.0     31.0      0.0              N_init = self.N_series[self.extant_type_indices, -1] # only run dynamics for extant types\n",
       "   224         1          4.0      4.0      0.0              R_init = self.R_series[:,-1]\n",
       "   225         1         11.0     11.0      0.0              cumPropMut_init = np.array([0])\n",
       "   226         1         19.0     19.0      0.0              init_cond = np.concatenate([N_init, R_init, cumPropMut_init])\n",
       "   227                                           \n",
       "   228                                                       # Get the params for the dynamics:\n",
       "   229         1        495.0    495.0      0.7              params = self.get_dynamics_params(self.extant_type_indices)\n",
       "   230                                           \n",
       "   231                                                       # Draw a random propensity threshold for triggering the next Gillespie mutation event:\n",
       "   232         1         34.0     34.0      0.0              self.threshold_mutation_propensity = np.random.exponential(1)\n",
       "   233                                           \n",
       "   234                                                       # Reset helper variables for storing latest attributes of mutants (as calc'ed in dynamics):\n",
       "   235                                                       # self.mutant_fitnesses      = np.zeros(self.extant_mutant_set.num_types)\n",
       "   236                                                       # self.mutation_propensities = np.zeros(self.extant_mutant_set.num_types)\n",
       "   237                                                       \n",
       "   238                                                       # Set the integration method:\n",
       "   239         1          2.0      2.0      0.0              if(integration_method == 'default'):\n",
       "   240         1          2.0      2.0      0.0                  if(num_extant_types <= self.threshold_precise_integrator):\n",
       "   241         1          2.0      2.0      0.0                      _integration_method = 'LSODA' # accurate stiff integrator\n",
       "   242                                                           else:\n",
       "   243                                                               _integration_method = 'LSODA' # adaptive stiff/non-stiff integrator\n",
       "   244                                                       else:\n",
       "   245                                                           _integration_method = integration_method\n",
       "   246                                           \n",
       "   247                                                       #------------------------------\n",
       "   248                                                       # Integrate the system dynamics:\n",
       "   249                                                       #------------------------------\n",
       "   250         2      23941.0  11970.5     33.6              sol = scipy.integrate.solve_ivp(self.dynamics, \n",
       "   251         1          2.0      2.0      0.0                                               y0     = init_cond,\n",
       "   252         1          2.0      2.0      0.0                                               args   = params,\n",
       "   253         1          1.0      1.0      0.0                                               t_span = (self.t, self.t+T),\n",
       "   254         1          2.0      2.0      0.0                                               t_eval = np.arange(start=self.t, stop=self.t+T+dt, step=dt) if dt is not None else None,\n",
       "   255         1          2.0      2.0      0.0                                               events = [self.event_mutation],#, self.event_low_abundance],\n",
       "   256         1          1.0      1.0      0.0                                               method = _integration_method )\n",
       "   257                                           \n",
       "   258                                                       #------------------------------\n",
       "   259                                                       # Update the system's trajectories with latest dynamics epoch:\n",
       "   260                                                       #------------------------------\n",
       "   261                                           \n",
       "   262                                                       # Expand the data structures if necessary:\n",
       "   263         1         16.0     16.0      0.0              if(len(sol.t) > len(self.t_series) - self.t_idx):\n",
       "   264         1        804.0    804.0      1.1                  self.t_series = np.hstack([self.t_series[:self.t_idx+1],   np.zeros(shape=(int(T/dt if dt is not None else T/0.1)))]) \n",
       "   265         1        570.0    570.0      0.8                  self.N_series = np.hstack([self.N_series[:,:self.t_idx+1], np.zeros(shape=(self.N_series.shape[0], int(T/dt if dt is not None else T/0.1)))]) \n",
       "   266         1      40836.0  40836.0     57.2                  self.R_series = np.hstack([self.R_series[:,:self.t_idx+1], np.zeros(shape=(self.R_series.shape[0], int(T/dt if dt is not None else T/0.1)))])\n",
       "   267                                           \n",
       "   268                                                       # Update the system data series:\n",
       "   269                                                       \n",
       "   270                                                       # N_epoch = np.zeros(shape=(self.type_set.num_types, len(sol.t)))\n",
       "   271                                                       # N_epoch[self.extant_type_indices] = sol.y[:num_extant_types]\n",
       "   272                                                       # self.N_series = np.hstack([self.N_series[:,:-1], N_epoch]) if self.N_series is not None else N_epoch\n",
       "   273         1         53.0     53.0      0.1              self.N_series[self.extant_type_indices, self.t_idx+1:self.t_idx+1+len(sol.t)] = sol.y[:num_extant_types]\n",
       "   274                                           \n",
       "   275                                                       # R_epoch = sol.y[-1-self.resource_set.num_resources:-1]\n",
       "   276                                                       # self.R_series = np.hstack([self.R_series[:,:-1], R_epoch]) if self.R_series is not None else R_epoch\n",
       "   277         1         21.0     21.0      0.0              self.R_series[:, self.t_idx+1:self.t_idx+1+len(sol.t)] = sol.y[-1-self.resource_set.num_resources:-1]\n",
       "   278                                                       \n",
       "   279                                                       # self.N_series = np.hstack([self.N_series[:,:-1], sol.y[:self.type_set.num_types]]) if self.N_series is not None else sol.y[:self.type_set.num_types]\n",
       "   280                                                       # self.R_series = np.hstack([self.R_series[:,:-1], sol.y[-1-self.resource_set.num_resources:-1]]) if self.R_series is not None else sol.y[-1-self.resource_set.num_resources:-1]\n",
       "   281                                           \n",
       "   282                                                       # Update the system time series:\n",
       "   283                                                       \n",
       "   284                                                       # self.t_series = np.concatenate([self.t_series[:-1], sol.t]) if self.t_series is not None else sol.t\n",
       "   285         1          9.0      9.0      0.0              self.t_series[self.t_idx+1:self.t_idx+1+len(sol.t)] = sol.t\n",
       "   286         1          5.0      5.0      0.0              self.t_idx = self.t_idx + len(sol.t)\n",
       "   287         1          7.0      7.0      0.0              self.t = self.t_series[self.t_idx] + (dt if dt is not None else 0)\n",
       "   288         1          2.0      2.0      0.0              t_elapsed = self.t - t_start\n",
       "   289                                           \n",
       "   290                                           \n",
       "   291                                           \n",
       "   292                                           \n",
       "   293                                           \n",
       "   294                                           \n",
       "   295                                                       # extant_type_mutants = self.type_set.get_mutant_indices(self.extant_type_indices)\n",
       "   296                                           \n",
       "   297                                                       # mutant_fitnesses_fullset = np.zeros(self.extant_mutant_set.num_types)\n",
       "   298                                                       # mutant_fitnesses_fullset[extant_type_mutants] = self.mutant_fitnesses\n",
       "   299                                                       # self.mutant_fitnesses    = mutant_fitnesses_fullset\n",
       "   300                                           \n",
       "   301                                                       # mutation_propensities_fullset = np.zeros(self.extant_mutant_set.num_types)\n",
       "   302                                                       # mutation_propensities_fullset[extant_type_mutants] = self.mutation_propensities\n",
       "   303                                                       # self.mutation_propensities    = mutation_propensities_fullset\n",
       "   304                                           \n",
       "   305         1          6.0      6.0      0.0              typeCountStr = f\"{num_extant_types}*({self.extant_mutant_set.num_types})/{self.type_set.num_types}\"\n",
       "   306                                           \n",
       "   307                                                       #------------------------------\n",
       "   308                                                       # Handle events and update the system's states accordingly:\n",
       "   309                                                       #------------------------------\n",
       "   310         1          5.0      5.0      0.0              if(sol.status == 1): # An event occurred\n",
       "   311         1          6.0      6.0      0.0                  if(len(sol.t_events[0]) > 0):\n",
       "   312         1        258.0    258.0      0.4                      print(f\"[ Mutation event occurred at  t={self.t:.4f} {typeCountStr}]\\t\\r\", end=\"\")\n",
       "   313                                                               # print(f\"[ Mutation event occurred at  t={self.t:.4f} {typeCountStr}]\\t\")\n",
       "   314         1       3924.0   3924.0      5.5                      self.handle_mutation_event()\n",
       "   315         1        166.0    166.0      0.2                      self.handle_type_loss()\n",
       "   316                                                               # exit()\n",
       "   317                                                           # if(len(sol.t_events[1]) > 0):\n",
       "   318                                                           #     print(f\"[ Type loss event occurred at t={self.t:.4f} ]\\t\\r\", end=\"\")\n",
       "   319                                                           #     # pass\n",
       "   320                                                           #     self.handle_type_loss()\n",
       "   321                                                           #     # exit()\n",
       "   322                                                       elif(sol.status == 0): # Reached end T successfully\n",
       "   323                                                           self.handle_type_loss()\n",
       "   324                                                       else: # Error occurred in integration\n",
       "   325                                                           utils.error(\"Error in ConsumerResourceSystem run(): Integration of dynamics using scipy.solve_ivp returned with error status.\")\n",
       "   326                                                       \n",
       "   327         1         21.0     21.0      0.0              total_epoch_abundance_change = np.sum( self.N_series[:,-1] - self.N_series[:,0] )\n",
       "   328         1          3.0      3.0      0.0              if(total_epoch_abundance_change < self.threshold_eq_abundance_change):\n",
       "   329         1          1.0      1.0      0.0                  break"
      ]
     },
     "metadata": {},
     "output_type": "display_data"
    }
   ],
   "source": [
    "profiler = cProfile.Profile()\n",
    "# %lprun -f anc_system.dynamics profiler.runcall(anc_system.run)\n",
    "# %lprun -f ConsumerResourceSystem.growth_rate profile.runcall(anc_system.run)\n",
    "# %lprun -f anc_system.event_low_abundance profiler.runcall(anc_system.run)\n",
    "# %lprun -f TypeSet.add_type profiler.runcall(anc_system.run)\n",
    "# %lprun -f TypeSet.generate_mutant_set profiler.runcall(anc_system.run)\n",
    "\n",
    "%lprun -f anc_system.run profiler.runcall(anc_system.run)"
   ]
  },
  {
   "cell_type": "code",
   "execution_count": 14,
   "metadata": {
    "scrolled": true,
    "tags": []
   },
   "outputs": [
    {
     "name": "stdout",
     "output_type": "stream",
     "text": [
      "         4194 function calls (4181 primitive calls) in 0.071 seconds\n",
      "\n",
      "   Ordered by: cumulative time\n",
      "\n",
      "   ncalls  tottime  percall  cumtime  percall filename:lineno(function)\n",
      "        1    0.004    0.004    0.071    0.071 /Users/ryan/Dropbox/Projects/ResearchProjects/eco-evo-crm/ecoevocrm/src/ecoevocrm/consumer_resource_system.py:185(run)\n",
      "      106    0.040    0.000    0.040    0.000 {built-in method numpy.concatenate}\n",
      "        3    0.000    0.000    0.039    0.013 /usr/local/lib/python3.8/site-packages/numpy/core/shape_base.py:285(hstack)\n",
      "        1    0.002    0.002    0.024    0.024 /usr/local/lib/python3.8/site-packages/scipy/integrate/_ivp/ivp.py:156(solve_ivp)\n",
      "       49    0.000    0.000    0.018    0.000 /usr/local/lib/python3.8/site-packages/scipy/integrate/_ivp/base.py:159(step)\n",
      "       49    0.001    0.000    0.017    0.000 /usr/local/lib/python3.8/site-packages/scipy/integrate/_ivp/lsoda.py:140(_step_impl)\n",
      "       49    0.002    0.000    0.017    0.000 /usr/local/lib/python3.8/site-packages/scipy/integrate/_ode.py:1338(run)\n",
      "       99    0.000    0.000    0.015    0.000 /usr/local/lib/python3.8/site-packages/scipy/integrate/_ivp/base.py:136(fun)\n",
      "       99    0.000    0.000    0.014    0.000 /usr/local/lib/python3.8/site-packages/scipy/integrate/_ivp/base.py:19(fun_wrapped)\n",
      "       99    0.000    0.000    0.014    0.000 /usr/local/lib/python3.8/site-packages/scipy/integrate/_ivp/ivp.py:514(<lambda>)\n",
      "       99    0.003    0.000    0.014    0.000 /Users/ryan/Dropbox/Projects/ResearchProjects/eco-evo-crm/ecoevocrm/src/ecoevocrm/consumer_resource_system.py:396(dynamics)\n",
      "      100    0.002    0.000    0.007    0.000 /Users/ryan/Dropbox/Projects/ResearchProjects/eco-evo-crm/ecoevocrm/src/ecoevocrm/consumer_resource_system.py:350(growth_rate)\n",
      "      200    0.001    0.000    0.004    0.000 /usr/local/lib/python3.8/site-packages/numpy/core/einsumfunc.py:997(einsum)\n",
      "        1    0.000    0.000    0.004    0.004 /Users/ryan/Dropbox/Projects/ResearchProjects/eco-evo-crm/ecoevocrm/src/ecoevocrm/consumer_resource_system.py:510(handle_mutation_event)\n",
      "      200    0.003    0.000    0.003    0.000 {built-in method numpy.core._multiarray_umath.c_einsum}\n",
      "      100    0.000    0.000    0.003    0.000 /Users/ryan/Dropbox/Projects/ResearchProjects/eco-evo-crm/ecoevocrm/src/ecoevocrm/consumer_resource_system.py:338(resource_demand)\n",
      "        1    0.000    0.000    0.003    0.003 /Users/ryan/Dropbox/Projects/ResearchProjects/eco-evo-crm/ecoevocrm/src/ecoevocrm/consumer_resource_system.py:682(add_type)\n",
      "        8    0.002    0.000    0.002    0.000 /usr/local/lib/python3.8/site-packages/numpy/lib/function_base.py:5143(insert)\n",
      "      104    0.001    0.000    0.002    0.000 /usr/local/lib/python3.8/site-packages/numpy/core/fromnumeric.py:2160(sum)\n",
      "       49    0.002    0.000    0.002    0.000 /usr/local/lib/python3.8/site-packages/scipy/integrate/_ivp/ivp.py:130(find_active_events)\n",
      "      106    0.001    0.000    0.002    0.000 /usr/local/lib/python3.8/site-packages/numpy/core/fromnumeric.py:69(_wrapreduction)\n",
      "        2    0.000    0.000    0.001    0.000 /Users/ryan/Dropbox/Projects/ResearchProjects/eco-evo-crm/ecoevocrm/src/ecoevocrm/type_set.py:318(add_type)\n",
      "      207    0.001    0.000    0.001    0.000 {built-in method numpy.zeros}\n",
      "      153    0.000    0.000    0.001    0.000 /usr/local/lib/python3.8/site-packages/numpy/core/fromnumeric.py:51(_wrapfunc)\n",
      "        1    0.000    0.000    0.001    0.001 /usr/local/lib/python3.8/site-packages/scipy/integrate/_ivp/lsoda.py:105(__init__)\n",
      "      100    0.000    0.000    0.001    0.000 /usr/local/lib/python3.8/site-packages/numpy/core/fromnumeric.py:436(repeat)\n",
      "      106    0.001    0.000    0.001    0.000 {method 'reduce' of 'numpy.ufunc' objects}\n",
      "        2    0.000    0.000    0.001    0.000 /Users/ryan/Dropbox/Projects/ResearchProjects/eco-evo-crm/ecoevocrm/src/ecoevocrm/type_set.py:10(__init__)\n",
      "        1    0.000    0.000    0.001    0.001 /usr/local/lib/python3.8/site-packages/scipy/integrate/_ode.py:374(set_integrator)\n",
      "        1    0.000    0.000    0.001    0.001 /Users/ryan/Dropbox/Projects/ResearchProjects/eco-evo-crm/ecoevocrm/src/ecoevocrm/type_set.py:465(get_type)\n",
      "        1    0.000    0.000    0.000    0.000 /Users/ryan/Dropbox/Projects/ResearchProjects/eco-evo-crm/ecoevocrm/src/ecoevocrm/consumer_resource_system.py:749(get_dynamics_params)\n",
      "        1    0.000    0.000    0.000    0.000 /usr/local/lib/python3.8/site-packages/scipy/integrate/_ode.py:753(find_integrator)\n",
      "        5    0.000    0.000    0.000    0.000 /usr/local/Cellar/python@3.8/3.8.4/Frameworks/Python.framework/Versions/3.8/lib/python3.8/re.py:188(match)\n",
      "        5    0.000    0.000    0.000    0.000 /usr/local/Cellar/python@3.8/3.8.4/Frameworks/Python.framework/Versions/3.8/lib/python3.8/re.py:289(_compile)\n",
      "       44    0.000    0.000    0.000    0.000 {built-in method numpy.array}\n",
      "      106    0.000    0.000    0.000    0.000 /usr/local/lib/python3.8/site-packages/numpy/core/fromnumeric.py:70(<dictcomp>)\n",
      "        1    0.000    0.000    0.000    0.000 /usr/local/Cellar/python@3.8/3.8.4/Frameworks/Python.framework/Versions/3.8/lib/python3.8/sre_compile.py:759(compile)\n",
      "        1    0.000    0.000    0.000    0.000 /usr/local/lib/python3.8/site-packages/scipy/integrate/_ivp/ivp.py:81(handle_events)\n",
      "       50    0.000    0.000    0.000    0.000 /usr/local/lib/python3.8/site-packages/numpy/core/fromnumeric.py:1866(nonzero)\n",
      "        2    0.000    0.000    0.000    0.000 /Users/ryan/Dropbox/Projects/ResearchProjects/eco-evo-crm/ecoevocrm/src/ecoevocrm/type_set.py:515(get_dynamics_params)\n",
      "        1    0.000    0.000    0.000    0.000 /Users/ryan/Dropbox/Projects/ResearchProjects/eco-evo-crm/ecoevocrm/src/ecoevocrm/type_set.py:194(generate_mutant_set)\n",
      "        1    0.000    0.000    0.000    0.000 /usr/local/lib/python3.8/site-packages/numpy/core/shape_base.py:222(vstack)\n",
      "      100    0.000    0.000    0.000    0.000 {method 'repeat' of 'numpy.ndarray' objects}\n",
      "       49    0.000    0.000    0.000    0.000 /usr/local/lib/python3.8/site-packages/scipy/integrate/_ivp/ivp.py:595(<listcomp>)\n",
      "        1    0.000    0.000    0.000    0.000 /usr/local/lib/python3.8/site-packages/scipy/integrate/_ivp/ivp.py:108(<listcomp>)\n",
      "        8    0.000    0.000    0.000    0.000 /usr/local/lib/python3.8/site-packages/numpy/core/numeric.py:1404(moveaxis)\n",
      "        1    0.000    0.000    0.000    0.000 /usr/local/lib/python3.8/site-packages/scipy/integrate/_ivp/ivp.py:53(solve_event_equation)\n",
      "        2    0.000    0.000    0.000    0.000 /Users/ryan/Dropbox/Projects/ResearchProjects/eco-evo-crm/ecoevocrm/src/ecoevocrm/type_set.py:165(update_phenotypic_costs)\n",
      "        1    0.000    0.000    0.000    0.000 /usr/local/lib/python3.8/site-packages/scipy/optimize/zeros.py:650(brentq)\n",
      "        1    0.000    0.000    0.000    0.000 {built-in method builtins.print}\n",
      "       58    0.000    0.000    0.000    0.000 /usr/local/lib/python3.8/site-packages/scipy/integrate/_ivp/ivp.py:565(<lambda>)\n",
      "        1    0.000    0.000    0.000    0.000 {built-in method scipy.optimize._zeros._brentq}\n",
      "      221    0.000    0.000    0.000    0.000 {built-in method numpy.asarray}\n",
      "       10    0.000    0.000    0.000    0.000 /usr/local/lib/python3.8/site-packages/scipy/integrate/_ivp/base.py:235(__call__)\n",
      "        2    0.000    0.000    0.000    0.000 /usr/local/lib/python3.8/site-packages/ipykernel/iostream.py:386(write)\n",
      "        8    0.000    0.000    0.000    0.000 /usr/local/lib/python3.8/site-packages/scipy/integrate/_ivp/ivp.py:77(<lambda>)\n",
      "        1    0.000    0.000    0.000    0.000 /usr/local/Cellar/python@3.8/3.8.4/Frameworks/Python.framework/Versions/3.8/lib/python3.8/sre_parse.py:937(parse)\n",
      "       10    0.000    0.000    0.000    0.000 /usr/local/lib/python3.8/site-packages/scipy/integrate/_ivp/lsoda.py:182(_call_impl)\n",
      "        3    0.000    0.000    0.000    0.000 /usr/local/lib/python3.8/site-packages/ipykernel/iostream.py:197(schedule)\n",
      "        1    0.000    0.000    0.000    0.000 /usr/local/Cellar/python@3.8/3.8.4/Frameworks/Python.framework/Versions/3.8/lib/python3.8/sre_parse.py:435(_parse_sub)\n",
      "        1    0.000    0.000    0.000    0.000 /Users/ryan/Dropbox/Projects/ResearchProjects/eco-evo-crm/ecoevocrm/src/ecoevocrm/consumer_resource_system.py:648(handle_type_loss)\n",
      "        1    0.000    0.000    0.000    0.000 /usr/local/Cellar/python@3.8/3.8.4/Frameworks/Python.framework/Versions/3.8/lib/python3.8/sre_parse.py:493(_parse)\n",
      "        1    0.000    0.000    0.000    0.000 {method 'choice' of 'numpy.random.mtrand.RandomState' objects}\n",
      "        1    0.000    0.000    0.000    0.000 /usr/local/Cellar/python@3.8/3.8.4/Frameworks/Python.framework/Versions/3.8/lib/python3.8/sre_compile.py:598(_code)\n",
      "        1    0.000    0.000    0.000    0.000 /usr/local/lib/python3.8/site-packages/numpy/core/shape_base.py:81(atleast_2d)\n",
      "       16    0.000    0.000    0.000    0.000 /usr/local/lib/python3.8/site-packages/numpy/core/numeric.py:1341(normalize_axis_tuple)\n",
      "      172    0.000    0.000    0.000    0.000 {built-in method builtins.isinstance}\n",
      "        3    0.000    0.000    0.000    0.000 /usr/local/lib/python3.8/site-packages/zmq/sugar/socket.py:342(send)\n",
      "        1    0.000    0.000    0.000    0.000 /Users/ryan/Dropbox/Projects/ResearchProjects/eco-evo-crm/ecoevocrm/src/ecoevocrm/type_set.py:183(generate_mutant_phenotypes)\n",
      "      154    0.000    0.000    0.000    0.000 {built-in method builtins.getattr}\n",
      "       16    0.000    0.000    0.000    0.000 /Users/ryan/Dropbox/Projects/ResearchProjects/eco-evo-crm/ecoevocrm/src/ecoevocrm/type_set.py:106(preprocess_params)\n",
      "        1    0.000    0.000    0.000    0.000 /usr/local/lib/python3.8/site-packages/scipy/integrate/_ode.py:362(set_initial_value)\n",
      "       58    0.000    0.000    0.000    0.000 /Users/ryan/Dropbox/Projects/ResearchProjects/eco-evo-crm/ecoevocrm/src/ecoevocrm/consumer_resource_system.py:500(event_mutation)\n",
      "        1    0.000    0.000    0.000    0.000 /usr/local/lib/python3.8/site-packages/scipy/integrate/_ivp/base.py:192(dense_output)\n",
      "        1    0.000    0.000    0.000    0.000 /usr/local/lib/python3.8/site-packages/scipy/integrate/_ivp/lsoda.py:163(_dense_output_impl)\n",
      "       49    0.000    0.000    0.000    0.000 /usr/local/lib/python3.8/site-packages/scipy/integrate/_ode.py:442(successful)\n",
      "       50    0.000    0.000    0.000    0.000 {method 'nonzero' of 'numpy.ndarray' objects}\n",
      "        1    0.000    0.000    0.000    0.000 /usr/local/Cellar/python@3.8/3.8.4/Frameworks/Python.framework/Versions/3.8/lib/python3.8/sre_compile.py:71(_compile)\n",
      "        2    0.000    0.000    0.000    0.000 /Users/ryan/Dropbox/Projects/ResearchProjects/eco-evo-crm/ecoevocrm/src/ecoevocrm/consumer_resource_system.py:718(get_extant_types)\n",
      "        2    0.000    0.000    0.000    0.000 /usr/local/lib/python3.8/site-packages/scipy/integrate/_ode.py:1288(reset)\n",
      "        2    0.000    0.000    0.000    0.000 /usr/local/lib/python3.8/site-packages/numpy/core/fromnumeric.py:2305(any)\n",
      "        1    0.000    0.000    0.000    0.000 /usr/local/lib/python3.8/site-packages/scipy/integrate/_ivp/base.py:115(__init__)\n",
      "        1    0.000    0.000    0.000    0.000 /usr/local/Cellar/python@3.8/3.8.4/Frameworks/Python.framework/Versions/3.8/lib/python3.8/sre_compile.py:536(_compile_info)\n",
      "      183    0.000    0.000    0.000    0.000 {method 'append' of 'list' objects}\n",
      "        1    0.000    0.000    0.000    0.000 /usr/local/lib/python3.8/site-packages/scipy/integrate/_ivp/common.py:43(validate_tol)\n",
      "        2    0.000    0.000    0.000    0.000 /Users/ryan/Dropbox/Projects/ResearchProjects/eco-evo-crm/ecoevocrm/src/ecoevocrm/utils.py:16(reshape)\n",
      "       48    0.000    0.000    0.000    0.000 /usr/local/lib/python3.8/site-packages/scipy/integrate/_ode.py:792(check_handle)\n",
      "        1    0.000    0.000    0.000    0.000 /usr/local/lib/python3.8/site-packages/numpy/core/numeric.py:1859(isscalar)\n",
      "        2    0.000    0.000    0.000    0.000 /Users/ryan/Dropbox/Projects/ResearchProjects/eco-evo-crm/ecoevocrm/src/ecoevocrm/type_set.py:487(get_type_id)\n",
      "        2    0.000    0.000    0.000    0.000 /Users/ryan/Dropbox/Projects/ResearchProjects/eco-evo-crm/ecoevocrm/src/ecoevocrm/type_set.py:442(add_type_to_phylogeny)\n",
      "        1    0.000    0.000    0.000    0.000 /Users/ryan/Dropbox/Projects/ResearchProjects/eco-evo-crm/ecoevocrm/src/ecoevocrm/type_set.py:85(<listcomp>)\n",
      "       10    0.000    0.000    0.000    0.000 {built-in method numpy.dot}\n",
      "       10    0.000    0.000    0.000    0.000 {built-in method numpy.empty}\n",
      "        2    0.000    0.000    0.000    0.000 /usr/local/lib/python3.8/site-packages/numpy/lib/shape_base.py:1171(tile)\n",
      "        2    0.000    0.000    0.000    0.000 /usr/local/lib/python3.8/site-packages/ipykernel/iostream.py:323(_schedule_flush)\n",
      "        1    0.000    0.000    0.000    0.000 /usr/local/Cellar/python@3.8/3.8.4/Frameworks/Python.framework/Versions/3.8/lib/python3.8/abc.py:96(__instancecheck__)\n",
      "        1    0.000    0.000    0.000    0.000 /usr/local/lib/python3.8/site-packages/numpy/core/numeric.py:2131(identity)\n",
      "        1    0.000    0.000    0.000    0.000 {built-in method _abc._abc_instancecheck}\n",
      "      107    0.000    0.000    0.000    0.000 {method 'items' of 'dict' objects}\n",
      "        1    0.000    0.000    0.000    0.000 /Users/ryan/Dropbox/Projects/ResearchProjects/eco-evo-crm/ecoevocrm/src/ecoevocrm/consumer_resource_system.py:708(get_type_abundance)\n",
      "        1    0.000    0.000    0.000    0.000 /usr/local/lib/python3.8/site-packages/scipy/integrate/_ivp/base.py:4(check_arguments)\n",
      "        3    0.000    0.000    0.000    0.000 /usr/local/Cellar/python@3.8/3.8.4/Frameworks/Python.framework/Versions/3.8/lib/python3.8/threading.py:1071(is_alive)\n",
      "      7/1    0.000    0.000    0.000    0.000 /usr/local/Cellar/python@3.8/3.8.4/Frameworks/Python.framework/Versions/3.8/lib/python3.8/abc.py:100(__subclasscheck__)\n",
      "      7/1    0.000    0.000    0.000    0.000 {built-in method _abc._abc_subclasscheck}\n",
      "        1    0.000    0.000    0.000    0.000 /usr/local/lib/python3.8/site-packages/scipy/integrate/_ivp/lsoda.py:176(__init__)\n",
      "        2    0.000    0.000    0.000    0.000 /usr/local/lib/python3.8/site-packages/numpy/core/numerictypes.py:356(issubdtype)\n",
      "  114/113    0.000    0.000    0.000    0.000 {built-in method builtins.len}\n",
      "        1    0.000    0.000    0.000    0.000 {method 'exponential' of 'numpy.random.mtrand.RandomState' objects}\n",
      "        1    0.000    0.000    0.000    0.000 /usr/local/lib/python3.8/site-packages/scipy/integrate/_ivp/ivp.py:28(prepare_events)\n",
      "        2    0.000    0.000    0.000    0.000 /Users/ryan/Dropbox/Projects/ResearchProjects/eco-evo-crm/ecoevocrm/src/ecoevocrm/consumer_resource_system.py:698(set_type_abundance)\n",
      "        3    0.000    0.000    0.000    0.000 /usr/local/lib/python3.8/site-packages/numpy/core/shape_base.py:23(atleast_1d)\n",
      "        1    0.000    0.000    0.000    0.000 /usr/local/Cellar/python@3.8/3.8.4/Frameworks/Python.framework/Versions/3.8/lib/python3.8/enum.py:833(__and__)\n",
      "       16    0.000    0.000    0.000    0.000 /usr/local/lib/python3.8/site-packages/numpy/core/numeric.py:1391(<listcomp>)\n",
      "        1    0.000    0.000    0.000    0.000 /usr/local/Cellar/python@3.8/3.8.4/Frameworks/Python.framework/Versions/3.8/lib/python3.8/sre_parse.py:174(getwidth)\n",
      "        2    0.000    0.000    0.000    0.000 /usr/local/lib/python3.8/site-packages/numpy/core/fromnumeric.py:198(reshape)\n",
      "        1    0.000    0.000    0.000    0.000 /usr/local/lib/python3.8/site-packages/numpy/core/fromnumeric.py:1012(argsort)\n",
      "        5    0.000    0.000    0.000    0.000 /usr/local/Cellar/python@3.8/3.8.4/Frameworks/Python.framework/Versions/3.8/lib/python3.8/sre_parse.py:254(get)\n",
      "        1    0.000    0.000    0.000    0.000 /usr/local/lib/python3.8/site-packages/numpy/lib/twodim_base.py:161(eye)\n",
      "        2    0.000    0.000    0.000    0.000 /usr/local/Cellar/python@3.8/3.8.4/Frameworks/Python.framework/Versions/3.8/lib/python3.8/enum.py:283(__call__)\n",
      "        1    0.000    0.000    0.000    0.000 {method 'any' of 'numpy.generic' objects}\n",
      "        4    0.000    0.000    0.000    0.000 /usr/local/lib/python3.8/site-packages/numpy/core/numerictypes.py:282(issubclass_)\n",
      "        6    0.000    0.000    0.000    0.000 /usr/local/Cellar/python@3.8/3.8.4/Frameworks/Python.framework/Versions/3.8/lib/python3.8/sre_parse.py:233(__next)\n",
      "        2    0.000    0.000    0.000    0.000 <frozen importlib._bootstrap>:1017(_handle_fromlist)\n",
      "        6    0.000    0.000    0.000    0.000 /Users/ryan/Dropbox/Projects/ResearchProjects/eco-evo-crm/ecoevocrm/src/ecoevocrm/utils.py:43(treat_as_list)\n",
      "        3    0.000    0.000    0.000    0.000 /usr/local/Cellar/python@3.8/3.8.4/Frameworks/Python.framework/Versions/3.8/lib/python3.8/threading.py:1017(_wait_for_tstate_lock)\n",
      "       10    0.000    0.000    0.000    0.000 /usr/local/lib/python3.8/site-packages/scipy/optimize/optimize.py:120(__getattr__)\n",
      "        1    0.000    0.000    0.000    0.000 /usr/local/Cellar/python@3.8/3.8.4/Frameworks/Python.framework/Versions/3.8/lib/python3.8/sre_compile.py:461(_get_literal_prefix)\n",
      "        1    0.000    0.000    0.000    0.000 /usr/local/lib/python3.8/site-packages/numpy/core/_methods.py:54(_any)\n",
      "        2    0.000    0.000    0.000    0.000 {built-in method numpy.arange}\n",
      "        1    0.000    0.000    0.000    0.000 /usr/local/lib/python3.8/site-packages/scipy/integrate/_ode.py:1255(__init__)\n",
      "        5    0.000    0.000    0.000    0.000 /usr/local/Cellar/python@3.8/3.8.4/Frameworks/Python.framework/Versions/3.8/lib/python3.8/types.py:171(__get__)\n",
      "        8    0.000    0.000    0.000    0.000 {method 'transpose' of 'numpy.ndarray' objects}\n",
      "        1    0.000    0.000    0.000    0.000 /usr/local/Cellar/python@3.8/3.8.4/Frameworks/Python.framework/Versions/3.8/lib/python3.8/sre_parse.py:224(__init__)\n",
      "        2    0.000    0.000    0.000    0.000 /usr/local/lib/python3.8/site-packages/numpy/core/getlimits.py:457(__new__)\n",
      "        8    0.000    0.000    0.000    0.000 {built-in method builtins.sorted}\n",
      "        3    0.000    0.000    0.000    0.000 /usr/local/lib/python3.8/site-packages/ipykernel/iostream.py:93(_event_pipe)\n",
      "        4    0.000    0.000    0.000    0.000 /usr/local/lib/python3.8/site-packages/numpy/core/shape_base.py:207(_arrays_for_stack_dispatcher)\n",
      "        3    0.000    0.000    0.000    0.000 {built-in method numpy.where}\n",
      "        1    0.000    0.000    0.000    0.000 {method 'argsort' of 'numpy.ndarray' objects}\n",
      "        2    0.000    0.000    0.000    0.000 {built-in method builtins.all}\n",
      "        2    0.000    0.000    0.000    0.000 /Users/ryan/Dropbox/Projects/ResearchProjects/eco-evo-crm/ecoevocrm/src/ecoevocrm/type_set.py:88(<listcomp>)\n",
      "        8    0.000    0.000    0.000    0.000 /usr/local/lib/python3.8/site-packages/numpy/core/numeric.py:1466(<listcomp>)\n",
      "        2    0.000    0.000    0.000    0.000 /usr/local/lib/python3.8/site-packages/ipykernel/iostream.py:310(_is_master_process)\n",
      "        1    0.000    0.000    0.000    0.000 /Users/ryan/Dropbox/Projects/ResearchProjects/eco-evo-crm/ecoevocrm/src/ecoevocrm/consumer_resource_system.py:378(N)\n",
      "        1    0.000    0.000    0.000    0.000 /usr/local/lib/python3.8/site-packages/scipy/integrate/_ivp/ivp.py:567(<listcomp>)\n",
      "       56    0.000    0.000    0.000    0.000 {built-in method numpy.asanyarray}\n",
      "        2    0.000    0.000    0.000    0.000 /usr/local/Cellar/python@3.8/3.8.4/Frameworks/Python.framework/Versions/3.8/lib/python3.8/enum.py:562(__new__)\n",
      "        1    0.000    0.000    0.000    0.000 /usr/local/lib/python3.8/site-packages/scipy/integrate/_ivp/base.py:229(__init__)\n",
      "       19    0.000    0.000    0.000    0.000 {built-in method numpy.core._multiarray_umath.normalize_axis_index}\n",
      "        5    0.000    0.000    0.000    0.000 /usr/local/Cellar/python@3.8/3.8.4/Frameworks/Python.framework/Versions/3.8/lib/python3.8/sre_parse.py:164(__getitem__)\n",
      "        5    0.000    0.000    0.000    0.000 /usr/local/Cellar/python@3.8/3.8.4/Frameworks/Python.framework/Versions/3.8/lib/python3.8/sre_parse.py:172(append)\n",
      "        1    0.000    0.000    0.000    0.000 /usr/local/lib/python3.8/site-packages/scipy/integrate/_ivp/ivp.py:644(<listcomp>)\n",
      "        1    0.000    0.000    0.000    0.000 /usr/local/Cellar/python@3.8/3.8.4/Frameworks/Python.framework/Versions/3.8/lib/python3.8/sre_compile.py:492(_get_charset_prefix)\n",
      "        1    0.000    0.000    0.000    0.000 {method 'copy' of 'numpy.ndarray' objects}\n",
      "        5    0.000    0.000    0.000    0.000 {method 'match' of 're.Pattern' objects}\n",
      "        2    0.000    0.000    0.000    0.000 {method 'reshape' of 'numpy.ndarray' objects}\n",
      "        1    0.000    0.000    0.000    0.000 /usr/local/lib/python3.8/site-packages/scipy/integrate/_ode.py:350(__init__)\n",
      "        2    0.000    0.000    0.000    0.000 {method 'tolist' of 'numpy.ndarray' objects}\n",
      "        3    0.000    0.000    0.000    0.000 {method 'acquire' of '_thread.lock' objects}\n",
      "        1    0.000    0.000    0.000    0.000 /Users/ryan/Dropbox/Projects/ResearchProjects/eco-evo-crm/ecoevocrm/src/ecoevocrm/resource_set.py:56(get_dynamics_params)\n",
      "        1    0.000    0.000    0.000    0.000 /Users/ryan/Dropbox/Projects/ResearchProjects/eco-evo-crm/ecoevocrm/src/ecoevocrm/consumer_resource_system.py:384(R)\n",
      "        6    0.000    0.000    0.000    0.000 /usr/local/lib/python3.8/site-packages/numpy/lib/shape_base.py:1243(<genexpr>)\n",
      "        6    0.000    0.000    0.000    0.000 {built-in method builtins.hasattr}\n",
      "        1    0.000    0.000    0.000    0.000 /usr/local/lib/python3.8/site-packages/scipy/integrate/_ode.py:785(acquire_new_handle)\n",
      "       17    0.000    0.000    0.000    0.000 {built-in method _operator.index}\n",
      "        2    0.000    0.000    0.000    0.000 {method 'ravel' of 'numpy.ndarray' objects}\n",
      "        4    0.000    0.000    0.000    0.000 {built-in method builtins.min}\n",
      "        6    0.000    0.000    0.000    0.000 {built-in method builtins.issubclass}\n",
      "        8    0.000    0.000    0.000    0.000 {method 'item' of 'numpy.ndarray' objects}\n",
      "        1    0.000    0.000    0.000    0.000 /usr/local/lib/python3.8/site-packages/scipy/integrate/_ivp/ivp.py:643(<listcomp>)\n",
      "        1    0.000    0.000    0.000    0.000 /usr/local/Cellar/python@3.8/3.8.4/Frameworks/Python.framework/Versions/3.8/lib/python3.8/sre_parse.py:921(fix_flags)\n",
      "        2    0.000    0.000    0.000    0.000 /usr/local/Cellar/python@3.8/3.8.4/Frameworks/Python.framework/Versions/3.8/lib/python3.8/sre_compile.py:453(_get_iscased)\n",
      "        1    0.000    0.000    0.000    0.000 /usr/local/Cellar/python@3.8/3.8.4/Frameworks/Python.framework/Versions/3.8/lib/python3.8/sre_parse.py:76(__init__)\n",
      "        2    0.000    0.000    0.000    0.000 /usr/local/Cellar/python@3.8/3.8.4/Frameworks/Python.framework/Versions/3.8/lib/python3.8/sre_compile.py:595(isstring)\n",
      "        2    0.000    0.000    0.000    0.000 {built-in method builtins.hash}\n",
      "        8    0.000    0.000    0.000    0.000 {method 'insert' of 'list' objects}\n",
      "        1    0.000    0.000    0.000    0.000 /usr/local/Cellar/python@3.8/3.8.4/Frameworks/Python.framework/Versions/3.8/lib/python3.8/sre_parse.py:111(__init__)\n",
      "        5    0.000    0.000    0.000    0.000 /usr/local/Cellar/python@3.8/3.8.4/Frameworks/Python.framework/Versions/3.8/lib/python3.8/enum.py:664(value)\n",
      "        7    0.000    0.000    0.000    0.000 {built-in method _sre.unicode_iscased}\n",
      "        2    0.000    0.000    0.000    0.000 /usr/local/Cellar/python@3.8/3.8.4/Frameworks/Python.framework/Versions/3.8/lib/python3.8/sre_parse.py:81(groups)\n",
      "        1    0.000    0.000    0.000    0.000 /usr/local/Cellar/python@3.8/3.8.4/Frameworks/Python.framework/Versions/3.8/lib/python3.8/sre_parse.py:286(tell)\n",
      "        1    0.000    0.000    0.000    0.000 /usr/local/lib/python3.8/site-packages/scipy/integrate/_ivp/common.py:26(warn_extraneous)\n",
      "        3    0.000    0.000    0.000    0.000 /usr/local/Cellar/python@3.8/3.8.4/Frameworks/Python.framework/Versions/3.8/lib/python3.8/threading.py:513(is_set)\n",
      "        3    0.000    0.000    0.000    0.000 {built-in method builtins.max}\n",
      "        1    0.000    0.000    0.000    0.000 /usr/local/lib/python3.8/site-packages/scipy/integrate/_ivp/ivp.py:565(<listcomp>)\n",
      "        1    0.000    0.000    0.000    0.000 {method 'update' of 'dict' objects}\n",
      "        4    0.000    0.000    0.000    0.000 {method 'get' of 'dict' objects}\n",
      "        1    0.000    0.000    0.000    0.000 {built-in method _sre.compile}\n",
      "        1    0.000    0.000    0.000    0.000 /Users/ryan/Dropbox/Projects/ResearchProjects/eco-evo-crm/ecoevocrm/src/ecoevocrm/type_set.py:87(<listcomp>)\n",
      "        1    0.000    0.000    0.000    0.000 /usr/local/lib/python3.8/site-packages/scipy/optimize/zeros.py:70(results_c)\n",
      "        1    0.000    0.000    0.000    0.000 {method 'astype' of 'numpy.ndarray' objects}\n",
      "        1    0.000    0.000    0.000    0.000 /usr/local/Cellar/python@3.8/3.8.4/Frameworks/Python.framework/Versions/3.8/lib/python3.8/sre_parse.py:249(match)\n",
      "        1    0.000    0.000    0.000    0.000 /usr/local/Cellar/python@3.8/3.8.4/Frameworks/Python.framework/Versions/3.8/lib/python3.8/sre_parse.py:160(__len__)\n",
      "        2    0.000    0.000    0.000    0.000 {method 'keys' of 'dict' objects}\n",
      "        2    0.000    0.000    0.000    0.000 {method 'values' of 'dict' objects}\n",
      "        5    0.000    0.000    0.000    0.000 {built-in method _sre.unicode_tolower}\n",
      "        1    0.000    0.000    0.000    0.000 /usr/local/lib/python3.8/site-packages/scipy/integrate/_ivp/ivp.py:568(<listcomp>)\n",
      "        5    0.000    0.000    0.000    0.000 {built-in method builtins.ord}\n",
      "        3    0.000    0.000    0.000    0.000 {method 'append' of 'collections.deque' objects}\n",
      "        2    0.000    0.000    0.000    0.000 {built-in method posix.getpid}\n",
      "        1    0.000    0.000    0.000    0.000 /usr/local/lib/python3.8/site-packages/scipy/integrate/_ivp/ivp.py:569(<listcomp>)\n",
      "        2    0.000    0.000    0.000    0.000 {built-in method builtins.callable}\n",
      "        1    0.000    0.000    0.000    0.000 {method 'disable' of '_lsprof.Profiler' objects}\n",
      "\n",
      "\n"
     ]
    },
    {
     "data": {
      "text/plain": [
       "<pstats.Stats at 0x120469040>"
      ]
     },
     "execution_count": 14,
     "metadata": {},
     "output_type": "execute_result"
    }
   ],
   "source": [
    "ps = pstats.Stats(profiler)\n",
    "ps.sort_stats('cumtime')\n",
    "ps.print_stats()"
   ]
  },
  {
   "cell_type": "markdown",
   "metadata": {
    "tags": []
   },
   "source": [
    "### Visualize results"
   ]
  },
  {
   "cell_type": "code",
   "execution_count": 15,
   "metadata": {},
   "outputs": [],
   "source": [
    "type_colors = viz.color_types_by_phylogeny(anc_system.type_set, apply_palette_depth=1)"
   ]
  },
  {
   "cell_type": "code",
   "execution_count": 16,
   "metadata": {},
   "outputs": [
    {
     "data": {
      "text/plain": [
       "<AxesSubplot:>"
      ]
     },
     "execution_count": 16,
     "metadata": {},
     "output_type": "execute_result"
    },
    {
     "data": {
      "image/png": "[encoded data removed]",
      "text/plain": [
       "<Figure size 1440x576 with 1 Axes>"
      ]
     },
     "metadata": {
      "needs_background": "light"
     },
     "output_type": "display_data"
    }
   ],
   "source": [
    "fig, ax = plt.subplots(1, 1, figsize=(20, 8))\n",
    "viz.stacked_abundance_plot(anc_system, ax=ax, type_colors=type_colors)"
   ]
  },
  {
   "cell_type": "code",
   "execution_count": 17,
   "metadata": {},
   "outputs": [
    {
     "data": {
      "image/png": "[encoded data removed]",
      "text/plain": [
       "<Figure size 216x864 with 1 Axes>"
      ]
     },
     "metadata": {
      "needs_background": "light"
     },
     "output_type": "display_data"
    }
   ],
   "source": [
    "fig, ax = plt.subplots(1, 1, figsize=(3, 12))\n",
    "viz.matrix_plot(anc_phenotype, ax=ax)"
   ]
  },
  {
   "cell_type": "code",
   "execution_count": 18,
   "metadata": {},
   "outputs": [
    {
     "data": {
      "image/png": "[encoded data removed]",
      "text/plain": [
       "<Figure size 216x864 with 1 Axes>"
      ]
     },
     "metadata": {
      "needs_background": "light"
     },
     "output_type": "display_data"
    }
   ],
   "source": [
    "fig, ax = plt.subplots(1, 1, figsize=(3, 12))\n",
    "viz.matrix_plot(anc_system.type_set.sigma, ax=ax)"
   ]
  },
  {
   "cell_type": "code",
   "execution_count": 19,
   "metadata": {},
   "outputs": [
    {
     "data": {
      "text/plain": [
       "array([1])"
      ]
     },
     "execution_count": 19,
     "metadata": {},
     "output_type": "execute_result"
    }
   ],
   "source": [
    "anc_system.extant_type_indices"
   ]
  },
  {
   "cell_type": "code",
   "execution_count": 20,
   "metadata": {},
   "outputs": [
    {
     "data": {
      "image/png": "[encoded data removed]",
      "text/plain": [
       "<Figure size 216x864 with 1 Axes>"
      ]
     },
     "metadata": {
      "needs_background": "light"
     },
     "output_type": "display_data"
    }
   ],
   "source": [
    "fig, ax = plt.subplots(1, 1, figsize=(3, 12))\n",
    "viz.matrix_plot(anc_system.get_extant_type_set().sigma, ax=ax)"
   ]
  },
  {
   "cell_type": "code",
   "execution_count": 21,
   "metadata": {},
   "outputs": [
    {
     "data": {
      "image/png": "[encoded data removed]",
      "text/plain": [
       "<Figure size 216x864 with 1 Axes>"
      ]
     },
     "metadata": {
      "needs_background": "light"
     },
     "output_type": "display_data"
    }
   ],
   "source": [
    "fig, ax = plt.subplots(1, 1, figsize=(3, 12))\n",
    "viz.matrix_plot(anc_system.extant_mutant_set.sigma, ax=ax)"
   ]
  },
  {
   "cell_type": "code",
   "execution_count": null,
   "metadata": {},
   "outputs": [],
   "source": []
  },
  {
   "cell_type": "code",
   "execution_count": null,
   "metadata": {},
   "outputs": [],
   "source": []
  },
  {
   "cell_type": "code",
   "execution_count": 22,
   "metadata": {},
   "outputs": [
    {
     "data": {
      "image/png": "[encoded data removed]",
      "text/plain": [
       "<Figure size 432x288 with 1 Axes>"
      ]
     },
     "metadata": {
      "needs_background": "light"
     },
     "output_type": "display_data"
    }
   ],
   "source": [
    "viz.Lstar_types_plot(anc_system)"
   ]
  },
  {
   "cell_type": "code",
   "execution_count": 23,
   "metadata": {},
   "outputs": [
    {
     "data": {
      "text/plain": [
       "1"
      ]
     },
     "execution_count": 23,
     "metadata": {},
     "output_type": "execute_result"
    }
   ],
   "source": [
    "N_end = anc_system.N_series[:,-1]\n",
    "np.count_nonzero((N_end > 0) & (N_end < 1e4))"
   ]
  },
  {
   "cell_type": "code",
   "execution_count": 24,
   "metadata": {},
   "outputs": [
    {
     "data": {
      "text/plain": [
       "[<matplotlib.lines.Line2D at 0x120e0fc70>]"
      ]
     },
     "execution_count": 24,
     "metadata": {},
     "output_type": "execute_result"
    },
    {
     "data": {
      "image/png": "[encoded data removed]",
      "text/plain": [
       "<Figure size 432x288 with 1 Axes>"
      ]
     },
     "metadata": {
      "needs_background": "light"
     },
     "output_type": "display_data"
    }
   ],
   "source": [
    "a = (anc_system.N_series > 0).argmax(axis=1)\n",
    "n = []\n",
    "for t_idx in range(anc_system.t_series.shape[0]):\n",
    "    n.append(np.count_nonzero(a <= t_idx)) \n",
    "plt.plot(anc_system.t_series, n)\n",
    "plt.plot(anc_system.t_series, (anc_system.N_series > 0).sum(axis=0))"
   ]
  },
  {
   "cell_type": "code",
   "execution_count": 25,
   "metadata": {},
   "outputs": [
    {
     "data": {
      "image/png": "[encoded data removed]",
      "text/plain": [
       "<Figure size 432x288 with 1 Axes>"
      ]
     },
     "metadata": {
      "needs_background": "light"
     },
     "output_type": "display_data"
    }
   ],
   "source": [
    "plt.hist(anc_system.N_series[(anc_system.N_series[:,-1]>0)&(anc_system.N_series[:,-1]<1e4),-1], bins=100)\n",
    "# plt.xlim((0,100))\n",
    "plt.show()"
   ]
  },
  {
   "cell_type": "code",
   "execution_count": 26,
   "metadata": {},
   "outputs": [],
   "source": [
    "r = ConsumerResourceSystem.growth_rate(anc_system.N()[:, np.newaxis], anc_system.R(), anc_system.type_set.sigma, anc_system.type_set.b, anc_system.type_set.k, anc_system.type_set.eta, anc_system.type_set.l, anc_system.type_set.g, anc_system.type_set.energy_costs, anc_system.resource_set.omega, anc_system.resource_consumption_mode)"
   ]
  },
  {
   "cell_type": "code",
   "execution_count": 27,
   "metadata": {},
   "outputs": [
    {
     "data": {
      "text/plain": [
       "array([], dtype=float64)"
      ]
     },
     "execution_count": 27,
     "metadata": {},
     "output_type": "execute_result"
    }
   ],
   "source": [
    "r[(anc_system.N() > 0) & (anc_system.N() < 1e4)] - np.mean(r[r > 0])"
   ]
  },
  {
   "cell_type": "code",
   "execution_count": 28,
   "metadata": {},
   "outputs": [
    {
     "data": {
      "text/plain": [
       "array([], dtype=float64)"
      ]
     },
     "execution_count": 28,
     "metadata": {},
     "output_type": "execute_result"
    }
   ],
   "source": [
    "r[r<0]"
   ]
  },
  {
   "cell_type": "code",
   "execution_count": 29,
   "metadata": {},
   "outputs": [
    {
     "data": {
      "text/plain": [
       "(2, 40)"
      ]
     },
     "execution_count": 29,
     "metadata": {},
     "output_type": "execute_result"
    }
   ],
   "source": [
    "anc_system.type_set.sigma.shape"
   ]
  },
  {
   "cell_type": "code",
   "execution_count": 30,
   "metadata": {},
   "outputs": [],
   "source": [
    "a = np.where(anc_system.N_series > 0)"
   ]
  },
  {
   "cell_type": "code",
   "execution_count": null,
   "metadata": {},
   "outputs": [],
   "source": []
  },
  {
   "cell_type": "code",
   "execution_count": 31,
   "metadata": {},
   "outputs": [
    {
     "data": {
      "text/plain": [
       "array([1., 0.])"
      ]
     },
     "execution_count": 31,
     "metadata": {},
     "output_type": "execute_result"
    }
   ],
   "source": [
    "anc_system.N()/np.sum(anc_system.N())"
   ]
  },
  {
   "cell_type": "code",
   "execution_count": 32,
   "metadata": {},
   "outputs": [
    {
     "data": {
      "text/plain": [
       "array([1])"
      ]
     },
     "execution_count": 32,
     "metadata": {},
     "output_type": "execute_result"
    }
   ],
   "source": [
    "anc_system.get_extant_types()\n"
   ]
  },
  {
   "cell_type": "code",
   "execution_count": 33,
   "metadata": {},
   "outputs": [
    {
     "data": {
      "text/plain": [
       "1e-07"
      ]
     },
     "execution_count": 33,
     "metadata": {},
     "output_type": "execute_result"
    }
   ],
   "source": [
    "1e3/1e10"
   ]
  },
  {
   "cell_type": "code",
   "execution_count": 34,
   "metadata": {},
   "outputs": [
    {
     "data": {
      "text/plain": [
       "()"
      ]
     },
     "execution_count": 34,
     "metadata": {},
     "output_type": "execute_result"
    }
   ],
   "source": [
    "anc_system.type_set.mu.shape"
   ]
  },
  {
   "cell_type": "code",
   "execution_count": 35,
   "metadata": {},
   "outputs": [
    {
     "data": {
      "text/plain": [
       "(100001,)"
      ]
     },
     "execution_count": 35,
     "metadata": {},
     "output_type": "execute_result"
    }
   ],
   "source": [
    "anc_system.t_series.shape"
   ]
  },
  {
   "cell_type": "code",
   "execution_count": 36,
   "metadata": {},
   "outputs": [
    {
     "data": {
      "text/plain": [
       "(2, 100001)"
      ]
     },
     "execution_count": 36,
     "metadata": {},
     "output_type": "execute_result"
    }
   ],
   "source": [
    "anc_system.N_series.shape"
   ]
  },
  {
   "cell_type": "code",
   "execution_count": 37,
   "metadata": {},
   "outputs": [
    {
     "ename": "AttributeError",
     "evalue": "'TypeSet' object has no attribute 'mutant_set'",
     "output_type": "error",
     "traceback": [
      "\u001b[0;31m---------------------------------------------------------------------------\u001b[0m",
      "\u001b[0;31mAttributeError\u001b[0m                            Traceback (most recent call last)",
      "\u001b[0;32m<ipython-input-37-41b0aabaf386>\u001b[0m in \u001b[0;36m<module>\u001b[0;34m\u001b[0m\n\u001b[0;32m----> 1\u001b[0;31m \u001b[0manc_system\u001b[0m\u001b[0;34m.\u001b[0m\u001b[0mtype_set\u001b[0m\u001b[0;34m.\u001b[0m\u001b[0mmutant_set\u001b[0m\u001b[0;34m.\u001b[0m\u001b[0mnum_types\u001b[0m\u001b[0;34m\u001b[0m\u001b[0;34m\u001b[0m\u001b[0m\n\u001b[0m",
      "\u001b[0;31mAttributeError\u001b[0m: 'TypeSet' object has no attribute 'mutant_set'"
     ]
    }
   ],
   "source": [
    "anc_system.type_set.mutant_set.num_types"
   ]
  },
  {
   "cell_type": "code",
   "execution_count": null,
   "metadata": {},
   "outputs": [],
   "source": [
    "viz.matrix_plot(anc_system.type_set.sigma)"
   ]
  },
  {
   "cell_type": "code",
   "execution_count": null,
   "metadata": {},
   "outputs": [],
   "source": [
    "viz.matrix_plot(anc_system.extant_mutant_set.sigma)"
   ]
  },
  {
   "cell_type": "code",
   "execution_count": null,
   "metadata": {},
   "outputs": [],
   "source": []
  }
 ],
 "metadata": {
  "kernelspec": {
   "display_name": "Python 3",
   "language": "python",
   "name": "python3"
  },
  "language_info": {
   "codemirror_mode": {
    "name": "ipython",
    "version": 3
   },
   "file_extension": ".py",
   "mimetype": "text/x-python",
   "name": "python",
   "nbconvert_exporter": "python",
   "pygments_lexer": "ipython3",
   "version": "3.8.4"
  }
 },
 "nbformat": 4,
 "nbformat_minor": 4
}
