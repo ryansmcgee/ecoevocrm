{
 "cells": [
  {
   "cell_type": "code",
   "execution_count": 1,
   "metadata": {},
   "outputs": [],
   "source": [
    "from ecoevocrm.consumer_resource_system import *\n",
    "import ecoevocrm.utils as utils\n",
    "import ecoevocrm.viz as viz\n",
    "import ecoevocrm.coarse_graining as cg"
   ]
  },
  {
   "cell_type": "code",
   "execution_count": 2,
   "metadata": {},
   "outputs": [],
   "source": [
    "import matplotlib.pyplot as plt"
   ]
  },
  {
   "cell_type": "code",
   "execution_count": 3,
   "metadata": {},
   "outputs": [],
   "source": [
    "import cProfile\n",
    "import pstats\n",
    "%load_ext line_profiler"
   ]
  },
  {
   "cell_type": "markdown",
   "metadata": {},
   "source": [
    "--------"
   ]
  },
  {
   "cell_type": "markdown",
   "metadata": {},
   "source": [
    "### Set the number of resources"
   ]
  },
  {
   "cell_type": "code",
   "execution_count": 4,
   "metadata": {},
   "outputs": [],
   "source": [
    "L = 20"
   ]
  },
  {
   "cell_type": "markdown",
   "metadata": {
    "tags": []
   },
   "source": [
    "### Define the ancestral phenotype (traits vector)"
   ]
  },
  {
   "cell_type": "code",
   "execution_count": 5,
   "metadata": {},
   "outputs": [],
   "source": [
    "anc_phenotype = utils.random_matrix(shape=(1, L), mode='binomial')"
   ]
  },
  {
   "cell_type": "code",
   "execution_count": 6,
   "metadata": {},
   "outputs": [
    {
     "data": {
      "image/png": "[encoded data removed]",
      "text/plain": [
       "<Figure size 432x288 with 1 Axes>"
      ]
     },
     "metadata": {},
     "output_type": "display_data"
    }
   ],
   "source": [
    "viz.matrix_plot(anc_phenotype)"
   ]
  },
  {
   "cell_type": "markdown",
   "metadata": {
    "tags": []
   },
   "source": [
    "### Define the system biochemistry (trait/resource interactions)"
   ]
  },
  {
   "cell_type": "code",
   "execution_count": 7,
   "metadata": {},
   "outputs": [],
   "source": [
    "J = utils.random_matrix((L, L), 'tikhonov_sigmoid')"
   ]
  },
  {
   "cell_type": "code",
   "execution_count": 8,
   "metadata": {},
   "outputs": [
    {
     "data": {
      "image/png": "[encoded data removed]",
      "text/plain": [
       "<Figure size 432x288 with 2 Axes>"
      ]
     },
     "metadata": {},
     "output_type": "display_data"
    }
   ],
   "source": [
    "viz.matrix_plot(J)"
   ]
  },
  {
   "cell_type": "code",
   "execution_count": 9,
   "metadata": {},
   "outputs": [
    {
     "data": {
      "text/plain": [
       "0.18781013060002516"
      ]
     },
     "execution_count": 9,
     "metadata": {},
     "output_type": "execute_result"
    }
   ],
   "source": [
    "np.sum(J)"
   ]
  },
  {
   "cell_type": "markdown",
   "metadata": {
    "tags": []
   },
   "source": [
    "### Parameterize and instantiate the Consumer-Resource System"
   ]
  },
  {
   "cell_type": "code",
   "execution_count": 10,
   "metadata": {},
   "outputs": [],
   "source": [
    "anc_system = ConsumerResourceSystem(sigma=anc_phenotype, \n",
    "                                    b=1, \n",
    "                                    k=1e10,\n",
    "                                    c=0.1, chi=0.5, J=J, \n",
    "                                    mu=1e-10,\n",
    "                                    resource_consumption_mode='fast_resource_eq',\n",
    "                                    resource_inflow_mode='none',\n",
    "                                    threshold_min_rel_abundance=1e-6,\n",
    "                                    N_init=1, R_init=1)"
   ]
  },
  {
   "cell_type": "code",
   "execution_count": 11,
   "metadata": {},
   "outputs": [
    {
     "name": "stdout",
     "output_type": "stream",
     "text": [
      "(1, 20)\n"
     ]
    }
   ],
   "source": [
    "print(anc_system.type_set._sigma.alloc)"
   ]
  },
  {
   "cell_type": "code",
   "execution_count": 12,
   "metadata": {},
   "outputs": [
    {
     "name": "stdout",
     "output_type": "stream",
     "text": [
      "(20, 20)\n"
     ]
    }
   ],
   "source": [
    "print(anc_system.mutant_set._sigma.alloc)"
   ]
  },
  {
   "cell_type": "code",
   "execution_count": 13,
   "metadata": {},
   "outputs": [
    {
     "name": "stdout",
     "output_type": "stream",
     "text": [
      "[3.9711374]\n"
     ]
    }
   ],
   "source": [
    "print(anc_system.type_set.energy_costs)"
   ]
  },
  {
   "cell_type": "code",
   "execution_count": 14,
   "metadata": {},
   "outputs": [
    {
     "name": "stdout",
     "output_type": "stream",
     "text": [
      "[-886706961228891447]\n"
     ]
    }
   ],
   "source": [
    "print(anc_system.type_set.type_ids)"
   ]
  },
  {
   "cell_type": "code",
   "execution_count": 15,
   "metadata": {},
   "outputs": [
    {
     "name": "stdout",
     "output_type": "stream",
     "text": [
      "[None]\n"
     ]
    }
   ],
   "source": [
    "print(anc_system.type_set.parent_indices)"
   ]
  },
  {
   "cell_type": "code",
   "execution_count": 16,
   "metadata": {},
   "outputs": [
    {
     "name": "stdout",
     "output_type": "stream",
     "text": [
      "['1']\n"
     ]
    }
   ],
   "source": [
    "print(anc_system.type_set.lineage_ids)"
   ]
  },
  {
   "cell_type": "code",
   "execution_count": 17,
   "metadata": {},
   "outputs": [
    {
     "name": "stdout",
     "output_type": "stream",
     "text": [
      "{'1': {}}\n"
     ]
    }
   ],
   "source": [
    "print(anc_system.type_set.phylogeny)"
   ]
  },
  {
   "cell_type": "code",
   "execution_count": 18,
   "metadata": {},
   "outputs": [],
   "source": [
    "# stop"
   ]
  },
  {
   "cell_type": "markdown",
   "metadata": {
    "tags": []
   },
   "source": [
    "### Simulate dynamics"
   ]
  },
  {
   "cell_type": "code",
   "execution_count": 19,
   "metadata": {},
   "outputs": [],
   "source": [
    "# just to pre-compile the dynamics njit function\n",
    "# anc_system.dynamics(*((0,) + (np.zeros(L+L+1),) + anc_system.get_params()))"
   ]
  },
  {
   "cell_type": "code",
   "execution_count": 20,
   "metadata": {},
   "outputs": [],
   "source": [
    "# anc_system.run(T=1000)"
   ]
  },
  {
   "cell_type": "code",
   "execution_count": null,
   "metadata": {},
   "outputs": [],
   "source": []
  },
  {
   "cell_type": "code",
   "execution_count": 21,
   "metadata": {},
   "outputs": [],
   "source": [
    "# %lprun -f anc_system.dynamics anc_system.run(T=1000)\n",
    "# %lprun -f anc_system.handle_mutation_event anc_system.run(T=1000)"
   ]
  },
  {
   "cell_type": "code",
   "execution_count": 22,
   "metadata": {
    "scrolled": true,
    "tags": []
   },
   "outputs": [
    {
     "name": "stdout",
     "output_type": "stream",
     "text": [
      "[ Mutation event occurred at  t=10163.0260 38*(11700)/585]\t\r"
     ]
    },
    {
     "data": {
      "text/plain": [
       "Timer unit: 1e-06 s\n",
       "\n",
       "Total time: 16.5095 s\n",
       "File: /Users/ryan/Dropbox/Projects/ResearchProjects/eco-evo-crm/ecoevocrm/src/ecoevocrm/consumer_resource_system.py\n",
       "Function: run at line 204\n",
       "\n",
       "Line #      Hits         Time  Per Hit   % Time  Line Contents\n",
       "==============================================================\n",
       "   204                                               def run(self, T=1e4, dt=None, integration_method='default'):\n",
       "   205                                           \n",
       "   206         1         35.0     35.0      0.0          t_start   = self.t\n",
       "   207         1          2.0      2.0      0.0          t_elapsed = 0\n",
       "   208                                           \n",
       "   209         1         41.0     41.0      0.0          self._t_series.expand_alloc((self._t_series.alloc[0], self._t_series.alloc[1]+int(T/dt if dt is not None else T/0.1)))\n",
       "   210         1         33.0     33.0      0.0          self._N_series.expand_alloc((self._N_series.alloc[0], self._N_series.alloc[1]+int(T/dt if dt is not None else T/0.1)))\n",
       "   211         1        275.0    275.0      0.0          self._R_series.expand_alloc((self._R_series.alloc[0], self._R_series.alloc[1]+int(T/dt if dt is not None else T/0.1)))\n",
       "   212                                           \n",
       "   213      2552       7888.0      3.1      0.0          while(t_elapsed < T):\n",
       "   214                                           \n",
       "   215                                                       #------------------------------\n",
       "   216                                                       # Set initial conditions and integration variables:\n",
       "   217                                                       #------------------------------\n",
       "   218                                                      \n",
       "   219                                                       # Set the time interval for this integration epoch:\n",
       "   220      2551      46717.0     18.3      0.3              t_span = (self.t, self.t+T)\n",
       "   221                                           \n",
       "   222                                                       # Set the time ticks at which to save trajectory values:\n",
       "   223      2551       4571.0      1.8      0.0              t_eval = np.arange(start=t_span[0], stop=t_span[1]+dt, step=dt) if dt is not None else None,\n",
       "   224                                           \n",
       "   225                                                       # Get the indices and count of extant types (abundance > 0):\n",
       "   226      2551      48021.0     18.8      0.3              num_extant_types = len(self.extant_type_indices)\n",
       "   227                                           \n",
       "   228                                                       # Set the initial conditions for this integration epoch:\n",
       "   229      2551      54193.0     21.2      0.3              N_init = self.N[self.extant_type_indices] \n",
       "   230      2551      18881.0      7.4      0.1              R_init = self.R \n",
       "   231      2551      12178.0      4.8      0.1              cumPropMut_init = np.array([0])\n",
       "   232      2551      31552.0     12.4      0.2              init_cond = np.concatenate([N_init, R_init, cumPropMut_init])\n",
       "   233                                           \n",
       "   234                                                       # Get the params for the dynamics:\n",
       "   235      2551    2238523.0    877.5     13.6              params = self.get_dynamics_params(self.extant_type_indices)\n",
       "   236                                           \n",
       "   237                                                       # Draw a random propensity threshold for triggering the next Gillespie mutation event:\n",
       "   238      2551      53790.0     21.1      0.3              self.threshold_mutation_propensity = np.random.exponential(1)\n",
       "   239                                                       \n",
       "   240                                                       # Set the integration method:\n",
       "   241      2551       4779.0      1.9      0.0              if(integration_method == 'default'):\n",
       "   242      2551       5258.0      2.1      0.0                  if(num_extant_types <= self.threshold_precise_integrator):\n",
       "   243      1195       1793.0      1.5      0.0                      _integration_method = 'LSODA' # accurate stiff integrator\n",
       "   244                                                           else:\n",
       "   245      1356       1920.0      1.4      0.0                      _integration_method = 'LSODA' # adaptive stiff/non-stiff integrator\n",
       "   246                                                       else:\n",
       "   247                                                           _integration_method = integration_method\n",
       "   248                                           \n",
       "   249                                                       #------------------------------\n",
       "   250                                                       # Integrate the system dynamics:\n",
       "   251                                                       #------------------------------\n",
       "   252                                                       \n",
       "   253      5102    9440009.0   1850.3     57.2              sol = scipy.integrate.solve_ivp(self.dynamics, \n",
       "   254      2551       3435.0      1.3      0.0                                               y0     = init_cond,\n",
       "   255      2551       3381.0      1.3      0.0                                               args   = params,\n",
       "   256      2551      49891.0     19.6      0.3                                               t_span = (self.t, self.t+T),\n",
       "   257      2551       4514.0      1.8      0.0                                               t_eval = np.arange(start=self.t, stop=self.t+T+dt, step=dt) if dt is not None else None,\n",
       "   258      2551       5091.0      2.0      0.0                                               events = [self.event_mutation],\n",
       "   259      2551       3541.0      1.4      0.0                                               method = _integration_method )\n",
       "   260                                           \n",
       "   261                                                       #------------------------------\n",
       "   262                                                       # Update the system's trajectories with latest dynamics epoch:\n",
       "   263                                                       #------------------------------\n",
       "   264                                           \n",
       "   265      2551      44534.0     17.5      0.3              N_epoch = np.zeros(shape=(self._N_series.shape[0], len(sol.t)))\n",
       "   266      2551     125262.0     49.1      0.8              N_epoch[self.extant_type_indices] = sol.y[:num_extant_types]\n",
       "   267                                                       \n",
       "   268      2551      19975.0      7.8      0.1              R_epoch = sol.y[-1-self.resource_set.num_resources:-1]\n",
       "   269                                                       \n",
       "   270      2551      56894.0     22.3      0.3              self._t_series.add(sol.t, axis=1)\n",
       "   271      2551      89129.0     34.9      0.5              self._N_series.add(N_epoch, axis=1)\n",
       "   272      2551      44783.0     17.6      0.3              self._R_series.add(R_epoch, axis=1)\n",
       "   273                                                       \n",
       "   274      2551      29366.0     11.5      0.2              t_elapsed = self.t - t_start\n",
       "   275                                           \n",
       "   276      2551      45803.0     18.0      0.3              typeCountStr = f\"{num_extant_types}*({self.mutant_set.num_types})/{self.type_set.num_types}\"\n",
       "   277                                           \n",
       "   278                                                       #------------------------------\n",
       "   279                                                       # Handle events and update the system's states accordingly:\n",
       "   280                                                       #------------------------------\n",
       "   281      2551      12868.0      5.0      0.1              if(sol.status == 1): # An event occurred\n",
       "   282      2551      11462.0      4.5      0.1                  if(len(sol.t_events[0]) > 0):\n",
       "   283      2551     515684.0    202.1      3.1                      print(f\"[ Mutation event occurred at  t={self.t:.4f} {typeCountStr}]\\t\\r\", end=\"\")\n",
       "   284      2551    2618685.0   1026.5     15.9                      self.handle_mutation_event()\n",
       "   285      2551     854678.0    335.0      5.2                      self.handle_type_loss()\n",
       "   286                                                       elif(sol.status == 0): # Reached end T successfully\n",
       "   287                                                           self.handle_type_loss()\n",
       "   288                                                       else: # Error occurred in integration\n",
       "   289                                                           utils.error(\"Error in ConsumerResourceSystem run(): Integration of dynamics using scipy.solve_ivp returned with error status.\")\n",
       "   290                                           \n",
       "   291                                                   #------------------------------\n",
       "   292                                                   # Finalize data series at end of integration period:\n",
       "   293                                                   #------------------------------\n",
       "   294                                           \n",
       "   295         1          9.0      9.0      0.0          self._t_series.trim()\n",
       "   296         1          4.0      4.0      0.0          self._N_series.trim()\n",
       "   297         1          4.0      4.0      0.0          self._R_series.trim()\n",
       "   298                                           \n",
       "   299         1          2.0      2.0      0.0          return"
      ]
     },
     "metadata": {},
     "output_type": "display_data"
    }
   ],
   "source": [
    "profiler = cProfile.Profile()\n",
    "# %lprun -f anc_system.dynamics profiler.runcall(anc_system.run)\n",
    "# %lprun -f ConsumerResourceSystem.growth_rate profile.runcall(anc_system.run)\n",
    "# %lprun -f anc_system.event_low_abundance profiler.runcall(anc_system.run)\n",
    "# %lprun -f TypeSet.add_type profiler.runcall(anc_system.run)\n",
    "# %lprun -f TypeSet.generate_mutant_set profiler.runcall(anc_system.run)\n",
    "\n",
    "%lprun -f anc_system.run profiler.runcall(anc_system.run)"
   ]
  },
  {
   "cell_type": "code",
   "execution_count": 23,
   "metadata": {
    "scrolled": true,
    "tags": []
   },
   "outputs": [
    {
     "name": "stdout",
     "output_type": "stream",
     "text": [
      "         3016398 function calls (3016385 primitive calls) in 16.673 seconds\n",
      "\n",
      "   Ordered by: cumulative time\n",
      "\n",
      "   ncalls  tottime  percall  cumtime  percall filename:lineno(function)\n",
      "        1    0.574    0.574   16.673   16.673 /Users/ryan/Dropbox/Projects/ResearchProjects/eco-evo-crm/ecoevocrm/src/ecoevocrm/consumer_resource_system.py:204(run)\n",
      "     2551    0.796    0.000    9.397    0.004 /usr/local/lib/python3.8/site-packages/scipy/integrate/_ivp/ivp.py:156(solve_ivp)\n",
      "    12670    0.089    0.000    6.194    0.000 /usr/local/lib/python3.8/site-packages/scipy/integrate/_ivp/base.py:159(step)\n",
      "    12670    0.157    0.000    6.106    0.000 /usr/local/lib/python3.8/site-packages/scipy/integrate/_ivp/lsoda.py:140(_step_impl)\n",
      "    12670    0.448    0.000    5.929    0.000 /usr/local/lib/python3.8/site-packages/scipy/integrate/_ode.py:1338(run)\n",
      "    28072    0.068    0.000    5.461    0.000 /usr/local/lib/python3.8/site-packages/scipy/integrate/_ivp/base.py:136(fun)\n",
      "    28072    0.052    0.000    5.393    0.000 /usr/local/lib/python3.8/site-packages/scipy/integrate/_ivp/base.py:19(fun_wrapped)\n",
      "    28072    0.086    0.000    5.324    0.000 /usr/local/lib/python3.8/site-packages/scipy/integrate/_ivp/ivp.py:514(<lambda>)\n",
      "    28072    0.947    0.000    5.238    0.000 /Users/ryan/Dropbox/Projects/ResearchProjects/eco-evo-crm/ecoevocrm/src/ecoevocrm/consumer_resource_system.py:333(dynamics)\n",
      "    30623    0.848    0.000    3.561    0.000 /Users/ryan/Dropbox/Projects/ResearchProjects/eco-evo-crm/ecoevocrm/src/ecoevocrm/consumer_resource_system.py:311(growth_rate)\n",
      "    61246    0.279    0.000    2.632    0.000 /usr/local/lib/python3.8/site-packages/numpy/core/einsumfunc.py:997(einsum)\n",
      "     2551    0.242    0.000    2.597    0.001 /Users/ryan/Dropbox/Projects/ResearchProjects/eco-evo-crm/ecoevocrm/src/ecoevocrm/consumer_resource_system.py:377(handle_mutation_event)\n",
      "    61246    2.353    0.000    2.353    0.000 {built-in method numpy.core._multiarray_umath.c_einsum}\n",
      "     2551    1.170    0.000    2.177    0.001 /Users/ryan/Dropbox/Projects/ResearchProjects/eco-evo-crm/ecoevocrm/src/ecoevocrm/consumer_resource_system.py:456(get_dynamics_params)\n",
      "    30623    0.082    0.000    1.505    0.000 /Users/ryan/Dropbox/Projects/ResearchProjects/eco-evo-crm/ecoevocrm/src/ecoevocrm/consumer_resource_system.py:304(resource_demand)\n",
      "     2551    0.146    0.000    0.839    0.000 /Users/ryan/Dropbox/Projects/ResearchProjects/eco-evo-crm/ecoevocrm/src/ecoevocrm/consumer_resource_system.py:407(handle_type_loss)\n",
      "    35512    0.157    0.000    0.800    0.000 /usr/local/lib/python3.8/site-packages/numpy/core/fromnumeric.py:2160(sum)\n",
      "    40614    0.240    0.000    0.749    0.000 /usr/local/lib/python3.8/site-packages/numpy/core/fromnumeric.py:69(_wrapreduction)\n",
      "     2551    0.072    0.000    0.738    0.000 /usr/local/lib/python3.8/site-packages/scipy/integrate/_ivp/lsoda.py:105(__init__)\n",
      "      584    0.016    0.000    0.671    0.001 /Users/ryan/Dropbox/Projects/ResearchProjects/eco-evo-crm/ecoevocrm/src/ecoevocrm/consumer_resource_system.py:422(add_type)\n",
      "     5102    0.460    0.000    0.669    0.000 /Users/ryan/Dropbox/Projects/ResearchProjects/eco-evo-crm/ecoevocrm/src/ecoevocrm/type_set.py:352(get_dynamics_params)\n",
      "     2551    0.065    0.000    0.590    0.000 /usr/local/lib/python3.8/site-packages/scipy/integrate/_ivp/ivp.py:81(handle_events)\n",
      "     2551    0.056    0.000    0.590    0.000 /Users/ryan/Dropbox/Projects/ResearchProjects/eco-evo-crm/ecoevocrm/src/ecoevocrm/type_set.py:319(get_type)\n",
      "     3135    0.105    0.000    0.512    0.000 /Users/ryan/Dropbox/Projects/ResearchProjects/eco-evo-crm/ecoevocrm/src/ecoevocrm/type_set.py:10(__init__)\n",
      "    54081    0.117    0.000    0.506    0.000 /usr/local/lib/python3.8/site-packages/numpy/core/fromnumeric.py:51(_wrapfunc)\n",
      "    12670    0.403    0.000    0.505    0.000 /usr/local/lib/python3.8/site-packages/scipy/integrate/_ivp/ivp.py:130(find_active_events)\n",
      "     2551    0.015    0.000    0.477    0.000 {built-in method builtins.print}\n",
      "     5102    0.045    0.000    0.461    0.000 /usr/local/lib/python3.8/site-packages/ipykernel/iostream.py:386(write)\n",
      "     2551    0.392    0.000    0.446    0.000 {method 'choice' of 'numpy.random.mtrand.RandomState' objects}\n",
      "     2551    0.032    0.000    0.444    0.000 /usr/local/lib/python3.8/site-packages/scipy/integrate/_ivp/ivp.py:108(<listcomp>)\n",
      "    28656    0.056    0.000    0.443    0.000 /usr/local/lib/python3.8/site-packages/numpy/core/fromnumeric.py:436(repeat)\n",
      "    38276    0.417    0.000    0.417    0.000 {built-in method numpy.concatenate}\n",
      "     2551    0.027    0.000    0.412    0.000 /usr/local/lib/python3.8/site-packages/scipy/integrate/_ivp/ivp.py:53(solve_event_equation)\n",
      "     5420    0.034    0.000    0.395    0.000 /usr/local/lib/python3.8/site-packages/ipykernel/iostream.py:197(schedule)\n",
      "    40614    0.361    0.000    0.361    0.000 {method 'reduce' of 'numpy.ufunc' objects}\n",
      "     2551    0.019    0.000    0.360    0.000 /usr/local/lib/python3.8/site-packages/scipy/optimize/zeros.py:650(brentq)\n",
      "    11157    0.246    0.000    0.347    0.000 /Users/ryan/Dropbox/Projects/ResearchProjects/eco-evo-crm/ecoevocrm/src/ecoevocrm/utils.py:45(add)\n",
      "     2551    0.023    0.000    0.336    0.000 {built-in method scipy.optimize._zeros._brentq}\n",
      "     1168    0.037    0.000    0.326    0.000 /Users/ryan/Dropbox/Projects/ResearchProjects/eco-evo-crm/ecoevocrm/src/ecoevocrm/type_set.py:240(add_type)\n",
      "    14706    0.027    0.000    0.314    0.000 /usr/local/lib/python3.8/site-packages/scipy/integrate/_ivp/ivp.py:77(<lambda>)\n",
      "    28656    0.310    0.000    0.310    0.000 {method 'repeat' of 'numpy.ndarray' objects}\n",
      "     5420    0.304    0.000    0.304    0.000 /usr/local/lib/python3.8/site-packages/zmq/sugar/socket.py:342(send)\n",
      "   206398    0.168    0.000    0.298    0.000 /Users/ryan/Dropbox/Projects/ResearchProjects/eco-evo-crm/ecoevocrm/src/ecoevocrm/type_set.py:81(get_array)\n",
      "    19808    0.046    0.000    0.296    0.000 /usr/local/lib/python3.8/site-packages/scipy/integrate/_ivp/base.py:235(__call__)\n",
      "    12755    0.154    0.000    0.266    0.000 /Users/ryan/Dropbox/Projects/ResearchProjects/eco-evo-crm/ecoevocrm/src/ecoevocrm/consumer_resource_system.py:189(extant_type_indices)\n",
      "     2551    0.028    0.000    0.261    0.000 /usr/local/lib/python3.8/site-packages/scipy/integrate/_ode.py:374(set_integrator)\n",
      "    19808    0.180    0.000    0.233    0.000 /usr/local/lib/python3.8/site-packages/scipy/integrate/_ivp/lsoda.py:182(_call_impl)\n",
      "     8821    0.075    0.000    0.222    0.000 /Users/ryan/Dropbox/Projects/ResearchProjects/eco-evo-crm/ecoevocrm/src/ecoevocrm/type_set.py:129(energy_costs)\n",
      "    70067    0.207    0.000    0.207    0.000 {built-in method numpy.zeros}\n",
      "    43521    0.196    0.000    0.196    0.000 {built-in method numpy.array}\n",
      "     5102    0.141    0.000    0.191    0.000 /Users/ryan/Dropbox/Projects/ResearchProjects/eco-evo-crm/ecoevocrm/src/ecoevocrm/type_set.py:345(get_mutant_indices)\n",
      "    25080    0.105    0.000    0.189    0.000 /Users/ryan/Dropbox/Projects/ResearchProjects/eco-evo-crm/ecoevocrm/src/ecoevocrm/type_set.py:170(preprocess_params)\n",
      "    95672    0.164    0.000    0.164    0.000 /Users/ryan/Dropbox/Projects/ResearchProjects/eco-evo-crm/ecoevocrm/src/ecoevocrm/utils.py:32(values)\n",
      "     2551    0.008    0.000    0.160    0.000 /usr/local/lib/python3.8/site-packages/scipy/integrate/_ivp/base.py:192(dense_output)\n",
      "    49018    0.067    0.000    0.160    0.000 /Users/ryan/Dropbox/Projects/ResearchProjects/eco-evo-crm/ecoevocrm/src/ecoevocrm/consumer_resource_system.py:161(get_array)\n",
      "      584    0.012    0.000    0.155    0.000 /Users/ryan/Dropbox/Projects/ResearchProjects/eco-evo-crm/ecoevocrm/src/ecoevocrm/type_set.py:221(generate_mutant_set)\n",
      "     2551    0.066    0.000    0.152    0.000 /usr/local/lib/python3.8/site-packages/scipy/integrate/_ivp/lsoda.py:163(_dense_output_impl)\n",
      "     5102    0.105    0.000    0.152    0.000 /usr/local/lib/python3.8/site-packages/scipy/integrate/_ode.py:1288(reset)\n",
      "    29927    0.103    0.000    0.152    0.000 /usr/local/lib/python3.8/site-packages/scipy/integrate/_ivp/ivp.py:565(<lambda>)\n",
      "    18013    0.127    0.000    0.145    0.000 /usr/local/lib/python3.8/site-packages/numpy/core/shape_base.py:81(atleast_2d)\n",
      "     5102    0.019    0.000    0.145    0.000 /usr/local/lib/python3.8/site-packages/numpy/core/fromnumeric.py:2305(any)\n",
      "    32677    0.034    0.000    0.137    0.000 /Users/ryan/Dropbox/Projects/ResearchProjects/eco-evo-crm/ecoevocrm/src/ecoevocrm/type_set.py:89(sigma)\n",
      "     2551    0.018    0.000    0.134    0.000 /usr/local/lib/python3.8/site-packages/scipy/integrate/_ode.py:362(set_initial_value)\n",
      "     2551    0.027    0.000    0.132    0.000 /usr/local/lib/python3.8/site-packages/scipy/integrate/_ode.py:753(find_integrator)\n",
      "     2551    0.065    0.000    0.129    0.000 /usr/local/lib/python3.8/site-packages/scipy/integrate/_ivp/base.py:115(__init__)\n",
      "     2551    0.028    0.000    0.128    0.000 /usr/local/lib/python3.8/site-packages/scipy/integrate/_ivp/common.py:43(validate_tol)\n",
      "   400592    0.117    0.000    0.127    0.000 {built-in method builtins.isinstance}\n",
      "    28609    0.031    0.000    0.122    0.000 /Users/ryan/Dropbox/Projects/ResearchProjects/eco-evo-crm/ecoevocrm/src/ecoevocrm/consumer_resource_system.py:165(N_series)\n",
      "     6270    0.043    0.000    0.121    0.000 /Users/ryan/Dropbox/Projects/ResearchProjects/eco-evo-crm/ecoevocrm/src/ecoevocrm/utils.py:119(reshape)\n",
      "    15307    0.023    0.000    0.113    0.000 /Users/ryan/Dropbox/Projects/ResearchProjects/eco-evo-crm/ecoevocrm/src/ecoevocrm/consumer_resource_system.py:185(t)\n",
      "    40614    0.111    0.000    0.111    0.000 /usr/local/lib/python3.8/site-packages/numpy/core/fromnumeric.py:70(<dictcomp>)\n",
      "     4518    0.080    0.000    0.109    0.000 /Users/ryan/Dropbox/Projects/ResearchProjects/eco-evo-crm/ecoevocrm/src/ecoevocrm/consumer_resource_system.py:446(get_type_abundance)\n",
      "    12755    0.019    0.000    0.105    0.000 /usr/local/Cellar/python@3.8/3.8.4/Frameworks/Python.framework/Versions/3.8/lib/python3.8/re.py:188(match)\n",
      "    17857    0.028    0.000    0.105    0.000 /Users/ryan/Dropbox/Projects/ResearchProjects/eco-evo-crm/ecoevocrm/src/ecoevocrm/consumer_resource_system.py:169(N)\n",
      "     2551    0.015    0.000    0.097    0.000 /usr/local/lib/python3.8/site-packages/numpy/core/shape_base.py:222(vstack)\n",
      "    15307    0.026    0.000    0.090    0.000 /Users/ryan/Dropbox/Projects/ResearchProjects/eco-evo-crm/ecoevocrm/src/ecoevocrm/consumer_resource_system.py:181(t_series)\n",
      "    88526    0.088    0.000    0.088    0.000 {built-in method numpy.asarray}\n",
      "     5650    0.040    0.000    0.084    0.000 /Users/ryan/Dropbox/Projects/ResearchProjects/eco-evo-crm/ecoevocrm/src/ecoevocrm/consumer_resource_system.py:435(set_type_abundance)\n",
      "    15221    0.020    0.000    0.080    0.000 /usr/local/lib/python3.8/site-packages/numpy/core/fromnumeric.py:1866(nonzero)\n",
      "     4305    0.043    0.000    0.079    0.000 /Users/ryan/Dropbox/Projects/ResearchProjects/eco-evo-crm/ecoevocrm/src/ecoevocrm/utils.py:9(__init__)\n",
      "    14079    0.018    0.000    0.077    0.000 /Users/ryan/Dropbox/Projects/ResearchProjects/eco-evo-crm/ecoevocrm/src/ecoevocrm/type_set.py:85(num_types)\n",
      "    12670    0.021    0.000    0.074    0.000 /usr/local/lib/python3.8/site-packages/scipy/integrate/_ivp/ivp.py:595(<listcomp>)\n",
      "    12755    0.040    0.000    0.072    0.000 /usr/local/Cellar/python@3.8/3.8.4/Frameworks/Python.framework/Versions/3.8/lib/python3.8/re.py:289(_compile)\n",
      "    20977    0.068    0.000    0.068    0.000 {built-in method numpy.dot}\n",
      "     5102    0.025    0.000    0.067    0.000 /usr/local/lib/python3.8/site-packages/numpy/core/numerictypes.py:356(issubdtype)\n",
      "     2551    0.022    0.000    0.064    0.000 /usr/local/lib/python3.8/site-packages/scipy/integrate/_ivp/base.py:4(check_arguments)\n",
      "     2551    0.048    0.000    0.062    0.000 /usr/local/lib/python3.8/site-packages/scipy/integrate/_ivp/ivp.py:28(prepare_events)\n",
      "     2551    0.029    0.000    0.057    0.000 /usr/local/lib/python3.8/site-packages/scipy/integrate/_ivp/lsoda.py:176(__init__)\n",
      "     3135    0.027    0.000    0.056    0.000 /usr/local/lib/python3.8/site-packages/numpy/lib/shape_base.py:1171(tile)\n",
      "    21504    0.036    0.000    0.051    0.000 /Users/ryan/Dropbox/Projects/ResearchProjects/eco-evo-crm/ecoevocrm/src/ecoevocrm/utils.py:146(treat_as_list)\n",
      "      584    0.016    0.000    0.051    0.000 /Users/ryan/Dropbox/Projects/ResearchProjects/eco-evo-crm/ecoevocrm/src/ecoevocrm/type_set.py:210(generate_mutant_phenotypes)\n",
      "    29927    0.049    0.000    0.049    0.000 /Users/ryan/Dropbox/Projects/ResearchProjects/eco-evo-crm/ecoevocrm/src/ecoevocrm/consumer_resource_system.py:367(event_mutation)\n",
      "    17273    0.046    0.000    0.046    0.000 {built-in method numpy.where}\n",
      "     5420    0.021    0.000    0.043    0.000 /usr/local/Cellar/python@3.8/3.8.4/Frameworks/Python.framework/Versions/3.8/lib/python3.8/threading.py:1071(is_alive)\n",
      "    19025    0.020    0.000    0.043    0.000 /Users/ryan/Dropbox/Projects/ResearchProjects/eco-evo-crm/ecoevocrm/src/ecoevocrm/type_set.py:93(b)\n",
      "     5102    0.008    0.000    0.042    0.000 /usr/local/lib/python3.8/site-packages/ipykernel/iostream.py:323(_schedule_flush)\n",
      "    10204    0.033    0.000    0.042    0.000 /usr/local/lib/python3.8/site-packages/numpy/core/numerictypes.py:282(issubclass_)\n",
      "       54    0.041    0.001    0.041    0.001 /Users/ryan/Dropbox/Projects/ResearchProjects/eco-evo-crm/ecoevocrm/src/ecoevocrm/utils.py:36(expand_alloc)\n",
      "     2551    0.040    0.000    0.040    0.000 {method 'exponential' of 'numpy.random.mtrand.RandomState' objects}\n",
      "     5102    0.010    0.000    0.038    0.000 /usr/local/lib/python3.8/site-packages/numpy/core/fromnumeric.py:198(reshape)\n",
      "     2551    0.012    0.000    0.038    0.000 {method 'any' of 'numpy.generic' objects}\n",
      "    18812    0.018    0.000    0.035    0.000 /Users/ryan/Dropbox/Projects/ResearchProjects/eco-evo-crm/ecoevocrm/src/ecoevocrm/type_set.py:117(chi)\n",
      "    19025    0.016    0.000    0.034    0.000 /Users/ryan/Dropbox/Projects/ResearchProjects/eco-evo-crm/ecoevocrm/src/ecoevocrm/type_set.py:109(g)\n",
      "    19025    0.016    0.000    0.033    0.000 /Users/ryan/Dropbox/Projects/ResearchProjects/eco-evo-crm/ecoevocrm/src/ecoevocrm/type_set.py:97(k)\n",
      "     3135    0.012    0.000    0.033    0.000 /Users/ryan/Dropbox/Projects/ResearchProjects/eco-evo-crm/ecoevocrm/src/ecoevocrm/type_set.py:339(get_type_id)\n",
      "     2551    0.004    0.000    0.033    0.000 /usr/local/lib/python3.8/site-packages/scipy/integrate/_ivp/ivp.py:567(<listcomp>)\n",
      "    18812    0.016    0.000    0.033    0.000 /Users/ryan/Dropbox/Projects/ResearchProjects/eco-evo-crm/ecoevocrm/src/ecoevocrm/type_set.py:113(c)\n",
      "    19025    0.016    0.000    0.033    0.000 /Users/ryan/Dropbox/Projects/ResearchProjects/eco-evo-crm/ecoevocrm/src/ecoevocrm/type_set.py:101(eta)\n",
      "    19025    0.015    0.000    0.032    0.000 /Users/ryan/Dropbox/Projects/ResearchProjects/eco-evo-crm/ecoevocrm/src/ecoevocrm/type_set.py:105(l)\n",
      "     2551    0.012    0.000    0.031    0.000 /usr/local/lib/python3.8/site-packages/numpy/core/fromnumeric.py:1127(argmax)\n",
      "    56632    0.030    0.000    0.030    0.000 {built-in method builtins.getattr}\n",
      "     2551    0.014    0.000    0.030    0.000 /usr/local/lib/python3.8/site-packages/numpy/core/numeric.py:1859(isscalar)\n",
      "    12755    0.022    0.000    0.030    0.000 /usr/local/Cellar/python@3.8/3.8.4/Frameworks/Python.framework/Versions/3.8/lib/python3.8/types.py:171(__get__)\n",
      "     2551    0.029    0.000    0.029    0.000 /usr/local/lib/python3.8/site-packages/scipy/integrate/_ivp/ivp.py:565(<listcomp>)\n",
      "    16474    0.013    0.000    0.028    0.000 /Users/ryan/Dropbox/Projects/ResearchProjects/eco-evo-crm/ecoevocrm/src/ecoevocrm/type_set.py:121(mu)\n",
      "     3135    0.024    0.000    0.027    0.000 <frozen importlib._bootstrap>:1017(_handle_fromlist)\n",
      "     5102    0.007    0.000    0.027    0.000 /Users/ryan/Dropbox/Projects/ResearchProjects/eco-evo-crm/ecoevocrm/src/ecoevocrm/consumer_resource_system.py:177(R)\n",
      "     5102    0.010    0.000    0.027    0.000 /Users/ryan/Dropbox/Projects/ResearchProjects/eco-evo-crm/ecoevocrm/src/ecoevocrm/type_set.py:150(mutant_indices)\n",
      "     2551    0.005    0.000    0.026    0.000 /usr/local/lib/python3.8/site-packages/numpy/core/_methods.py:54(_any)\n",
      "     5102    0.022    0.000    0.024    0.000 /usr/local/lib/python3.8/site-packages/numpy/core/getlimits.py:457(__new__)\n",
      "      584    0.018    0.000    0.024    0.000 /Users/ryan/Dropbox/Projects/ResearchProjects/eco-evo-crm/ecoevocrm/src/ecoevocrm/type_set.py:295(add_type_to_phylogeny)\n",
      "     2551    0.023    0.000    0.023    0.000 /usr/local/lib/python3.8/site-packages/scipy/integrate/_ode.py:1255(__init__)\n",
      "    15221    0.022    0.000    0.022    0.000 {method 'nonzero' of 'numpy.ndarray' objects}\n",
      "     9461    0.022    0.000    0.022    0.000 {built-in method numpy.empty}\n",
      "103297/103296    0.022    0.000    0.022    0.000 {built-in method builtins.len}\n",
      "    34332    0.021    0.000    0.021    0.000 {method 'ravel' of 'numpy.ndarray' objects}\n",
      "    12670    0.020    0.000    0.020    0.000 /usr/local/lib/python3.8/site-packages/scipy/integrate/_ode.py:442(successful)\n",
      "     5102    0.006    0.000    0.020    0.000 /Users/ryan/Dropbox/Projects/ResearchProjects/eco-evo-crm/ecoevocrm/src/ecoevocrm/consumer_resource_system.py:173(R_series)\n",
      "    15306    0.019    0.000    0.019    0.000 /usr/local/lib/python3.8/site-packages/scipy/optimize/optimize.py:120(__getattr__)\n",
      "    10575    0.009    0.000    0.019    0.000 /Users/ryan/Dropbox/Projects/ResearchProjects/eco-evo-crm/ecoevocrm/src/ecoevocrm/type_set.py:125(J)\n",
      "    10204    0.019    0.000    0.019    0.000 {built-in method builtins.max}\n",
      "     5420    0.011    0.000    0.018    0.000 /usr/local/Cellar/python@3.8/3.8.4/Frameworks/Python.framework/Versions/3.8/lib/python3.8/threading.py:1017(_wait_for_tstate_lock)\n",
      "     5102    0.009    0.000    0.018    0.000 /Users/ryan/Dropbox/Projects/ResearchProjects/eco-evo-crm/ecoevocrm/src/ecoevocrm/type_set.py:140(type_ids)\n",
      "     3136    0.018    0.000    0.018    0.000 {built-in method numpy.arange}\n",
      "     2551    0.006    0.000    0.018    0.000 /usr/local/lib/python3.8/site-packages/numpy/core/fromnumeric.py:1012(argsort)\n",
      "      584    0.004    0.000    0.017    0.000 /usr/local/lib/python3.8/site-packages/numpy/core/numeric.py:2131(identity)\n",
      "    40615    0.016    0.000    0.016    0.000 {method 'items' of 'dict' objects}\n",
      "     5103    0.015    0.000    0.015    0.000 {method 'reshape' of 'numpy.ndarray' objects}\n",
      "    62904    0.014    0.000    0.014    0.000 {method 'append' of 'list' objects}\n",
      "    12755    0.014    0.000    0.014    0.000 {method 'match' of 're.Pattern' objects}\n",
      "     2551    0.009    0.000    0.014    0.000 /usr/local/lib/python3.8/site-packages/scipy/integrate/_ivp/base.py:229(__init__)\n",
      "     3135    0.007    0.000    0.013    0.000 {built-in method builtins.all}\n",
      "     5102    0.010    0.000    0.013    0.000 /usr/local/lib/python3.8/site-packages/ipykernel/iostream.py:310(_is_master_process)\n",
      "     5420    0.012    0.000    0.012    0.000 /usr/local/lib/python3.8/site-packages/ipykernel/iostream.py:93(_event_pipe)\n",
      "    10119    0.012    0.000    0.012    0.000 /usr/local/lib/python3.8/site-packages/scipy/integrate/_ode.py:792(check_handle)\n",
      "     2551    0.011    0.000    0.011    0.000 {method 'argmax' of 'numpy.ndarray' objects}\n",
      "     2551    0.011    0.000    0.011    0.000 {method 'copy' of 'numpy.ndarray' objects}\n",
      "     2551    0.003    0.000    0.010    0.000 /usr/local/lib/python3.8/site-packages/scipy/integrate/_ivp/ivp.py:644(<listcomp>)\n",
      "    15306    0.010    0.000    0.010    0.000 {built-in method builtins.issubclass}\n",
      "     2551    0.010    0.000    0.010    0.000 /Users/ryan/Dropbox/Projects/ResearchProjects/eco-evo-crm/ecoevocrm/src/ecoevocrm/resource_set.py:56(get_dynamics_params)\n",
      "      584    0.007    0.000    0.010    0.000 /usr/local/lib/python3.8/site-packages/numpy/lib/twodim_base.py:161(eye)\n",
      "     2551    0.003    0.000    0.010    0.000 /usr/local/Cellar/python@3.8/3.8.4/Frameworks/Python.framework/Versions/3.8/lib/python3.8/abc.py:96(__instancecheck__)\n",
      "     2551    0.009    0.000    0.009    0.000 /usr/local/lib/python3.8/site-packages/scipy/integrate/_ode.py:350(__init__)\n",
      "     2551    0.008    0.000    0.008    0.000 /usr/local/lib/python3.8/site-packages/scipy/integrate/_ode.py:785(acquire_new_handle)\n",
      "     2551    0.004    0.000    0.008    0.000 /usr/local/lib/python3.8/site-packages/scipy/integrate/_ivp/ivp.py:643(<listcomp>)\n",
      "    12755    0.007    0.000    0.007    0.000 /usr/local/Cellar/python@3.8/3.8.4/Frameworks/Python.framework/Versions/3.8/lib/python3.8/enum.py:664(value)\n",
      "     5420    0.007    0.000    0.007    0.000 {method 'acquire' of '_thread.lock' objects}\n",
      "    30683    0.007    0.000    0.007    0.000 {built-in method numpy.asanyarray}\n",
      "     9405    0.007    0.000    0.007    0.000 /usr/local/lib/python3.8/site-packages/numpy/lib/shape_base.py:1243(<genexpr>)\n",
      "      584    0.001    0.000    0.006    0.000 /Users/ryan/Dropbox/Projects/ResearchProjects/eco-evo-crm/ecoevocrm/src/ecoevocrm/type_set.py:143(<listcomp>)\n",
      "     2551    0.006    0.000    0.006    0.000 {built-in method _abc._abc_instancecheck}\n",
      "     2551    0.004    0.000    0.006    0.000 /usr/local/lib/python3.8/site-packages/numpy/core/shape_base.py:207(_arrays_for_stack_dispatcher)\n",
      "     3135    0.006    0.000    0.006    0.000 /Users/ryan/Dropbox/Projects/ResearchProjects/eco-evo-crm/ecoevocrm/src/ecoevocrm/type_set.py:70(<listcomp>)\n",
      "     3135    0.006    0.000    0.006    0.000 {method 'tolist' of 'numpy.ndarray' objects}\n",
      "     2551    0.005    0.000    0.005    0.000 {method 'argsort' of 'numpy.ndarray' objects}\n",
      "     2551    0.004    0.000    0.004    0.000 /usr/local/lib/python3.8/site-packages/scipy/integrate/_ivp/common.py:26(warn_extraneous)\n",
      "    10204    0.004    0.000    0.004    0.000 {method 'get' of 'dict' objects}\n",
      "     5420    0.004    0.000    0.004    0.000 /usr/local/Cellar/python@3.8/3.8.4/Frameworks/Python.framework/Versions/3.8/lib/python3.8/threading.py:513(is_set)\n",
      "     2551    0.004    0.000    0.004    0.000 /usr/local/lib/python3.8/site-packages/scipy/optimize/zeros.py:70(results_c)\n",
      "     3135    0.003    0.000    0.003    0.000 {built-in method builtins.hash}\n",
      "     5686    0.003    0.000    0.003    0.000 {built-in method builtins.hasattr}\n",
      "     2554    0.003    0.000    0.003    0.000 {built-in method builtins.min}\n",
      "     2551    0.003    0.000    0.003    0.000 {method 'astype' of 'numpy.ndarray' objects}\n",
      "     2551    0.003    0.000    0.003    0.000 /Users/ryan/Dropbox/Projects/ResearchProjects/eco-evo-crm/ecoevocrm/src/ecoevocrm/utils.py:24(shape)\n",
      "      584    0.002    0.000    0.002    0.000 {method 'astype' of 'numpy.generic' objects}\n",
      "     2551    0.002    0.000    0.002    0.000 /usr/local/lib/python3.8/site-packages/scipy/integrate/_ivp/ivp.py:568(<listcomp>)\n",
      "     5102    0.002    0.000    0.002    0.000 {built-in method posix.getpid}\n",
      "     2551    0.002    0.000    0.002    0.000 /usr/local/lib/python3.8/site-packages/scipy/integrate/_ivp/ivp.py:569(<listcomp>)\n",
      "     5102    0.002    0.000    0.002    0.000 {method 'values' of 'dict' objects}\n",
      "     5102    0.002    0.000    0.002    0.000 {built-in method builtins.callable}\n",
      "     5420    0.001    0.000    0.001    0.000 {method 'append' of 'collections.deque' objects}\n",
      "     2551    0.001    0.000    0.001    0.000 {built-in method _operator.index}\n",
      "     3319    0.001    0.000    0.001    0.000 {method 'join' of 'str' objects}\n",
      "      567    0.001    0.000    0.001    0.000 {method 'split' of 'str' objects}\n",
      "      584    0.001    0.000    0.001    0.000 /Users/ryan/Dropbox/Projects/ResearchProjects/eco-evo-crm/ecoevocrm/src/ecoevocrm/type_set.py:156(lineage_ids)\n",
      "        1    0.000    0.000    0.001    0.001 /usr/local/Cellar/python@3.8/3.8.4/Frameworks/Python.framework/Versions/3.8/lib/python3.8/sre_compile.py:759(compile)\n",
      "      584    0.000    0.000    0.000    0.000 /Users/ryan/Dropbox/Projects/ResearchProjects/eco-evo-crm/ecoevocrm/src/ecoevocrm/type_set.py:146(parent_indices)\n",
      "        1    0.000    0.000    0.000    0.000 /usr/local/Cellar/python@3.8/3.8.4/Frameworks/Python.framework/Versions/3.8/lib/python3.8/sre_parse.py:937(parse)\n",
      "        1    0.000    0.000    0.000    0.000 /usr/local/Cellar/python@3.8/3.8.4/Frameworks/Python.framework/Versions/3.8/lib/python3.8/sre_parse.py:435(_parse_sub)\n",
      "        1    0.000    0.000    0.000    0.000 /usr/local/Cellar/python@3.8/3.8.4/Frameworks/Python.framework/Versions/3.8/lib/python3.8/sre_compile.py:598(_code)\n",
      "        1    0.000    0.000    0.000    0.000 /usr/local/Cellar/python@3.8/3.8.4/Frameworks/Python.framework/Versions/3.8/lib/python3.8/sre_parse.py:493(_parse)\n",
      "      584    0.000    0.000    0.000    0.000 {method 'keys' of 'dict' objects}\n",
      "      584    0.000    0.000    0.000    0.000 {method 'extend' of 'list' objects}\n",
      "        1    0.000    0.000    0.000    0.000 /usr/local/Cellar/python@3.8/3.8.4/Frameworks/Python.framework/Versions/3.8/lib/python3.8/sre_compile.py:71(_compile)\n",
      "        1    0.000    0.000    0.000    0.000 /usr/local/Cellar/python@3.8/3.8.4/Frameworks/Python.framework/Versions/3.8/lib/python3.8/sre_compile.py:536(_compile_info)\n",
      "      7/1    0.000    0.000    0.000    0.000 /usr/local/Cellar/python@3.8/3.8.4/Frameworks/Python.framework/Versions/3.8/lib/python3.8/abc.py:100(__subclasscheck__)\n",
      "      7/1    0.000    0.000    0.000    0.000 {built-in method _abc._abc_subclasscheck}\n",
      "        1    0.000    0.000    0.000    0.000 /usr/local/Cellar/python@3.8/3.8.4/Frameworks/Python.framework/Versions/3.8/lib/python3.8/enum.py:833(__and__)\n",
      "        5    0.000    0.000    0.000    0.000 /usr/local/Cellar/python@3.8/3.8.4/Frameworks/Python.framework/Versions/3.8/lib/python3.8/sre_parse.py:254(get)\n",
      "        1    0.000    0.000    0.000    0.000 /usr/local/Cellar/python@3.8/3.8.4/Frameworks/Python.framework/Versions/3.8/lib/python3.8/sre_compile.py:461(_get_literal_prefix)\n",
      "        1    0.000    0.000    0.000    0.000 /usr/local/Cellar/python@3.8/3.8.4/Frameworks/Python.framework/Versions/3.8/lib/python3.8/sre_parse.py:174(getwidth)\n",
      "        6    0.000    0.000    0.000    0.000 /usr/local/Cellar/python@3.8/3.8.4/Frameworks/Python.framework/Versions/3.8/lib/python3.8/sre_parse.py:233(__next)\n",
      "        2    0.000    0.000    0.000    0.000 /usr/local/Cellar/python@3.8/3.8.4/Frameworks/Python.framework/Versions/3.8/lib/python3.8/enum.py:283(__call__)\n",
      "        5    0.000    0.000    0.000    0.000 /usr/local/Cellar/python@3.8/3.8.4/Frameworks/Python.framework/Versions/3.8/lib/python3.8/sre_parse.py:164(__getitem__)\n",
      "        1    0.000    0.000    0.000    0.000 /usr/local/Cellar/python@3.8/3.8.4/Frameworks/Python.framework/Versions/3.8/lib/python3.8/sre_parse.py:224(__init__)\n",
      "        2    0.000    0.000    0.000    0.000 /usr/local/Cellar/python@3.8/3.8.4/Frameworks/Python.framework/Versions/3.8/lib/python3.8/enum.py:562(__new__)\n",
      "        3    0.000    0.000    0.000    0.000 /Users/ryan/Dropbox/Projects/ResearchProjects/eco-evo-crm/ecoevocrm/src/ecoevocrm/utils.py:59(trim)\n",
      "        5    0.000    0.000    0.000    0.000 /usr/local/Cellar/python@3.8/3.8.4/Frameworks/Python.framework/Versions/3.8/lib/python3.8/sre_parse.py:172(append)\n",
      "        1    0.000    0.000    0.000    0.000 /usr/local/Cellar/python@3.8/3.8.4/Frameworks/Python.framework/Versions/3.8/lib/python3.8/sre_parse.py:76(__init__)\n",
      "        1    0.000    0.000    0.000    0.000 /usr/local/Cellar/python@3.8/3.8.4/Frameworks/Python.framework/Versions/3.8/lib/python3.8/sre_compile.py:492(_get_charset_prefix)\n",
      "        1    0.000    0.000    0.000    0.000 /usr/local/Cellar/python@3.8/3.8.4/Frameworks/Python.framework/Versions/3.8/lib/python3.8/sre_parse.py:921(fix_flags)\n",
      "        2    0.000    0.000    0.000    0.000 /usr/local/Cellar/python@3.8/3.8.4/Frameworks/Python.framework/Versions/3.8/lib/python3.8/sre_parse.py:81(groups)\n",
      "        1    0.000    0.000    0.000    0.000 /usr/local/Cellar/python@3.8/3.8.4/Frameworks/Python.framework/Versions/3.8/lib/python3.8/sre_parse.py:111(__init__)\n",
      "        2    0.000    0.000    0.000    0.000 /usr/local/Cellar/python@3.8/3.8.4/Frameworks/Python.framework/Versions/3.8/lib/python3.8/sre_compile.py:453(_get_iscased)\n",
      "        2    0.000    0.000    0.000    0.000 /usr/local/Cellar/python@3.8/3.8.4/Frameworks/Python.framework/Versions/3.8/lib/python3.8/sre_compile.py:595(isstring)\n",
      "        6    0.000    0.000    0.000    0.000 /Users/ryan/Dropbox/Projects/ResearchProjects/eco-evo-crm/ecoevocrm/src/ecoevocrm/utils.py:28(alloc)\n",
      "        1    0.000    0.000    0.000    0.000 /usr/local/Cellar/python@3.8/3.8.4/Frameworks/Python.framework/Versions/3.8/lib/python3.8/sre_parse.py:286(tell)\n",
      "        7    0.000    0.000    0.000    0.000 {built-in method _sre.unicode_iscased}\n",
      "        1    0.000    0.000    0.000    0.000 {built-in method _sre.compile}\n",
      "        1    0.000    0.000    0.000    0.000 /usr/local/Cellar/python@3.8/3.8.4/Frameworks/Python.framework/Versions/3.8/lib/python3.8/sre_parse.py:160(__len__)\n",
      "        1    0.000    0.000    0.000    0.000 /usr/local/Cellar/python@3.8/3.8.4/Frameworks/Python.framework/Versions/3.8/lib/python3.8/sre_parse.py:249(match)\n",
      "        5    0.000    0.000    0.000    0.000 {built-in method builtins.ord}\n",
      "        5    0.000    0.000    0.000    0.000 {built-in method _sre.unicode_tolower}\n",
      "        1    0.000    0.000    0.000    0.000 {method 'disable' of '_lsprof.Profiler' objects}\n",
      "\n",
      "\n"
     ]
    },
    {
     "data": {
      "text/plain": [
       "<pstats.Stats at 0x14a9bfdc0>"
      ]
     },
     "execution_count": 23,
     "metadata": {},
     "output_type": "execute_result"
    }
   ],
   "source": [
    "ps = pstats.Stats(profiler)\n",
    "ps.sort_stats('cumtime')\n",
    "ps.print_stats()"
   ]
  },
  {
   "cell_type": "code",
   "execution_count": 24,
   "metadata": {},
   "outputs": [
    {
     "name": "stdout",
     "output_type": "stream",
     "text": [
      "15222\n"
     ]
    }
   ],
   "source": [
    "print(len(anc_system.t_series))"
   ]
  },
  {
   "cell_type": "markdown",
   "metadata": {
    "tags": []
   },
   "source": [
    "### Visualize results"
   ]
  },
  {
   "cell_type": "code",
   "execution_count": 25,
   "metadata": {},
   "outputs": [],
   "source": [
    "anc_system.reorder_types()"
   ]
  },
  {
   "cell_type": "code",
   "execution_count": 26,
   "metadata": {},
   "outputs": [
    {
     "data": {
      "text/plain": [
       "array(['1.6.1.2.10.3.2.4.1', '1.6.1.2.10.3.2.4.1.1', '1.6.1.2.10.3.2.6.1',\n",
       "       '1.6.15.1.5.1.1.1.4.3.3', '1.6.15.1.5.1.1.3.1.3',\n",
       "       '1.6.15.1.5.1.1.3.1.3.5', '1.6.15.1.5.1.1.3.2',\n",
       "       '1.6.15.1.5.1.1.3.2.2.1', '1.6.15.1.5.1.1.3.2.2.1.1',\n",
       "       '1.6.15.1.5.1.1.3.2.2.1.2', '1.6.15.1.5.1.1.3.2.2.1.3',\n",
       "       '1.6.15.3.5.3.2.2.6', '1.6.15.3.5.3.2.2.6.2', '1.6.15.3.5.3.5.1.2',\n",
       "       '1.6.15.3.5.3.5.1.3', '1.6.15.3.5.3.5.2', '1.6.15.3.5.3.5.2.1',\n",
       "       '1.6.15.3.5.3.5.2.1.1', '1.6.15.3.5.3.5.2.1.3',\n",
       "       '1.6.15.3.5.3.5.2.1.4', '1.6.15.3.5.3.5.2.2', '1.6.8.3.8.5.2',\n",
       "       '1.6.8.3.8.5.2.5', '1.6.8.3.8.5.2.5.1', '1.6.8.3.8.5.2.6',\n",
       "       '1.6.8.8.5.3.3.1.1', '1.6.8.8.5.3.3.1.1.1', '1.6.8.8.5.3.3.1.1.2',\n",
       "       '1.6.8.8.5.3.3.2.1.1', '1.6.8.8.5.3.3.2.1.1.4',\n",
       "       '1.6.8.8.5.3.3.2.1.2', '1.6.8.8.5.3.3.2.1.2.2',\n",
       "       '1.6.8.8.5.3.3.2.1.4', '1.6.8.8.5.3.3.2.1.4.1',\n",
       "       '1.6.8.8.5.3.3.2.1.4.1.1', '1.6.8.8.5.3.3.2.1.4.1.2',\n",
       "       '1.6.8.8.5.3.3.3.4', '1.6.8.8.5.3.3.3.4.1', '1.6.8.8.5.3.3.6'],\n",
       "      dtype='<U24')"
      ]
     },
     "execution_count": 26,
     "metadata": {},
     "output_type": "execute_result"
    }
   ],
   "source": [
    "np.asarray(anc_system.type_set.lineage_ids)[anc_system.extant_type_indices]"
   ]
  },
  {
   "cell_type": "code",
   "execution_count": 82,
   "metadata": {},
   "outputs": [],
   "source": [
    "type_colors = viz.color_types_by_phylogeny(anc_system.type_set, apply_palette_depth=2, highlight_clades='all')"
   ]
  },
  {
   "cell_type": "code",
   "execution_count": 83,
   "metadata": {},
   "outputs": [
    {
     "data": {
      "text/plain": [
       "<AxesSubplot:>"
      ]
     },
     "execution_count": 83,
     "metadata": {},
     "output_type": "execute_result"
    },
    {
     "data": {
      "image/png": "[encoded data removed]",
      "text/plain": [
       "<Figure size 1440x576 with 1 Axes>"
      ]
     },
     "metadata": {
      "needs_background": "light"
     },
     "output_type": "display_data"
    }
   ],
   "source": [
    "fig, ax = plt.subplots(1, 1, figsize=(20, 8))\n",
    "viz.stacked_abundance_plot(anc_system, ax=ax, type_colors=type_colors, relative_abundance=True)"
   ]
  },
  {
   "cell_type": "code",
   "execution_count": 29,
   "metadata": {},
   "outputs": [
    {
     "data": {
      "image/png": "[encoded data removed]",
      "text/plain": [
       "<Figure size 216x864 with 1 Axes>"
      ]
     },
     "metadata": {
      "needs_background": "light"
     },
     "output_type": "display_data"
    }
   ],
   "source": [
    "fig, ax = plt.subplots(1, 1, figsize=(3, 12))\n",
    "viz.matrix_plot(anc_phenotype, ax=ax)"
   ]
  },
  {
   "cell_type": "code",
   "execution_count": 30,
   "metadata": {},
   "outputs": [],
   "source": [
    "# fig, ax = plt.subplots(1, 1, figsize=(3, 12))\n",
    "# viz.matrix_plot(anc_system.type_set.sigma, ax=ax)"
   ]
  },
  {
   "cell_type": "code",
   "execution_count": 31,
   "metadata": {},
   "outputs": [],
   "source": [
    "# anc_system.extant_type_indices"
   ]
  },
  {
   "cell_type": "code",
   "execution_count": 32,
   "metadata": {},
   "outputs": [
    {
     "data": {
      "image/png": "[encoded data removed]",
      "text/plain": [
       "<Figure size 216x864 with 1 Axes>"
      ]
     },
     "metadata": {
      "needs_background": "light"
     },
     "output_type": "display_data"
    }
   ],
   "source": [
    "fig, ax = plt.subplots(1, 1, figsize=(3, 12))\n",
    "viz.matrix_plot(anc_system.get_extant_type_set().sigma, ax=ax)"
   ]
  },
  {
   "cell_type": "code",
   "execution_count": 33,
   "metadata": {},
   "outputs": [],
   "source": [
    "# fig, ax = plt.subplots(1, 1, figsize=(3, 12))\n",
    "# viz.matrix_plot(anc_system.extant_mutant_set.sigma, ax=ax)"
   ]
  },
  {
   "cell_type": "code",
   "execution_count": 34,
   "metadata": {},
   "outputs": [
    {
     "data": {
      "image/png": "[encoded data removed]",
      "text/plain": [
       "<Figure size 432x288 with 1 Axes>"
      ]
     },
     "metadata": {
      "needs_background": "light"
     },
     "output_type": "display_data"
    }
   ],
   "source": [
    "viz.Lstar_types_plot(anc_system)"
   ]
  },
  {
   "cell_type": "code",
   "execution_count": 35,
   "metadata": {},
   "outputs": [
    {
     "data": {
      "text/plain": [
       "2"
      ]
     },
     "execution_count": 35,
     "metadata": {},
     "output_type": "execute_result"
    }
   ],
   "source": [
    "N_end = anc_system.N_series[:,-1]\n",
    "np.count_nonzero((N_end > 0) & (N_end < 1e4))"
   ]
  },
  {
   "cell_type": "code",
   "execution_count": 36,
   "metadata": {},
   "outputs": [
    {
     "data": {
      "text/plain": [
       "[<matplotlib.lines.Line2D at 0x14472b0a0>]"
      ]
     },
     "execution_count": 36,
     "metadata": {},
     "output_type": "execute_result"
    },
    {
     "data": {
      "image/png": "[encoded data removed]",
      "text/plain": [
       "<Figure size 432x288 with 1 Axes>"
      ]
     },
     "metadata": {
      "needs_background": "light"
     },
     "output_type": "display_data"
    }
   ],
   "source": [
    "a = (anc_system.N_series > 0).argmax(axis=1)\n",
    "n = []\n",
    "for t_idx in range(anc_system.t_series.shape[0]):\n",
    "    n.append(np.count_nonzero(a <= t_idx)) \n",
    "plt.plot(anc_system.t_series, n)\n",
    "plt.plot(anc_system.t_series, (anc_system.N_series > 0).sum(axis=0))"
   ]
  },
  {
   "cell_type": "code",
   "execution_count": 37,
   "metadata": {},
   "outputs": [
    {
     "data": {
      "image/png": "[encoded data removed]",
      "text/plain": [
       "<Figure size 432x288 with 1 Axes>"
      ]
     },
     "metadata": {
      "needs_background": "light"
     },
     "output_type": "display_data"
    }
   ],
   "source": [
    "plt.hist(anc_system.N_series[(anc_system.N_series[:,-1]>0)&(anc_system.N_series[:,-1]<1e4),-1], bins=100)\n",
    "# plt.xlim((0,100))\n",
    "plt.show()"
   ]
  },
  {
   "cell_type": "code",
   "execution_count": 38,
   "metadata": {},
   "outputs": [
    {
     "data": {
      "image/png": "[encoded data removed]",
      "text/plain": [
       "<Figure size 432x288 with 1 Axes>"
      ]
     },
     "metadata": {
      "needs_background": "light"
     },
     "output_type": "display_data"
    }
   ],
   "source": [
    "r = ConsumerResourceSystem.growth_rate(anc_system.N[:, np.newaxis], anc_system.R, anc_system.type_set.sigma, anc_system.type_set.b, anc_system.type_set.k, anc_system.type_set.eta, anc_system.type_set.l, anc_system.type_set.g, anc_system.type_set.energy_costs, anc_system.resource_set.omega, anc_system.resource_consumption_mode)\n",
    "\n",
    "plt.hist(r[anc_system.N > 0] , bins=100)\n",
    "plt.show()"
   ]
  },
  {
   "cell_type": "code",
   "execution_count": 39,
   "metadata": {},
   "outputs": [
    {
     "data": {
      "image/png": "[encoded data removed]",
      "text/plain": [
       "<Figure size 432x288 with 1 Axes>"
      ]
     },
     "metadata": {
      "needs_background": "light"
     },
     "output_type": "display_data"
    }
   ],
   "source": [
    "s = r - np.mean(r[anc_system.N > 0])\n",
    "\n",
    "plt.hist(s[anc_system.N > 0] , bins=100)\n",
    "plt.show()"
   ]
  },
  {
   "cell_type": "code",
   "execution_count": 40,
   "metadata": {},
   "outputs": [
    {
     "data": {
      "image/png": "[encoded data removed]",
      "text/plain": [
       "<Figure size 432x288 with 1 Axes>"
      ]
     },
     "metadata": {
      "needs_background": "light"
     },
     "output_type": "display_data"
    }
   ],
   "source": [
    "r_lowabd = r[(anc_system.N > 0) & (anc_system.N < 1e4)]\n",
    "\n",
    "plt.hist(r_lowabd, bins=100)\n",
    "plt.axvline(0, color='k', alpha=0.3, ls='--')\n",
    "plt.show()"
   ]
  },
  {
   "cell_type": "code",
   "execution_count": 41,
   "metadata": {},
   "outputs": [
    {
     "data": {
      "image/png": "[encoded data removed]",
      "text/plain": [
       "<Figure size 432x288 with 1 Axes>"
      ]
     },
     "metadata": {
      "needs_background": "light"
     },
     "output_type": "display_data"
    }
   ],
   "source": [
    "s_lowabd = r[(anc_system.N > 0) & (anc_system.N < 1e4)] - np.mean(r[r > 0])\n",
    "\n",
    "plt.hist(s_lowabd, bins=100)\n",
    "plt.axvline(0, color='k', alpha=0.3, ls='--')\n",
    "plt.show()"
   ]
  },
  {
   "cell_type": "code",
   "execution_count": 42,
   "metadata": {},
   "outputs": [
    {
     "data": {
      "image/png": "[encoded data removed]",
      "text/plain": [
       "<Figure size 432x288 with 1 Axes>"
      ]
     },
     "metadata": {
      "needs_background": "light"
     },
     "output_type": "display_data"
    }
   ],
   "source": [
    "plt.scatter(anc_system.N[anc_system.N > 0], r[anc_system.N > 0])\n",
    "plt.axhline(0, color='k', alpha=0.3, ls='--')\n",
    "plt.xscale('log')\n",
    "plt.show()"
   ]
  },
  {
   "cell_type": "code",
   "execution_count": 43,
   "metadata": {},
   "outputs": [
    {
     "data": {
      "image/png": "[encoded data removed]",
      "text/plain": [
       "<Figure size 432x288 with 1 Axes>"
      ]
     },
     "metadata": {
      "needs_background": "light"
     },
     "output_type": "display_data"
    }
   ],
   "source": [
    "plt.scatter(anc_system.N[anc_system.N > 0], s[anc_system.N > 0])\n",
    "plt.axhline(0, color='k', alpha=0.3, ls='--')\n",
    "plt.xscale('log')\n",
    "plt.show()"
   ]
  },
  {
   "cell_type": "code",
   "execution_count": 44,
   "metadata": {},
   "outputs": [
    {
     "data": {
      "text/plain": [
       "(585, 20)"
      ]
     },
     "execution_count": 44,
     "metadata": {},
     "output_type": "execute_result"
    }
   ],
   "source": [
    "anc_system.type_set.sigma.shape"
   ]
  },
  {
   "cell_type": "code",
   "execution_count": 45,
   "metadata": {},
   "outputs": [],
   "source": [
    "a = np.where(anc_system.N_series > 0)"
   ]
  },
  {
   "cell_type": "code",
   "execution_count": null,
   "metadata": {},
   "outputs": [],
   "source": []
  },
  {
   "cell_type": "code",
   "execution_count": 46,
   "metadata": {},
   "outputs": [
    {
     "data": {
      "text/plain": [
       "()"
      ]
     },
     "execution_count": 46,
     "metadata": {},
     "output_type": "execute_result"
    }
   ],
   "source": [
    "anc_system.type_set.mu.shape"
   ]
  },
  {
   "cell_type": "code",
   "execution_count": 47,
   "metadata": {},
   "outputs": [
    {
     "data": {
      "text/plain": [
       "(15222,)"
      ]
     },
     "execution_count": 47,
     "metadata": {},
     "output_type": "execute_result"
    }
   ],
   "source": [
    "anc_system.t_series.shape"
   ]
  },
  {
   "cell_type": "code",
   "execution_count": 48,
   "metadata": {},
   "outputs": [
    {
     "data": {
      "text/plain": [
       "(585, 15222)"
      ]
     },
     "execution_count": 48,
     "metadata": {},
     "output_type": "execute_result"
    }
   ],
   "source": [
    "anc_system.N_series.shape"
   ]
  },
  {
   "cell_type": "code",
   "execution_count": 49,
   "metadata": {},
   "outputs": [
    {
     "data": {
      "image/png": "[encoded data removed]",
      "text/plain": [
       "<Figure size 432x288 with 1 Axes>"
      ]
     },
     "metadata": {},
     "output_type": "display_data"
    }
   ],
   "source": [
    "viz.matrix_plot(anc_system.type_set.sigma)"
   ]
  },
  {
   "cell_type": "code",
   "execution_count": 50,
   "metadata": {},
   "outputs": [
    {
     "data": {
      "text/plain": [
       "(1, 15222)"
      ]
     },
     "execution_count": 50,
     "metadata": {},
     "output_type": "execute_result"
    }
   ],
   "source": [
    "anc_system._t_series.alloc"
   ]
  },
  {
   "cell_type": "code",
   "execution_count": 51,
   "metadata": {},
   "outputs": [
    {
     "data": {
      "text/plain": [
       "array([0.00000000e+00, 0.00000000e+00, 7.85690690e-02, ...,\n",
       "       1.01592288e+04, 1.01628501e+04, 1.01630260e+04])"
      ]
     },
     "execution_count": 51,
     "metadata": {},
     "output_type": "execute_result"
    }
   ],
   "source": [
    "anc_system.t_series"
   ]
  },
  {
   "cell_type": "code",
   "execution_count": 52,
   "metadata": {},
   "outputs": [
    {
     "data": {
      "text/plain": [
       "10163.025983969803"
      ]
     },
     "execution_count": 52,
     "metadata": {},
     "output_type": "execute_result"
    }
   ],
   "source": [
    "anc_system.t"
   ]
  },
  {
   "cell_type": "code",
   "execution_count": 53,
   "metadata": {},
   "outputs": [
    {
     "data": {
      "text/plain": [
       "(585, 15222)"
      ]
     },
     "execution_count": 53,
     "metadata": {},
     "output_type": "execute_result"
    }
   ],
   "source": [
    "anc_system._N_series.alloc"
   ]
  },
  {
   "cell_type": "code",
   "execution_count": 54,
   "metadata": {},
   "outputs": [
    {
     "data": {
      "text/plain": [
       "array([[1.        , 1.        , 1.03268812, ..., 0.        , 0.        ,\n",
       "        0.        ],\n",
       "       [0.        , 0.        , 0.        , ..., 0.        , 0.        ,\n",
       "        0.        ],\n",
       "       [0.        , 0.        , 0.        , ..., 0.        , 0.        ,\n",
       "        0.        ],\n",
       "       ...,\n",
       "       [0.        , 0.        , 0.        , ..., 0.        , 0.        ,\n",
       "        0.        ],\n",
       "       [0.        , 0.        , 0.        , ..., 0.        , 0.        ,\n",
       "        0.        ],\n",
       "       [0.        , 0.        , 0.        , ..., 0.        , 0.        ,\n",
       "        0.        ]])"
      ]
     },
     "execution_count": 54,
     "metadata": {},
     "output_type": "execute_result"
    }
   ],
   "source": [
    "anc_system.N_series"
   ]
  },
  {
   "cell_type": "code",
   "execution_count": 55,
   "metadata": {},
   "outputs": [
    {
     "data": {
      "text/plain": [
       "array([0.00000000e+00, 0.00000000e+00, 0.00000000e+00, 0.00000000e+00,\n",
       "       0.00000000e+00, 0.00000000e+00, 0.00000000e+00, 0.00000000e+00,\n",
       "       0.00000000e+00, 0.00000000e+00, 0.00000000e+00, 0.00000000e+00,\n",
       "       0.00000000e+00, 0.00000000e+00, 0.00000000e+00, 0.00000000e+00,\n",
       "       0.00000000e+00, 0.00000000e+00, 0.00000000e+00, 0.00000000e+00,\n",
       "       0.00000000e+00, 0.00000000e+00, 0.00000000e+00, 0.00000000e+00,\n",
       "       0.00000000e+00, 0.00000000e+00, 0.00000000e+00, 0.00000000e+00,\n",
       "       0.00000000e+00, 0.00000000e+00, 0.00000000e+00, 0.00000000e+00,\n",
       "       0.00000000e+00, 0.00000000e+00, 0.00000000e+00, 0.00000000e+00,\n",
       "       0.00000000e+00, 0.00000000e+00, 0.00000000e+00, 3.51934669e+09,\n",
       "       2.72505566e+08, 0.00000000e+00, 0.00000000e+00, 0.00000000e+00,\n",
       "       0.00000000e+00, 0.00000000e+00, 8.20911725e+04, 0.00000000e+00,\n",
       "       0.00000000e+00, 0.00000000e+00, 0.00000000e+00, 0.00000000e+00,\n",
       "       0.00000000e+00, 0.00000000e+00, 0.00000000e+00, 0.00000000e+00,\n",
       "       0.00000000e+00, 0.00000000e+00, 0.00000000e+00, 0.00000000e+00,\n",
       "       0.00000000e+00, 0.00000000e+00, 0.00000000e+00, 0.00000000e+00,\n",
       "       0.00000000e+00, 0.00000000e+00, 0.00000000e+00, 0.00000000e+00,\n",
       "       0.00000000e+00, 0.00000000e+00, 0.00000000e+00, 0.00000000e+00,\n",
       "       0.00000000e+00, 0.00000000e+00, 0.00000000e+00, 0.00000000e+00,\n",
       "       0.00000000e+00, 0.00000000e+00, 0.00000000e+00, 0.00000000e+00,\n",
       "       0.00000000e+00, 0.00000000e+00, 0.00000000e+00, 0.00000000e+00,\n",
       "       0.00000000e+00, 0.00000000e+00, 0.00000000e+00, 0.00000000e+00,\n",
       "       0.00000000e+00, 0.00000000e+00, 0.00000000e+00, 0.00000000e+00,\n",
       "       0.00000000e+00, 0.00000000e+00, 0.00000000e+00, 0.00000000e+00,\n",
       "       0.00000000e+00, 0.00000000e+00, 0.00000000e+00, 0.00000000e+00,\n",
       "       0.00000000e+00, 0.00000000e+00, 0.00000000e+00, 0.00000000e+00,\n",
       "       0.00000000e+00, 0.00000000e+00, 0.00000000e+00, 0.00000000e+00,\n",
       "       0.00000000e+00, 0.00000000e+00, 0.00000000e+00, 0.00000000e+00,\n",
       "       0.00000000e+00, 0.00000000e+00, 0.00000000e+00, 0.00000000e+00,\n",
       "       0.00000000e+00, 0.00000000e+00, 0.00000000e+00, 0.00000000e+00,\n",
       "       0.00000000e+00, 0.00000000e+00, 0.00000000e+00, 0.00000000e+00,\n",
       "       1.92305414e+06, 0.00000000e+00, 0.00000000e+00, 0.00000000e+00,\n",
       "       0.00000000e+00, 0.00000000e+00, 0.00000000e+00, 0.00000000e+00,\n",
       "       0.00000000e+00, 0.00000000e+00, 0.00000000e+00, 0.00000000e+00,\n",
       "       0.00000000e+00, 0.00000000e+00, 0.00000000e+00, 0.00000000e+00,\n",
       "       0.00000000e+00, 0.00000000e+00, 0.00000000e+00, 0.00000000e+00,\n",
       "       1.54753783e+09, 0.00000000e+00, 0.00000000e+00, 0.00000000e+00,\n",
       "       0.00000000e+00, 4.87170942e+09, 0.00000000e+00, 0.00000000e+00,\n",
       "       1.02868778e+05, 0.00000000e+00, 0.00000000e+00, 4.06898571e+09,\n",
       "       6.67004244e+05, 2.24195919e+09, 2.22552988e+03, 0.00000000e+00,\n",
       "       0.00000000e+00, 0.00000000e+00, 0.00000000e+00, 0.00000000e+00,\n",
       "       0.00000000e+00, 0.00000000e+00, 0.00000000e+00, 0.00000000e+00,\n",
       "       0.00000000e+00, 0.00000000e+00, 0.00000000e+00, 0.00000000e+00,\n",
       "       0.00000000e+00, 0.00000000e+00, 0.00000000e+00, 0.00000000e+00,\n",
       "       0.00000000e+00, 0.00000000e+00, 0.00000000e+00, 0.00000000e+00,\n",
       "       0.00000000e+00, 0.00000000e+00, 0.00000000e+00, 0.00000000e+00,\n",
       "       0.00000000e+00, 0.00000000e+00, 0.00000000e+00, 0.00000000e+00,\n",
       "       0.00000000e+00, 0.00000000e+00, 0.00000000e+00, 0.00000000e+00,\n",
       "       0.00000000e+00, 0.00000000e+00, 0.00000000e+00, 0.00000000e+00,\n",
       "       0.00000000e+00, 0.00000000e+00, 0.00000000e+00, 0.00000000e+00,\n",
       "       0.00000000e+00, 0.00000000e+00, 0.00000000e+00, 0.00000000e+00,\n",
       "       0.00000000e+00, 0.00000000e+00, 0.00000000e+00, 0.00000000e+00,\n",
       "       0.00000000e+00, 0.00000000e+00, 0.00000000e+00, 0.00000000e+00,\n",
       "       0.00000000e+00, 0.00000000e+00, 0.00000000e+00, 0.00000000e+00,\n",
       "       0.00000000e+00, 0.00000000e+00, 0.00000000e+00, 0.00000000e+00,\n",
       "       0.00000000e+00, 0.00000000e+00, 0.00000000e+00, 0.00000000e+00,\n",
       "       0.00000000e+00, 0.00000000e+00, 0.00000000e+00, 0.00000000e+00,\n",
       "       0.00000000e+00, 0.00000000e+00, 0.00000000e+00, 0.00000000e+00,\n",
       "       0.00000000e+00, 0.00000000e+00, 0.00000000e+00, 0.00000000e+00,\n",
       "       0.00000000e+00, 0.00000000e+00, 0.00000000e+00, 0.00000000e+00,\n",
       "       0.00000000e+00, 0.00000000e+00, 0.00000000e+00, 0.00000000e+00,\n",
       "       0.00000000e+00, 0.00000000e+00, 0.00000000e+00, 0.00000000e+00,\n",
       "       0.00000000e+00, 0.00000000e+00, 0.00000000e+00, 0.00000000e+00,\n",
       "       0.00000000e+00, 0.00000000e+00, 0.00000000e+00, 0.00000000e+00,\n",
       "       0.00000000e+00, 0.00000000e+00, 0.00000000e+00, 0.00000000e+00,\n",
       "       0.00000000e+00, 0.00000000e+00, 0.00000000e+00, 0.00000000e+00,\n",
       "       0.00000000e+00, 0.00000000e+00, 0.00000000e+00, 0.00000000e+00,\n",
       "       0.00000000e+00, 0.00000000e+00, 0.00000000e+00, 0.00000000e+00,\n",
       "       0.00000000e+00, 0.00000000e+00, 0.00000000e+00, 0.00000000e+00,\n",
       "       0.00000000e+00, 1.12541951e+10, 0.00000000e+00, 3.43649453e+05,\n",
       "       0.00000000e+00, 0.00000000e+00, 0.00000000e+00, 0.00000000e+00,\n",
       "       0.00000000e+00, 0.00000000e+00, 0.00000000e+00, 0.00000000e+00,\n",
       "       0.00000000e+00, 0.00000000e+00, 0.00000000e+00, 0.00000000e+00,\n",
       "       0.00000000e+00, 0.00000000e+00, 0.00000000e+00, 0.00000000e+00,\n",
       "       0.00000000e+00, 0.00000000e+00, 0.00000000e+00, 0.00000000e+00,\n",
       "       0.00000000e+00, 1.51458426e+05, 0.00000000e+00, 0.00000000e+00,\n",
       "       0.00000000e+00, 0.00000000e+00, 0.00000000e+00, 1.11207622e+06,\n",
       "       0.00000000e+00, 0.00000000e+00, 1.54604425e+05, 5.71015760e+09,\n",
       "       9.51569510e+04, 0.00000000e+00, 3.01018175e+09, 2.43117707e+08,\n",
       "       1.32829458e+09, 0.00000000e+00, 0.00000000e+00, 0.00000000e+00,\n",
       "       0.00000000e+00, 0.00000000e+00, 0.00000000e+00, 0.00000000e+00,\n",
       "       0.00000000e+00, 0.00000000e+00, 0.00000000e+00, 0.00000000e+00,\n",
       "       0.00000000e+00, 0.00000000e+00, 0.00000000e+00, 0.00000000e+00,\n",
       "       0.00000000e+00, 0.00000000e+00, 0.00000000e+00, 0.00000000e+00,\n",
       "       0.00000000e+00, 0.00000000e+00, 0.00000000e+00, 0.00000000e+00,\n",
       "       0.00000000e+00, 0.00000000e+00, 0.00000000e+00, 0.00000000e+00,\n",
       "       0.00000000e+00, 0.00000000e+00, 0.00000000e+00, 0.00000000e+00,\n",
       "       0.00000000e+00, 0.00000000e+00, 0.00000000e+00, 0.00000000e+00,\n",
       "       0.00000000e+00, 0.00000000e+00, 0.00000000e+00, 0.00000000e+00,\n",
       "       0.00000000e+00, 0.00000000e+00, 0.00000000e+00, 0.00000000e+00,\n",
       "       0.00000000e+00, 0.00000000e+00, 0.00000000e+00, 0.00000000e+00,\n",
       "       0.00000000e+00, 0.00000000e+00, 0.00000000e+00, 0.00000000e+00,\n",
       "       0.00000000e+00, 0.00000000e+00, 0.00000000e+00, 0.00000000e+00,\n",
       "       0.00000000e+00, 0.00000000e+00, 0.00000000e+00, 0.00000000e+00,\n",
       "       0.00000000e+00, 0.00000000e+00, 0.00000000e+00, 0.00000000e+00,\n",
       "       0.00000000e+00, 0.00000000e+00, 0.00000000e+00, 0.00000000e+00,\n",
       "       0.00000000e+00, 0.00000000e+00, 0.00000000e+00, 0.00000000e+00,\n",
       "       0.00000000e+00, 0.00000000e+00, 0.00000000e+00, 0.00000000e+00,\n",
       "       0.00000000e+00, 0.00000000e+00, 0.00000000e+00, 0.00000000e+00,\n",
       "       0.00000000e+00, 0.00000000e+00, 0.00000000e+00, 0.00000000e+00,\n",
       "       0.00000000e+00, 0.00000000e+00, 0.00000000e+00, 0.00000000e+00,\n",
       "       0.00000000e+00, 0.00000000e+00, 0.00000000e+00, 0.00000000e+00,\n",
       "       0.00000000e+00, 0.00000000e+00, 0.00000000e+00, 0.00000000e+00,\n",
       "       0.00000000e+00, 0.00000000e+00, 0.00000000e+00, 0.00000000e+00,\n",
       "       0.00000000e+00, 0.00000000e+00, 0.00000000e+00, 0.00000000e+00,\n",
       "       0.00000000e+00, 0.00000000e+00, 0.00000000e+00, 0.00000000e+00,\n",
       "       0.00000000e+00, 0.00000000e+00, 0.00000000e+00, 0.00000000e+00,\n",
       "       0.00000000e+00, 0.00000000e+00, 0.00000000e+00, 0.00000000e+00,\n",
       "       0.00000000e+00, 0.00000000e+00, 0.00000000e+00, 0.00000000e+00,\n",
       "       3.50424821e+02, 0.00000000e+00, 0.00000000e+00, 0.00000000e+00,\n",
       "       0.00000000e+00, 4.05702998e+09, 7.69997756e+06, 3.38699558e+06,\n",
       "       0.00000000e+00, 0.00000000e+00, 0.00000000e+00, 0.00000000e+00,\n",
       "       0.00000000e+00, 0.00000000e+00, 0.00000000e+00, 0.00000000e+00,\n",
       "       0.00000000e+00, 0.00000000e+00, 0.00000000e+00, 0.00000000e+00,\n",
       "       0.00000000e+00, 0.00000000e+00, 0.00000000e+00, 0.00000000e+00,\n",
       "       0.00000000e+00, 0.00000000e+00, 0.00000000e+00, 0.00000000e+00,\n",
       "       0.00000000e+00, 0.00000000e+00, 0.00000000e+00, 0.00000000e+00,\n",
       "       0.00000000e+00, 0.00000000e+00, 0.00000000e+00, 0.00000000e+00,\n",
       "       0.00000000e+00, 0.00000000e+00, 0.00000000e+00, 0.00000000e+00,\n",
       "       0.00000000e+00, 0.00000000e+00, 0.00000000e+00, 0.00000000e+00,\n",
       "       0.00000000e+00, 0.00000000e+00, 0.00000000e+00, 0.00000000e+00,\n",
       "       0.00000000e+00, 0.00000000e+00, 0.00000000e+00, 0.00000000e+00,\n",
       "       0.00000000e+00, 0.00000000e+00, 0.00000000e+00, 0.00000000e+00,\n",
       "       0.00000000e+00, 0.00000000e+00, 0.00000000e+00, 0.00000000e+00,\n",
       "       0.00000000e+00, 0.00000000e+00, 0.00000000e+00, 0.00000000e+00,\n",
       "       0.00000000e+00, 0.00000000e+00, 0.00000000e+00, 0.00000000e+00,\n",
       "       0.00000000e+00, 0.00000000e+00, 0.00000000e+00, 0.00000000e+00,\n",
       "       0.00000000e+00, 0.00000000e+00, 0.00000000e+00, 0.00000000e+00,\n",
       "       0.00000000e+00, 0.00000000e+00, 0.00000000e+00, 0.00000000e+00,\n",
       "       0.00000000e+00, 0.00000000e+00, 0.00000000e+00, 4.58744689e+09,\n",
       "       1.69018460e+05, 9.92675382e+05, 0.00000000e+00, 0.00000000e+00,\n",
       "       0.00000000e+00, 0.00000000e+00, 0.00000000e+00, 0.00000000e+00,\n",
       "       0.00000000e+00, 1.56244561e+09, 0.00000000e+00, 0.00000000e+00,\n",
       "       0.00000000e+00, 3.12211011e+06, 1.44009855e+06, 0.00000000e+00,\n",
       "       2.98942959e+05, 0.00000000e+00, 1.59893153e+06, 1.31791982e+09,\n",
       "       1.26482907e+07, 8.04875644e+05, 0.00000000e+00, 0.00000000e+00,\n",
       "       0.00000000e+00, 0.00000000e+00, 0.00000000e+00, 0.00000000e+00,\n",
       "       0.00000000e+00, 0.00000000e+00, 0.00000000e+00, 0.00000000e+00,\n",
       "       1.58743134e+09, 2.41180478e+06, 0.00000000e+00, 0.00000000e+00,\n",
       "       0.00000000e+00, 4.66092074e+07, 0.00000000e+00, 0.00000000e+00,\n",
       "       0.00000000e+00, 0.00000000e+00, 0.00000000e+00, 0.00000000e+00,\n",
       "       0.00000000e+00, 0.00000000e+00, 0.00000000e+00, 0.00000000e+00,\n",
       "       0.00000000e+00, 0.00000000e+00, 0.00000000e+00, 0.00000000e+00,\n",
       "       0.00000000e+00, 0.00000000e+00, 0.00000000e+00, 0.00000000e+00,\n",
       "       0.00000000e+00, 0.00000000e+00, 0.00000000e+00, 0.00000000e+00,\n",
       "       0.00000000e+00, 0.00000000e+00, 0.00000000e+00, 0.00000000e+00,\n",
       "       0.00000000e+00])"
      ]
     },
     "execution_count": 55,
     "metadata": {},
     "output_type": "execute_result"
    }
   ],
   "source": [
    "anc_system.N"
   ]
  },
  {
   "cell_type": "code",
   "execution_count": 56,
   "metadata": {},
   "outputs": [
    {
     "data": {
      "text/plain": [
       "(585, 15222)"
      ]
     },
     "execution_count": 56,
     "metadata": {},
     "output_type": "execute_result"
    }
   ],
   "source": [
    "anc_system.N_series.shape"
   ]
  },
  {
   "cell_type": "code",
   "execution_count": 57,
   "metadata": {},
   "outputs": [
    {
     "data": {
      "text/plain": [
       "array([[1.        , 1.        , 1.03268812, ..., 0.        , 0.        ,\n",
       "        0.        ],\n",
       "       [0.        , 0.        , 0.        , ..., 0.        , 0.        ,\n",
       "        0.        ],\n",
       "       [0.        , 0.        , 0.        , ..., 0.        , 0.        ,\n",
       "        0.        ],\n",
       "       ...,\n",
       "       [0.        , 0.        , 0.        , ..., 0.        , 0.        ,\n",
       "        0.        ],\n",
       "       [0.        , 0.        , 0.        , ..., 0.        , 0.        ,\n",
       "        0.        ],\n",
       "       [0.        , 0.        , 0.        , ..., 0.        , 0.        ,\n",
       "        0.        ]])"
      ]
     },
     "execution_count": 57,
     "metadata": {},
     "output_type": "execute_result"
    }
   ],
   "source": [
    "anc_system._N_series._arr"
   ]
  },
  {
   "cell_type": "code",
   "execution_count": 58,
   "metadata": {},
   "outputs": [
    {
     "data": {
      "text/plain": [
       "array([1.        , 1.        , 1.03268812, ..., 0.        , 0.        ,\n",
       "       0.        ])"
      ]
     },
     "execution_count": 58,
     "metadata": {},
     "output_type": "execute_result"
    }
   ],
   "source": [
    "anc_system._N_series._arr[0]"
   ]
  },
  {
   "cell_type": "code",
   "execution_count": 59,
   "metadata": {},
   "outputs": [
    {
     "data": {
      "text/plain": [
       "(585, 20)"
      ]
     },
     "execution_count": 59,
     "metadata": {},
     "output_type": "execute_result"
    }
   ],
   "source": [
    "anc_system.type_set._sigma.shape"
   ]
  },
  {
   "cell_type": "code",
   "execution_count": 60,
   "metadata": {},
   "outputs": [
    {
     "data": {
      "text/plain": [
       "(585, 20)"
      ]
     },
     "execution_count": 60,
     "metadata": {},
     "output_type": "execute_result"
    }
   ],
   "source": [
    "anc_system.type_set.sigma.shape"
   ]
  },
  {
   "cell_type": "code",
   "execution_count": 61,
   "metadata": {},
   "outputs": [
    {
     "data": {
      "text/plain": [
       "(11700, 20)"
      ]
     },
     "execution_count": 61,
     "metadata": {},
     "output_type": "execute_result"
    }
   ],
   "source": [
    "anc_system.mutant_set.sigma.shape"
   ]
  }
 ],
 "metadata": {
  "kernelspec": {
   "display_name": "Python 3",
   "language": "python",
   "name": "python3"
  },
  "language_info": {
   "codemirror_mode": {
    "name": "ipython",
    "version": 3
   },
   "file_extension": ".py",
   "mimetype": "text/x-python",
   "name": "python",
   "nbconvert_exporter": "python",
   "pygments_lexer": "ipython3",
   "version": "3.8.4"
  }
 },
 "nbformat": 4,
 "nbformat_minor": 4
}
