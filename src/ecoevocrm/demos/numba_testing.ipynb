{
 "cells": [
  {
   "cell_type": "code",
   "execution_count": 1,
   "metadata": {},
   "outputs": [],
   "source": [
    "from ecoevocrm.consumer_resource_system import *\n",
    "import ecoevocrm.utils as utils\n",
    "import ecoevocrm.viz as viz\n",
    "import ecoevocrm.coarse_graining as cg"
   ]
  },
  {
   "cell_type": "code",
   "execution_count": 2,
   "metadata": {},
   "outputs": [],
   "source": [
    "import matplotlib.pyplot as plt"
   ]
  },
  {
   "cell_type": "code",
   "execution_count": 3,
   "metadata": {},
   "outputs": [],
   "source": [
    "import cProfile\n",
    "import pstats"
   ]
  },
  {
   "cell_type": "markdown",
   "metadata": {},
   "source": [
    "--------"
   ]
  },
  {
   "cell_type": "markdown",
   "metadata": {},
   "source": [
    "### Set the number of resources"
   ]
  },
  {
   "cell_type": "code",
   "execution_count": 4,
   "metadata": {},
   "outputs": [],
   "source": [
    "L = 10"
   ]
  },
  {
   "cell_type": "markdown",
   "metadata": {
    "tags": []
   },
   "source": [
    "### Define the ancestral phenotype (traits vector)"
   ]
  },
  {
   "cell_type": "code",
   "execution_count": 5,
   "metadata": {},
   "outputs": [],
   "source": [
    "anc_phenotype = utils.random_matrix(shape=(L, L), mode='binomial')"
   ]
  },
  {
   "cell_type": "code",
   "execution_count": 6,
   "metadata": {},
   "outputs": [
    {
     "data": {
      "image/png": "[encoded data removed]",
      "text/plain": [
       "<Figure size 432x288 with 1 Axes>"
      ]
     },
     "metadata": {},
     "output_type": "display_data"
    }
   ],
   "source": [
    "viz.matrix_plot(anc_phenotype)"
   ]
  },
  {
   "cell_type": "markdown",
   "metadata": {
    "tags": []
   },
   "source": [
    "### Define the system biochemistry (trait/resource interactions)"
   ]
  },
  {
   "cell_type": "code",
   "execution_count": 7,
   "metadata": {},
   "outputs": [],
   "source": [
    "J = utils.random_matrix((L, L), 'tikhonov_sigmoid')"
   ]
  },
  {
   "cell_type": "code",
   "execution_count": 8,
   "metadata": {},
   "outputs": [
    {
     "data": {
      "image/png": "[encoded data removed]",
      "text/plain": [
       "<Figure size 432x288 with 2 Axes>"
      ]
     },
     "metadata": {},
     "output_type": "display_data"
    }
   ],
   "source": [
    "viz.matrix_plot(J)"
   ]
  },
  {
   "cell_type": "markdown",
   "metadata": {
    "tags": []
   },
   "source": [
    "### Parameterize and instantiate the Consumer-Resource System"
   ]
  },
  {
   "cell_type": "code",
   "execution_count": 9,
   "metadata": {},
   "outputs": [],
   "source": [
    "anc_system = ConsumerResourceSystem(sigma=anc_phenotype, \n",
    "                                    b=1, k=1e10, c=0.1, chi=0.5, J=J, mu=1e-10,\n",
    "                                    resource_consumption_mode='fast_resource_eq',\n",
    "                                    resource_inflow_mode='none',\n",
    "                                    threshold_min_rel_abundance=1e-6,\n",
    "                                    N_init=1, R_init=1)"
   ]
  },
  {
   "cell_type": "markdown",
   "metadata": {
    "tags": []
   },
   "source": [
    "### Simulate dynamics"
   ]
  },
  {
   "cell_type": "code",
   "execution_count": 10,
   "metadata": {},
   "outputs": [],
   "source": [
    "# just to pre-compile the dynamics njit function\n",
    "# anc_system.dynamics(*((0,) + (np.zeros(L+L+1),) + anc_system.get_params()))"
   ]
  },
  {
   "cell_type": "code",
   "execution_count": 11,
   "metadata": {},
   "outputs": [],
   "source": [
    "# anc_system.run(T=1000)"
   ]
  },
  {
   "cell_type": "code",
   "execution_count": 12,
   "metadata": {},
   "outputs": [],
   "source": [
    "%load_ext line_profiler"
   ]
  },
  {
   "cell_type": "code",
   "execution_count": 13,
   "metadata": {},
   "outputs": [
    {
     "data": {
      "text/plain": [
       "Timer unit: 1e-06 s\n",
       "\n",
       "Total time: 0.121745 s\n",
       "File: /Users/ryan/Dropbox/Projects/ResearchProjects/eco-evo-crm/ecoevocrm/src/ecoevocrm/consumer_resource_system.py\n",
       "Function: dynamics at line 258\n",
       "\n",
       "Line #      Hits         Time  Per Hit   % Time  Line Contents\n",
       "==============================================================\n",
       "   258                                               @staticmethod\n",
       "   259                                               # @jit(nopython=True, fastmath=True, cache=True)\n",
       "   260                                               def dynamics(t, variables, \n",
       "   261                                                               num_types, num_mutants, sigma, b, k, eta, l, g, c, chi, J, mu, energy_costs,\n",
       "   262                                                               num_resources, rho, tau, omega, D, resource_consumption_mode, resource_inflow_mode, deltas, \n",
       "   263                                                               energy_uptake_coeffs):\n",
       "   264                                           \n",
       "   265       951       2358.0      2.5      1.9          N_t = np.zeros((num_types+num_mutants, 1))\n",
       "   266       951       2685.0      2.8      2.2          N_t[:num_types, 0] = variables[:num_types]\n",
       "   267                                           \n",
       "   268       951       1463.0      1.5      1.2          R_t = variables[-1-num_resources:-1]\n",
       "   269                                           \n",
       "   270                                                   # cumulative_mutation_propensity = variables[-1] # value is not needed to calc dCumPropMut\n",
       "   271                                           \n",
       "   272                                                   #------------------------------\n",
       "   273                                           \n",
       "   274       951       1087.0      1.1      0.9          if(resource_consumption_mode == ConsumerResourceSystem.CONSUMPTION_MODE_FASTEQ):\n",
       "   275                                                       # resource_demand      = np.sum(np.multiply(np.expand_dims(N_t, axis=1), sigma), axis=0)\n",
       "   276       951      26696.0     28.1     21.9              resource_demand      = np.sum(np.multiply(N_t, sigma), axis=0)\n",
       "   277                                                       # resource_yemand      = np.sum(ne.evaluate(\"N_t * sigma\"), axis=0)\n",
       "   278                                                       # resource_zemand      = ne.evaluate(\"sum(N_t * sigma, axis=0)\")\n",
       "   279                                                       # resource_consumption = np.multiply(sigma, b/(1 + (resource_demand/k)))\n",
       "   280                                                   # elif(resource_consumption_mode == 1): #ConsumerResourceSystem.CONSUMPTION_MODE_LINEAR):\n",
       "   281                                                   #     resource_consumption = np.multiply(sigma, np.multiply(b, R_t))\n",
       "   282                                                   # elif(resource_consumption_mode == 2): #ConsumerResourceSystem.CONSUMPTION_MODE_MONOD):\n",
       "   283                                                   #     resource_consumption = np.multiply(sigma, np.multiply(b, R_t/(R_t + k)))\n",
       "   284                                                   # else:\n",
       "   285                                                   #     resource_consumption = np.zeros((num_types, num_resources))\n",
       "   286                                           \n",
       "   287                                                   # energy_uptake  = np.sum( np.multiply(omega, np.multiply((1-l), resource_consumption)), axis=1)\n",
       "   288                                           \n",
       "   289                                                   # energy_surplus = energy_uptake - energy_costs\n",
       "   290                                           \n",
       "   291                                                   # energy_surplus_og = np.sum(np.multiply(omega, np.multiply((1-l), np.multiply(sigma, b/(1 + (resource_demand/k))))), axis=1) - energy_costs\n",
       "   292                                           \n",
       "   293       951      32295.0     34.0     26.5          energy_surplus_pp = np.sum(np.multiply(energy_uptake_coeffs, 1/(k + resource_demand)), axis=1) - energy_costs\n",
       "   294                                           \n",
       "   295                                                   # print(\"energy_surplus_og\", energy_surplus_og)\n",
       "   296                                                   # print(\"energy_surplus_pp\", energy_surplus_pp)\n",
       "   297                                           \n",
       "   298       951       2331.0      2.5      1.9          growth_rate    = np.multiply(g, energy_surplus_pp)\n",
       "   299                                           \n",
       "   300       951       3055.0      3.2      2.5          dNdt = np.multiply(N_t[:num_types, 0], growth_rate[:num_types]) # only calc dNdt for extant (non-mutant types)\n",
       "   301                                           \n",
       "   302                                                   #------------------------------\n",
       "   303                                           \n",
       "   304       951       1026.0      1.1      0.8          if(resource_inflow_mode == 0):\n",
       "   305       951       1775.0      1.9      1.5              resource_inflow = np.zeros((1, num_resources))\n",
       "   306                                                   elif(resource_inflow_mode == 1):\n",
       "   307                                                       resource_inflow = rho\n",
       "   308                                           \n",
       "   309       951        943.0      1.0      0.8          if(resource_inflow_mode == 0): #ConsumerResourceSystem.INFLOW_MODE_NONE):\n",
       "   310       951       1874.0      2.0      1.5              dRdt = np.zeros((1, num_resources)).ravel()\n",
       "   311                                                   else:\n",
       "   312                                                       if(D is None):\n",
       "   313                                                           dRdt = ( resource_inflow - np.multiply(1/tau, R_t) - np.sum(np.multiply(np.expand_dims(N_t, axis=1), resource_consumption), axis=0) ).ravel()\n",
       "   314                                                       else:\n",
       "   315                                                           resource_secretion = np.divide(np.dot(np.multiply(omega, np.sum(np.multiply(np.expand_dims(N_t, axis=1), np.multiply(l, resource_consumption)), axis=0)), D.T), omega, where=(omega>0), out=np.zeros_like(omega)).ravel()\n",
       "   316                                                           dRdt = ( resource_inflow - np.multiply(1/tau, R_t) - np.sum(np.multiply(np.expand_dims(N_t, axis=1), resource_consumption), axis=0) + resource_secretion ).ravel()\n",
       "   317                                           \n",
       "   318                                                   #------------------------------\n",
       "   319                                           \n",
       "   320       951      15906.0     16.7     13.1          mutation_propensities = np.maximum(0, np.multiply(growth_rate[-num_mutants:], np.repeat(np.multiply(N_t[:num_types, 0], mu[:num_types]), repeats=num_resources)))\n",
       "   321                                                                                                     \n",
       "   322       951      15522.0     16.3     12.7          dCumPropMut = np.sum(mutation_propensities, keepdims=True)\n",
       "   323                                                   \n",
       "   324                                                   #------------------------------\n",
       "   325                                                   \n",
       "   326                                                   # deltas = np.zeros(num_types+num_resources+1)\n",
       "   327       951       2650.0      2.8      2.2          deltas[:num_types]          = dNdt\n",
       "   328       951       1884.0      2.0      1.5          deltas[-1-num_resources:-1] = dRdt\n",
       "   329       951       1551.0      1.6      1.3          deltas[-1]                  = dCumPropMut\n",
       "   330                                           \n",
       "   331                                                   # return deltas\n",
       "   332                                           \n",
       "   333       951       6644.0      7.0      5.5          return np.concatenate((dNdt, dRdt, dCumPropMut))"
      ]
     },
     "metadata": {},
     "output_type": "display_data"
    }
   ],
   "source": [
    "%lprun -f ConsumerResourceSystem.dynamics anc_system.run(T=1000)"
   ]
  },
  {
   "cell_type": "code",
   "execution_count": 14,
   "metadata": {},
   "outputs": [],
   "source": [
    "# profile = cProfile.Profile()\n",
    "# profile.runcall(anc_system.run)"
   ]
  },
  {
   "cell_type": "markdown",
   "metadata": {
    "tags": []
   },
   "source": [
    "### Visualize results"
   ]
  },
  {
   "cell_type": "code",
   "execution_count": 15,
   "metadata": {},
   "outputs": [],
   "source": [
    "type_colors = viz.color_types_by_phylogeny(anc_system.type_set, apply_palette_depth=0)"
   ]
  },
  {
   "cell_type": "code",
   "execution_count": 16,
   "metadata": {},
   "outputs": [
    {
     "data": {
      "text/plain": [
       "<AxesSubplot:>"
      ]
     },
     "execution_count": 16,
     "metadata": {},
     "output_type": "execute_result"
    },
    {
     "data": {
      "image/png": "[encoded data removed]",
      "text/plain": [
       "<Figure size 1440x576 with 1 Axes>"
      ]
     },
     "metadata": {
      "needs_background": "light"
     },
     "output_type": "display_data"
    }
   ],
   "source": [
    "fig, ax = plt.subplots(1, 1, figsize=(20, 8))\n",
    "viz.stacked_abundance_plot(anc_system, ax=ax, type_colors=type_colors)"
   ]
  },
  {
   "cell_type": "code",
   "execution_count": 17,
   "metadata": {},
   "outputs": [],
   "source": [
    "# ps = pstats.Stats(profile)\n",
    "# ps.sort_stats('cumtime')\n",
    "# ps.print_stats()"
   ]
  },
  {
   "cell_type": "code",
   "execution_count": 18,
   "metadata": {},
   "outputs": [
    {
     "data": {
      "image/png": "[encoded data removed]",
      "text/plain": [
       "<Figure size 432x288 with 1 Axes>"
      ]
     },
     "metadata": {
      "needs_background": "light"
     },
     "output_type": "display_data"
    }
   ],
   "source": [
    "viz.Lstar_types_plot(anc_system)"
   ]
  },
  {
   "cell_type": "code",
   "execution_count": 19,
   "metadata": {},
   "outputs": [
    {
     "data": {
      "image/png": "[encoded data removed]",
      "text/plain": [
       "<Figure size 216x864 with 1 Axes>"
      ]
     },
     "metadata": {
      "needs_background": "light"
     },
     "output_type": "display_data"
    }
   ],
   "source": [
    "fig, ax = plt.subplots(1, 1, figsize=(3, 12))\n",
    "viz.matrix_plot(anc_system.get_extant_type_set().sigma, ax=ax)"
   ]
  },
  {
   "cell_type": "code",
   "execution_count": 20,
   "metadata": {},
   "outputs": [
    {
     "data": {
      "text/plain": [
       "array([0.00000000e+00, 7.81458260e-03, 1.56291652e-02, 5.52083019e-02,\n",
       "       9.47874385e-02, 1.34366575e-01, 2.04658455e-01, 2.74950335e-01,\n",
       "       3.45242215e-01, 4.15534095e-01, 5.09192920e-01, 6.02851746e-01,\n",
       "       6.96510571e-01, 7.90169396e-01, 8.83828222e-01, 9.94920593e-01,\n",
       "       1.10601297e+00, 1.21710534e+00, 1.32819771e+00, 1.43929008e+00,\n",
       "       1.55038245e+00, 1.66147483e+00, 1.77256720e+00, 1.88365958e+00,\n",
       "       1.99475195e+00, 2.10584436e+00, 2.21693676e+00, 2.32802916e+00,\n",
       "       2.43912156e+00, 2.55021396e+00, 2.66130659e+00, 2.77239921e+00,\n",
       "       2.88349184e+00, 2.99458447e+00, 3.10567709e+00, 3.21677174e+00,\n",
       "       3.32786639e+00, 3.43896104e+00, 3.55005569e+00, 3.66115034e+00,\n",
       "       3.77226360e+00, 3.88337686e+00, 3.99449013e+00, 4.10560339e+00,\n",
       "       4.21671665e+00, 4.32800388e+00, 4.43929110e+00, 4.55057833e+00,\n",
       "       4.66186555e+00, 4.77315278e+00, 4.88608267e+00, 4.99901255e+00,\n",
       "       5.11194244e+00, 5.22487233e+00, 5.33780222e+00, 5.46671745e+00,\n",
       "       5.59563268e+00, 5.72454791e+00, 5.85346314e+00, 5.98237838e+00,\n",
       "       6.16622792e+00, 6.35007746e+00, 6.53392700e+00, 6.71777654e+00,\n",
       "       6.90162609e+00, 7.14372972e+00, 7.38583336e+00, 7.62793699e+00,\n",
       "       7.87004063e+00, 8.17081076e+00, 8.47158089e+00, 8.77235102e+00,\n",
       "       9.21887685e+00, 9.66540268e+00, 1.01119285e+01, 1.05584543e+01,\n",
       "       1.08478146e+01, 1.11371748e+01, 1.14265351e+01, 1.20349631e+01,\n",
       "       1.26433911e+01, 1.32518190e+01, 1.38602470e+01, 1.46209212e+01,\n",
       "       1.53815953e+01, 1.61422695e+01, 1.69029437e+01, 1.76636178e+01,\n",
       "       1.84242920e+01, 1.91849661e+01, 1.99352422e+01, 2.06855183e+01,\n",
       "       2.14357944e+01, 2.21860705e+01, 2.30489826e+01, 2.39118947e+01,\n",
       "       2.47748068e+01, 2.56377189e+01, 2.61807946e+01, 2.67238702e+01,\n",
       "       2.72669458e+01, 2.78100215e+01, 2.82295233e+01, 2.86490251e+01,\n",
       "       2.90685269e+01, 2.94880287e+01, 3.01337312e+01, 3.07794337e+01,\n",
       "       3.14251362e+01, 3.20708387e+01, 3.27165412e+01, 3.34777614e+01,\n",
       "       3.42389817e+01, 3.50002019e+01, 3.57614221e+01, 3.65226423e+01,\n",
       "       3.72838625e+01, 3.80450827e+01, 3.88063029e+01, 3.95675231e+01,\n",
       "       4.03287433e+01, 4.10899635e+01, 4.18511837e+01, 4.26124039e+01,\n",
       "       4.33736241e+01, 4.41348443e+01, 4.48960645e+01, 4.56572847e+01,\n",
       "       4.64185049e+01, 4.71797251e+01, 4.79409453e+01, 4.87021655e+01,\n",
       "       4.94633857e+01, 5.02246059e+01, 5.10532493e+01, 5.18818927e+01,\n",
       "       5.27105361e+01, 5.35391795e+01, 5.43678229e+01, 5.51964663e+01,\n",
       "       5.60251097e+01, 5.68537531e+01, 5.76823965e+01, 5.85110399e+01,\n",
       "       5.93396833e+01, 6.00521654e+01, 6.07646476e+01, 6.14771297e+01,\n",
       "       6.21896118e+01, 6.29020940e+01, 6.33298036e+01, 6.37575133e+01,\n",
       "       6.41852229e+01, 6.46129326e+01, 6.50606501e+01, 6.55083676e+01,\n",
       "       6.59560851e+01, 6.68408349e+01, 6.77255848e+01, 6.86103346e+01,\n",
       "       6.94950844e+01, 7.06678682e+01, 7.18406519e+01, 7.30134357e+01,\n",
       "       7.41862194e+01, 7.53590032e+01, 7.65317869e+01, 7.77045707e+01,\n",
       "       7.90470052e+01, 8.03894397e+01, 8.17318742e+01, 8.30743088e+01,\n",
       "       8.46828438e+01, 8.59602360e+01, 8.72376283e+01, 8.85150205e+01,\n",
       "       8.97924127e+01, 9.10698050e+01, 9.29367744e+01, 9.48037439e+01,\n",
       "       9.66707134e+01, 9.85376829e+01, 1.00404652e+02, 1.02271622e+02,\n",
       "       1.04138591e+02, 1.06005561e+02, 1.07872530e+02, 1.09739500e+02,\n",
       "       1.11606469e+02, 1.13684833e+02, 1.15763196e+02, 1.17407806e+02,\n",
       "       1.19052415e+02, 1.20697025e+02, 1.22341634e+02, 1.23986244e+02,\n",
       "       1.25630854e+02, 1.27762923e+02, 1.29398029e+02, 1.30633923e+02,\n",
       "       1.31869817e+02, 1.33105710e+02, 1.34341604e+02, 1.35577498e+02,\n",
       "       1.36813391e+02, 1.38049285e+02, 1.39285179e+02, 1.40926459e+02,\n",
       "       1.42236711e+02, 1.43546964e+02, 1.44857216e+02, 1.46167469e+02,\n",
       "       1.47477721e+02, 1.47768566e+02, 1.48059411e+02, 1.48350256e+02,\n",
       "       1.48641101e+02, 1.48931946e+02, 1.49222791e+02, 1.49804481e+02,\n",
       "       1.50386171e+02, 1.50967861e+02, 1.51549551e+02, 1.52131241e+02,\n",
       "       1.53005186e+02, 1.53879131e+02, 1.54753077e+02, 1.55627022e+02,\n",
       "       1.56500968e+02, 1.57772775e+02, 1.59044582e+02, 1.60316389e+02,\n",
       "       1.61321227e+02, 1.62326066e+02, 1.63330905e+02, 1.64335743e+02,\n",
       "       1.65340582e+02, 1.66345420e+02, 1.67350259e+02, 1.68355098e+02,\n",
       "       1.69359936e+02, 1.70480447e+02, 1.71600958e+02, 1.72721469e+02,\n",
       "       1.73841980e+02, 1.74962491e+02, 1.76083002e+02, 1.77981580e+02,\n",
       "       1.79880158e+02, 1.81778736e+02, 1.83677314e+02, 1.85575892e+02,\n",
       "       1.88361157e+02, 1.91146422e+02, 1.93931687e+02, 1.96716952e+02,\n",
       "       1.99502216e+02, 2.03877115e+02, 2.08252014e+02, 2.12626913e+02,\n",
       "       2.17001812e+02, 2.21376711e+02, 2.26365673e+02, 2.31354635e+02,\n",
       "       2.36343597e+02, 2.41332559e+02, 2.46321521e+02, 2.52466464e+02,\n",
       "       2.58611408e+02, 2.64756351e+02, 2.70901295e+02, 2.77046239e+02,\n",
       "       2.85249095e+02, 2.93451951e+02, 3.01654808e+02, 3.09857664e+02,\n",
       "       3.18060520e+02, 3.30079123e+02, 3.42097726e+02, 3.54116328e+02,\n",
       "       3.66134931e+02, 3.78153534e+02, 3.98292197e+02, 4.18430859e+02,\n",
       "       4.38569522e+02, 4.58708185e+02, 4.78846848e+02, 5.07686184e+02,\n",
       "       5.36525521e+02, 5.65364858e+02, 5.94204194e+02, 6.23043531e+02,\n",
       "       6.61633914e+02, 7.00224298e+02, 7.38814681e+02, 7.77405064e+02,\n",
       "       8.15995447e+02, 8.66434157e+02, 9.16872867e+02, 9.67311576e+02,\n",
       "       1.00000000e+03])"
      ]
     },
     "execution_count": 20,
     "metadata": {},
     "output_type": "execute_result"
    }
   ],
   "source": [
    "anc_system.t_series"
   ]
  },
  {
   "cell_type": "code",
   "execution_count": 21,
   "metadata": {},
   "outputs": [],
   "source": [
    "delta_t = [anc_system.t_series[i] - anc_system.t_series[i-1] for i in range(1,len(anc_system.t_series))]\n",
    "# delta_t"
   ]
  },
  {
   "cell_type": "code",
   "execution_count": 22,
   "metadata": {},
   "outputs": [
    {
     "data": {
      "text/plain": [
       "(array([ 5.,  9., 45.,  5.,  4., 12.,  0.,  0., 15.,  0.,  4.,  9.,  5.,\n",
       "         5., 34.,  0., 15.,  9.,  0.,  9.,  0.,  0.,  6.,  7.,  8., 13.,\n",
       "         4.,  0.,  0.,  0.,  0.,  1.,  8.,  0.,  0.,  0., 11.,  5.,  0.,\n",
       "         0.,  0.,  2.,  1.,  0.,  0.,  0.,  0.,  0.,  0.,  0.,  0.,  0.,\n",
       "         0.,  0.,  0.,  5.,  0.,  0.,  0.,  0.,  0.,  0.,  0.,  0.,  0.,\n",
       "         0.,  0.,  0.,  0.,  0.,  0.,  0.,  0.,  0.,  0.,  0.,  0.,  0.,\n",
       "         0.,  0.,  0.,  0.,  0.,  0.,  0.,  0.,  5.,  0.,  0.,  0.,  0.,\n",
       "         0.,  0.,  0.,  0.,  0.,  0.,  0.,  5.,  0.,  0.,  0.,  0.,  0.,\n",
       "         0.,  0.,  0.,  0.,  0.,  0.,  0.,  0.,  0.,  0.,  0.,  0.,  0.,\n",
       "         0.,  0.,  0.,  0.,  5.,  0.,  0.,  0.,  0.,  0.,  0.,  0.,  0.,\n",
       "         0.,  0.,  0.,  0.,  0.,  0.,  0.,  0.,  0.,  0.,  0.,  0.,  0.,\n",
       "         0.,  0.,  0.,  0.,  0.,  0.,  0.,  0.,  0.,  0.,  0.,  0.,  0.,\n",
       "         0.,  0.,  0.,  0.,  0.,  0.,  5.,  0.,  0.,  0.,  0.,  0.,  0.,\n",
       "         0.,  0.,  0.,  0.,  0.,  0.,  0.,  0.,  0.,  0.,  0.,  0.,  0.,\n",
       "         0.,  0.,  0.,  0.,  0.,  0.,  0.,  0.,  0.,  0.,  0.,  0.,  0.,\n",
       "         0.,  0.,  0.,  0.,  0.,  0.,  0.,  0.,  0.,  0.,  0.,  0.,  0.,\n",
       "         0.,  0.,  0.,  0.,  0.,  0.,  0.,  0.,  0.,  0.,  0.,  0.,  0.,\n",
       "         0.,  0.,  0.,  0.,  0.,  0.,  0.,  0.,  0.,  0.,  0.,  0.,  0.,\n",
       "         0.,  0.,  0.,  0.,  5.,  0.,  0.,  0.,  0.,  0.,  0.,  0.,  0.,\n",
       "         0.,  0.,  0.,  0.,  0.,  0.,  0.,  0.,  0.,  0.,  0.,  0.,  0.,\n",
       "         0.,  0.,  0.,  0.,  0.,  0.,  0.,  0.,  0.,  0.,  0.,  0.,  0.,\n",
       "         0.,  0.,  0.,  0.,  0.,  0.,  0.,  0.,  0.,  0.,  0.,  0.,  0.,\n",
       "         0.,  0.,  0.,  0.,  0.,  0.,  0.,  0.,  0.,  0.,  0.,  0.,  0.,\n",
       "         0.,  0.,  0.,  0.,  0.,  0.,  0.,  0.,  0.,  0.,  0.,  0.,  0.,\n",
       "         0.,  0.,  0.,  0.,  0.,  0.,  0.,  0.,  0.,  0.,  0.,  0.,  0.,\n",
       "         0.,  0.,  0.,  0.,  0.,  0.,  0.,  0.,  0.,  0.,  0.,  0.,  0.,\n",
       "         0.,  0.,  0.,  0.,  0.,  0.,  0.,  0.,  0.,  0.,  0.,  0.,  0.,\n",
       "         0.,  0.,  0.,  0.,  0.,  0.,  0.,  0.,  0.,  0.,  0.,  0.,  0.,\n",
       "         0.,  0.,  0.,  0.,  0.,  0.,  0.,  0.,  0.,  0.,  0.,  0.,  0.,\n",
       "         0.,  0.,  0.,  0.,  0.,  0.,  0.,  0.,  0.,  0.,  0.,  0.,  0.,\n",
       "         0.,  0.,  0.,  0.,  0.,  0.,  0.,  0.,  0.,  5.,  0.,  0.,  0.,\n",
       "         0.,  0.,  0.,  0.,  0.,  0.,  0.,  0.,  0.,  0.,  0.,  0.,  0.,\n",
       "         0.,  0.,  0.,  0.,  0.,  0.,  0.,  0.,  0.,  0.,  0.,  0.,  0.,\n",
       "         0.,  0.,  0.,  0.,  0.,  0.,  0.,  0.,  0.,  0.,  0.,  0.,  0.,\n",
       "         0.,  0.,  0.,  0.,  0.,  0.,  0.,  0.,  0.,  0.,  0.,  0.,  0.,\n",
       "         0.,  0.,  0.,  0.,  0.,  0.,  0.,  0.,  0.,  0.,  0.,  0.,  0.,\n",
       "         0.,  0.,  0.,  0.,  0.,  0.,  0.,  0.,  0.,  0.,  0.,  0.,  0.,\n",
       "         0.,  0.,  0.,  0.,  0.,  0.,  0.,  0.,  0.,  0.,  0.,  0.,  0.,\n",
       "         0.,  0.,  0.,  0.,  0.,  0.,  0.,  0.,  0.,  0.,  0.,  0.,  0.,\n",
       "         0.,  0.,  0.,  0.,  0.,  0.,  0.,  0.,  0.,  0.,  0.,  0.,  0.,\n",
       "         0.,  0.,  0.,  0.,  0.,  0.,  0.,  0.,  0.,  0.,  0.,  0.,  0.,\n",
       "         0.,  0.,  0.,  0.,  0.,  0.,  0.,  0.,  0.,  0.,  0.,  0.,  0.,\n",
       "         0.,  0.,  0.,  0.,  0.,  0.,  0.,  0.,  0.,  0.,  0.,  0.,  0.,\n",
       "         0.,  0.,  0.,  0.,  0.,  0.,  0.,  0.,  0.,  0.,  0.,  0.,  5.,\n",
       "         0.,  0.,  0.,  0.,  0.,  0.,  0.,  0.,  0.,  0.,  0.,  0.,  0.,\n",
       "         0.,  0.,  0.,  0.,  0.,  0.,  0.,  0.,  0.,  0.,  0.,  0.,  0.,\n",
       "         0.,  0.,  0.,  0.,  0.,  0.,  0.,  0.,  0.,  0.,  0.,  0.,  0.,\n",
       "         0.,  0.,  0.,  0.,  0.,  0.,  0.,  0.,  0.,  0.,  0.,  0.,  0.,\n",
       "         0.,  0.,  0.,  0.,  0.,  0.,  0.,  0.,  0.,  0.,  0.,  0.,  0.,\n",
       "         0.,  0.,  0.,  0.,  0.,  0.,  0.,  0.,  0.,  0.,  0.,  1.,  0.,\n",
       "         0.,  0.,  0.,  0.,  0.,  0.,  0.,  0.,  0.,  0.,  0.,  0.,  0.,\n",
       "         0.,  0.,  0.,  0.,  0.,  0.,  0.,  0.,  0.,  0.,  0.,  0.,  0.,\n",
       "         0.,  0.,  0.,  0.,  0.,  0.,  0.,  0.,  0.,  0.,  0.,  0.,  0.,\n",
       "         0.,  0.,  0.,  0.,  0.,  0.,  0.,  0.,  0.,  0.,  0.,  0.,  0.,\n",
       "         0.,  0.,  0.,  0.,  0.,  0.,  0.,  0.,  0.,  0.,  0.,  0.,  0.,\n",
       "         0.,  0.,  0.,  0.,  0.,  0.,  0.,  0.,  0.,  0.,  0.,  0.,  0.,\n",
       "         0.,  0.,  0.,  0.,  0.,  0.,  0.,  0.,  0.,  0.,  0.,  0.,  0.,\n",
       "         0.,  0.,  0.,  0.,  0.,  0.,  0.,  0.,  0.,  0.,  0.,  0.,  0.,\n",
       "         0.,  0.,  0.,  0.,  0.,  0.,  0.,  0.,  0.,  0.,  0.,  5.,  0.,\n",
       "         0.,  0.,  0.,  0.,  0.,  0.,  0.,  0.,  0.,  0.,  0.,  0.,  0.,\n",
       "         0.,  0.,  0.,  0.,  0.,  0.,  0.,  0.,  0.,  0.,  0.,  0.,  0.,\n",
       "         0.,  0.,  0.,  0.,  0.,  0.,  0.,  0.,  0.,  0.,  0.,  0.,  0.,\n",
       "         0.,  0.,  0.,  0.,  0.,  0.,  0.,  0.,  0.,  0.,  0.,  0.,  0.,\n",
       "         0.,  0.,  0.,  0.,  0.,  0.,  0.,  0.,  0.,  0.,  0.,  0.,  0.,\n",
       "         0.,  0.,  0.,  0.,  0.,  0.,  0.,  0.,  0.,  0.,  0.,  0.,  0.,\n",
       "         0.,  0.,  0.,  0.,  0.,  0.,  0.,  0.,  0.,  0.,  0.,  0.,  0.,\n",
       "         0.,  0.,  0.,  0.,  0.,  0.,  0.,  0.,  0.,  0.,  0.,  0.,  0.,\n",
       "         0.,  0.,  0.,  0.,  0.,  0.,  0.,  0.,  0.,  0.,  0.,  0.,  0.,\n",
       "         0.,  0.,  0.,  0.,  0.,  0.,  0.,  0.,  0.,  0.,  0.,  0.,  0.,\n",
       "         0.,  0.,  0.,  0.,  0.,  0.,  0.,  0.,  0.,  0.,  0.,  0.,  0.,\n",
       "         0.,  0.,  0.,  0.,  0.,  0.,  0.,  0.,  0.,  0.,  0.,  0.,  0.,\n",
       "         0.,  0.,  0.,  0.,  0.,  0.,  0.,  0.,  0.,  0.,  0.,  0.,  0.,\n",
       "         0.,  0.,  0.,  0.,  0.,  0.,  0.,  0.,  0.,  0.,  0.,  0.,  0.,\n",
       "         0.,  0.,  0.,  0.,  0.,  0.,  0.,  0.,  0.,  0.,  0.,  0.,  0.,\n",
       "         0.,  0.,  0.,  0.,  0.,  0.,  0.,  0.,  0.,  0.,  0.,  0.,  0.,\n",
       "         0.,  0.,  0.,  0.,  0.,  0.,  0.,  0.,  0.,  0.,  0.,  0.,  0.,\n",
       "         0.,  0.,  0.,  0.,  0.,  0.,  0.,  0.,  0.,  0.,  0.,  3.]),\n",
       " array([7.81458260e-03, 5.82454777e-02, 1.08676373e-01, ...,\n",
       "        5.03378479e+01, 5.03882787e+01, 5.04387096e+01]),\n",
       " <BarContainer object of 1000 artists>)"
      ]
     },
     "execution_count": 22,
     "metadata": {},
     "output_type": "execute_result"
    },
    {
     "data": {
      "image/png": "[encoded data removed]",
      "text/plain": [
       "<Figure size 432x288 with 1 Axes>"
      ]
     },
     "metadata": {
      "needs_background": "light"
     },
     "output_type": "display_data"
    }
   ],
   "source": [
    "plt.hist(delta_t, bins=1000)"
   ]
  },
  {
   "cell_type": "code",
   "execution_count": null,
   "metadata": {},
   "outputs": [],
   "source": []
  }
 ],
 "metadata": {
  "kernelspec": {
   "display_name": "Python 3",
   "language": "python",
   "name": "python3"
  },
  "language_info": {
   "codemirror_mode": {
    "name": "ipython",
    "version": 3
   },
   "file_extension": ".py",
   "mimetype": "text/x-python",
   "name": "python",
   "nbconvert_exporter": "python",
   "pygments_lexer": "ipython3",
   "version": "3.8.4"
  }
 },
 "nbformat": 4,
 "nbformat_minor": 4
}
