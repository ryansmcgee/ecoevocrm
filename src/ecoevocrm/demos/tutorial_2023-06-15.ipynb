{
 "cells": [
  {
   "cell_type": "code",
   "execution_count": 1,
   "metadata": {},
   "outputs": [],
   "source": [
    "import numpy as np\n",
    "import pandas as pd\n",
    "import scipy"
   ]
  },
  {
   "cell_type": "code",
   "execution_count": 2,
   "metadata": {},
   "outputs": [],
   "source": [
    "from ecoevocrm.consumer_resource_system import *\n",
    "from ecoevocrm.consumer_resource_system import *\n",
    "import ecoevocrm.utils as utils\n",
    "import ecoevocrm.viz as viz\n",
    "import ecoevocrm.coarse_graining as cg\n",
    "import ecoevocrm.strain_pool"
   ]
  },
  {
   "cell_type": "code",
   "execution_count": 3,
   "metadata": {},
   "outputs": [],
   "source": [
    "import matplotlib\n",
    "import matplotlib.pyplot as plt\n",
    "import seaborn as sns"
   ]
  },
  {
   "cell_type": "markdown",
   "metadata": {},
   "source": [
    "----\n",
    "\n",
    "## Model parameters"
   ]
  },
  {
   "cell_type": "markdown",
   "metadata": {},
   "source": [
    "### Traits"
   ]
  },
  {
   "cell_type": "markdown",
   "metadata": {},
   "source": [
    "Set the number of resources in the system:"
   ]
  },
  {
   "cell_type": "code",
   "execution_count": 4,
   "metadata": {},
   "outputs": [],
   "source": [
    "num_resources = 10"
   ]
  },
  {
   "cell_type": "markdown",
   "metadata": {},
   "source": [
    "Define type(s) that will be present at the start of the simulation:\n",
    "\n",
    "Here we define the initial population as consisting of only one type (which is the first type from the list of all possible types)"
   ]
  },
  {
   "cell_type": "code",
   "execution_count": 5,
   "metadata": {},
   "outputs": [],
   "source": [
    "sigma_allpossible = utils.binary_combinations(num_resources, exclude_all_zeros=True)\n",
    "sigma_allpossible = sigma_allpossible/sigma_allpossible.sum(axis=1, keepdims=1)"
   ]
  },
  {
   "cell_type": "code",
   "execution_count": 6,
   "metadata": {},
   "outputs": [],
   "source": [
    "sigma = sigma_allpossible[0]"
   ]
  },
  {
   "cell_type": "markdown",
   "metadata": {},
   "source": [
    "The initial composition of the population, as encoded in the $\\sigma$ matrix, looks like this:"
   ]
  },
  {
   "cell_type": "code",
   "execution_count": 7,
   "metadata": {},
   "outputs": [
    {
     "data": {
      "image/png": "[encoded data removed]",
      "text/plain": [
       "<Figure size 640x480 with 1 Axes>"
      ]
     },
     "metadata": {},
     "output_type": "display_data"
    }
   ],
   "source": [
    "viz.matrix_plot(sigma, linecolor='lightgray', linewidths=1)"
   ]
  },
  {
   "cell_type": "markdown",
   "metadata": {},
   "source": [
    "Set the initial abundance of each type:\n",
    "    \n",
    "(Here we set the initial abundance of each type to 1 individual)"
   ]
  },
  {
   "cell_type": "code",
   "execution_count": 8,
   "metadata": {},
   "outputs": [
    {
     "data": {
      "text/plain": [
       "array([1.])"
      ]
     },
     "execution_count": 8,
     "metadata": {},
     "output_type": "execute_result"
    }
   ],
   "source": [
    "N_init = np.ones(np.atleast_2d(sigma).shape[0])\n",
    "N_init"
   ]
  },
  {
   "cell_type": "markdown",
   "metadata": {},
   "source": [
    "### Costs"
   ]
  },
  {
   "cell_type": "markdown",
   "metadata": {},
   "source": [
    "##### Define cost parameters for types:"
   ]
  },
  {
   "cell_type": "markdown",
   "metadata": {},
   "source": [
    "Set the baseline cost $\\xi$:"
   ]
  },
  {
   "cell_type": "code",
   "execution_count": 9,
   "metadata": {},
   "outputs": [],
   "source": [
    "xi = 0.1"
   ]
  },
  {
   "cell_type": "markdown",
   "metadata": {},
   "source": [
    "Set the cost per trait, $\\chi_{i}$:"
   ]
  },
  {
   "cell_type": "code",
   "execution_count": 10,
   "metadata": {},
   "outputs": [],
   "source": [
    "chi = 0.4"
   ]
  },
  {
   "cell_type": "markdown",
   "metadata": {},
   "source": [
    "Set the trait interaction costs by defining a matrix, $\\\\J_{ij}$, that encodes the cost for each pair of traits:"
   ]
  },
  {
   "cell_type": "code",
   "execution_count": 11,
   "metadata": {},
   "outputs": [
    {
     "data": {
      "image/png": "[encoded data removed]",
      "text/plain": [
       "<Figure size 640x480 with 2 Axes>"
      ]
     },
     "metadata": {},
     "output_type": "display_data"
    }
   ],
   "source": [
    "# J = None\n",
    "J = utils.random_matrix((num_resources, num_resources), 'tikhonov_sigmoid', args={'n_star': 5, 'delta': 1}, triangular=True, diagonal=0)\n",
    "viz.matrix_plot(J, vmin=-0.4, vmax=0.4)"
   ]
  },
  {
   "cell_type": "markdown",
   "metadata": {},
   "source": [
    "### Environment"
   ]
  },
  {
   "cell_type": "markdown",
   "metadata": {},
   "source": [
    "Set the initial amount of each resource:\n",
    "\n",
    "(Here the last 5 resources are present, while the first 5 resources are absent initially)"
   ]
  },
  {
   "cell_type": "code",
   "execution_count": 12,
   "metadata": {},
   "outputs": [
    {
     "data": {
      "image/png": "[encoded data removed]",
      "text/plain": [
       "<Figure size 640x480 with 1 Axes>"
      ]
     },
     "metadata": {},
     "output_type": "display_data"
    }
   ],
   "source": [
    "R_init = np.zeros(num_resources)\n",
    "R_init[-5:] = 1\n",
    "viz.matrix_plot(R_init, linecolor='lightgray', linewidths=1)"
   ]
  },
  {
   "cell_type": "markdown",
   "metadata": {},
   "source": [
    "Set the influx of each resource:\n",
    "\n",
    "(Here the last 5 resources have influx, while the first 5 resources have zero influx)"
   ]
  },
  {
   "cell_type": "code",
   "execution_count": 13,
   "metadata": {},
   "outputs": [
    {
     "data": {
      "image/png": "[encoded data removed]",
      "text/plain": [
       "<Figure size 640x480 with 1 Axes>"
      ]
     },
     "metadata": {},
     "output_type": "display_data"
    }
   ],
   "source": [
    "rho = np.zeros(num_resources)\n",
    "rho[-5:] = 1\n",
    "viz.matrix_plot(rho, linecolor='lightgray', linewidths=1)"
   ]
  },
  {
   "cell_type": "markdown",
   "metadata": {},
   "source": [
    "Set the time constant for resource dynamics (will be 1 in practically all cases)"
   ]
  },
  {
   "cell_type": "code",
   "execution_count": 14,
   "metadata": {},
   "outputs": [],
   "source": [
    "tau = 1"
   ]
  },
  {
   "cell_type": "markdown",
   "metadata": {},
   "source": [
    "### Cross-feeding"
   ]
  },
  {
   "cell_type": "markdown",
   "metadata": {},
   "source": [
    "Set the energy content for each resource (will typically be 1)"
   ]
  },
  {
   "cell_type": "code",
   "execution_count": 15,
   "metadata": {},
   "outputs": [
    {
     "data": {
      "image/png": "[encoded data removed]",
      "text/plain": [
       "<Figure size 640x480 with 1 Axes>"
      ]
     },
     "metadata": {},
     "output_type": "display_data"
    }
   ],
   "source": [
    "omega = np.ones(num_resources)\n",
    "viz.matrix_plot(omega, vmin=0, linecolor='lightgray', linewidths=1)"
   ]
  },
  {
   "cell_type": "markdown",
   "metadata": {},
   "source": [
    "Set the fraction of energy from each resource that is converted into other resource byproducts (rather than used for growth)"
   ]
  },
  {
   "cell_type": "code",
   "execution_count": 16,
   "metadata": {},
   "outputs": [
    {
     "data": {
      "image/png": "[encoded data removed]",
      "text/plain": [
       "<Figure size 640x480 with 1 Axes>"
      ]
     },
     "metadata": {},
     "output_type": "display_data"
    }
   ],
   "source": [
    "lamda = np.zeros(num_resources)\n",
    "lamda[5:] = 0.2\n",
    "viz.matrix_plot(lamda, linecolor='lightgray', linewidths=1, cbar=False)"
   ]
  },
  {
   "cell_type": "markdown",
   "metadata": {},
   "source": [
    "Define which resources are converted into which other resources (as byproducts) by defining a matrix $D_{ij}$, where each entry $i,j$ gives the fraction of byproducts of resource $j$ that are converted to resource $i$ (i.e., $i \\leftarrow j$). \n",
    "\n",
    "Here each of the last 5 resources gets converted to one of the first 5 resources."
   ]
  },
  {
   "cell_type": "code",
   "execution_count": 17,
   "metadata": {},
   "outputs": [
    {
     "data": {
      "image/png": "[encoded data removed]",
      "text/plain": [
       "<Figure size 640x480 with 1 Axes>"
      ]
     },
     "metadata": {},
     "output_type": "display_data"
    }
   ],
   "source": [
    "D = utils.random_matrix((num_resources, num_resources), 'binomial', args={'p': 0.0}, diagonal=0)\n",
    "D += np.diag(np.array([1]*5), 5)\n",
    "viz.matrix_plot(D)"
   ]
  },
  {
   "cell_type": "markdown",
   "metadata": {},
   "source": [
    "## Simulate model"
   ]
  },
  {
   "cell_type": "code",
   "execution_count": 18,
   "metadata": {},
   "outputs": [],
   "source": [
    "system = ConsumerResourceSystem(type_set=TypeSet(sigma=sigma, lamda=lamda, xi=xi, chi=chi, J=J, binarize_traits_J_cost_terms=True, mu=1e-10), \n",
    "                                rho=rho, tau=tau, omega=omega, D=D,\n",
    "                                N_init=N_init, R_init=R_init, \n",
    "                                resource_dynamics_mode='explicit', \n",
    "                                max_time_step=1e3)"
   ]
  },
  {
   "cell_type": "code",
   "execution_count": 19,
   "metadata": {},
   "outputs": [],
   "source": [
    "T_total = 1e6"
   ]
  },
  {
   "cell_type": "code",
   "execution_count": 20,
   "metadata": {
    "scrolled": true,
    "tags": []
   },
   "outputs": [
    {
     "name": "stdout",
     "output_type": "stream",
     "text": [
      "[ handle type loss after mutation  t=830.8227 13/29*(290)]\t\r"
     ]
    }
   ],
   "source": [
    "system.run(T=T_total)"
   ]
  },
  {
   "cell_type": "code",
   "execution_count": 21,
   "metadata": {},
   "outputs": [
    {
     "ename": "NameError",
     "evalue": "name 'seed' is not defined",
     "output_type": "error",
     "traceback": [
      "\u001b[0;31m---------------------------------------------------------------------------\u001b[0m",
      "\u001b[0;31mNameError\u001b[0m                                 Traceback (most recent call last)",
      "Cell \u001b[0;32mIn [21], line 2\u001b[0m\n\u001b[1;32m      1\u001b[0m fig, ax \u001b[38;5;241m=\u001b[39m plt\u001b[38;5;241m.\u001b[39msubplots(\u001b[38;5;241m1\u001b[39m, \u001b[38;5;241m1\u001b[39m, figsize\u001b[38;5;241m=\u001b[39m(\u001b[38;5;241m20\u001b[39m, \u001b[38;5;241m8\u001b[39m))\n\u001b[0;32m----> 2\u001b[0m \u001b[43mviz\u001b[49m\u001b[38;5;241;43m.\u001b[39;49m\u001b[43mstacked_abundance_plot\u001b[49m\u001b[43m(\u001b[49m\u001b[43msystem\u001b[49m\u001b[43m,\u001b[49m\u001b[43m \u001b[49m\u001b[43max\u001b[49m\u001b[38;5;241;43m=\u001b[39;49m\u001b[43max\u001b[49m\u001b[43m,\u001b[49m\u001b[43m \u001b[49m\u001b[43mrelative_abundance\u001b[49m\u001b[38;5;241;43m=\u001b[39;49m\u001b[38;5;28;43;01mTrue\u001b[39;49;00m\u001b[43m,\u001b[49m\u001b[43m \u001b[49m\u001b[43mapply_palette_depth\u001b[49m\u001b[38;5;241;43m=\u001b[39;49m\u001b[38;5;241;43m1\u001b[39;49m\u001b[43m,\u001b[49m\u001b[43m \u001b[49m\u001b[43mlog_x_axis\u001b[49m\u001b[38;5;241;43m=\u001b[39;49m\u001b[38;5;28;43;01mTrue\u001b[39;49;00m\u001b[43m,\u001b[49m\u001b[43m \u001b[49m\u001b[43mcolor_seed\u001b[49m\u001b[38;5;241;43m=\u001b[39;49m\u001b[38;5;241;43m1\u001b[39;49m\u001b[43m)\u001b[49m\n",
      "File \u001b[0;32m/usr/local/lib/python3.9/site-packages/ecoevocrm/viz.py:103\u001b[0m, in \u001b[0;36mstacked_abundance_plot\u001b[0;34m(system, ax, relative_abundance, t_max, t_downsample, log_x_axis, type_colors, palette, root_color, highlight_clades, apply_palette_depth, shuffle_palette, color_step_start, color_step_slope, color_step_min, linewidth, edgecolor, color_seed)\u001b[0m\n\u001b[1;32m    101\u001b[0m     color_seed \u001b[38;5;241m=\u001b[39m np\u001b[38;5;241m.\u001b[39mrandom\u001b[38;5;241m.\u001b[39mrandint(low\u001b[38;5;241m=\u001b[39m\u001b[38;5;241m0\u001b[39m, high\u001b[38;5;241m=\u001b[39m\u001b[38;5;241m1e9\u001b[39m) \u001b[38;5;28;01mif\u001b[39;00m color_seed \u001b[38;5;129;01mis\u001b[39;00m \u001b[38;5;28;01mNone\u001b[39;00m \u001b[38;5;28;01melse\u001b[39;00m color_seed\n\u001b[1;32m    102\u001b[0m     np\u001b[38;5;241m.\u001b[39mrandom\u001b[38;5;241m.\u001b[39mseed(color_seed)\n\u001b[0;32m--> 103\u001b[0m     type_colors \u001b[38;5;241m=\u001b[39m color_types_by_phylogeny(system\u001b[38;5;241m.\u001b[39mtype_set, palette\u001b[38;5;241m=\u001b[39mpalette, root_color\u001b[38;5;241m=\u001b[39mroot_color, highlight_clades\u001b[38;5;241m=\u001b[39mhighlight_clades, apply_palette_depth\u001b[38;5;241m=\u001b[39mapply_palette_depth, shuffle_palette\u001b[38;5;241m=\u001b[39mshuffle_palette, color_step_start\u001b[38;5;241m=\u001b[39mcolor_step_start, color_step_slope\u001b[38;5;241m=\u001b[39mcolor_step_slope, color_step_min\u001b[38;5;241m=\u001b[39mcolor_step_min, seed\u001b[38;5;241m=\u001b[39m\u001b[43mseed\u001b[49m)\n\u001b[1;32m    105\u001b[0m \u001b[38;5;28;01mif\u001b[39;00m(t_max \u001b[38;5;129;01mis\u001b[39;00m \u001b[38;5;28;01mNone\u001b[39;00m):\n\u001b[1;32m    106\u001b[0m     t_max \u001b[38;5;241m=\u001b[39m np\u001b[38;5;241m.\u001b[39mmax(system\u001b[38;5;241m.\u001b[39mt_series)\n",
      "\u001b[0;31mNameError\u001b[0m: name 'seed' is not defined"
     ]
    },
    {
     "data": {
      "image/png": "[encoded data removed]",
      "text/plain": [
       "<Figure size 2000x800 with 1 Axes>"
      ]
     },
     "metadata": {},
     "output_type": "display_data"
    }
   ],
   "source": [
    "fig, ax = plt.subplots(1, 1, figsize=(20, 8))\n",
    "viz.stacked_abundance_plot(system, ax=ax, relative_abundance=True, apply_palette_depth=1, log_x_axis=True, color_seed=1)"
   ]
  },
  {
   "cell_type": "code",
   "execution_count": null,
   "metadata": {},
   "outputs": [],
   "source": [
    "fig, ax = plt.subplots(1, 1, figsize=(20, 8))\n",
    "viz.resource_plot(system, ax=ax, stacked=False, relative=False, log_x_axis=True, log_y_axis=False)"
   ]
  },
  {
   "cell_type": "code",
   "execution_count": null,
   "metadata": {},
   "outputs": [],
   "source": [
    "viz.matrix_plot(system.extant_type_set.sigma)"
   ]
  },
  {
   "cell_type": "code",
   "execution_count": null,
   "metadata": {},
   "outputs": [],
   "source": [
    "stop"
   ]
  },
  {
   "cell_type": "markdown",
   "metadata": {},
   "source": [
    "---------\n",
    "---------"
   ]
  },
  {
   "cell_type": "code",
   "execution_count": null,
   "metadata": {},
   "outputs": [],
   "source": [
    "system.t_series"
   ]
  },
  {
   "cell_type": "code",
   "execution_count": null,
   "metadata": {},
   "outputs": [],
   "source": [
    "np.diff(system.t_series)"
   ]
  },
  {
   "cell_type": "code",
   "execution_count": null,
   "metadata": {},
   "outputs": [],
   "source": [
    "plt.hist(np.diff(system.t_series)[np.diff(system.t_series) < 1e1], bins=100)\n",
    "plt.show()"
   ]
  },
  {
   "cell_type": "code",
   "execution_count": null,
   "metadata": {},
   "outputs": [],
   "source": [
    "np.count_nonzero(np.diff(system.t_series) < 1e3)/len(np.diff(system.t_series))"
   ]
  },
  {
   "cell_type": "markdown",
   "metadata": {},
   "source": [
    "---------\n",
    "---------"
   ]
  },
  {
   "cell_type": "code",
   "execution_count": null,
   "metadata": {},
   "outputs": [],
   "source": [
    "T  = 1e6\n",
    "dt = 1\n",
    "t_series = np.arange(0, T, step=dt)"
   ]
  },
  {
   "cell_type": "code",
   "execution_count": null,
   "metadata": {},
   "outputs": [],
   "source": [
    "l   = 1e0\n",
    "k   = 1e-5\n",
    "eps = 5e-4"
   ]
  },
  {
   "cell_type": "code",
   "execution_count": null,
   "metadata": {},
   "outputs": [],
   "source": [
    "x0   = 1\n",
    "x    = np.zeros_like(t_series)\n",
    "x[0] = x0\n",
    "\n",
    "v0   = 0\n",
    "v    = np.zeros_like(t_series)\n",
    "v[0] = v0"
   ]
  },
  {
   "cell_type": "code",
   "execution_count": null,
   "metadata": {
    "scrolled": true,
    "tags": []
   },
   "outputs": [],
   "source": [
    "for t in range(len(t_series)-1):\n",
    "    dv = -l*v[t] + np.random.normal(0, eps) - k*(x[t]-x[0])\n",
    "    v[t+1] = v[t] + dv*dt\n",
    "    dx = v[t+1]\n",
    "    x[t+1] = x[t] + dx*dt"
   ]
  },
  {
   "cell_type": "code",
   "execution_count": null,
   "metadata": {},
   "outputs": [],
   "source": [
    "fig, ax = plt.subplots(1, 1, figsize=(20,10))\n",
    "ax.plot(t_series, v, alpha=0.2, label='v')\n",
    "ax.plot(t_series, x, label='x')\n",
    "ax.legend()\n",
    "ax.set_ylim(0, 2)\n",
    "ax.axhline(x[0], color='k', alpha=1, ls='-')\n",
    "ax.axhline(0.9, color='darkblue', alpha=0.5, ls=':')\n",
    "ax.axhline(1.1, color='darkblue', alpha=0.5, ls=':')\n",
    "ax.axhline(x[0]+np.std(x), color='k', alpha=0.3, ls='--')\n",
    "ax.axhline(x[0]-np.std(x), color='k', alpha=0.3, ls='--')\n",
    "ax.axhline(x[0]+2*np.std(x), color='k', alpha=0.2, ls='--')\n",
    "ax.axhline(x[0]-2*np.std(x), color='k', alpha=0.2, ls='--')\n",
    "ax.axhline(x[0]+3*np.std(x), color='k', alpha=0.1, ls=':')\n",
    "ax.axhline(x[0]-3*np.std(x), color='k', alpha=0.1, ls=':')"
   ]
  },
  {
   "cell_type": "code",
   "execution_count": null,
   "metadata": {},
   "outputs": [],
   "source": []
  },
  {
   "cell_type": "code",
   "execution_count": null,
   "metadata": {},
   "outputs": [],
   "source": []
  },
  {
   "cell_type": "code",
   "execution_count": null,
   "metadata": {},
   "outputs": [],
   "source": []
  },
  {
   "cell_type": "code",
   "execution_count": null,
   "metadata": {},
   "outputs": [],
   "source": [
    "T  = 1e6\n",
    "dt = 1000\n",
    "t_series = np.arange(0, T, step=dt)"
   ]
  },
  {
   "cell_type": "code",
   "execution_count": null,
   "metadata": {},
   "outputs": [],
   "source": [
    "l   = 1e-3\n",
    "k   = 1e-8\n",
    "eps = 1e-8"
   ]
  },
  {
   "cell_type": "code",
   "execution_count": null,
   "metadata": {},
   "outputs": [],
   "source": [
    "x0   = 1\n",
    "x    = np.zeros_like(t_series)\n",
    "x[0] = x0\n",
    "\n",
    "v0   = 0\n",
    "v    = np.zeros_like(t_series)\n",
    "v[0] = v0"
   ]
  },
  {
   "cell_type": "code",
   "execution_count": null,
   "metadata": {
    "scrolled": true,
    "tags": []
   },
   "outputs": [],
   "source": [
    "for t in range(len(t_series)-1):\n",
    "    dv = -l*v[t] + np.random.normal(0, eps) - k*(x[t]-x[0])\n",
    "    v[t+1] = v[t] + dv*dt\n",
    "    dx = v[t+1]\n",
    "    x[t+1] = x[t] + dx*dt"
   ]
  },
  {
   "cell_type": "code",
   "execution_count": null,
   "metadata": {},
   "outputs": [],
   "source": [
    "fig, ax = plt.subplots(1, 1, figsize=(20,10))\n",
    "ax.plot(t_series, v, alpha=0.2, label='v')\n",
    "ax.plot(t_series, x, label='x')\n",
    "ax.legend()\n",
    "ax.set_ylim(0, 2)\n",
    "ax.axhline(x[0], color='k', alpha=1, ls='-')\n",
    "ax.axhline(0.9, color='darkblue', alpha=0.5, ls=':')\n",
    "ax.axhline(1.1, color='darkblue', alpha=0.5, ls=':')\n",
    "ax.axhline(x[0]+np.std(x), color='k', alpha=0.3, ls='--')\n",
    "ax.axhline(x[0]-np.std(x), color='k', alpha=0.3, ls='--')\n",
    "ax.axhline(x[0]+2*np.std(x), color='k', alpha=0.2, ls='--')\n",
    "ax.axhline(x[0]-2*np.std(x), color='k', alpha=0.2, ls='--')\n",
    "ax.axhline(x[0]+3*np.std(x), color='k', alpha=0.1, ls=':')\n",
    "ax.axhline(x[0]-3*np.std(x), color='k', alpha=0.1, ls=':')"
   ]
  },
  {
   "cell_type": "code",
   "execution_count": null,
   "metadata": {},
   "outputs": [],
   "source": []
  },
  {
   "cell_type": "code",
   "execution_count": null,
   "metadata": {},
   "outputs": [],
   "source": []
  },
  {
   "cell_type": "code",
   "execution_count": null,
   "metadata": {},
   "outputs": [],
   "source": []
  },
  {
   "cell_type": "code",
   "execution_count": null,
   "metadata": {},
   "outputs": [],
   "source": [
    "T  = 1e6\n",
    "dt = 1000\n",
    "t_series = np.arange(0, T, step=dt)"
   ]
  },
  {
   "cell_type": "code",
   "execution_count": null,
   "metadata": {},
   "outputs": [],
   "source": [
    "l   = 1e-3\n",
    "k   = 1e-8\n",
    "eps = 1e-8"
   ]
  },
  {
   "cell_type": "code",
   "execution_count": null,
   "metadata": {},
   "outputs": [],
   "source": [
    "fig, ax = plt.subplots(1, 1, figsize=(20,10))\n",
    "\n",
    "for i in range(num_resources):\n",
    "    print(i+1)\n",
    "    \n",
    "    x0   = 1\n",
    "    x    = np.zeros_like(t_series)\n",
    "    x[0] = x0\n",
    "\n",
    "    v0   = 0\n",
    "    v    = np.zeros_like(t_series)\n",
    "    v[0] = v0\n",
    "\n",
    "    for t in range(len(t_series)-1):\n",
    "        dv = -l*v[t] + np.random.normal(0, eps) - k*(x[t]-x[0])\n",
    "        v[t+1] = v[t] + dv*dt\n",
    "        dx = v[t+1]\n",
    "        x[t+1] = x[t] + dx*dt\n",
    "        \n",
    "    ax.plot(t_series, x, label=f\"x{i+1}\")\n",
    "\n",
    "ax.legend()\n",
    "ax.set_ylim(0, 2)\n",
    "ax.axhline(0.9, color='k', alpha=0.4, ls=':')\n",
    "ax.axhline(1.1, color='k', alpha=0.4, ls=':')"
   ]
  },
  {
   "cell_type": "code",
   "execution_count": null,
   "metadata": {},
   "outputs": [],
   "source": []
  },
  {
   "cell_type": "code",
   "execution_count": null,
   "metadata": {},
   "outputs": [],
   "source": []
  },
  {
   "cell_type": "code",
   "execution_count": null,
   "metadata": {},
   "outputs": [],
   "source": []
  }
 ],
 "metadata": {
  "kernelspec": {
   "display_name": "Python 3 (ipykernel)",
   "language": "python",
   "name": "python3"
  },
  "language_info": {
   "codemirror_mode": {
    "name": "ipython",
    "version": 3
   },
   "file_extension": ".py",
   "mimetype": "text/x-python",
   "name": "python",
   "nbconvert_exporter": "python",
   "pygments_lexer": "ipython3",
   "version": "3.9.10"
  }
 },
 "nbformat": 4,
 "nbformat_minor": 4
}
