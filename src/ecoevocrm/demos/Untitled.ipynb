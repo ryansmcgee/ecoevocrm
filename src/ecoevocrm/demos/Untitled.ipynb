{
 "cells": [
  {
   "cell_type": "code",
   "execution_count": 1,
   "metadata": {},
   "outputs": [],
   "source": [
    "import numpy as np\n",
    "import timeit"
   ]
  },
  {
   "cell_type": "code",
   "execution_count": 2,
   "metadata": {},
   "outputs": [],
   "source": [
    "L = 10"
   ]
  },
  {
   "cell_type": "code",
   "execution_count": 3,
   "metadata": {},
   "outputs": [
    {
     "data": {
      "text/plain": [
       "[1, 2, 5, 8, 10, 20, 30, 40, 50, 60, 70, 80, 90, 100]"
      ]
     },
     "execution_count": 3,
     "metadata": {},
     "output_type": "execute_result"
    }
   ],
   "source": [
    "n_vals = [int(L*i) for i in [0.1, 0.2, 0.5, 0.8]] + [L*i for i in range(1, 11)]\n",
    "n_vals"
   ]
  },
  {
   "cell_type": "code",
   "execution_count": 4,
   "metadata": {},
   "outputs": [],
   "source": [
    "treps = 25000\n",
    "times_regenmutset_og = []\n",
    "times_regenmutset_3d = []\n",
    "times_insert = []"
   ]
  },
  {
   "cell_type": "code",
   "execution_count": 5,
   "metadata": {},
   "outputs": [
    {
     "name": "stdout",
     "output_type": "stream",
     "text": [
      "1\n",
      "og...\n",
      "3d...\n",
      "insert...\n",
      "2\n",
      "og...\n",
      "3d...\n",
      "insert...\n",
      "5\n",
      "og...\n",
      "3d...\n",
      "insert...\n",
      "8\n",
      "og...\n",
      "3d...\n",
      "insert...\n",
      "10\n",
      "og...\n",
      "3d...\n",
      "insert...\n",
      "20\n",
      "og...\n",
      "3d...\n",
      "insert...\n",
      "30\n",
      "og...\n",
      "3d...\n",
      "insert...\n",
      "40\n",
      "og...\n",
      "3d...\n",
      "insert...\n",
      "50\n",
      "og...\n",
      "3d...\n",
      "insert...\n",
      "60\n",
      "og...\n",
      "3d...\n",
      "insert...\n",
      "70\n",
      "og...\n",
      "3d...\n",
      "insert...\n",
      "80\n",
      "og...\n",
      "3d...\n",
      "insert...\n",
      "90\n",
      "og...\n",
      "3d...\n",
      "insert...\n",
      "100\n",
      "og...\n",
      "3d...\n",
      "insert...\n"
     ]
    }
   ],
   "source": [
    "for n in n_vals:\n",
    "    print(n)\n",
    "    sigma_extant      = np.random.binomial(n=1, p=0.5, size=(n, L))\n",
    "    sigma_extant_muts = np.random.binomial(n=1, p=0.5, size=(n*L, L))\n",
    "    new_mut_sigmas    = np.random.binomial(n=1, p=0.5, size=(L, L))\n",
    "    \n",
    "    print('og...')\n",
    "    times_regenmutset_og.append( \n",
    "        timeit.timeit(lambda: 1*np.logical_xor( np.repeat(sigma_extant, repeats=sigma_extant.shape[1], axis=0), np.tile(np.identity(sigma_extant.shape[1]), reps=(sigma_extant.shape[0], 1)) ), number=treps) \n",
    "        )\n",
    "    \n",
    "    print('3d...')\n",
    "    times_regenmutset_3d.append( \n",
    "        timeit.timeit(lambda: 1*np.logical_xor(sigma_extant[:,:,np.newaxis], np.eye(L)), number=treps)\n",
    "        )\n",
    "    \n",
    "    print('insert...')\n",
    "    times_insert.append( \n",
    "        timeit.timeit(lambda: np.insert(sigma_extant_muts, 1, \n",
    "                                        1*np.logical_xor( np.repeat(np.random.binomial(n=1, p=0.5, size=(1, L)), repeats=L, axis=0), np.tile(np.identity(L), reps=(1, 1)) ), \n",
    "                                        axis=0), \n",
    "                              number=treps)\n",
    "        )\n",
    "        \n",
    "    # break"
   ]
  },
  {
   "cell_type": "code",
   "execution_count": 6,
   "metadata": {},
   "outputs": [
    {
     "data": {
      "text/plain": [
       "<matplotlib.legend.Legend at 0x1115bf310>"
      ]
     },
     "execution_count": 6,
     "metadata": {},
     "output_type": "execute_result"
    },
    {
     "data": {
      "image/png": "[encoded data removed]",
      "text/plain": [
       "<Figure size 432x288 with 1 Axes>"
      ]
     },
     "metadata": {
      "needs_background": "light"
     },
     "output_type": "display_data"
    }
   ],
   "source": [
    "import matplotlib.pyplot as plt\n",
    "plt.plot(n_vals, times_regenmutset_og, label='regenmutset_og')\n",
    "plt.plot(n_vals, times_regenmutset_3d, label='regenmutset_3d')\n",
    "plt.plot(n_vals, times_insert,         label='regenmutset_insert')\n",
    "plt.legend()"
   ]
  },
  {
   "cell_type": "code",
   "execution_count": null,
   "metadata": {},
   "outputs": [],
   "source": []
  },
  {
   "cell_type": "code",
   "execution_count": 7,
   "metadata": {},
   "outputs": [],
   "source": [
    "L = 40"
   ]
  },
  {
   "cell_type": "code",
   "execution_count": 8,
   "metadata": {},
   "outputs": [
    {
     "data": {
      "text/plain": [
       "[4, 8, 20, 32, 40, 80, 120, 160, 200, 240, 280, 320, 360, 400]"
      ]
     },
     "execution_count": 8,
     "metadata": {},
     "output_type": "execute_result"
    }
   ],
   "source": [
    "n_vals = [int(L*i) for i in [0.1, 0.2, 0.5, 0.8]] + [L*i for i in range(1, 11)]\n",
    "n_vals"
   ]
  },
  {
   "cell_type": "code",
   "execution_count": 9,
   "metadata": {},
   "outputs": [],
   "source": [
    "treps = 25000\n",
    "times_regenmutset_og = []\n",
    "times_regenmutset_3d = []\n",
    "times_insert = []"
   ]
  },
  {
   "cell_type": "code",
   "execution_count": 10,
   "metadata": {},
   "outputs": [
    {
     "name": "stdout",
     "output_type": "stream",
     "text": [
      "4\n",
      "og...\n",
      "3d...\n",
      "insert...\n",
      "8\n",
      "og...\n",
      "3d...\n",
      "insert...\n",
      "20\n",
      "og...\n",
      "3d...\n",
      "insert...\n",
      "32\n",
      "og...\n",
      "3d...\n",
      "insert...\n",
      "40\n",
      "og...\n",
      "3d...\n",
      "insert...\n",
      "80\n",
      "og...\n",
      "3d...\n",
      "insert...\n",
      "120\n",
      "og...\n",
      "3d...\n",
      "insert...\n",
      "160\n",
      "og...\n",
      "3d...\n",
      "insert...\n",
      "200\n",
      "og...\n",
      "3d...\n",
      "insert...\n",
      "240\n",
      "og...\n",
      "3d...\n",
      "insert...\n",
      "280\n",
      "og...\n",
      "3d...\n",
      "insert...\n",
      "320\n",
      "og...\n",
      "3d...\n",
      "insert...\n",
      "360\n",
      "og...\n",
      "3d...\n",
      "insert...\n",
      "400\n",
      "og...\n",
      "3d...\n",
      "insert...\n"
     ]
    }
   ],
   "source": [
    "for n in n_vals:\n",
    "    print(n)\n",
    "    sigma_extant      = np.random.binomial(n=1, p=0.5, size=(n, L))\n",
    "    sigma_extant_muts = np.random.binomial(n=1, p=0.5, size=(n*L, L))\n",
    "    new_mut_sigmas    = np.random.binomial(n=1, p=0.5, size=(L, L))\n",
    "    \n",
    "    print('og...')\n",
    "    times_regenmutset_og.append( \n",
    "        timeit.timeit(lambda: 1*np.logical_xor( np.repeat(sigma_extant, repeats=sigma_extant.shape[1], axis=0), np.tile(np.identity(sigma_extant.shape[1]), reps=(sigma_extant.shape[0], 1)) ), number=treps) \n",
    "        )\n",
    "    \n",
    "    print('3d...')\n",
    "    times_regenmutset_3d.append( \n",
    "        timeit.timeit(lambda: 1*np.logical_xor(sigma_extant[:,:,np.newaxis], np.eye(L)), number=treps)\n",
    "        )\n",
    "    \n",
    "    print('insert...')\n",
    "    times_insert.append( \n",
    "        timeit.timeit(lambda: np.insert(sigma_extant_muts, 1, \n",
    "                                        1*np.logical_xor( np.repeat(np.random.binomial(n=1, p=0.5, size=(1, L)), repeats=L, axis=0), np.tile(np.identity(L), reps=(1, 1)) ), \n",
    "                                        axis=0), \n",
    "                              number=treps)\n",
    "        )\n",
    "        \n",
    "    # break"
   ]
  },
  {
   "cell_type": "code",
   "execution_count": 11,
   "metadata": {},
   "outputs": [
    {
     "data": {
      "text/plain": [
       "<matplotlib.legend.Legend at 0x112a0ffd0>"
      ]
     },
     "execution_count": 11,
     "metadata": {},
     "output_type": "execute_result"
    },
    {
     "data": {
      "image/png": "[encoded data removed]",
      "text/plain": [
       "<Figure size 432x288 with 1 Axes>"
      ]
     },
     "metadata": {
      "needs_background": "light"
     },
     "output_type": "display_data"
    }
   ],
   "source": [
    "import matplotlib.pyplot as plt\n",
    "plt.plot(n_vals, times_regenmutset_og, label='regenmutset_og')\n",
    "plt.plot(n_vals, times_regenmutset_3d, label='regenmutset_3d')\n",
    "plt.plot(n_vals, times_insert,         label='regenmutset_insert')\n",
    "plt.legend()"
   ]
  }
 ],
 "metadata": {
  "kernelspec": {
   "display_name": "Python 3",
   "language": "python",
   "name": "python3"
  },
  "language_info": {
   "codemirror_mode": {
    "name": "ipython",
    "version": 3
   },
   "file_extension": ".py",
   "mimetype": "text/x-python",
   "name": "python",
   "nbconvert_exporter": "python",
   "pygments_lexer": "ipython3",
   "version": "3.8.4"
  }
 },
 "nbformat": 4,
 "nbformat_minor": 4
}
