{
 "cells": [
  {
   "cell_type": "code",
   "execution_count": 1,
   "metadata": {},
   "outputs": [],
   "source": [
    "class Employee:\n",
    "    \n",
    "    # Class constructor (defines what happens when a new object is instantiated)\n",
    "    def __init__(self, id, name, job_title, salary, duties):\n",
    "        \n",
    "        self.id       = id\n",
    "        self.name     = name\n",
    "        self.jobTitle = job_title\n",
    "        self.salary   = salary\n",
    "        self.duties   = duties\n",
    "        \n",
    "        self.active   = True\n",
    "        \n",
    "        self.taxBracket = 'low' if salary < 35000 else 'high'\n",
    "        \n",
    "        if(self.taxBracket == 'low'):\n",
    "            self.taxRate = 0.2\n",
    "        else:\n",
    "            self.taxRate = 0.3\n",
    "            \n",
    "            \n",
    "    # This class function takes in a couple of arguments, \n",
    "    #   uses those argument values to compute something, \n",
    "    #   and then modifies the value of an attribute.\n",
    "    def adjust_salary(self, percent_change, bonus):\n",
    "        self.salary = self.salary + (self.salary * percent_change/100) + bonus\n",
    "        \n",
    "        \n",
    "    # This class function uses the values of attributes to compute something,\n",
    "    #   and the result of that computation gets returned (as an output)\n",
    "    # Another thing to note about this example function: \n",
    "    #   There is equals sign and a value attached to the deduction input argument in the def line...\n",
    "    #   this defines a default value that will be automatically stored in the deduction argument if the user does NOT supply some other value.\n",
    "    #   (see how this plays out in the cells below)\n",
    "    def get_tax_amount(self, deduction=0):\n",
    "        taxAmount = (self.salary * self.taxRate) - deduction\n",
    "        return taxAmount\n",
    "    \n",
    "    "
   ]
  },
  {
   "cell_type": "code",
   "execution_count": 2,
   "metadata": {},
   "outputs": [],
   "source": [
    "mike = Employee(id=12, name=\"Mike\", job_title=\"Manager\", salary=45000, duties=['open', 'close', 'payroll'])"
   ]
  },
  {
   "cell_type": "code",
   "execution_count": 3,
   "metadata": {},
   "outputs": [],
   "source": [
    "mary = Employee(id=23, name=\"Mary\", job_title=\"Shift supervisor\", salary=30000, duties=['close'])"
   ]
  },
  {
   "cell_type": "markdown",
   "metadata": {},
   "source": [
    "#### Let's look at what the adjust_salary funciton does"
   ]
  },
  {
   "cell_type": "code",
   "execution_count": 4,
   "metadata": {},
   "outputs": [
    {
     "name": "stdout",
     "output_type": "stream",
     "text": [
      "Salary before function call: 45000\n",
      "Salary after function call: 51500.0\n"
     ]
    }
   ],
   "source": [
    "print(\"Salary before function call:\", mike.salary)\n",
    "\n",
    "# Use the function to update the salary\n",
    "mike.adjust_salary(percent_change=10.0, bonus=2000)\n",
    "\n",
    "print(\"Salary after function call:\", mike.salary)"
   ]
  },
  {
   "cell_type": "code",
   "execution_count": 5,
   "metadata": {},
   "outputs": [
    {
     "name": "stdout",
     "output_type": "stream",
     "text": [
      "Salary before function call: 30000\n",
      "Salary after function call: 31500.0\n"
     ]
    }
   ],
   "source": [
    "print(\"Salary before function call:\", mary.salary)\n",
    "\n",
    "# Use the function to update the salary\n",
    "mary.adjust_salary(percent_change=5.0, bonus=0)\n",
    "\n",
    "print(\"Salary after function call:\", mary.salary)"
   ]
  },
  {
   "cell_type": "markdown",
   "metadata": {},
   "source": [
    "#### Let's look at what the get_tax_amount funciton does"
   ]
  },
  {
   "cell_type": "code",
   "execution_count": 6,
   "metadata": {},
   "outputs": [
    {
     "data": {
      "text/plain": [
       "15450.0"
      ]
     },
     "execution_count": 6,
     "metadata": {},
     "output_type": "execute_result"
    }
   ],
   "source": [
    "mike.get_tax_amount()  # here we don't give anything for the deduction argument, so the default value we defined is used"
   ]
  },
  {
   "cell_type": "code",
   "execution_count": 8,
   "metadata": {},
   "outputs": [
    {
     "data": {
      "text/plain": [
       "5300.0"
      ]
     },
     "execution_count": 8,
     "metadata": {},
     "output_type": "execute_result"
    }
   ],
   "source": [
    "mary.get_tax_amount(deduction=1000)"
   ]
  }
 ],
 "metadata": {
  "kernelspec": {
   "display_name": "Python 3 (ipykernel)",
   "language": "python",
   "name": "python3"
  },
  "language_info": {
   "codemirror_mode": {
    "name": "ipython",
    "version": 3
   },
   "file_extension": ".py",
   "mimetype": "text/x-python",
   "name": "python",
   "nbconvert_exporter": "python",
   "pygments_lexer": "ipython3",
   "version": "3.9.10"
  }
 },
 "nbformat": 4,
 "nbformat_minor": 4
}
