{
 "cells": [
  {
   "cell_type": "code",
   "execution_count": null,
   "metadata": {},
   "outputs": [],
   "source": [
    "import numpy as np\n",
    "import pandas as pd\n",
    "import scipy"
   ]
  },
  {
   "cell_type": "code",
   "execution_count": null,
   "metadata": {},
   "outputs": [],
   "source": [
    "from ecoevocrm.consumer_resource_system import *\n",
    "from ecoevocrm.landscapes import *\n",
    "import ecoevocrm.utils as utils\n",
    "import ecoevocrm.viz as viz"
   ]
  },
  {
   "cell_type": "code",
   "execution_count": null,
   "metadata": {},
   "outputs": [],
   "source": [
    "import matplotlib\n",
    "import matplotlib.pyplot as plt\n",
    "import seaborn as sns\n",
    "sns.set_style(\"whitegrid\", {'axes.grid' : False})"
   ]
  },
  {
   "cell_type": "markdown",
   "metadata": {},
   "source": [
    "#"
   ]
  },
  {
   "cell_type": "markdown",
   "source": [
    "# Universal parameters"
   ],
   "metadata": {
    "collapsed": false
   }
  },
  {
   "cell_type": "code",
   "execution_count": null,
   "outputs": [],
   "source": [
    "chromosomeApf = '10000'\n",
    "chromosomeApc = '01100'\n",
    "chromosomeBpf = '00001'\n",
    "chromosomeBpc = '00110'\n",
    "chromosome_len = 5\n",
    "plasmid_len = 4"
   ],
   "metadata": {
    "collapsed": false
   }
  },
  {
   "cell_type": "code",
   "execution_count": null,
   "outputs": [],
   "source": [
    "m = 1e-9\n",
    "mutation_rates_pf = np.array([0, 0, 0, 0, 0, 0, 0, 0, 0])\n",
    "mutation_rates_pc = np.array([0, 0, 0, 0, 0, 0, m, m, m])"
   ],
   "metadata": {
    "collapsed": false
   }
  },
  {
   "cell_type": "code",
   "execution_count": null,
   "outputs": [],
   "source": [
    "h = 1\n",
    "consumption_rates = np.array([h, h, h, h, h, 0, 0, 0, 0])  # for all types\n",
    "# viz.matrix_plot(consumption_rates, vmin=0, cbar=False, linecolor='lightgray', linewidths=1)"
   ],
   "metadata": {
    "collapsed": false
   }
  },
  {
   "cell_type": "code",
   "execution_count": null,
   "outputs": [],
   "source": [
    "l = 0 # 1e-7\n",
    "segregation_rates = np.array([0, 0, 0, 0, 0, l, 0, 0, 0])  # for all types\n",
    "# viz.matrix_plot(segregation_rates, vmin=0, cbar=False, linecolor='lightgray', linewidths=1)"
   ],
   "metadata": {
    "collapsed": false
   }
  },
  {
   "cell_type": "code",
   "execution_count": null,
   "outputs": [],
   "source": [
    "beta  = 1e-16\n",
    "alpha = 1\n",
    "transfer_rates_donor = np.array([0, 0, 0, 0, 0, beta, 0, 0, 0])  # for all types\n",
    "transfer_rates_recip = np.array([0, 0, 0, 0, 0, alpha, 0, 0, 0])  # for all types\n",
    "# viz.matrix_plot(transfer_rates_donor, vmin=0, cbar=False, linecolor='lightgray', linewidths=1)\n",
    "# viz.matrix_plot(transfer_rates_recip, vmin=0, cbar=False, linecolor='lightgray', linewidths=1)"
   ],
   "metadata": {
    "collapsed": false
   }
  },
  {
   "cell_type": "code",
   "execution_count": null,
   "outputs": [],
   "source": [
    "linkage = {5: [6, 7, 8]}"
   ],
   "metadata": {
    "collapsed": false
   }
  },
  {
   "cell_type": "code",
   "execution_count": null,
   "outputs": [],
   "source": [
    "                       #  segregant:  { attributes of segregant }\n",
    "segregant_overrides = { '011000...': {'traits': np.array([1, 0, 0, 0, 0, 0, 0, 0, 0]), 'mutation_rate': np.array([0, 0, 0, 0, 0, 0, 0, 0, 0])},\n",
    "                        '001100...': {'traits': np.array([0, 0, 0, 0, 1, 0, 0, 0, 0]), 'mutation_rate': np.array([0, 0, 0, 0, 0, 0, 0, 0, 0])} }"
   ],
   "metadata": {
    "collapsed": false
   }
  },
  {
   "cell_type": "code",
   "execution_count": null,
   "outputs": [],
   "source": [
    "                         # transconjugant: { attributes of transconjugant }\n",
    "transconjugant_overrides = { '100001...': {'traits': {'traits': [0, 1, 2, 3, 4], 'values': np.array([0, 1, 1, 0, 0])}},\n",
    "                             '000011...': {'traits': {'traits': [0, 1, 2, 3, 4], 'values': np.array([0, 0, 1, 1, 0])}} }"
   ],
   "metadata": {
    "collapsed": false
   }
  },
  {
   "cell_type": "code",
   "execution_count": null,
   "metadata": {},
   "outputs": [],
   "source": [
    "cost_baseline = 0.1"
   ]
  },
  {
   "cell_type": "code",
   "execution_count": null,
   "outputs": [],
   "source": [
    "N = 3\n",
    "K = 0"
   ],
   "metadata": {
    "collapsed": false
   }
  },
  {
   "cell_type": "code",
   "execution_count": null,
   "outputs": [],
   "source": [
    "landscape_hostA = NKLandscape(N=N, K=K, seed=67)\n",
    "display(landscape_hostA.genotype_fitnesses)"
   ],
   "metadata": {
    "collapsed": false
   }
  },
  {
   "cell_type": "code",
   "execution_count": null,
   "outputs": [],
   "source": [
    "landscape_hostB = NKLandscape(N=N, K=K, seed=858)\n",
    "display(landscape_hostB.genotype_fitnesses)"
   ],
   "metadata": {
    "collapsed": false
   }
  },
  {
   "cell_type": "code",
   "execution_count": null,
   "outputs": [],
   "source": [
    "landscape = merge_landscapes(landscape_hostA.genotype_fitnesses, landscape_hostB.genotype_fitnesses, prefix_A='011001', prefix_B='001101')  # prefixes = traits for pc|A and pc|B"
   ],
   "metadata": {
    "collapsed": false
   }
  },
  {
   "cell_type": "code",
   "execution_count": null,
   "outputs": [],
   "source": [
    "landscape.update({'100000000': max(landscape_hostA.genotype_fitnesses.values()),   # pf|A\n",
    "                  '000010000': max(landscape_hostB.genotype_fitnesses.values())})  # pf|B"
   ],
   "metadata": {
    "collapsed": false
   }
  },
  {
   "cell_type": "code",
   "execution_count": null,
   "outputs": [],
   "source": [
    "landscape"
   ],
   "metadata": {
    "collapsed": false
   }
  },
  {
   "cell_type": "code",
   "execution_count": null,
   "outputs": [],
   "source": [
    "carrying_capacity = 1e9"
   ],
   "metadata": {
    "collapsed": false
   }
  },
  {
   "cell_type": "markdown",
   "source": [
    "# Scenario Phase A1"
   ],
   "metadata": {
    "collapsed": false
   }
  },
  {
   "cell_type": "code",
   "execution_count": null,
   "outputs": [],
   "source": [
    "                       # h  h  h  h  h   t   m  m  m\n",
    "traits_init = np.array([[1, 0, 0, 0, 0,  0,  0, 0, 0],   # pf|A\n",
    "                        [0, 1, 1, 0, 0,  1,  0, 0, 0]])  # pc|A\n",
    "# viz.matrix_plot(traits_init, vmin=0, cbar=False, linecolor='lightgray', linewidths=1)"
   ],
   "metadata": {
    "collapsed": false
   }
  },
  {
   "cell_type": "code",
   "execution_count": null,
   "outputs": [],
   "source": [
    "lineageIDs = ['Apf', 'Apc']"
   ],
   "metadata": {
    "collapsed": false
   }
  },
  {
   "cell_type": "code",
   "execution_count": null,
   "outputs": [],
   "source": [
    "m = 1e-9\n",
    "mutation_rates = np.array([[0, 0, 0, 0, 0, 0, 0, 0, 0],   # pf|A \n",
    "                           [0, 0, 0, 0, 0, 0, m, m, m]])  # pc|A\n",
    "# viz.matrix_plot(mutation_rates, vmin=0, cbar=False, linecolor='lightgray', linewidths=1)"
   ],
   "metadata": {
    "collapsed": false
   }
  },
  {
   "cell_type": "code",
   "execution_count": null,
   "outputs": [],
   "source": [
    "N_init = np.array([1e8, 1e8])"
   ],
   "metadata": {
    "collapsed": false
   }
  },
  {
   "cell_type": "code",
   "execution_count": null,
   "outputs": [],
   "source": [
    "R_init = np.array([1, 1, 0, 0, 0, 0, 0, 0, 0])\n",
    "# viz.matrix_plot(R_init, vmin=0, vmax=1, cbar=False, linecolor='lightgray', linewidths=1)"
   ],
   "metadata": {
    "collapsed": false
   }
  },
  {
   "cell_type": "code",
   "execution_count": null,
   "outputs": [],
   "source": [
    "influx_rates = np.zeros_like(R_init)\n",
    "influx_rates[R_init > 0] = 1\n",
    "# viz.matrix_plot(influx_rates, vmin=0, cbar=False, linecolor='lightgray', linewidths=1)"
   ],
   "metadata": {
    "collapsed": false
   }
  },
  {
   "cell_type": "code",
   "execution_count": null,
   "outputs": [],
   "source": [
    "community_envA1 = Community(traits=traits_init, cost_landscape=landscape, cost_baseline=cost_baseline,\n",
    "                      consumption_rate=consumption_rates, influx_rate=influx_rates, carrying_capacity=carrying_capacity, \n",
    "                      mutation_rate=mutation_rates, segregation_rate=segregation_rates, transfer_rate_donor=transfer_rates_donor, transfer_rate_recip=transfer_rates_recip,\n",
    "                      segregant_overrides=segregant_overrides, transconjugant_overrides=transconjugant_overrides,\n",
    "                      segregation_linkage=linkage, transfer_linkage=linkage,\n",
    "                      lineageIDs=lineageIDs, lineageID_traits=[6, 7, 8],\n",
    "                      N_init=N_init, R_init=R_init, seed=2)"
   ],
   "metadata": {
    "collapsed": false
   }
  },
  {
   "cell_type": "code",
   "execution_count": null,
   "outputs": [],
   "source": [
    "T_total = 1e3"
   ],
   "metadata": {
    "collapsed": false
   }
  },
  {
   "cell_type": "code",
   "execution_count": null,
   "outputs": [],
   "source": [
    "community_envA1.run(T=T_total)"
   ],
   "metadata": {
    "collapsed": false
   }
  },
  {
   "cell_type": "code",
   "execution_count": null,
   "outputs": [],
   "source": [
    "cmapA = viz.lightdark_cmap('crimson', cmin=0.1, cmax=0.95, reverse=True)\n",
    "cmapB = viz.lightdark_cmap('royalblue', cmin=0.1, cmax=0.95, reverse=True)\n",
    "xconj_cmaps = [viz.lightdark_cmap(sns.color_palette('gnuplot2', as_cmap=True)(np.arange(0.45, 1.0, 0.1)[n-1]), cmin=0.1, cmax=0.95, reverse=True) for n in range(1, 7)]\n",
    "# display(cmapA)\n",
    "# display(cmapB)\n",
    "# for cmap in xconj_cmaps: display(cmap)"
   ],
   "metadata": {
    "collapsed": false
   }
  },
  {
   "cell_type": "code",
   "execution_count": null,
   "outputs": [],
   "source": [
    "type_colors, type_hatches = viz.type_styles_by_phylogeny(community_envA1.type_set, color_tags={'A': cmapA, 'B': cmapB, 't': {n+1: cmapT for n, cmapT in enumerate(xconj_cmaps)}}, hatch_tags={'s': '///', 'pf': '///'}, \n",
    "                                                         vmin=min(landscape.values()), vmax=max(landscape.values()) )"
   ],
   "metadata": {
    "collapsed": false
   }
  },
  {
   "cell_type": "code",
   "execution_count": null,
   "outputs": [],
   "source": [
    "fig, ax = plt.subplots(1, 1, figsize=(16, 6))\n",
    "viz.abundance_plot(community_envA1, ax=ax, type_colors=type_colors, type_hatches=type_hatches, relative_abundance=False, stacked=True, baseline='sym', log_x_axis=True, log_y_axis=False)"
   ],
   "metadata": {
    "collapsed": false
   }
  },
  {
   "cell_type": "code",
   "execution_count": null,
   "outputs": [],
   "source": [
    "fig, ax = plt.subplots(1, 1, figsize=(12, 6))\n",
    "viz.resource_plot(community_envA1, ax=ax, stacked=True, relative=False, log_x_axis=True, log_y_axis=False)"
   ],
   "metadata": {
    "collapsed": false
   }
  },
  {
   "cell_type": "markdown",
   "source": [
    "# Scenario Phase B2"
   ],
   "metadata": {
    "collapsed": false
   }
  },
  {
   "cell_type": "code",
   "execution_count": null,
   "outputs": [],
   "source": [
    "traits_init = []\n",
    "lineageIDs  = []\n",
    "mutation_rates = []\n",
    "for tidx in range(community_envA1.num_types):\n",
    "    traitStr = community_envA1.type_set.trait_keys[tidx]\n",
    "    plasmidStr = traitStr[-plasmid_len:]\n",
    "    if(traitStr[:chromosome_len] == chromosomeApc):\n",
    "        traits_init.append([int(c) for c in chromosomeBpc+plasmidStr])\n",
    "        lineageIDs.append(f'{community_envA1.type_set.lineageIDs[tidx]}>{\"Bpc\"}[{plasmidStr[1:]}]')\n",
    "        mutation_rates.append(mutation_rates_pc)\n",
    "    elif(traitStr[:chromosome_len] == chromosomeApf):\n",
    "        traits_init.append([int(c) for c in chromosomeBpf+plasmidStr])\n",
    "        lineageIDs.append(f'{community_envA1.type_set.lineageIDs[tidx]}>{\"Bpf\"}[{plasmidStr[1:]}]')\n",
    "        mutation_rates.append(mutation_rates_pf)        \n",
    "traits_init = np.array(traits_init)\n",
    "mutation_rates = np.array(mutation_rates)\n",
    "print(traits_init)\n",
    "print(mutation_rates)"
   ],
   "metadata": {
    "collapsed": false
   }
  },
  {
   "cell_type": "code",
   "execution_count": null,
   "outputs": [],
   "source": [
    "lineageIDs = None"
   ],
   "metadata": {
    "collapsed": false
   }
  },
  {
   "cell_type": "code",
   "execution_count": null,
   "outputs": [],
   "source": [
    "N_init = community_envA1.N"
   ],
   "metadata": {
    "collapsed": false
   }
  },
  {
   "cell_type": "code",
   "execution_count": null,
   "outputs": [],
   "source": [
    "R_init = np.array([0, 0, 0, 1, 1, 0, 0, 0, 0])"
   ],
   "metadata": {
    "collapsed": false
   }
  },
  {
   "cell_type": "code",
   "execution_count": null,
   "outputs": [],
   "source": [
    "influx_rates = np.zeros_like(R_init)\n",
    "influx_rates[R_init > 0] = 1"
   ],
   "metadata": {
    "collapsed": false
   }
  },
  {
   "cell_type": "code",
   "execution_count": null,
   "outputs": [],
   "source": [
    "community_envB2 = Community(traits=traits_init, cost_landscape=landscape, cost_baseline=cost_baseline,\n",
    "                      consumption_rate=consumption_rates, influx_rate=influx_rates, carrying_capacity=carrying_capacity, \n",
    "                      mutation_rate=mutation_rates, segregation_rate=segregation_rates, transfer_rate_donor=transfer_rates_donor, transfer_rate_recip=transfer_rates_recip,\n",
    "                      segregant_overrides=segregant_overrides, transconjugant_overrides=transconjugant_overrides,\n",
    "                      segregation_linkage=linkage, transfer_linkage=linkage,\n",
    "                      lineageIDs=lineageIDs, lineageID_traits=[6, 7, 8],\n",
    "                      N_init=N_init, R_init=R_init, seed=2)"
   ],
   "metadata": {
    "collapsed": false
   }
  },
  {
   "cell_type": "code",
   "execution_count": null,
   "outputs": [],
   "source": [
    "T_total = 1e4"
   ],
   "metadata": {
    "collapsed": false
   }
  },
  {
   "cell_type": "code",
   "execution_count": null,
   "outputs": [],
   "source": [
    "community_envB2.run(T=T_total)"
   ],
   "metadata": {
    "collapsed": false
   }
  },
  {
   "cell_type": "code",
   "execution_count": null,
   "outputs": [],
   "source": [
    "cmapA = viz.lightdark_cmap('crimson', cmin=0.1, cmax=0.95, reverse=True)\n",
    "cmapB = viz.lightdark_cmap('royalblue', cmin=0.1, cmax=0.95, reverse=True)\n",
    "xconj_cmaps = [viz.lightdark_cmap(sns.color_palette('gnuplot2', as_cmap=True)(np.arange(0.45, 1.0, 0.1)[n-1]), cmin=0.1, cmax=0.95, reverse=True) for n in range(1, 7)]"
   ],
   "metadata": {
    "collapsed": false
   }
  },
  {
   "cell_type": "code",
   "execution_count": null,
   "outputs": [],
   "source": [
    "type_colors, type_hatches = viz.type_styles_by_phylogeny(community_envB2.type_set, color_tags={'A': cmapA, 'B': cmapB, 't': {n+1: cmapT for n, cmapT in enumerate(xconj_cmaps)}}, hatch_tags={'s': '///', 'pf': '///'}, vmin=min(landscape.values()), vmax=max(landscape.values()), palette_depth=0 )"
   ],
   "metadata": {
    "collapsed": false
   }
  },
  {
   "cell_type": "code",
   "execution_count": null,
   "outputs": [],
   "source": [
    "fig, ax = plt.subplots(1, 1, figsize=(16, 6))\n",
    "viz.abundance_plot(community_envB2, ax=ax, type_colors=type_colors, type_hatches=type_hatches, relative_abundance=False, stacked=True, baseline='sym', log_x_axis=True, log_y_axis=False)"
   ],
   "metadata": {
    "collapsed": false
   }
  },
  {
   "cell_type": "code",
   "execution_count": null,
   "outputs": [],
   "source": [
    "fig, ax = plt.subplots(1, 1, figsize=(12, 6))\n",
    "viz.resource_plot(community_envB2, ax=ax, stacked=True, relative=False, log_x_axis=True, log_y_axis=False)"
   ],
   "metadata": {
    "collapsed": false
   }
  },
  {
   "cell_type": "markdown",
   "source": [
    "# Scenario Phase A3"
   ],
   "metadata": {
    "collapsed": false
   }
  },
  {
   "cell_type": "code",
   "execution_count": null,
   "outputs": [],
   "source": [
    "traits_init = []\n",
    "lineageIDs  = []\n",
    "mutation_rates = []\n",
    "for tidx in range(community_envB2.num_types):\n",
    "    traitStr = community_envB2.type_set.trait_keys[tidx]\n",
    "    plasmidStr = traitStr[-plasmid_len:]\n",
    "    if(traitStr[:chromosome_len] == chromosomeBpc):\n",
    "        traits_init.append([int(c) for c in chromosomeApc+plasmidStr])\n",
    "        lineageIDs.append(f'{community_envB2.type_set.lineageIDs[tidx]}>{\"Apc\"}[{plasmidStr[1:]}]')\n",
    "        mutation_rates.append(mutation_rates_pc)\n",
    "    elif(traitStr[:chromosome_len] == chromosomeBpf):\n",
    "        traits_init.append([int(c) for c in chromosomeApf+plasmidStr])\n",
    "        lineageIDs.append(f'{community_envB2.type_set.lineageIDs[tidx]}>{\"Apf\"}[{plasmidStr[1:]}]')\n",
    "        mutation_rates.append(mutation_rates_pf)   \n",
    "traits_init = np.array(traits_init)\n",
    "mutation_rates = np.array(mutation_rates)\n",
    "print(traits_init)\n",
    "print(mutation_rates)"
   ],
   "metadata": {
    "collapsed": false
   }
  },
  {
   "cell_type": "code",
   "execution_count": null,
   "outputs": [],
   "source": [
    "lineageIDs = None"
   ],
   "metadata": {
    "collapsed": false
   }
  },
  {
   "cell_type": "code",
   "execution_count": null,
   "outputs": [],
   "source": [
    "N_init = community_envB2.N"
   ],
   "metadata": {
    "collapsed": false
   }
  },
  {
   "cell_type": "code",
   "execution_count": null,
   "outputs": [],
   "source": [
    "R_init = np.array([1, 1, 0, 0, 0, 0, 0, 0, 0])"
   ],
   "metadata": {
    "collapsed": false
   }
  },
  {
   "cell_type": "code",
   "execution_count": null,
   "outputs": [],
   "source": [
    "influx_rates = np.zeros_like(R_init)\n",
    "influx_rates[R_init > 0] = 1"
   ],
   "metadata": {
    "collapsed": false
   }
  },
  {
   "cell_type": "code",
   "execution_count": null,
   "outputs": [],
   "source": [
    "community_envA3 = Community(traits=traits_init, cost_landscape=landscape, cost_baseline=cost_baseline,\n",
    "                      consumption_rate=consumption_rates, influx_rate=influx_rates, carrying_capacity=carrying_capacity, \n",
    "                      mutation_rate=mutation_rates, segregation_rate=segregation_rates, transfer_rate_donor=transfer_rates_donor, transfer_rate_recip=transfer_rates_recip,\n",
    "                      segregant_overrides=segregant_overrides, transconjugant_overrides=transconjugant_overrides,\n",
    "                      segregation_linkage=linkage, transfer_linkage=linkage,\n",
    "                      lineageIDs=lineageIDs, lineageID_traits=[6, 7, 8],\n",
    "                      N_init=N_init, R_init=R_init, seed=2)"
   ],
   "metadata": {
    "collapsed": false
   }
  },
  {
   "cell_type": "code",
   "execution_count": null,
   "outputs": [],
   "source": [
    "T_total = 1e4"
   ],
   "metadata": {
    "collapsed": false
   }
  },
  {
   "cell_type": "code",
   "execution_count": null,
   "outputs": [],
   "source": [
    "community_envA3.run(T=T_total)"
   ],
   "metadata": {
    "collapsed": false
   }
  },
  {
   "cell_type": "code",
   "execution_count": null,
   "outputs": [],
   "source": [
    "cmapA = viz.lightdark_cmap('crimson', cmin=0.1, cmax=0.95, reverse=True)\n",
    "cmapB = viz.lightdark_cmap('royalblue', cmin=0.1, cmax=0.95, reverse=True)\n",
    "xconj_cmaps = [viz.lightdark_cmap(sns.color_palette('gnuplot2', as_cmap=True)(np.arange(0.45, 1.0, 0.1)[n-1]), cmin=0.1, cmax=0.95, reverse=True) for n in range(1, 7)]"
   ],
   "metadata": {
    "collapsed": false
   }
  },
  {
   "cell_type": "code",
   "execution_count": null,
   "outputs": [],
   "source": [
    "type_colors, type_hatches = viz.type_styles_by_phylogeny(community_envA3.type_set, color_tags={'A': cmapA, 'B': cmapB, 't': {n+1: cmapT for n, cmapT in enumerate(xconj_cmaps)}}, hatch_tags={'s': '///', 'pf': '///'}, vmin=min(landscape.values()), vmax=max(landscape.values()), palette_depth=0 )"
   ],
   "metadata": {
    "collapsed": false
   }
  },
  {
   "cell_type": "code",
   "execution_count": null,
   "outputs": [],
   "source": [
    "fig, ax = plt.subplots(1, 1, figsize=(16, 6))\n",
    "viz.abundance_plot(community_envA3, ax=ax, type_colors=type_colors, type_hatches=type_hatches, relative_abundance=False, stacked=True, baseline='sym', log_x_axis=True, log_y_axis=False)"
   ],
   "metadata": {
    "collapsed": false
   }
  },
  {
   "cell_type": "code",
   "execution_count": null,
   "outputs": [],
   "source": [
    "fig, ax = plt.subplots(1, 1, figsize=(12, 6))\n",
    "viz.resource_plot(community_envA3, ax=ax, stacked=True, relative=False, log_x_axis=True, log_y_axis=False)"
   ],
   "metadata": {
    "collapsed": false
   }
  },
  {
   "cell_type": "code",
   "execution_count": null,
   "outputs": [],
   "source": [
    "community_envA3.extant_type_set.traits"
   ],
   "metadata": {
    "collapsed": false
   }
  },
  {
   "cell_type": "code",
   "execution_count": null,
   "outputs": [],
   "source": [
    "community_envA3.N[community_envA3.get_extant_type_indices()]"
   ],
   "metadata": {
    "collapsed": false
   }
  },
  {
   "cell_type": "code",
   "execution_count": null,
   "outputs": [],
   "source": [],
   "metadata": {
    "collapsed": false
   }
  }
 ],
 "metadata": {
  "kernelspec": {
   "display_name": "Python 3 (ipykernel)",
   "language": "python",
   "name": "python3"
  },
  "language_info": {
   "codemirror_mode": {
    "name": "ipython",
    "version": 3
   },
   "file_extension": ".py",
   "mimetype": "text/x-python",
   "name": "python",
   "nbconvert_exporter": "python",
   "pygments_lexer": "ipython3",
   "version": "3.9.10"
  }
 },
 "nbformat": 4,
 "nbformat_minor": 4
}
