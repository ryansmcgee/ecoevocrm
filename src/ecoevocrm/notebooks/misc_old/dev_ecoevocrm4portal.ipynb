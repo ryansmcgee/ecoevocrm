{
 "cells": [
  {
   "cell_type": "code",
   "execution_count": 1,
   "metadata": {},
   "outputs": [],
   "source": [
    "import numpy as np\n",
    "import pandas as pd\n",
    "import scipy"
   ]
  },
  {
   "cell_type": "code",
   "execution_count": 2,
   "metadata": {},
   "outputs": [],
   "source": [
    "from ecoevocrm.consumer_resource_system import *\n",
    "from ecoevocrm.consumer_resource_system import *\n",
    "import ecoevocrm.utils as utils\n",
    "import ecoevocrm.viz as viz\n",
    "import ecoevocrm.coarse_graining as cg\n",
    "import ecoevocrm.strain_pool"
   ]
  },
  {
   "cell_type": "code",
   "execution_count": 3,
   "metadata": {},
   "outputs": [],
   "source": [
    "import matplotlib\n",
    "import matplotlib.pyplot as plt\n",
    "import seaborn as sns"
   ]
  },
  {
   "cell_type": "markdown",
   "metadata": {},
   "source": [
    "----\n",
    "\n",
    "## Model parameters"
   ]
  },
  {
   "cell_type": "markdown",
   "metadata": {},
   "source": [
    "### Traits"
   ]
  },
  {
   "cell_type": "markdown",
   "metadata": {},
   "source": [
    "Set the number of resources in the system:"
   ]
  },
  {
   "cell_type": "code",
   "execution_count": 4,
   "metadata": {},
   "outputs": [],
   "source": [
    "num_traits = 6"
   ]
  },
  {
   "cell_type": "markdown",
   "metadata": {},
   "source": [
    "Define type(s) that will be present at the start of the simulation:\n",
    "\n",
    "Here we define the initial population as consisting of only one type (which is the first type from the list of all possible types)"
   ]
  },
  {
   "cell_type": "code",
   "execution_count": 5,
   "metadata": {},
   "outputs": [
    {
     "data": {
      "image/png": "[encoded data removed]",
      "text/plain": [
       "<Figure size 640x480 with 1 Axes>"
      ]
     },
     "metadata": {},
     "output_type": "display_data"
    }
   ],
   "source": [
    "sigma = np.array([[1, 1, 0, 0, 0, 0],\n",
    "                  [0, 1, 1, 0, 0, 0],\n",
    "                  [0, 1, 1, 1, 0, 0]])\n",
    "\n",
    "viz.matrix_plot(sigma, linecolor='lightgray', linewidths=1)"
   ]
  },
  {
   "cell_type": "markdown",
   "metadata": {},
   "source": [
    "Set the initial abundance of each type:\n",
    "    \n",
    "(Here we set the initial abundance of each type to 1 individual)"
   ]
  },
  {
   "cell_type": "code",
   "execution_count": 6,
   "metadata": {},
   "outputs": [
    {
     "data": {
      "text/plain": [
       "array([1., 1., 1.])"
      ]
     },
     "execution_count": 6,
     "metadata": {},
     "output_type": "execute_result"
    }
   ],
   "source": [
    "N_init = np.ones(np.atleast_2d(sigma).shape[0])\n",
    "N_init"
   ]
  },
  {
   "cell_type": "code",
   "execution_count": 7,
   "metadata": {},
   "outputs": [
    {
     "data": {
      "text/plain": [
       "array([[0.e+00, 0.e+00, 0.e+00, 0.e+00, 0.e+00, 0.e+00],\n",
       "       [0.e+00, 0.e+00, 0.e+00, 0.e+00, 0.e+00, 0.e+00],\n",
       "       [0.e+00, 0.e+00, 0.e+00, 0.e+00, 1.e-10, 1.e-10]])"
      ]
     },
     "execution_count": 7,
     "metadata": {},
     "output_type": "execute_result"
    }
   ],
   "source": [
    "mu = np.array([[0, 0, 0, 0, 0, 0],\n",
    "               [0, 0, 0, 0, 0, 0],\n",
    "               [0, 0, 0, 0, 1e-10, 1e-10]])\n",
    "\n",
    "mu"
   ]
  },
  {
   "cell_type": "markdown",
   "metadata": {},
   "source": [
    "### Costs"
   ]
  },
  {
   "cell_type": "markdown",
   "metadata": {},
   "source": [
    "##### Define cost parameters for types:"
   ]
  },
  {
   "cell_type": "markdown",
   "metadata": {},
   "source": [
    "Set the baseline cost $\\xi$:"
   ]
  },
  {
   "cell_type": "code",
   "execution_count": 8,
   "metadata": {},
   "outputs": [],
   "source": [
    "xi = 0.1"
   ]
  },
  {
   "cell_type": "markdown",
   "metadata": {},
   "source": [
    "Set the cost per trait, $\\chi_{i}$:"
   ]
  },
  {
   "cell_type": "code",
   "execution_count": 9,
   "metadata": {},
   "outputs": [],
   "source": [
    "chi = 0.3"
   ]
  },
  {
   "cell_type": "markdown",
   "metadata": {},
   "source": [
    "Set the trait interaction costs by defining a matrix, $\\\\J_{ij}$, that encodes the cost for each pair of traits:"
   ]
  },
  {
   "cell_type": "code",
   "execution_count": 10,
   "metadata": {},
   "outputs": [
    {
     "data": {
      "image/png": "[encoded data removed]",
      "text/plain": [
       "<Figure size 640x480 with 2 Axes>"
      ]
     },
     "metadata": {},
     "output_type": "display_data"
    }
   ],
   "source": [
    "# J = None\n",
    "J = utils.random_matrix((num_traits, num_traits), 'tikhonov_sigmoid', args={'n_star': 5, 'delta': 1}, triangular=True, diagonal=0, \n",
    "                        seed=2)\n",
    "viz.matrix_plot(J, vmin=-0.4, vmax=0.4)"
   ]
  },
  {
   "cell_type": "markdown",
   "metadata": {},
   "source": [
    "### Environment"
   ]
  },
  {
   "cell_type": "markdown",
   "metadata": {},
   "source": [
    "Set the initial amount of each resource:"
   ]
  },
  {
   "cell_type": "code",
   "execution_count": 11,
   "metadata": {},
   "outputs": [
    {
     "data": {
      "image/png": "[encoded data removed]",
      "text/plain": [
       "<Figure size 640x480 with 1 Axes>"
      ]
     },
     "metadata": {},
     "output_type": "display_data"
    }
   ],
   "source": [
    "R_init = np.ones(num_traits)\n",
    "viz.matrix_plot(R_init, vmin=0, vmax=1, cbar=False, linecolor='lightgray', linewidths=1)"
   ]
  },
  {
   "cell_type": "markdown",
   "metadata": {},
   "source": [
    "Set the influx of each resource:\n",
    "\n",
    "(Here the last 5 resources have influx, while the first 5 resources have zero influx)"
   ]
  },
  {
   "cell_type": "code",
   "execution_count": 12,
   "metadata": {},
   "outputs": [
    {
     "data": {
      "image/png": "[encoded data removed]",
      "text/plain": [
       "<Figure size 640x480 with 1 Axes>"
      ]
     },
     "metadata": {},
     "output_type": "display_data"
    }
   ],
   "source": [
    "rho = np.ones(num_traits)\n",
    "viz.matrix_plot(rho, vmin=0, vmax=1, cbar=False, linecolor='lightgray', linewidths=1)"
   ]
  },
  {
   "cell_type": "markdown",
   "metadata": {},
   "source": [
    "Set the time constant for resource dynamics (will be 1 in practically all cases)"
   ]
  },
  {
   "cell_type": "code",
   "execution_count": 13,
   "metadata": {},
   "outputs": [],
   "source": [
    "tau = 1"
   ]
  },
  {
   "cell_type": "markdown",
   "metadata": {},
   "source": [
    "Set the resource dynamics mode used in the simulation. \n",
    "\n",
    "(In many basic scenarios we use 'fast resource equilibration' ('fasteq') dynamics)"
   ]
  },
  {
   "cell_type": "code",
   "execution_count": 14,
   "metadata": {},
   "outputs": [],
   "source": [
    "resource_dynamics_mode='fasteq'"
   ]
  },
  {
   "cell_type": "markdown",
   "metadata": {},
   "source": [
    "## Simulate model"
   ]
  },
  {
   "cell_type": "code",
   "execution_count": 15,
   "metadata": {},
   "outputs": [],
   "source": [
    "system = ConsumerResourceSystem(type_set=TypeSet(sigma=sigma, xi=xi, chi=chi, J=J, binarize_traits_J_cost_terms=True, \n",
    "                                                 mu=mu), \n",
    "                                rho=rho, tau=tau,\n",
    "                                N_init=N_init, R_init=R_init, \n",
    "                                resource_dynamics_mode='explicit')"
   ]
  },
  {
   "cell_type": "code",
   "execution_count": 16,
   "metadata": {},
   "outputs": [
    {
     "data": {
      "text/plain": [
       "array([48, 24, 28])"
      ]
     },
     "execution_count": 16,
     "metadata": {},
     "output_type": "execute_result"
    }
   ],
   "source": [
    "system.type_set.typeIDs"
   ]
  },
  {
   "cell_type": "code",
   "execution_count": 17,
   "metadata": {},
   "outputs": [
    {
     "data": {
      "text/plain": [
       "{'num_traits': 6,\n",
       " '_sigma': <ecoevocrm.utils.ExpandableArray at 0x1220c42b0>,\n",
       " '_beta': array([1., 1., 1., 1., 1., 1.]),\n",
       " '_kappa': array([1.e+10, 1.e+10, 1.e+10, 1.e+10, 1.e+10, 1.e+10]),\n",
       " '_eta': array([1., 1., 1., 1., 1., 1.]),\n",
       " '_lamda': array([0., 0., 0., 0., 0., 0.]),\n",
       " '_gamma': 1.0,\n",
       " '_xi': 0.1,\n",
       " '_chi': array([0.3, 0.3, 0.3, 0.3, 0.3, 0.3]),\n",
       " '_J': array([[ 0.        , -0.07939855, -0.00991193, -0.3123369 ,  0.16402708,\n",
       "         -0.09646582],\n",
       "        [ 0.        ,  0.        , -0.14828172,  0.07352715, -0.12452881,\n",
       "         -0.05690543],\n",
       "        [ 0.        ,  0.        ,  0.        , -0.13290756,  0.0551454 ,\n",
       "          0.12329394],\n",
       "        [ 0.        ,  0.        ,  0.        ,  0.        ,  0.00415394,\n",
       "         -0.06013129],\n",
       "        [ 0.        ,  0.        ,  0.        ,  0.        ,  0.        ,\n",
       "          0.02899502],\n",
       "        [ 0.        ,  0.        ,  0.        ,  0.        ,  0.        ,\n",
       "          0.        ]]),\n",
       " '_mu': <ecoevocrm.utils.ExpandableArray at 0x1220c4310>,\n",
       " '_generation_rates': None,\n",
       " '_energy_costs': None,\n",
       " '_typeIDs': array([48, 24, 28]),\n",
       " '_parent_indices': [None, None, None],\n",
       " '_mutant_indices': [[], [], [0, 1]],\n",
       " '_lineageIDs': ['1', '2', '3'],\n",
       " 'phylogeny': {'1': {}, '2': {}, '3': {}},\n",
       " 'binarize_traits_chi_cost_terms': False,\n",
       " 'binarize_traits_J_cost_terms': True}"
      ]
     },
     "execution_count": 17,
     "metadata": {},
     "output_type": "execute_result"
    }
   ],
   "source": [
    "system.type_set.__dict__"
   ]
  },
  {
   "cell_type": "code",
   "execution_count": 18,
   "metadata": {},
   "outputs": [
    {
     "data": {
      "text/plain": [
       "array([30, 29])"
      ]
     },
     "execution_count": 18,
     "metadata": {},
     "output_type": "execute_result"
    }
   ],
   "source": [
    "system.mutant_set.typeIDs"
   ]
  },
  {
   "cell_type": "code",
   "execution_count": 19,
   "metadata": {},
   "outputs": [
    {
     "data": {
      "text/plain": [
       "{'num_traits': 6,\n",
       " '_sigma': <ecoevocrm.utils.ExpandableArray at 0x1220c4340>,\n",
       " '_beta': array([1., 1., 1., 1., 1., 1.]),\n",
       " '_kappa': array([1.e+10, 1.e+10, 1.e+10, 1.e+10, 1.e+10, 1.e+10]),\n",
       " '_eta': array([1., 1., 1., 1., 1., 1.]),\n",
       " '_lamda': array([0., 0., 0., 0., 0., 0.]),\n",
       " '_gamma': 1.0,\n",
       " '_xi': 0.1,\n",
       " '_chi': array([0.3, 0.3, 0.3, 0.3, 0.3, 0.3]),\n",
       " '_J': array([[ 0.        , -0.07939855, -0.00991193, -0.3123369 ,  0.16402708,\n",
       "         -0.09646582],\n",
       "        [ 0.        ,  0.        , -0.14828172,  0.07352715, -0.12452881,\n",
       "         -0.05690543],\n",
       "        [ 0.        ,  0.        ,  0.        , -0.13290756,  0.0551454 ,\n",
       "          0.12329394],\n",
       "        [ 0.        ,  0.        ,  0.        ,  0.        ,  0.00415394,\n",
       "         -0.06013129],\n",
       "        [ 0.        ,  0.        ,  0.        ,  0.        ,  0.        ,\n",
       "          0.02899502],\n",
       "        [ 0.        ,  0.        ,  0.        ,  0.        ,  0.        ,\n",
       "          0.        ]]),\n",
       " '_mu': <ecoevocrm.utils.ExpandableArray at 0x1220ba820>,\n",
       " '_generation_rates': 1e-10,\n",
       " '_energy_costs': None,\n",
       " '_typeIDs': array([30, 29]),\n",
       " '_parent_indices': [2, 2],\n",
       " '_mutant_indices': None,\n",
       " '_lineageIDs': None,\n",
       " 'phylogeny': {},\n",
       " 'binarize_traits_chi_cost_terms': False,\n",
       " 'binarize_traits_J_cost_terms': True}"
      ]
     },
     "execution_count": 19,
     "metadata": {},
     "output_type": "execute_result"
    }
   ],
   "source": [
    "system.mutant_set.__dict__"
   ]
  },
  {
   "cell_type": "code",
   "execution_count": 20,
   "metadata": {},
   "outputs": [
    {
     "data": {
      "image/png": "[encoded data removed]",
      "text/plain": [
       "<Figure size 640x480 with 1 Axes>"
      ]
     },
     "metadata": {},
     "output_type": "display_data"
    }
   ],
   "source": [
    "viz.matrix_plot(system.type_set.sigma, linecolor='lightgray', linewidths=1)"
   ]
  },
  {
   "cell_type": "code",
   "execution_count": 21,
   "metadata": {},
   "outputs": [
    {
     "data": {
      "image/png": "[encoded data removed]",
      "text/plain": [
       "<Figure size 640x480 with 1 Axes>"
      ]
     },
     "metadata": {},
     "output_type": "display_data"
    }
   ],
   "source": [
    "viz.matrix_plot(system.mutant_set.sigma, linecolor='lightgray', linewidths=1)"
   ]
  },
  {
   "cell_type": "code",
   "execution_count": 22,
   "metadata": {},
   "outputs": [
    {
     "data": {
      "text/plain": [
       "array([[0.e+00, 0.e+00, 0.e+00, 0.e+00, 0.e+00, 0.e+00],\n",
       "       [0.e+00, 0.e+00, 0.e+00, 0.e+00, 0.e+00, 0.e+00],\n",
       "       [0.e+00, 0.e+00, 0.e+00, 0.e+00, 1.e-10, 1.e-10]])"
      ]
     },
     "execution_count": 22,
     "metadata": {},
     "output_type": "execute_result"
    }
   ],
   "source": [
    "system.type_set.mu"
   ]
  },
  {
   "cell_type": "code",
   "execution_count": 23,
   "metadata": {},
   "outputs": [
    {
     "data": {
      "text/plain": [
       "array([[0.e+00, 0.e+00, 0.e+00, 0.e+00, 1.e-10, 1.e-10],\n",
       "       [0.e+00, 0.e+00, 0.e+00, 0.e+00, 1.e-10, 1.e-10]])"
      ]
     },
     "execution_count": 23,
     "metadata": {},
     "output_type": "execute_result"
    }
   ],
   "source": [
    "system.mutant_set.mu"
   ]
  },
  {
   "cell_type": "code",
   "execution_count": 24,
   "metadata": {
    "jupyter": {
     "source_hidden": true
    },
    "tags": []
   },
   "outputs": [],
   "source": [
    "# stop"
   ]
  },
  {
   "cell_type": "code",
   "execution_count": 25,
   "metadata": {},
   "outputs": [],
   "source": [
    "T_total = 1e6"
   ]
  },
  {
   "cell_type": "code",
   "execution_count": 26,
   "metadata": {
    "scrolled": true,
    "tags": []
   },
   "outputs": [
    {
     "name": "stdout",
     "output_type": "stream",
     "text": [
      "[ Mutation event occurred at  t=12.1405 3/3*(2)]\t\n",
      "[ Mutation event occurred at  t=12.3455 4/4*(4)]\t\n",
      "[ Mutation event occurred at  t=12.8250 4/4*(4)]\t\n",
      "[ Mutation event occurred at  t=13.0209 5/5*(6)]\t\n",
      "[ Mutation event occurred at  t=13.4242 5/5*(6)]\t\n",
      "[ Mutation event occurred at  t=13.8261 5/5*(6)]\t\n",
      "[ Mutation event occurred at  t=15.9637 5/5*(6)]\t\n",
      "[ Mutation event occurred at  t=16.0446 5/5*(6)]\t\n",
      "[ Mutation event occurred at  t=16.4038 5/5*(6)]\t\n",
      "[ Mutation event occurred at  t=18.9320 5/5*(6)]\t\n",
      "[ Mutation event occurred at  t=19.0836 5/5*(6)]\t\n",
      "[ Mutation event occurred at  t=19.3048 5/5*(6)]\t\n",
      "[ Mutation event occurred at  t=19.4673 5/5*(6)]\t\n",
      "[ Mutation event occurred at  t=20.3230 5/5*(6)]\t\n",
      "[ Mutation event occurred at  t=21.2098 5/5*(6)]\t\n",
      "[ Mutation event occurred at  t=21.3385 5/5*(6)]\t\n",
      "[ Mutation event occurred at  t=21.6305 5/5*(6)]\t\n",
      "[ Mutation event occurred at  t=23.1192 5/5*(6)]\t\n",
      "[ Mutation event occurred at  t=23.7717 5/5*(6)]\t\n",
      "[ Mutation event occurred at  t=24.1301 5/5*(6)]\t\n",
      "[ Mutation event occurred at  t=24.4363 5/5*(6)]\t\n",
      "[ Mutation event occurred at  t=25.2406 5/5*(6)]\t\n",
      "[ Mutation event occurred at  t=25.9509 5/5*(6)]\t\n",
      "[ Mutation event occurred at  t=27.2123 5/5*(6)]\t\n",
      "[ Mutation event occurred at  t=27.7183 5/5*(6)]\t\n",
      "[ Mutation event occurred at  t=29.2870 5/5*(6)]\t\n",
      "[ Mutation event occurred at  t=30.0779 5/5*(6)]\t\n",
      "[ Mutation event occurred at  t=30.2236 5/5*(6)]\t\n",
      "[ Mutation event occurred at  t=31.5090 5/5*(6)]\t\n",
      "[ Mutation event occurred at  t=31.9373 5/5*(6)]\t\n",
      "[ Mutation event occurred at  t=33.4463 5/5*(6)]\t\n",
      "[ Mutation event occurred at  t=33.7726 5/5*(6)]\t\n",
      "[ Mutation event occurred at  t=34.0301 5/5*(6)]\t\n",
      "[ Mutation event occurred at  t=36.0554 5/5*(6)]\t\n",
      "[ Mutation event occurred at  t=38.0290 5/5*(6)]\t\n",
      "[ Mutation event occurred at  t=38.1933 5/5*(6)]\t\n",
      "[ Mutation event occurred at  t=38.7633 5/5*(6)]\t\n",
      "[ Mutation event occurred at  t=39.2521 5/5*(6)]\t\n",
      "[ Mutation event occurred at  t=39.8127 6/6*(8)]\t\n",
      "[ Mutation event occurred at  t=40.1786 6/6*(8)]\t\n",
      "[ Mutation event occurred at  t=40.2550 6/6*(8)]\t\n",
      "[ Mutation event occurred at  t=40.4209 6/6*(8)]\t\n",
      "[ Mutation event occurred at  t=41.5671 6/6*(8)]\t\n",
      "[ Mutation event occurred at  t=43.4238 6/6*(8)]\t\n",
      "[ Mutation event occurred at  t=47.5022 6/6*(8)]\t\n",
      "[ Mutation event occurred at  t=47.5556 6/6*(8)]\t\n",
      "[ Mutation event occurred at  t=51.1259 6/6*(8)]\t\n",
      "[ Mutation event occurred at  t=52.6449 6/6*(8)]\t\n",
      "[ Mutation event occurred at  t=53.7157 6/6*(8)]\t\n",
      "[ Mutation event occurred at  t=60.0395 6/6*(8)]\t\n",
      "[ Mutation event occurred at  t=64.6224 6/6*(8)]\t\n",
      "[ Mutation event occurred at  t=64.6227 6/6*(8)]\t\n",
      "[ Mutation event occurred at  t=65.0869 6/6*(8)]\t\n",
      "[ Mutation event occurred at  t=70.2154 6/6*(8)]\t\n",
      "[ Mutation event occurred at  t=72.0450 6/6*(8)]\t\n",
      "[ Mutation event occurred at  t=72.1099 6/6*(8)]\t\n",
      "[ Mutation event occurred at  t=72.8915 6/6*(8)]\t\n",
      "[ Mutation event occurred at  t=74.6000 6/6*(8)]\t\n",
      "[ Mutation event occurred at  t=75.0281 6/6*(8)]\t\n",
      "[ Mutation event occurred at  t=79.4271 6/6*(8)]\t\n",
      "[ Mutation event occurred at  t=79.5556 6/6*(8)]\t\n",
      "[ Mutation event occurred at  t=80.3753 6/6*(8)]\t\n",
      "[ Mutation event occurred at  t=82.2952 6/6*(8)]\t\n",
      "[ Mutation event occurred at  t=82.3347 6/6*(8)]\t\n",
      "[ Mutation event occurred at  t=83.5402 6/6*(8)]\t\n",
      "[ Mutation event occurred at  t=87.7171 6/6*(8)]\t\n",
      "[ Mutation event occurred at  t=88.8035 6/6*(8)]\t\n",
      "[ Mutation event occurred at  t=90.2723 6/6*(8)]\t\n",
      "[ Mutation event occurred at  t=91.0494 6/6*(8)]\t\n",
      "[ Mutation event occurred at  t=92.4577 6/6*(8)]\t\n",
      "[ Low abundance event occurred at  t=102.1878 6/6*(8)]\t\n",
      "[ Mutation event occurred at  t=103.9778 5/6*(8)]\t\n",
      "[ Mutation event occurred at  t=115.8808 5/6*(8)]\t\n",
      "[ Low abundance event occurred at  t=164.9720 5/6*(8)]\t\n",
      "[ Low abundance event occurred at  t=295.1522 4/6*(8)]\t\n",
      "[ Low abundance event occurred at  t=528.5660 3/6*(8)]\t\n",
      "[ Low abundance event occurred at  t=528.5660 3/6*(8)]\t\n",
      "[ Low abundance event occurred at  t=528.5660 3/6*(8)]\t\n"
     ]
    },
    {
     "name": "stderr",
     "output_type": "stream",
     "text": [
      "/usr/local/lib/python3.9/site-packages/ecoevocrm/type_set.py:644: VisibleDeprecationWarning: Creating an ndarray from ragged nested sequences (which is a list-or-tuple of lists-or-tuples-or ndarrays with different lengths or shapes) is deprecated. If you meant to do this, you must specify 'dtype=object' when creating the ndarray.\n",
      "  self._mutant_indices = np.array(self._mutant_indices)[type_order].tolist() if self._mutant_indices is not None else None\n"
     ]
    }
   ],
   "source": [
    "system.run(T=T_total)"
   ]
  },
  {
   "cell_type": "code",
   "execution_count": 27,
   "metadata": {
    "tags": []
   },
   "outputs": [
    {
     "data": {
      "text/plain": [
       "<AxesSubplot: >"
      ]
     },
     "execution_count": 27,
     "metadata": {},
     "output_type": "execute_result"
    },
    {
     "data": {
      "image/png": "[encoded data removed]",
      "text/plain": [
       "<Figure size 2000x800 with 1 Axes>"
      ]
     },
     "metadata": {},
     "output_type": "display_data"
    }
   ],
   "source": [
    "fig, ax = plt.subplots(1, 1, figsize=(20, 8))\n",
    "viz.stacked_abundance_plot(system, ax=ax, relative_abundance=True, apply_palette_depth=0, log_x_axis=True, color_seed=4)"
   ]
  },
  {
   "cell_type": "code",
   "execution_count": 28,
   "metadata": {},
   "outputs": [
    {
     "data": {
      "text/plain": [
       "<AxesSubplot: >"
      ]
     },
     "execution_count": 28,
     "metadata": {},
     "output_type": "execute_result"
    },
    {
     "data": {
      "image/png": "[encoded data removed]",
      "text/plain": [
       "<Figure size 2000x800 with 1 Axes>"
      ]
     },
     "metadata": {},
     "output_type": "display_data"
    }
   ],
   "source": [
    "fig, ax = plt.subplots(1, 1, figsize=(20, 8))\n",
    "viz.resource_plot(system, ax=ax, stacked=False, relative=False, log_x_axis=True, log_y_axis=False)"
   ]
  },
  {
   "cell_type": "code",
   "execution_count": 29,
   "metadata": {},
   "outputs": [
    {
     "data": {
      "image/png": "[encoded data removed]",
      "text/plain": [
       "<Figure size 640x480 with 1 Axes>"
      ]
     },
     "metadata": {},
     "output_type": "display_data"
    }
   ],
   "source": [
    "viz.matrix_plot(system.extant_type_set.sigma)"
   ]
  },
  {
   "cell_type": "code",
   "execution_count": 30,
   "metadata": {},
   "outputs": [
    {
     "data": {
      "image/png": "[encoded data removed]",
      "text/plain": [
       "<Figure size 640x480 with 1 Axes>"
      ]
     },
     "metadata": {},
     "output_type": "display_data"
    }
   ],
   "source": [
    "viz.matrix_plot(system.type_set.sigma)"
   ]
  },
  {
   "cell_type": "code",
   "execution_count": 31,
   "metadata": {},
   "outputs": [
    {
     "data": {
      "text/plain": [
       "[48, 24, 28, 29, 31, 30]"
      ]
     },
     "execution_count": 31,
     "metadata": {},
     "output_type": "execute_result"
    }
   ],
   "source": [
    "system.type_set.typeIDs"
   ]
  },
  {
   "cell_type": "code",
   "execution_count": 32,
   "metadata": {},
   "outputs": [
    {
     "data": {
      "text/plain": [
       "[None, None, None, 2, 3, 2]"
      ]
     },
     "execution_count": 32,
     "metadata": {},
     "output_type": "execute_result"
    }
   ],
   "source": [
    "system.type_set._parent_indices"
   ]
  },
  {
   "cell_type": "code",
   "execution_count": 33,
   "metadata": {},
   "outputs": [
    {
     "data": {
      "text/plain": [
       "['1', '2', '3', '3.1', '3.1.1', '3.2']"
      ]
     },
     "execution_count": 33,
     "metadata": {},
     "output_type": "execute_result"
    }
   ],
   "source": [
    "system.type_set.lineageIDs"
   ]
  },
  {
   "cell_type": "code",
   "execution_count": 34,
   "metadata": {},
   "outputs": [
    {
     "data": {
      "text/plain": [
       "[[], [], [0, 1], [2, 3], [6, 7], [4, 5]]"
      ]
     },
     "execution_count": 34,
     "metadata": {},
     "output_type": "execute_result"
    }
   ],
   "source": [
    "system.type_set._mutant_indices"
   ]
  },
  {
   "cell_type": "code",
   "execution_count": 35,
   "metadata": {},
   "outputs": [
    {
     "data": {
      "image/png": "[encoded data removed]",
      "text/plain": [
       "<Figure size 640x480 with 1 Axes>"
      ]
     },
     "metadata": {},
     "output_type": "display_data"
    }
   ],
   "source": [
    "viz.matrix_plot(system.mutant_set.sigma)"
   ]
  },
  {
   "cell_type": "code",
   "execution_count": 36,
   "metadata": {},
   "outputs": [
    {
     "data": {
      "text/plain": [
       "[2, 2, 3, 3, 4, 4, 5, 5]"
      ]
     },
     "execution_count": 36,
     "metadata": {},
     "output_type": "execute_result"
    }
   ],
   "source": [
    "system.mutant_set._parent_indices"
   ]
  },
  {
   "cell_type": "code",
   "execution_count": 37,
   "metadata": {},
   "outputs": [
    {
     "data": {
      "text/plain": [
       "[30, 29, 31, 28, 28, 31, 29, 30]"
      ]
     },
     "execution_count": 37,
     "metadata": {},
     "output_type": "execute_result"
    }
   ],
   "source": [
    "system.mutant_set._typeIDs"
   ]
  },
  {
   "cell_type": "code",
   "execution_count": null,
   "metadata": {},
   "outputs": [],
   "source": []
  },
  {
   "cell_type": "code",
   "execution_count": null,
   "metadata": {},
   "outputs": [],
   "source": []
  },
  {
   "cell_type": "code",
   "execution_count": null,
   "metadata": {},
   "outputs": [],
   "source": []
  },
  {
   "cell_type": "code",
   "execution_count": null,
   "metadata": {},
   "outputs": [],
   "source": []
  },
  {
   "cell_type": "code",
   "execution_count": null,
   "metadata": {},
   "outputs": [],
   "source": []
  },
  {
   "cell_type": "code",
   "execution_count": null,
   "metadata": {},
   "outputs": [],
   "source": []
  },
  {
   "cell_type": "code",
   "execution_count": null,
   "metadata": {},
   "outputs": [],
   "source": []
  },
  {
   "cell_type": "code",
   "execution_count": null,
   "metadata": {},
   "outputs": [],
   "source": []
  },
  {
   "cell_type": "code",
   "execution_count": 38,
   "metadata": {},
   "outputs": [
    {
     "ename": "NameError",
     "evalue": "name 'stop' is not defined",
     "output_type": "error",
     "traceback": [
      "\u001b[0;31m---------------------------------------------------------------------------\u001b[0m",
      "\u001b[0;31mNameError\u001b[0m                                 Traceback (most recent call last)",
      "Cell \u001b[0;32mIn [38], line 1\u001b[0m\n\u001b[0;32m----> 1\u001b[0m \u001b[43mstop\u001b[49m\n",
      "\u001b[0;31mNameError\u001b[0m: name 'stop' is not defined"
     ]
    }
   ],
   "source": [
    "stop"
   ]
  },
  {
   "cell_type": "markdown",
   "metadata": {},
   "source": [
    "------"
   ]
  },
  {
   "cell_type": "code",
   "execution_count": null,
   "metadata": {},
   "outputs": [],
   "source": [
    "np.set_printoptions(threshold=np.inf)\n",
    "np.set_printoptions(precision=4)"
   ]
  },
  {
   "cell_type": "code",
   "execution_count": null,
   "metadata": {},
   "outputs": [],
   "source": [
    "system.N"
   ]
  },
  {
   "cell_type": "code",
   "execution_count": null,
   "metadata": {},
   "outputs": [],
   "source": [
    "system.N_series[system.N != 0, -700:-665]"
   ]
  },
  {
   "cell_type": "code",
   "execution_count": null,
   "metadata": {},
   "outputs": [],
   "source": [
    "for u in range(len(system.N)):\n",
    "    plt.plot(system.t_series, system.N_series[u])\n",
    "plt.xscale('log')\n",
    "plt.yscale('log')"
   ]
  },
  {
   "cell_type": "markdown",
   "metadata": {},
   "source": [
    "---------\n",
    "---------"
   ]
  },
  {
   "cell_type": "code",
   "execution_count": null,
   "metadata": {},
   "outputs": [],
   "source": [
    "sigma"
   ]
  },
  {
   "cell_type": "code",
   "execution_count": null,
   "metadata": {},
   "outputs": [],
   "source": [
    "mush = mu"
   ]
  },
  {
   "cell_type": "code",
   "execution_count": null,
   "metadata": {},
   "outputs": [],
   "source": [
    "mu = np.array([[0, 0, 0, 0, 0, 0], \n",
    "               [0, 0, 0, 0, 0, 0],\n",
    "               [0, 0, 0, 0, 1.e-10, 1.e-10]])"
   ]
  },
  {
   "cell_type": "code",
   "execution_count": null,
   "metadata": {},
   "outputs": [],
   "source": [
    "sigma_mut        = []\n",
    "mutantIDs        = []\n",
    "generation_rates = []\n",
    "\n",
    "for u in range(sigma.shape[0]):\n",
    "    mu_u = mu[u] if mu.ndim == 2 else mu\n",
    "    print(\"mu_u\", mu_u)\n",
    "    if(np.any(mu_u > 0)):\n",
    "        for i in (np.where(mu_u > 0)[0] if mu_u.ndim == 1 else range(sigma.shape[1])):\n",
    "            sigma_mut.append(sigma[u] ^ [0 if j!=i else 1 for j in range(sigma.shape[1])])\n",
    "            generation_rates.append(mu_u[i] if mu_u.ndim == 1 else mu_u)\n",
    "                    \n",
    "sigma_mut = np.array(sigma_mut)\n",
    "print(f\"sigma_mut\\n{sigma_mut}\")\n",
    "print(\"generation_rates\", generation_rates)"
   ]
  },
  {
   "cell_type": "code",
   "execution_count": null,
   "metadata": {},
   "outputs": [],
   "source": [
    "sigma_mut      = []\n",
    "mutantIDs      = []\n",
    "mutation_rates = []\n",
    "\n",
    "for u in range(sigma.shape[0]):\n",
    "    \n",
    "    if(np.all(mu[u] <= 0)):\n",
    "        print(\"no mutants\")\n",
    "        continue          \n",
    "    else:\n",
    "        sigma_u = sigma[u]\n",
    "        for i in np.where(mu[u] > 0)[0]:\n",
    "            print(\"sigma_u\", sigma_u)\n",
    "            print(\"i =\", i)\n",
    "            sigma_mut.append(sigma[u] ^ [0 if j!=i else 1 for j in range(sigma.shape[1])])\n",
    "            mutation_rates.append(mu[u, i])\n",
    "    \n",
    "sigma_mut = np.array(sigma_mut)\n",
    "print(f\"sigma_mut\\n{sigma_mut}\")\n",
    "print(\"mutation_rates\", mutation_rates)\n"
   ]
  },
  {
   "cell_type": "code",
   "execution_count": null,
   "metadata": {},
   "outputs": [],
   "source": [
    "mu"
   ]
  },
  {
   "cell_type": "code",
   "execution_count": null,
   "metadata": {},
   "outputs": [],
   "source": [
    "len(mu)"
   ]
  },
  {
   "cell_type": "code",
   "execution_count": null,
   "metadata": {},
   "outputs": [],
   "source": [
    "type_idx  = [1, 2]\n",
    "mutantIDs = [[], [], [30, 29]]\n",
    "\n",
    "[m for mutIDs_u in mutantIDs[idx] for m in mutIDs_u for idx in type_idx]"
   ]
  },
  {
   "cell_type": "code",
   "execution_count": null,
   "metadata": {},
   "outputs": [],
   "source": [
    "for u in type_idx:\n",
    "    for mutIDs_u in mutantIDs_sel:\n",
    "        for m in mutIDs_u:\n",
    "            print(m)"
   ]
  },
  {
   "cell_type": "code",
   "execution_count": null,
   "metadata": {},
   "outputs": [],
   "source": [
    "[mutantIDs[u] for u in type_idx]"
   ]
  },
  {
   "cell_type": "code",
   "execution_count": null,
   "metadata": {},
   "outputs": [],
   "source": [
    "[m for mutIDs_u in ([mutantIDs[u] for u in type_idx]) for m in mutIDs_u]"
   ]
  },
  {
   "cell_type": "code",
   "execution_count": null,
   "metadata": {},
   "outputs": [],
   "source": [
    "a = [0, 2, 4]\n",
    "p = [2, 2, 4, 4]"
   ]
  },
  {
   "cell_type": "code",
   "execution_count": null,
   "metadata": {},
   "outputs": [],
   "source": [
    "np.searchsorted(a, p)"
   ]
  },
  {
   "cell_type": "code",
   "execution_count": null,
   "metadata": {},
   "outputs": [],
   "source": []
  }
 ],
 "metadata": {
  "kernelspec": {
   "display_name": "Python 3 (ipykernel)",
   "language": "python",
   "name": "python3"
  },
  "language_info": {
   "codemirror_mode": {
    "name": "ipython",
    "version": 3
   },
   "file_extension": ".py",
   "mimetype": "text/x-python",
   "name": "python",
   "nbconvert_exporter": "python",
   "pygments_lexer": "ipython3",
   "version": "3.9.10"
  }
 },
 "nbformat": 4,
 "nbformat_minor": 4
}
