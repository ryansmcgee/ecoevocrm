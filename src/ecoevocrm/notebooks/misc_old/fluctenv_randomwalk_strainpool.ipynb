{
 "cells": [
  {
   "cell_type": "code",
   "execution_count": 1,
   "metadata": {},
   "outputs": [],
   "source": [
    "import numpy as np\n",
    "import pandas as pd\n",
    "import scipy\n",
    "import scipy.interpolate"
   ]
  },
  {
   "cell_type": "code",
   "execution_count": 2,
   "metadata": {},
   "outputs": [],
   "source": [
    "from ecoevocrm.consumer_resource_system import *\n",
    "from ecoevocrm.consumer_resource_system import *\n",
    "import ecoevocrm.utils as utils\n",
    "import ecoevocrm.viz as viz\n",
    "import ecoevocrm.coarse_graining as cg\n",
    "import ecoevocrm.strain_pool as sp"
   ]
  },
  {
   "cell_type": "code",
   "execution_count": 3,
   "metadata": {},
   "outputs": [],
   "source": [
    "import matplotlib\n",
    "import matplotlib.pyplot as plt\n",
    "import seaborn as sns"
   ]
  },
  {
   "cell_type": "markdown",
   "metadata": {},
   "source": [
    "----\n",
    "\n",
    "## Model parameters"
   ]
  },
  {
   "cell_type": "markdown",
   "metadata": {},
   "source": [
    "### Traits"
   ]
  },
  {
   "cell_type": "code",
   "execution_count": 4,
   "metadata": {},
   "outputs": [],
   "source": [
    "L = 10"
   ]
  },
  {
   "cell_type": "code",
   "execution_count": 5,
   "metadata": {},
   "outputs": [],
   "source": [
    "sigma = utils.binary_combinations(L, exclude_all_zeros=True)\n",
    "sigma = sigma/sigma.sum(axis=1, keepdims=1)"
   ]
  },
  {
   "cell_type": "markdown",
   "metadata": {},
   "source": [
    "### Costs"
   ]
  },
  {
   "cell_type": "code",
   "execution_count": 6,
   "metadata": {},
   "outputs": [],
   "source": [
    "chi = 0.5"
   ]
  },
  {
   "cell_type": "code",
   "execution_count": 7,
   "metadata": {},
   "outputs": [],
   "source": [
    "xi = 0.1"
   ]
  },
  {
   "cell_type": "code",
   "execution_count": 8,
   "metadata": {},
   "outputs": [
    {
     "data": {
      "image/png": "[encoded data removed]",
      "text/plain": [
       "<Figure size 432x288 with 2 Axes>"
      ]
     },
     "metadata": {},
     "output_type": "display_data"
    }
   ],
   "source": [
    "J = utils.random_matrix((L, L), 'tikhonov_sigmoid', args={'n_star': 5, 'delta': 1}, triangular=True, diagonal=0)\n",
    "viz.matrix_plot(J, vmin=-0.4, vmax=0.4)"
   ]
  },
  {
   "cell_type": "markdown",
   "metadata": {},
   "source": [
    "### Environment"
   ]
  },
  {
   "cell_type": "code",
   "execution_count": 9,
   "metadata": {},
   "outputs": [],
   "source": [
    "T_total    = 1e6\n",
    "T_envcycle = T_total/10"
   ]
  },
  {
   "cell_type": "code",
   "execution_count": 10,
   "metadata": {},
   "outputs": [],
   "source": [
    "rho_0 = 1"
   ]
  },
  {
   "cell_type": "code",
   "execution_count": 11,
   "metadata": {},
   "outputs": [],
   "source": [
    "# alpha = 0.1\n",
    "\n",
    "# theta = (2*np.pi)/T_envcycle\n",
    "# theta = np.random.normal(theta, theta*0.05, size=L)\n",
    "\n",
    "# phi   = (T_envcycle/L)*np.array(range(L))\n",
    "# phi   = phi + np.random.normal(0, 0.05*phi)"
   ]
  },
  {
   "cell_type": "code",
   "execution_count": 12,
   "metadata": {},
   "outputs": [],
   "source": [
    "# rho_series, t_rho = utils.sinusoid_series(T=2*T_total, dt=1, L=L, amplitude=alpha, period=theta, phase=phi, shift=rho_0, return_interp=False)"
   ]
  },
  {
   "cell_type": "code",
   "execution_count": 13,
   "metadata": {},
   "outputs": [],
   "source": [
    "# rho = scipy.interpolate.interp1d(t_rho, rho_series)"
   ]
  },
  {
   "cell_type": "code",
   "execution_count": 14,
   "metadata": {},
   "outputs": [],
   "source": [
    "# fig, ax = plt.subplots(1, 1, figsize=(16, 4))\n",
    "# for i in range(L):\n",
    "#     ax.plot(t_rho[t_rho < T_total], rho_series[i, t_rho < T_total]) \n",
    "# ax.plot(t_rho[t_rho < T_total], rho_series[:, t_rho < T_total].sum(axis=0) - L, color='k')\n",
    "# plt.show()"
   ]
  },
  {
   "cell_type": "code",
   "execution_count": 15,
   "metadata": {},
   "outputs": [],
   "source": [
    "# stop"
   ]
  },
  {
   "cell_type": "markdown",
   "metadata": {},
   "source": [
    "--------\n",
    "#### Brownian"
   ]
  },
  {
   "cell_type": "code",
   "execution_count": 16,
   "metadata": {},
   "outputs": [],
   "source": [
    "# l   = 1e-3\n",
    "# k   = 1e-8\n",
    "# eps = 1e-8"
   ]
  },
  {
   "cell_type": "markdown",
   "metadata": {},
   "source": [
    "## Generate strain pool"
   ]
  },
  {
   "cell_type": "code",
   "execution_count": 17,
   "metadata": {},
   "outputs": [],
   "source": [
    "orig_system = ConsumerResourceSystem(type_set=TypeSet(sigma=sigma[0], xi=xi, chi=chi, J=J, mu=1e-10,\n",
    "                                                      binarize_traits_J_cost_terms=True), \n",
    "                                     resource_set=ResourceSet(num_resources=L, rho=rho_0), \n",
    "                                     N_init=1, R_init=1, convergent_lineages=False)"
   ]
  },
  {
   "cell_type": "code",
   "execution_count": 20,
   "metadata": {},
   "outputs": [
    {
     "name": "stdout",
     "output_type": "stream",
     "text": [
      "Running dynamics for rep community 1/10\n",
      "Running dynamics for rep community 2/1047 114/697*(6970)]\t\n",
      "Running dynamics for rep community 3/1096 102/626*(6260)]\t\n",
      "Running dynamics for rep community 4/1059 134/720*(7200)]\t\n",
      "Running dynamics for rep community 5/1078 108/719*(7190)]\t\n",
      "Running dynamics for rep community 6/1040 112/741*(7410)]\t\n",
      "Running dynamics for rep community 7/1045 125/747*(7470)]\t\n",
      "Running dynamics for rep community 8/1052 123/672*(6720)]\t\n",
      "Running dynamics for rep community 9/1059 109/741*(7410)]\t\n",
      "Running dynamics for rep community 10/109 116/774*(7740)]\t\n",
      "[ Mutation event occurred at  t=1047.6574 116/774*(7740)]\t\r"
     ]
    }
   ],
   "source": [
    "strain_pool, rep_comms = sp.generate_strain_pool_brownian_envs(orig_system, rep_communities=10, \n",
    "                                                               brownian_args={'lamda': 1e-3, 'k': 1e-8, 'eta_std': 0, 'y0': 1}, \n",
    "                                                               run_T=1e3)"
   ]
  },
  {
   "cell_type": "code",
   "execution_count": 21,
   "metadata": {},
   "outputs": [
    {
     "ename": "IndexError",
     "evalue": "invalid index to scalar variable.",
     "output_type": "error",
     "traceback": [
      "\u001b[0;31m---------------------------------------------------------------------------\u001b[0m",
      "\u001b[0;31mIndexError\u001b[0m                                Traceback (most recent call last)",
      "\u001b[0;32m<ipython-input-21-e9301437e202>\u001b[0m in \u001b[0;36m<module>\u001b[0;34m\u001b[0m\n\u001b[0;32m----> 1\u001b[0;31m \u001b[0mviz\u001b[0m\u001b[0;34m.\u001b[0m\u001b[0mstrainpool_plot\u001b[0m\u001b[0;34m(\u001b[0m\u001b[0mstrain_pool\u001b[0m\u001b[0;34m,\u001b[0m \u001b[0mtype_weights\u001b[0m\u001b[0;34m=\u001b[0m\u001b[0mstrain_pool\u001b[0m\u001b[0;34m.\u001b[0m\u001b[0mN\u001b[0m\u001b[0;34m)\u001b[0m\u001b[0;34m\u001b[0m\u001b[0;34m\u001b[0m\u001b[0m\n\u001b[0m",
      "\u001b[0;32m~/Dropbox/Projects/ResearchProjects/eco-evo-crm/ecoevocrm/src/ecoevocrm/viz.py\u001b[0m in \u001b[0;36mstrainpool_plot\u001b[0;34m(strainpool_system, type_weights, rank_cutoff, weight_cutoff)\u001b[0m\n\u001b[1;32m    231\u001b[0m \u001b[0;34m\u001b[0m\u001b[0m\n\u001b[1;32m    232\u001b[0m     \u001b[0max_costs\u001b[0m\u001b[0;34m.\u001b[0m\u001b[0mscatter\u001b[0m\u001b[0;34m(\u001b[0m\u001b[0my\u001b[0m\u001b[0;34m=\u001b[0m\u001b[0;36m0.5\u001b[0m\u001b[0;34m+\u001b[0m\u001b[0mnp\u001b[0m\u001b[0;34m.\u001b[0m\u001b[0marray\u001b[0m\u001b[0;34m(\u001b[0m\u001b[0mrange\u001b[0m\u001b[0;34m(\u001b[0m\u001b[0mlen\u001b[0m\u001b[0;34m(\u001b[0m\u001b[0mtype_weights\u001b[0m\u001b[0;34m[\u001b[0m\u001b[0mactive_type_indices\u001b[0m\u001b[0;34m]\u001b[0m\u001b[0;34m)\u001b[0m\u001b[0;34m)\u001b[0m\u001b[0;34m)\u001b[0m\u001b[0;34m,\u001b[0m \u001b[0mx\u001b[0m\u001b[0;34m=\u001b[0m\u001b[0mtype_set\u001b[0m\u001b[0;34m.\u001b[0m\u001b[0menergy_costs\u001b[0m\u001b[0;34m[\u001b[0m\u001b[0mactive_type_indices\u001b[0m\u001b[0;34m]\u001b[0m\u001b[0;34m,\u001b[0m \u001b[0mmarker\u001b[0m\u001b[0;34m=\u001b[0m\u001b[0;34m'D'\u001b[0m\u001b[0;34m,\u001b[0m \u001b[0mzorder\u001b[0m\u001b[0;34m=\u001b[0m\u001b[0;36m0\u001b[0m\u001b[0;34m,\u001b[0m \u001b[0mcolor\u001b[0m\u001b[0;34m=\u001b[0m\u001b[0;34m\"None\"\u001b[0m\u001b[0;34m,\u001b[0m \u001b[0medgecolor\u001b[0m\u001b[0;34m=\u001b[0m\u001b[0;34m'tab:red'\u001b[0m\u001b[0;34m)\u001b[0m\u001b[0;34m\u001b[0m\u001b[0;34m\u001b[0m\u001b[0m\n\u001b[0;32m--> 233\u001b[0;31m     \u001b[0max_costs\u001b[0m\u001b[0;34m.\u001b[0m\u001b[0mscatter\u001b[0m\u001b[0;34m(\u001b[0m\u001b[0my\u001b[0m\u001b[0;34m=\u001b[0m\u001b[0;36m0.5\u001b[0m\u001b[0;34m+\u001b[0m\u001b[0mnp\u001b[0m\u001b[0;34m.\u001b[0m\u001b[0marray\u001b[0m\u001b[0;34m(\u001b[0m\u001b[0mrange\u001b[0m\u001b[0;34m(\u001b[0m\u001b[0mlen\u001b[0m\u001b[0;34m(\u001b[0m\u001b[0mtype_weights\u001b[0m\u001b[0;34m[\u001b[0m\u001b[0mactive_type_indices\u001b[0m\u001b[0;34m]\u001b[0m\u001b[0;34m)\u001b[0m\u001b[0;34m)\u001b[0m\u001b[0;34m)\u001b[0m\u001b[0;34m,\u001b[0m \u001b[0mx\u001b[0m\u001b[0;34m=\u001b[0m\u001b[0mtype_set\u001b[0m\u001b[0;34m.\u001b[0m\u001b[0mxi_cost_terms\u001b[0m\u001b[0;34m[\u001b[0m\u001b[0mactive_type_indices\u001b[0m\u001b[0;34m]\u001b[0m\u001b[0;34m,\u001b[0m \u001b[0mmarker\u001b[0m\u001b[0;34m=\u001b[0m\u001b[0;34m'|'\u001b[0m\u001b[0;34m,\u001b[0m \u001b[0mcolor\u001b[0m\u001b[0;34m=\u001b[0m\u001b[0;34m'tab:brown'\u001b[0m\u001b[0;34m,\u001b[0m \u001b[0mzorder\u001b[0m\u001b[0;34m=\u001b[0m\u001b[0;36m98\u001b[0m\u001b[0;34m)\u001b[0m\u001b[0;34m\u001b[0m\u001b[0;34m\u001b[0m\u001b[0m\n\u001b[0m\u001b[1;32m    234\u001b[0m     \u001b[0max_costs\u001b[0m\u001b[0;34m.\u001b[0m\u001b[0mscatter\u001b[0m\u001b[0;34m(\u001b[0m\u001b[0my\u001b[0m\u001b[0;34m=\u001b[0m\u001b[0;36m0.5\u001b[0m\u001b[0;34m+\u001b[0m\u001b[0mnp\u001b[0m\u001b[0;34m.\u001b[0m\u001b[0marray\u001b[0m\u001b[0;34m(\u001b[0m\u001b[0mrange\u001b[0m\u001b[0;34m(\u001b[0m\u001b[0mlen\u001b[0m\u001b[0;34m(\u001b[0m\u001b[0mtype_weights\u001b[0m\u001b[0;34m[\u001b[0m\u001b[0mactive_type_indices\u001b[0m\u001b[0;34m]\u001b[0m\u001b[0;34m)\u001b[0m\u001b[0;34m)\u001b[0m\u001b[0;34m)\u001b[0m\u001b[0;34m,\u001b[0m \u001b[0mx\u001b[0m\u001b[0;34m=\u001b[0m\u001b[0mtype_set\u001b[0m\u001b[0;34m.\u001b[0m\u001b[0mchi_cost_terms\u001b[0m\u001b[0;34m[\u001b[0m\u001b[0mactive_type_indices\u001b[0m\u001b[0;34m]\u001b[0m\u001b[0;34m,\u001b[0m \u001b[0mmarker\u001b[0m\u001b[0;34m=\u001b[0m\u001b[0;34m'|'\u001b[0m\u001b[0;34m,\u001b[0m \u001b[0mcolor\u001b[0m\u001b[0;34m=\u001b[0m\u001b[0;34m'#333333'\u001b[0m\u001b[0;34m)\u001b[0m\u001b[0;34m\u001b[0m\u001b[0;34m\u001b[0m\u001b[0m\n\u001b[1;32m    235\u001b[0m     \u001b[0max_costs\u001b[0m\u001b[0;34m.\u001b[0m\u001b[0mscatter\u001b[0m\u001b[0;34m(\u001b[0m\u001b[0my\u001b[0m\u001b[0;34m=\u001b[0m\u001b[0;36m0.5\u001b[0m\u001b[0;34m+\u001b[0m\u001b[0mnp\u001b[0m\u001b[0;34m.\u001b[0m\u001b[0marray\u001b[0m\u001b[0;34m(\u001b[0m\u001b[0mrange\u001b[0m\u001b[0;34m(\u001b[0m\u001b[0mlen\u001b[0m\u001b[0;34m(\u001b[0m\u001b[0mtype_weights\u001b[0m\u001b[0;34m[\u001b[0m\u001b[0mactive_type_indices\u001b[0m\u001b[0;34m]\u001b[0m\u001b[0;34m)\u001b[0m\u001b[0;34m)\u001b[0m\u001b[0;34m)\u001b[0m\u001b[0;34m,\u001b[0m \u001b[0mx\u001b[0m\u001b[0;34m=\u001b[0m\u001b[0mtype_set\u001b[0m\u001b[0;34m.\u001b[0m\u001b[0mJ_cost_terms\u001b[0m\u001b[0;34m[\u001b[0m\u001b[0mactive_type_indices\u001b[0m\u001b[0;34m]\u001b[0m\u001b[0;34m,\u001b[0m \u001b[0mmarker\u001b[0m\u001b[0;34m=\u001b[0m\u001b[0;34m'|'\u001b[0m\u001b[0;34m,\u001b[0m \u001b[0mcolor\u001b[0m\u001b[0;34m=\u001b[0m\u001b[0;34m'tab:purple'\u001b[0m\u001b[0;34m,\u001b[0m \u001b[0mzorder\u001b[0m\u001b[0;34m=\u001b[0m\u001b[0;36m99\u001b[0m\u001b[0;34m)\u001b[0m\u001b[0;34m\u001b[0m\u001b[0;34m\u001b[0m\u001b[0m\n",
      "\u001b[0;31mIndexError\u001b[0m: invalid index to scalar variable."
     ]
    },
    {
     "data": {
      "image/png": "[encoded data removed]",
      "text/plain": [
       "<Figure size 720x720 with 4 Axes>"
      ]
     },
     "metadata": {
      "needs_background": "light"
     },
     "output_type": "display_data"
    }
   ],
   "source": [
    "viz.strainpool_plot(strain_pool, type_weights=strain_pool.N)"
   ]
  },
  {
   "cell_type": "code",
   "execution_count": null,
   "metadata": {},
   "outputs": [],
   "source": []
  },
  {
   "cell_type": "code",
   "execution_count": null,
   "metadata": {},
   "outputs": [],
   "source": []
  },
  {
   "cell_type": "code",
   "execution_count": null,
   "metadata": {},
   "outputs": [],
   "source": []
  },
  {
   "cell_type": "code",
   "execution_count": null,
   "metadata": {},
   "outputs": [],
   "source": []
  },
  {
   "cell_type": "code",
   "execution_count": null,
   "metadata": {},
   "outputs": [],
   "source": []
  },
  {
   "cell_type": "code",
   "execution_count": null,
   "metadata": {},
   "outputs": [],
   "source": []
  },
  {
   "cell_type": "code",
   "execution_count": null,
   "metadata": {},
   "outputs": [],
   "source": []
  },
  {
   "cell_type": "code",
   "execution_count": null,
   "metadata": {},
   "outputs": [],
   "source": [
    "stop"
   ]
  },
  {
   "cell_type": "code",
   "execution_count": null,
   "metadata": {},
   "outputs": [],
   "source": []
  },
  {
   "cell_type": "code",
   "execution_count": null,
   "metadata": {},
   "outputs": [],
   "source": []
  },
  {
   "cell_type": "code",
   "execution_count": null,
   "metadata": {},
   "outputs": [],
   "source": [
    "system = ConsumerResourceSystem(type_set=TypeSet(sigma=sigma[0], xi=xi, chi=chi, J=J, binarize_traits_J_cost_terms=True, mu=1e-10), \n",
    "                                resource_set=ResourceSet(num_resources=L, rho=rho), \n",
    "                                N_init=1, R_init=1, convergent_lineages=False)"
   ]
  },
  {
   "cell_type": "code",
   "execution_count": null,
   "metadata": {
    "scrolled": true,
    "tags": []
   },
   "outputs": [],
   "source": [
    "system.run(T=T_total)"
   ]
  },
  {
   "cell_type": "code",
   "execution_count": null,
   "metadata": {},
   "outputs": [],
   "source": [
    "fig, ax = plt.subplots(1, 1, figsize=(20, 8))\n",
    "viz.stacked_abundance_plot(system, ax=ax, relative_abundance=True, apply_palette_depth=1, t_max=1e6, log_x_axis=False)"
   ]
  },
  {
   "cell_type": "code",
   "execution_count": null,
   "metadata": {},
   "outputs": [],
   "source": [
    "# stop"
   ]
  },
  {
   "cell_type": "markdown",
   "metadata": {},
   "source": [
    "---------\n",
    "---------"
   ]
  },
  {
   "cell_type": "code",
   "execution_count": null,
   "metadata": {
    "scrolled": true,
    "tags": []
   },
   "outputs": [],
   "source": [
    "fig, ax = plt.subplots(1, 1, figsize=(16, 9))\n",
    "\n",
    "t0 = T_envcycle \n",
    "# t0 = get_max_diversity_t(system)\n",
    "\n",
    "tf_vals = np.arange(0, T_total-t0, 5e3)\n",
    "\n",
    "phylo_depths = range(1, L+1)\n",
    "for d, phylo_depth in enumerate(phylo_depths):\n",
    "    \n",
    "    # rand_cggroup = trait_subsets[np.random.choice(range(len(trait_subsets)))]\n",
    "    rand_cggroup = list(range(d+1))\n",
    "    print(\"rand_cggroup:\", rand_cggroup)\n",
    "    traitgroup_persistences = []\n",
    "    plot_tfs = []\n",
    "    for i, tf in enumerate(tf_vals):\n",
    "        if(t0+tf > T_total):\n",
    "            break\n",
    "        traitgroup_persistences.append( cg.functional_group_turnover(system, trait_subset=rand_cggroup, t0=t0, tf=t0+tf, inverse=True) )        \n",
    "        plot_tfs.append(t0+tf)\n",
    "    ax.plot(plot_tfs, traitgroup_persistences, label=f\"trait cg{d+1}\", color='tab:purple', alpha=1/len(rand_cggroup)**0.75)\n",
    "    \n",
    "    phylogroup_persistences = []\n",
    "    plot_tfs = []\n",
    "    for i, tf in enumerate(tf_vals):\n",
    "        if(t0+tf > T_total):\n",
    "            break\n",
    "        phylogroup_persistences.append( cg.phylogenetic_group_turnover(system, phylogeny_depth=phylo_depth, t0=t0, tf=t0+tf, inverse=True) )\n",
    "        plot_tfs.append(t0+tf)\n",
    "    ax.plot(plot_tfs, phylogroup_persistences, label=f\"phylo d{phylo_depth}\", color='tab:green', alpha=1/(d+1))\n",
    "        \n",
    "# ax.axvline(T_envcycle, color='k', ls='--', lw=1, zorder=-1)\n",
    "for j in range(int(T_total/T_envcycle)):\n",
    "    ax.axvline(j*T_envcycle, color='k', alpha=0.5, ls='--', lw=1, zorder=-1)\n",
    "    \n",
    "ax.set_xscale('log')\n",
    "ax.set_ylim(0, 1.02)\n",
    "# ax.axhline(0)\n",
    "ax.legend(ncol=2)\n",
    "sns.despine()"
   ]
  },
  {
   "cell_type": "markdown",
   "metadata": {},
   "source": [
    "--------\n",
    "-------"
   ]
  },
  {
   "cell_type": "markdown",
   "metadata": {},
   "source": [
    "---------\n",
    "---------"
   ]
  },
  {
   "cell_type": "code",
   "execution_count": null,
   "metadata": {},
   "outputs": [],
   "source": []
  },
  {
   "cell_type": "code",
   "execution_count": null,
   "metadata": {},
   "outputs": [],
   "source": []
  },
  {
   "cell_type": "code",
   "execution_count": null,
   "metadata": {},
   "outputs": [],
   "source": []
  }
 ],
 "metadata": {
  "kernelspec": {
   "display_name": "Python 3",
   "language": "python",
   "name": "python3"
  },
  "language_info": {
   "codemirror_mode": {
    "name": "ipython",
    "version": 3
   },
   "file_extension": ".py",
   "mimetype": "text/x-python",
   "name": "python",
   "nbconvert_exporter": "python",
   "pygments_lexer": "ipython3",
   "version": "3.8.4"
  }
 },
 "nbformat": 4,
 "nbformat_minor": 4
}
